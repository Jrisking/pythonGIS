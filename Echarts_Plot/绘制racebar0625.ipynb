{
 "cells": [
  {
   "cell_type": "code",
   "execution_count": 4,
   "outputs": [],
   "source": [
    "import numpy as np\n",
    "import pandas as pd\n",
    "import json\n",
    "from generate_racebar import BarRace"
   ],
   "metadata": {
    "collapsed": false,
    "pycharm": {
     "name": "#%%\n"
    }
   }
  },
  {
   "cell_type": "code",
   "execution_count": 5,
   "outputs": [
    {
     "data": {
      "text/plain": "0     data_value      data_class  data_date\n1         351014       Australia       1800\n2         645526          Canada       1800\n3      321675013           China       1800\n4         345043            Cuba       1800\n5         977662         Finland       1800\n...          ...             ...        ...\n1535    38611794          Poland       2015\n1536   143456918          Russia       2015\n1537    78665830          Turkey       2015\n1538    64715810  United Kingdom       2015\n1539   321773631   United States       2015\n\n[1539 rows x 3 columns]",
      "text/html": "<div>\n<style scoped>\n    .dataframe tbody tr th:only-of-type {\n        vertical-align: middle;\n    }\n\n    .dataframe tbody tr th {\n        vertical-align: top;\n    }\n\n    .dataframe thead th {\n        text-align: right;\n    }\n</style>\n<table border=\"1\" class=\"dataframe\">\n  <thead>\n    <tr style=\"text-align: right;\">\n      <th></th>\n      <th>data_value</th>\n      <th>data_class</th>\n      <th>data_date</th>\n    </tr>\n  </thead>\n  <tbody>\n    <tr>\n      <th>1</th>\n      <td>351014</td>\n      <td>Australia</td>\n      <td>1800</td>\n    </tr>\n    <tr>\n      <th>2</th>\n      <td>645526</td>\n      <td>Canada</td>\n      <td>1800</td>\n    </tr>\n    <tr>\n      <th>3</th>\n      <td>321675013</td>\n      <td>China</td>\n      <td>1800</td>\n    </tr>\n    <tr>\n      <th>4</th>\n      <td>345043</td>\n      <td>Cuba</td>\n      <td>1800</td>\n    </tr>\n    <tr>\n      <th>5</th>\n      <td>977662</td>\n      <td>Finland</td>\n      <td>1800</td>\n    </tr>\n    <tr>\n      <th>...</th>\n      <td>...</td>\n      <td>...</td>\n      <td>...</td>\n    </tr>\n    <tr>\n      <th>1535</th>\n      <td>38611794</td>\n      <td>Poland</td>\n      <td>2015</td>\n    </tr>\n    <tr>\n      <th>1536</th>\n      <td>143456918</td>\n      <td>Russia</td>\n      <td>2015</td>\n    </tr>\n    <tr>\n      <th>1537</th>\n      <td>78665830</td>\n      <td>Turkey</td>\n      <td>2015</td>\n    </tr>\n    <tr>\n      <th>1538</th>\n      <td>64715810</td>\n      <td>United Kingdom</td>\n      <td>2015</td>\n    </tr>\n    <tr>\n      <th>1539</th>\n      <td>321773631</td>\n      <td>United States</td>\n      <td>2015</td>\n    </tr>\n  </tbody>\n</table>\n<p>1539 rows × 3 columns</p>\n</div>"
     },
     "execution_count": 5,
     "metadata": {},
     "output_type": "execute_result"
    }
   ],
   "source": [
    "data = pd.read_json(\n",
    "    \"https://fastly.jsdelivr.net/gh/apache/echarts-website@asf-site/examples/data/asset/data/life-expectancy-table.json\")\n",
    "data.columns = data.iloc[0, :]\n",
    "data = data.iloc[1:, ]\n",
    "\n",
    "data = data[['Population', 'Country', 'Year']]\n",
    "data['Population'] = data['Population'].astype('int')\n",
    "data['Year'] = data['Year'].astype('int')\n",
    "data = data.rename(columns={'Population': 'data_value', \"Country\": 'data_class', 'Year': 'data_date'})\n",
    "data"
   ],
   "metadata": {
    "collapsed": false,
    "pycharm": {
     "name": "#%%\n"
    }
   }
  },
  {
   "cell_type": "code",
   "execution_count": null,
   "outputs": [],
   "source": [
    "\n",
    "bar_color_map = {\n",
    "    'Australia': '#00008b',\n",
    "    'Canada': '#f00',\n",
    "    'China': '#ffde00',\n",
    "    'Cuba': '#002a8f',\n",
    "    'Finland': '#003580',\n",
    "    'France': '#ed2939',\n",
    "    'Germany': '#000',\n",
    "    'Iceland': '#003897',\n",
    "    'India': '#f93',\n",
    "    'Japan': '#bc002d',\n",
    "    'North Korea': '#024fa2',\n",
    "    'South Korea': '#000',\n",
    "    'New Zealand': '#00247d',\n",
    "    'Norway': '#ef2b2d',\n",
    "    'Poland': '#dc143c',\n",
    "    'Russia': '#d52b1e',\n",
    "    'Turkey': '#e30a17',\n",
    "    'United Kingdom': '#00247d',\n",
    "    'United States': '#b22234'\n",
    "}\n",
    "\n",
    "# start plot data\n",
    "br = BarRace(pandas_df=data)\n",
    "br = BarRace(pandas_df=data, bar_color_map=bar_color_map)\n",
    "\n",
    "br()\n",
    "br.save_html(filename=\"绘制racebar0625.html\")"
   ],
   "metadata": {
    "collapsed": false,
    "pycharm": {
     "name": "#%%\n"
    }
   }
  }
 ],
 "metadata": {
  "kernelspec": {
   "display_name": "Python 3",
   "language": "python",
   "name": "python3"
  },
  "language_info": {
   "codemirror_mode": {
    "name": "ipython",
    "version": 2
   },
   "file_extension": ".py",
   "mimetype": "text/x-python",
   "name": "python",
   "nbconvert_exporter": "python",
   "pygments_lexer": "ipython2",
   "version": "2.7.6"
  }
 },
 "nbformat": 4,
 "nbformat_minor": 0
}