{
 "cells": [
  {
   "cell_type": "markdown",
   "metadata": {
    "collapsed": true,
    "pycharm": {
     "name": "#%% md\n"
    }
   },
   "source": [
    "## 绘制sankey 桑基图"
   ]
  },
  {
   "cell_type": "code",
   "execution_count": 4,
   "outputs": [],
   "source": [
    "import numpy as np\n",
    "import pandas as pd\n",
    "import json\n",
    "\n",
    "import requests\n",
    "from generate_sankey import SanKey"
   ],
   "metadata": {
    "collapsed": false,
    "pycharm": {
     "name": "#%%\n"
    }
   }
  },
  {
   "cell_type": "markdown",
   "source": [
    "## 获得数据"
   ],
   "metadata": {
    "collapsed": false,
    "pycharm": {
     "name": "#%% md\n"
    }
   }
  },
  {
   "cell_type": "code",
   "execution_count": 8,
   "outputs": [
    {
     "data": {
      "text/plain": "                 source          target    value\n0  Agricultural 'waste'  Bio-conversion  124.729\n1        Bio-conversion          Liquid    0.597\n2        Bio-conversion          Losses   26.862\n3        Bio-conversion           Solid  280.322\n4        Bio-conversion             Gas   81.144",
      "text/html": "<div>\n<style scoped>\n    .dataframe tbody tr th:only-of-type {\n        vertical-align: middle;\n    }\n\n    .dataframe tbody tr th {\n        vertical-align: top;\n    }\n\n    .dataframe thead th {\n        text-align: right;\n    }\n</style>\n<table border=\"1\" class=\"dataframe\">\n  <thead>\n    <tr style=\"text-align: right;\">\n      <th></th>\n      <th>source</th>\n      <th>target</th>\n      <th>value</th>\n    </tr>\n  </thead>\n  <tbody>\n    <tr>\n      <th>0</th>\n      <td>Agricultural 'waste'</td>\n      <td>Bio-conversion</td>\n      <td>124.729</td>\n    </tr>\n    <tr>\n      <th>1</th>\n      <td>Bio-conversion</td>\n      <td>Liquid</td>\n      <td>0.597</td>\n    </tr>\n    <tr>\n      <th>2</th>\n      <td>Bio-conversion</td>\n      <td>Losses</td>\n      <td>26.862</td>\n    </tr>\n    <tr>\n      <th>3</th>\n      <td>Bio-conversion</td>\n      <td>Solid</td>\n      <td>280.322</td>\n    </tr>\n    <tr>\n      <th>4</th>\n      <td>Bio-conversion</td>\n      <td>Gas</td>\n      <td>81.144</td>\n    </tr>\n  </tbody>\n</table>\n</div>"
     },
     "execution_count": 8,
     "metadata": {},
     "output_type": "execute_result"
    }
   ],
   "source": [
    "ROOT_PATH = \"https://cdn.jsdelivr.net/gh/apache/echarts-website@asf-site/examples\"\n",
    "energy = ROOT_PATH + \"/data/asset/data/energy.json\"\n",
    "\n",
    "data1 = requests.get(url=energy).json()['links']\n",
    "pddata = pd.concat([pd.DataFrame({key: [item] for key, item in data.items()}) for data in data1], ignore_index=True)\n",
    "pddata.head(5)"
   ],
   "metadata": {
    "collapsed": false,
    "pycharm": {
     "name": "#%%\n"
    }
   }
  },
  {
   "cell_type": "markdown",
   "source": [
    "## 保存到html文件中\n",
    "- 数据必须是pandas的数据框，且含有三列：source、target、value"
   ],
   "metadata": {
    "collapsed": false,
    "pycharm": {
     "name": "#%% md\n"
    }
   }
  },
  {
   "cell_type": "code",
   "execution_count": 7,
   "outputs": [],
   "source": [
    "sankey_plot = SanKey(pandasdf=pddata, title=\"Energy\")\n",
    "sankey_plot()\n",
    "sankey_plot.save_html(filename=\"sankey_plot_0801001.html\")"
   ],
   "metadata": {
    "collapsed": false,
    "pycharm": {
     "name": "#%%\n"
    }
   }
  },
  {
   "cell_type": "code",
   "execution_count": null,
   "outputs": [],
   "source": [],
   "metadata": {
    "collapsed": false,
    "pycharm": {
     "name": "#%%\n"
    }
   }
  }
 ],
 "metadata": {
  "kernelspec": {
   "display_name": "Python 3",
   "language": "python",
   "name": "python3"
  },
  "language_info": {
   "codemirror_mode": {
    "name": "ipython",
    "version": 2
   },
   "file_extension": ".py",
   "mimetype": "text/x-python",
   "name": "python",
   "nbconvert_exporter": "python",
   "pygments_lexer": "ipython2",
   "version": "2.7.6"
  }
 },
 "nbformat": 4,
 "nbformat_minor": 0
}