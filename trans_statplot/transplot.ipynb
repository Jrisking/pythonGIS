{
 "cells": [
  {
   "cell_type": "code",
   "execution_count": null,
   "metadata": {
    "pycharm": {
     "name": "#%%\n"
    }
   },
   "outputs": [],
   "source": [
    "import matplotlib.pyplot as plt\n",
    "import numpy as np\n",
    "import pandas as pd\n",
    "from datetime import datetime, timedelta\n",
    "import geopandas as gpd\n",
    "from typing import Optional\n",
    "from dataclasses import dataclass, field\n",
    "from tqdm import tqdm\n",
    "tqdm.pandas()"
   ]
  },
  {
   "cell_type": "code",
   "execution_count": null,
   "metadata": {
    "pycharm": {
     "name": "#%%\n"
    }
   },
   "outputs": [],
   "source": [
    "class Generate_data:\n",
    "    def __init__(self, start_date: str = '2020-03-01', end_date: str = '2022-06-06', big_N: int = 50000):\n",
    "        self.start_date = start_date\n",
    "        self.end_date = end_date\n",
    "        self.big_N = big_N\n",
    "\n",
    "    def faker_data(self, x_gap=10, y_gap=10):\n",
    "\n",
    "        # big_N = 200000\n",
    "        # # part1 generate date\n",
    "        # start_date = '2021-03-01'\n",
    "        # end_date = '2022-06-06'\n",
    "        date_list = [(datetime.strptime(self.start_date, '%Y-%m-%d') + timedelta(days=i)).date()\n",
    "                     for i in range((datetime.strptime(self.end_date, '%Y-%m-%d') - datetime.strptime(self.start_date, '%Y-%m-%d')).days)]\n",
    "\n",
    "        # process p\n",
    "        value = np.arange(len(date_list))\n",
    "        value = np.log(value **3+20)+20\n",
    "        value = value / np.sum(value)\n",
    "\n",
    "        generate_date = np.random.choice(date_list, self.big_N, p=value)\n",
    "\n",
    "        # part 2\n",
    "        # https://geo.datav.aliyun.com/areas_v3/bound/100000_full.json\n",
    "        chinamap = gpd.read_file(\n",
    "            \"https://geo.datav.aliyun.com/areas_v3/bound/geojson?code=100000_full\")\n",
    "        chinamap['center_x'] = chinamap.centroid.x\n",
    "        chinamap['center_y'] = chinamap.centroid.y\n",
    "\n",
    "        def generate_location_from_center(x, y, n):\n",
    "            # x_gap, y_gap = 10, 10\n",
    "            # value_x = np.random.choice(np.linspace(x-x_gap, x+x_gap, n), n)\n",
    "            # value_y = np.random.choice(np.linspace(y-y_gap, y+y_gap, n), n)\n",
    "            # data = pd.DataFrame({'lon': value_x, 'lat': value_y}).sample(\n",
    "            #     frac=1).reset_index(drop=True)\n",
    "            data_ = np.vstack([chinamap.sample(n=1)[['center_x','center_y']].values.reshape(-1, 2) for i in tqdm(range(n))])\n",
    "            data = pd.DataFrame(data_)\n",
    "            data.columns = ['lon', 'lat']\n",
    "            data['lon'] += np.random.random(size=data.shape[0])*5\n",
    "            data['lat']+= np.random.random(size=data.shape[0])*5\n",
    "            return data\n",
    "\n",
    "        faker_data = pd.concat([pd.DataFrame({'date': generate_date}),\n",
    "                                generate_location_from_center(chinamap['center_x'].mean(), chinamap['center_y'].mean(), self.big_N)], axis=1\n",
    "                               ).sort_values(by=['date']).reset_index(drop=True)\n",
    "\n",
    "        return faker_data\n",
    "\n",
    "\n",
    "fk = Generate_data()\n",
    "faker_data = fk.faker_data()\n",
    "faker_data\n"
   ]
  },
  {
   "cell_type": "code",
   "execution_count": null,
   "metadata": {
    "pycharm": {
     "name": "#%%\n"
    }
   },
   "outputs": [],
   "source": [
    "@dataclass\n",
    "class PlotParam:\n",
    "    #first plot\n",
    "    plot_x_range_low:int = field(default=0,metadata={'help':'default0'})\n",
    "    plot_x_range_high:int = field(default=1000, metadata={'help':'default 1000'})\n",
    "    plot_y_range_low:int = field(default=0,metadata={'help':'default0'})\n",
    "    plot_y_range_high:int = field(default=1000, metadata={'help':'default 1000'})\n",
    "\n",
    "    # sec plot\n",
    "    plot_sec_start_prop_x:float = field(default=0.2, metadata={'help':''})\n",
    "    plot_sec_end_prop_x:float = field(default=0.8, metadata={'help':''})\n",
    "\n",
    "    plot_sec_start_prop_y:float = field(default=0.1, metadata={'help':''})\n",
    "    plot_sec_end_prop_y:float = field(default=0.4, metadata={'help':''})\n",
    "\n",
    "    epoch_num:int = field(default=1000, metadata={'help':''})\n",
    "    end_run_num_prop:float = field(default=0.8, metadata={'help':''})\n",
    "    trans_length:int = field(default=50, metadata={'help':''})\n",
    "\n",
    "\n",
    "    plot_3th_start_prop_y:float = field(default=0.2, metadata={'help':''})\n",
    "    plot_3th_end_prop_y:float = field(default=0.8, metadata={'help':''})\n",
    "\n",
    "plotparm = PlotParam()\n",
    "\n",
    "# get data\n",
    "rawdata = faker_data.copy()\n",
    "rawdata['unique_id'] = rawdata.index\n",
    "rawdata\n"
   ]
  },
  {
   "cell_type": "code",
   "execution_count": null,
   "metadata": {
    "pycharm": {
     "name": "#%%\n"
    }
   },
   "outputs": [],
   "source": [
    "# plot 1\n",
    "# np.int32(np.sqrt(rawdata.shape[0])) + 1\n",
    "\n",
    "# plot_x_range = (0, 1000)\n",
    "# plot_y_range = (0, 1000)\n",
    "\n",
    "plot_init_df = pd.DataFrame({'x': np.random.randint(plotparm.plot_x_range_low, plotparm.plot_x_range_high, size=rawdata.shape[0]),\n",
    "                             'y':np.random.randint(plotparm.plot_x_range_low, plotparm.plot_x_range_high,  size=rawdata.shape[0])})\n",
    "plot_init_df['unique_id'] = rawdata['unique_id']\n",
    "\n",
    "fig, ax = plt.subplots(figsize=(20, 10))\n",
    "ax.scatter(plot_init_df['x'], plot_init_df['y'],s=1, color='black')"
   ]
  },
  {
   "cell_type": "code",
   "execution_count": null,
   "metadata": {
    "pycharm": {
     "name": "#%%\n"
    }
   },
   "outputs": [],
   "source": [
    "plot_init_df"
   ]
  },
  {
   "cell_type": "code",
   "execution_count": null,
   "metadata": {
    "pycharm": {
     "name": "#%%\n"
    }
   },
   "outputs": [],
   "source": [
    "test = rawdata.groupby(['date']).agg(\n",
    "    value=('unique_id', 'count')\n",
    ").reset_index(drop=False)\n",
    "test['sec_x_value'] = test.index / np.max(test.index) * (plotparm.plot_x_range_high - plotparm.plot_x_range_low) * (\n",
    "    plotparm.plot_sec_end_prop_x - plotparm.plot_sec_start_prop_x) + \\\n",
    "    (plotparm.plot_x_range_high - plotparm.plot_x_range_low) * \\\n",
    "    plotparm.plot_sec_start_prop_x\n",
    "test['sec_y_value'] = test['value'] / (np.max(test['value']) - 0) * (plotparm.plot_y_range_high - plotparm.plot_y_range_low) * (\n",
    "    plotparm.plot_sec_end_prop_y - plotparm.plot_sec_start_prop_y\n",
    ") + \\\n",
    "    (plotparm.plot_y_range_high - plotparm.plot_y_range_low) * plotparm.plot_sec_start_prop_y\n",
    "\n",
    "def split_data(x):\n",
    "    value = np.linspace((plotparm.plot_y_range_high - plotparm.plot_y_range_low) * plotparm.plot_sec_start_prop_y, x['sec_y_value']+0.01, x['value'])\n",
    "    data = pd.DataFrame({'sec_y_value2':value})\n",
    "    data['date'] = x['date']\n",
    "    return data\n",
    "\n",
    "test2 = pd.concat(test.apply(lambda x: split_data(x), axis=1).tolist()).merge(\n",
    "    right=test, how='left', left_on=['date'], right_on=['date']\n",
    ")\n",
    "\n",
    "\n",
    "fig, ax = plt.subplots(figsize=(20, 10))\n",
    "ax.scatter(test2['sec_x_value'],test2['sec_y_value2'],s=1, color='black')\n",
    "ax.set_xlim([0, 1000])\n",
    "ax.set_ylim([0, 1000])"
   ]
  },
  {
   "cell_type": "code",
   "execution_count": null,
   "metadata": {
    "pycharm": {
     "name": "#%%\n"
    }
   },
   "outputs": [],
   "source": [
    "# plot_init_df"
   ]
  },
  {
   "cell_type": "code",
   "execution_count": null,
   "metadata": {
    "pycharm": {
     "name": "#%%\n"
    }
   },
   "outputs": [],
   "source": [
    "test2['sec_y_value2'].max()"
   ]
  },
  {
   "cell_type": "code",
   "execution_count": null,
   "metadata": {
    "pycharm": {
     "name": "#%%\n"
    }
   },
   "outputs": [],
   "source": [
    "# epoch_num = 1000\n",
    "# end_run_num_prop = 0.8\n",
    "# trans_length = int(epoch_num * (1-end_run_num_prop) * 0.5)\n",
    "data_1_2 = pd.concat([plot_init_df, test2[['sec_x_value', 'sec_y_value2']].rename(columns={'sec_y_value2':'sec_y_value'})], axis=1)\n",
    "data_1_2['start_run_time'] = np.int32(data_1_2.index / data_1_2.shape[0] * plotparm.epoch_num * plotparm.end_run_num_prop)\n",
    "data_1_2"
   ]
  },
  {
   "cell_type": "code",
   "execution_count": null,
   "metadata": {
    "pycharm": {
     "name": "#%%\n"
    }
   },
   "outputs": [],
   "source": [
    "chinamap = gpd.read_file(\n",
    "            \"https://geo.datav.aliyun.com/areas_v3/bound/geojson?code=100000_full\")\n",
    "\n",
    "boundary = chinamap.boundary.bounds\n",
    "boundary_minx, boundary_miny, boundary_maxx, boundary_maxy = boundary['minx'].min(), boundary['miny'].min(), boundary['maxx'].max(), boundary['maxy'].max()\n"
   ]
  },
  {
   "cell_type": "code",
   "execution_count": null,
   "metadata": {
    "pycharm": {
     "name": "#%%\n"
    }
   },
   "outputs": [],
   "source": [
    "width = boundary_maxx - boundary_minx\n",
    "height = boundary_maxy - boundary_miny\n",
    "\n",
    "plot_3th_start_x_prop = 0.5 - \\\n",
    "    (plotparm.plot_3th_end_prop_y - plotparm.plot_3th_start_prop_y) * width / height / 2\n",
    "plot_3th_start_y_prop = plotparm.plot_3th_start_prop_y\n",
    "\n",
    "map_lp = (plot_3th_start_x_prop * plotparm.plot_x_range_high,\n",
    "          plot_3th_start_y_prop * plotparm.plot_y_range_high)\n",
    "map_lp\n",
    "\n",
    "map_rh = ((0.5 + (plotparm.plot_3th_end_prop_y - plotparm.plot_3th_start_prop_y) * width / height / 2)\n",
    "          * plotparm.plot_x_range_high, (plotparm.plot_3th_end_prop_y) * plotparm.plot_y_range_high)\n",
    "map_rh"
   ]
  },
  {
   "cell_type": "code",
   "execution_count": null,
   "metadata": {
    "pycharm": {
     "name": "#%%\n"
    }
   },
   "outputs": [],
   "source": [
    "np.array([map_lp])"
   ]
  },
  {
   "cell_type": "code",
   "execution_count": null,
   "metadata": {
    "pycharm": {
     "name": "#%%\n"
    }
   },
   "outputs": [],
   "source": [
    "np.array([map_rh])\n",
    "rawdata"
   ]
  },
  {
   "cell_type": "code",
   "execution_count": null,
   "metadata": {
    "pycharm": {
     "name": "#%%\n"
    }
   },
   "outputs": [],
   "source": [
    "\n",
    "cal_data3 = pd.DataFrame(((rawdata[['lon', 'lat']].values - np.array([[boundary_minx,\n",
    " boundary_miny]])) / (np.array([[boundary_maxx,\n",
    "                                 boundary_maxy]]) -\n",
    "                      np.array([[boundary_minx, boundary_miny]])) * (np.array([map_rh]) - np.array([map_lp])) + np.array([map_lp])).reshape(-1, 2))\n",
    "cal_data3.columns = ['3th_x', '3th_y']\n",
    "\n",
    "data_2_3 = pd.concat([data_1_2, cal_data3], axis=1)\n",
    "data_2_3"
   ]
  },
  {
   "cell_type": "code",
   "execution_count": null,
   "metadata": {
    "pycharm": {
     "name": "#%%\n"
    }
   },
   "outputs": [],
   "source": [
    "fig, ax = plt.subplots(figsize=(10, 10))\n",
    "ax.scatter(data_2_3['3th_x'], data_2_3['3th_y'],s=1, color='black')\n",
    "ax.set_xlim([0, 1000])\n",
    "ax.set_ylim([0, 1000])"
   ]
  },
  {
   "cell_type": "code",
   "execution_count": null,
   "metadata": {
    "pycharm": {
     "name": "#%%\n"
    }
   },
   "outputs": [],
   "source": [
    "# 代码加速\n",
    "def trans2(x, cur_epoch):\n",
    "    temp_data = x.copy()\n",
    "\n",
    "    result_df = temp_data[['x', 'y']].copy()\n",
    "\n",
    "    mask1 = temp_data['start_run_time'] > cur_epoch\n",
    "    result_df.loc[mask1, :] = temp_data.loc[mask1, :][['x', 'y']]\n",
    "\n",
    "    mask1 = temp_data['start_run_time'] < cur_epoch-plotparm.trans_length\n",
    "    result_df.loc[mask1, :] = temp_data.loc[mask1,\n",
    "                                            :][['sec_x_value', 'sec_y_value']].values\n",
    "\n",
    "    mask1 = (cur_epoch - \\\n",
    "        plotparm.trans_length <= temp_data['start_run_time']) &(temp_data['start_run_time'] <= cur_epoch)\n",
    "\n",
    "    # cur_trans_num = cur_epoch - x['start_run_time']\n",
    "    temp_data2 = temp_data.loc[mask1, :]\n",
    "\n",
    "    temp3 = (1 - (cur_epoch - temp_data2['start_run_time'])/plotparm.trans_length).values.reshape(-1, 1)\n",
    "    temp3 =  np.hstack([temp3, temp3])\n",
    "    temp_data2 = (temp_data2[['x', 'y']].values -\n",
    "         temp_data2[['sec_x_value', 'sec_y_value']].values) * temp3 + temp_data2[['sec_x_value', 'sec_y_value']].values\n",
    "\n",
    "    result_df.loc[mask1,:] = temp_data2\n",
    "    return result_df\n",
    "\n",
    "\n",
    "\n",
    "temp_trans_df = trans2(data_1_2, 600)\n",
    "\n",
    "fig, ax = plt.subplots(figsize=(20, 10))\n",
    "ax.scatter(temp_trans_df['x'], temp_trans_df['y'],s=1, color='black')\n",
    "ax.set_xlim([0, 1000])\n",
    "ax.set_ylim([0, 1000])\n",
    "# temp_trans_df"
   ]
  },
  {
   "cell_type": "code",
   "execution_count": null,
   "metadata": {
    "pycharm": {
     "name": "#%%\n"
    }
   },
   "outputs": [],
   "source": [
    "# render_data = {i:data_1_2.progress_apply(lambda x: trans(x, i), axis=1).rename(columns={0:'x', 1:'y'}) for i in range(epoch_num)}\n",
    "from joblib import delayed, Parallel\n",
    "def render_data_funcTion(i):\n",
    "    # res = data_1_2.apply(lambda x: trans2(x, i), axis=1).rename(columns={0:'x', 1:'y'})\n",
    "    res = trans2(x=data_1_2, cur_epoch=i)\n",
    "    return res\n",
    "\n",
    "render_data = Parallel(n_jobs=-1, verbose=20)(delayed(render_data_funcTion)(i) for i in range(plotparm.epoch_num))"
   ]
  },
  {
   "cell_type": "code",
   "execution_count": null,
   "metadata": {
    "pycharm": {
     "name": "#%%\n"
    }
   },
   "outputs": [],
   "source": [
    "data_2_3"
   ]
  },
  {
   "cell_type": "code",
   "execution_count": null,
   "metadata": {
    "pycharm": {
     "name": "#%%\n"
    }
   },
   "outputs": [],
   "source": [
    "# 代码加速 render 3\n",
    "def trans3(x, cur_epoch):\n",
    "    temp_data = x.copy()\n",
    "\n",
    "    result_df = temp_data[['sec_x_value', 'sec_y_value']].copy().rename(columns={'sec_x_value':'x', 'sec_y_value':'y'})\n",
    "\n",
    "    mask1 = temp_data['start_run_time'] > cur_epoch\n",
    "    result_df.loc[mask1, :] = temp_data.loc[mask1, :][['sec_x_value', 'sec_y_value']].values\n",
    "\n",
    "    mask1 = temp_data['start_run_time'] < cur_epoch-plotparm.trans_length\n",
    "    result_df.loc[mask1, :] = temp_data.loc[mask1,\n",
    "                                            :][['3th_x', '3th_y']].values\n",
    "\n",
    "    mask1 = (cur_epoch - \\\n",
    "        plotparm.trans_length <= temp_data['start_run_time']) &(temp_data['start_run_time'] <= cur_epoch)\n",
    "\n",
    "    # cur_trans_num = cur_epoch - x['start_run_time']\n",
    "    temp_data2 = temp_data.loc[mask1, :]\n",
    "\n",
    "    temp3 = (1 - (cur_epoch - temp_data2['start_run_time'])/plotparm.trans_length).values.reshape(-1, 1)\n",
    "    temp3 =  np.hstack([temp3, temp3])\n",
    "    temp_data2 = (temp_data2[['sec_x_value', 'sec_y_value']].values -\n",
    "         temp_data2[['3th_x', '3th_y']].values) * temp3 + temp_data2[['3th_x', '3th_y']].values\n",
    "\n",
    "    result_df.loc[mask1,:] = temp_data2\n",
    "    return result_df\n",
    "\n",
    "\n",
    "\n",
    "temp_trans_df = trans3(data_2_3, 100)\n",
    "\n",
    "fig, ax = plt.subplots(figsize=(10, 10))\n",
    "ax.scatter(temp_trans_df['x'], temp_trans_df['y'],s=1, color='black')\n",
    "ax.set_xlim([0, 1000])\n",
    "ax.set_ylim([0, 1000])\n",
    "# temp_trans_df"
   ]
  },
  {
   "cell_type": "code",
   "execution_count": null,
   "metadata": {
    "pycharm": {
     "name": "#%%\n"
    }
   },
   "outputs": [],
   "source": [
    "def render_data_funcTion_3(i):\n",
    "    # res = data_1_2.apply(lambda x: trans2(x, i), axis=1).rename(columns={0:'x', 1:'y'})\n",
    "    res = trans3(x=data_2_3, cur_epoch=i)\n",
    "    return res\n",
    "\n",
    "render_data3 = Parallel(n_jobs=-1, verbose=20)(delayed(render_data_funcTion_3)(i) for i in range(plotparm.epoch_num))"
   ]
  },
  {
   "cell_type": "code",
   "execution_count": null,
   "metadata": {
    "pycharm": {
     "name": "#%%\n"
    }
   },
   "outputs": [],
   "source": [
    "from shapely.geometry import Polygon, MultiPolygon\n",
    "\n",
    "def geometry2normal(index):\n",
    "\n",
    "    slice_one = chinamap.geometry[index]\n",
    "\n",
    "    if isinstance(slice_one, MultiPolygon):\n",
    "        coordlist = [poly.exterior.coords for poly in list(slice_one)][0]\n",
    "        x, y = coordlist.xy\n",
    "    elif isinstance(slice_one, Polygon):\n",
    "        x, y = slice_one.exterior.coords.xy\n",
    "\n",
    "    x, y = np.array(x), np.array(y)\n",
    "\n",
    "\n",
    "    result = pd.DataFrame(((pd.DataFrame({'x':x, 'y':y}).values - np.array([[boundary_minx,\n",
    "    boundary_miny]])) / (np.array([[boundary_maxx,\n",
    "                                    boundary_maxy]]) -\n",
    "                        np.array([[boundary_minx, boundary_miny]])) * (np.array([map_rh]) - np.array([map_lp])) + np.array([map_lp])).reshape(-1, 2))\n",
    "    result.columns = ['x', 'y']\n",
    "    \n",
    "    return result\n",
    "\n",
    "\n",
    "map_list_trans = [geometry2normal(index=index) for index in range(chinamap.shape[0])]\n",
    "\n",
    "\n",
    "fig, ax = plt.subplots(figsize=(10, 10))\n",
    "\n",
    "\n",
    "\n",
    "for index in range(35):\n",
    "    temp_map_df = geometry2normal(index=index)\n",
    "    ax.plot(temp_map_df['x'], temp_map_df['y'],color='black')\n",
    "\n",
    "\n",
    "\n",
    "# for index in range(35):\n",
    "#     temp_map_df = geometry2normal(index=index)\n",
    "#     ax.plot(temp_map_df['x'], temp_map_df['y'],color='black')\n",
    "\n",
    "\n",
    "ax.set_xlim([0, 1000])\n",
    "ax.set_ylim([0, 1000])\n",
    "\n"
   ]
  },
  {
   "cell_type": "code",
   "execution_count": null,
   "metadata": {
    "pycharm": {
     "name": "#%%\n"
    }
   },
   "outputs": [],
   "source": [
    "# chinamap"
   ]
  },
  {
   "cell_type": "code",
   "execution_count": null,
   "metadata": {
    "pycharm": {
     "name": "#%%\n"
    }
   },
   "outputs": [],
   "source": [
    "# %matplotlib\n",
    "from matplotlib.animation import FuncAnimation\n",
    "from matplotlib import animation\n",
    "\n",
    "fig, ax = plt.subplots(figsize=(10, 10), dpi=300)\n",
    "xdata, ydata = [], []\n",
    "ln, = plt.plot([], [], '.', ms=1, color='gray')\n",
    "\n",
    "# lines = []\n",
    "# for index in range(len(map_list_trans)):\n",
    "\n",
    "#     map_line, = plt.plot([], [], color='red')\n",
    "#     lines.append(map_line)\n",
    "\n",
    "def init():\n",
    "    ax.set_xlim(0, 1000)\n",
    "    ax.set_ylim(0, 1000)\n",
    "    # for line in lines:\n",
    "    #     line.set_data([], [])\n",
    "\n",
    "    return ln, #lines,\n",
    "\n",
    "\n",
    "def update(frame):\n",
    "    print(f\"{frame}\")\n",
    "\n",
    "    if frame < 1000:\n",
    "        temp_value = render_data[frame]\n",
    "    else:\n",
    "        temp_value = render_data3[frame-1000]\n",
    "\n",
    "    if frame == 1300:\n",
    "        for index in range(len(map_list_trans)):\n",
    "            ax.plot(map_list_trans[index]['x'], map_list_trans[index]['y'], c='red')\n",
    "    # if frame > 1500:\n",
    "    #     for index, line in enumerate(lines):\n",
    "    #         line.set_data(map_list_trans[index]['x'], map_list_trans[index]['y'])\n",
    "\n",
    "    ln.set_data(temp_value['x'], temp_value['y'])\n",
    "    return ln,#, lines\n",
    "\n",
    "\n",
    "ani = FuncAnimation(fig, update, frames=range(plotparm.epoch_num*2),init_func=init, blit=True)\n",
    "# plt.show()\n",
    "# writegif = animation.PillowWriter(fps=200)\n",
    "# ani.save(\"test_big.gif\", writer=writegif)\n",
    "\n",
    "\n",
    "writevideo = animation.FFMpegFileWriter(fps=200)\n",
    "ani.save(\"test_big_map.mp4\", writer=writevideo)\n"
   ]
  },
  {
   "cell_type": "code",
   "execution_count": null,
   "metadata": {
    "pycharm": {
     "name": "#%%\n"
    }
   },
   "outputs": [],
   "source": []
  },
  {
   "cell_type": "code",
   "execution_count": null,
   "metadata": {
    "pycharm": {
     "name": "#%%\n"
    }
   },
   "outputs": [],
   "source": []
  }
 ],
 "metadata": {
  "kernelspec": {
   "display_name": "Python 3.9.12 ('mynet')",
   "language": "python",
   "name": "python3"
  },
  "language_info": {
   "codemirror_mode": {
    "name": "ipython",
    "version": 3
   },
   "file_extension": ".py",
   "mimetype": "text/x-python",
   "name": "python",
   "nbconvert_exporter": "python",
   "pygments_lexer": "ipython3",
   "version": "3.9.12"
  },
  "orig_nbformat": 4,
  "vscode": {
   "interpreter": {
    "hash": "d1c703db8f0ebb41ab4bf42c643bde37b5e3ec7c4c951eee917b53d0e6255188"
   }
  }
 },
 "nbformat": 4,
 "nbformat_minor": 2
}