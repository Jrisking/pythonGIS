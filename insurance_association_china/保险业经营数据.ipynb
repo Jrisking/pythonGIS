{
 "cells": [
  {
   "cell_type": "code",
   "execution_count": 1,
   "metadata": {
    "collapsed": true
   },
   "outputs": [],
   "source": [
    "import numpy as np\n",
    "import requests\n",
    "from bs4 import BeautifulSoup\n",
    "from tqdm import tqdm\n",
    "from itertools import chain\n",
    "\n",
    "import pandas as pd\n",
    "import numpy as np\n",
    "import time\n",
    "import random\n",
    "\n",
    "\n",
    "import re"
   ]
  },
  {
   "cell_type": "code",
   "execution_count": 2,
   "metadata": {
    "collapsed": false,
    "pycharm": {
     "name": "#%%\n"
    }
   },
   "outputs": [],
   "source": [
    "cookies = {\n",
    "    'JSESSIONID': 'F53385626720DEC89013709FE646AFBC',\n",
    "    '_pk_id.7.eda7': 'fbfbdec1aa1b4c42.1639221424.',\n",
    "}\n",
    "\n",
    "headers = {\n",
    "    'Connection': 'keep-alive',\n",
    "    'Accept': 'application/xml, text/xml, */*; q=0.01',\n",
    "    'X-Requested-With': 'XMLHttpRequest',\n",
    "    'User-Agent': 'Mozilla/5.0 (Macintosh; Intel Mac OS X 10_15_7) AppleWebKit/537.36 (KHTML, like Gecko) Chrome/96.0.4664.93 Safari/537.36',\n",
    "    'Content-Type': 'application/x-www-form-urlencoded; charset=UTF-8',\n",
    "    'Origin': 'http://www.iachina.cn',\n",
    "    'Referer': 'http://www.iachina.cn/col/col41/index.html?uid=1508&pageNum=7',\n",
    "    'Accept-Language': 'zh-CN,zh;q=0.9',\n",
    "}\n",
    "\n",
    "params = (\n",
    "    ('startrecord', '1'),\n",
    "    ('endrecord', '140'),\n",
    "    ('perpage', '108'),\n",
    ")\n",
    "\n",
    "data = {\n",
    "  'col': '1',\n",
    "  'appid': '1',\n",
    "  'webid': '1',\n",
    "  'path': '/',\n",
    "  'columnid': '41',\n",
    "  'sourceContentType': '8',\n",
    "  'unitid': '1508',\n",
    "  'webname': '\\u4E2D\\u56FD\\u4FDD\\u9669\\u884C\\u4E1A\\u534F\\u4F1A',\n",
    "  'permissiontype': '0'\n",
    "}\n",
    "\n",
    "response = requests.post('http://www.iachina.cn/module/web/jpage/dataproxy.jsp', headers=headers, params=params, cookies=cookies, data=data, verify=False)\n",
    "soup = BeautifulSoup(response.text, 'lxml')\n",
    "chapter_list = soup.find_all(name='a')\n",
    "all_chapter_url = [f\"http://www.iachina.cn{i.get('href')}\" for i in chapter_list]\n",
    "all_chapter_text = [i.text for i in chapter_list]\n"
   ]
  },
  {
   "cell_type": "code",
   "execution_count": 10,
   "outputs": [
    {
     "data": {
      "text/plain": "                                                   url                text\n0    http://www.iachina.cn/art/2018/4/3/art_617_102...   2018年1-2月保险业经营情况表\n1    http://www.iachina.cn/art/2018/3/9/art_617_102...     2018年1月保险业经营情况表\n2    http://www.iachina.cn/art/2018/3/6/art_617_102...       2017年保险业经营情况表\n3    http://www.iachina.cn/art/2018/1/10/art_617_10...  2017年1-11月保险业经营情况表\n4    http://www.iachina.cn/art/2017/11/27/art_617_9...  2017年1-10月保险业经营情况表\n..                                                 ...                 ...\n102  http://www.iachina.cn/art/2009/11/5/art_617_11...    2009年1-5月保险业经营数据\n103  http://www.iachina.cn/art/2009/11/5/art_617_11...    2009年1-4月保险业经营数据\n104  http://www.iachina.cn/art/2009/11/5/art_617_11...    2009年1-3月保险业经营数据\n105  http://www.iachina.cn/art/2009/11/5/art_617_11...    2009年1-2月保险业经营数据\n106  http://www.iachina.cn/art/2009/11/5/art_617_11...      2009年1月保险业经营数据\n\n[107 rows x 2 columns]",
      "text/html": "<div>\n<style scoped>\n    .dataframe tbody tr th:only-of-type {\n        vertical-align: middle;\n    }\n\n    .dataframe tbody tr th {\n        vertical-align: top;\n    }\n\n    .dataframe thead th {\n        text-align: right;\n    }\n</style>\n<table border=\"1\" class=\"dataframe\">\n  <thead>\n    <tr style=\"text-align: right;\">\n      <th></th>\n      <th>url</th>\n      <th>text</th>\n    </tr>\n  </thead>\n  <tbody>\n    <tr>\n      <th>0</th>\n      <td>http://www.iachina.cn/art/2018/4/3/art_617_102...</td>\n      <td>2018年1-2月保险业经营情况表</td>\n    </tr>\n    <tr>\n      <th>1</th>\n      <td>http://www.iachina.cn/art/2018/3/9/art_617_102...</td>\n      <td>2018年1月保险业经营情况表</td>\n    </tr>\n    <tr>\n      <th>2</th>\n      <td>http://www.iachina.cn/art/2018/3/6/art_617_102...</td>\n      <td>2017年保险业经营情况表</td>\n    </tr>\n    <tr>\n      <th>3</th>\n      <td>http://www.iachina.cn/art/2018/1/10/art_617_10...</td>\n      <td>2017年1-11月保险业经营情况表</td>\n    </tr>\n    <tr>\n      <th>4</th>\n      <td>http://www.iachina.cn/art/2017/11/27/art_617_9...</td>\n      <td>2017年1-10月保险业经营情况表</td>\n    </tr>\n    <tr>\n      <th>...</th>\n      <td>...</td>\n      <td>...</td>\n    </tr>\n    <tr>\n      <th>102</th>\n      <td>http://www.iachina.cn/art/2009/11/5/art_617_11...</td>\n      <td>2009年1-5月保险业经营数据</td>\n    </tr>\n    <tr>\n      <th>103</th>\n      <td>http://www.iachina.cn/art/2009/11/5/art_617_11...</td>\n      <td>2009年1-4月保险业经营数据</td>\n    </tr>\n    <tr>\n      <th>104</th>\n      <td>http://www.iachina.cn/art/2009/11/5/art_617_11...</td>\n      <td>2009年1-3月保险业经营数据</td>\n    </tr>\n    <tr>\n      <th>105</th>\n      <td>http://www.iachina.cn/art/2009/11/5/art_617_11...</td>\n      <td>2009年1-2月保险业经营数据</td>\n    </tr>\n    <tr>\n      <th>106</th>\n      <td>http://www.iachina.cn/art/2009/11/5/art_617_11...</td>\n      <td>2009年1月保险业经营数据</td>\n    </tr>\n  </tbody>\n</table>\n<p>107 rows × 2 columns</p>\n</div>"
     },
     "execution_count": 10,
     "metadata": {},
     "output_type": "execute_result"
    }
   ],
   "source": [
    "pd.DataFrame({'url':all_chapter_url,\n",
    "              'text':all_chapter_text})"
   ],
   "metadata": {
    "collapsed": false,
    "pycharm": {
     "name": "#%%\n"
    }
   }
  },
  {
   "cell_type": "code",
   "execution_count": 8,
   "metadata": {
    "collapsed": false,
    "pycharm": {
     "name": "#%%\n"
    }
   },
   "outputs": [
    {
     "data": {
      "text/plain": "       原保险保费收入       1 、财产险       2 、人身险      （ 1 ）寿险    （ 2 ）健康险  \\\n0  48348140.79  13004974.81  35343165.99  32028411.67  2289052.69   \n\n  （ 3 ）人身意外伤害险 养老保险公司企业年金缴费      原保险赔付支出      1 、财产险      2 、人身险  ...  \\\n0   1025701.62   2067390.99  11719708.42  5726104.19  5993604.23  ...   \n\n    （ 2 ）健康险 （ 3 ）人身意外伤害险      业务及管理费          银行存款            投资  \\\n0  729704.47    224487.94  4672660.26  206984823.51  381839223.50   \n\n           资产总额 养老保险公司企业年金受托管理资产 养老保险公司企业年金投资管理资产  \\\n0  636786170.04      15614184.12      14523965.45   \n\n                                            from_url               info  \n0  http://www.iachina.cn/art/2012/5/4/art_617_110...  2012年1-3月保险业经营情况表  \n\n[1 rows x 21 columns]",
      "text/html": "<div>\n<style scoped>\n    .dataframe tbody tr th:only-of-type {\n        vertical-align: middle;\n    }\n\n    .dataframe tbody tr th {\n        vertical-align: top;\n    }\n\n    .dataframe thead th {\n        text-align: right;\n    }\n</style>\n<table border=\"1\" class=\"dataframe\">\n  <thead>\n    <tr style=\"text-align: right;\">\n      <th></th>\n      <th>原保险保费收入</th>\n      <th>1 、财产险</th>\n      <th>2 、人身险</th>\n      <th>（ 1 ）寿险</th>\n      <th>（ 2 ）健康险</th>\n      <th>（ 3 ）人身意外伤害险</th>\n      <th>养老保险公司企业年金缴费</th>\n      <th>原保险赔付支出</th>\n      <th>1 、财产险</th>\n      <th>2 、人身险</th>\n      <th>...</th>\n      <th>（ 2 ）健康险</th>\n      <th>（ 3 ）人身意外伤害险</th>\n      <th>业务及管理费</th>\n      <th>银行存款</th>\n      <th>投资</th>\n      <th>资产总额</th>\n      <th>养老保险公司企业年金受托管理资产</th>\n      <th>养老保险公司企业年金投资管理资产</th>\n      <th>from_url</th>\n      <th>info</th>\n    </tr>\n  </thead>\n  <tbody>\n    <tr>\n      <th>0</th>\n      <td>48348140.79</td>\n      <td>13004974.81</td>\n      <td>35343165.99</td>\n      <td>32028411.67</td>\n      <td>2289052.69</td>\n      <td>1025701.62</td>\n      <td>2067390.99</td>\n      <td>11719708.42</td>\n      <td>5726104.19</td>\n      <td>5993604.23</td>\n      <td>...</td>\n      <td>729704.47</td>\n      <td>224487.94</td>\n      <td>4672660.26</td>\n      <td>206984823.51</td>\n      <td>381839223.50</td>\n      <td>636786170.04</td>\n      <td>15614184.12</td>\n      <td>14523965.45</td>\n      <td>http://www.iachina.cn/art/2012/5/4/art_617_110...</td>\n      <td>2012年1-3月保险业经营情况表</td>\n    </tr>\n  </tbody>\n</table>\n<p>1 rows × 21 columns</p>\n</div>"
     },
     "execution_count": 8,
     "metadata": {},
     "output_type": "execute_result"
    }
   ],
   "source": [
    "def clean_column(columns_list):\n",
    "    \"\"\"\n",
    "    这个代码负责将表格的列名称清洗干净（就是将一些二级标题、三级标题都转换成完整的名称：{一级标题}-{二级标题}-{三级标题})\n",
    "    如果标题是一级标题 -> 一级标题\n",
    "    如果标题是二级标题 -> {一级标题}-{二级标题}\n",
    "    如果标题是三级标题 -> {一级标题}-{二级标题}-{三级标题}\n",
    "\n",
    "    这么一做，每一个表的列名称就不会混淆\n",
    "\n",
    "    \"\"\"\n",
    "\n",
    "    column_data = pd.DataFrame({'column_name':[i.replace(\" \", '') for i in columns_list]})\n",
    "    # 做一级填充\n",
    "    column_data['class_1'] = column_data['column_name'].apply(lambda x: len(re.findall(pattern='[0-9]+、', string=x)) !=1)#[len(re.findall(pattern='[0-9]+、', string=temp_column)) !=1 for temp_column in columns_list]\n",
    "    column_data['class_1_name'] = column_data['column_name']\n",
    "    column_data.loc[column_data['class_1']== False, 'class_1_name'] = np.nan\n",
    "    column_data['class_1_name'] = column_data['class_1_name'].ffill()\n",
    "    # column_data.loc[column_data['column_name'] != column_data['class_1_name'],'class_1_name'] = \\\n",
    "    #     column_data.loc[column_data['column_name'] != column_data['class_1_name'],:].apply(lambda x: f\"{x['class_1_name']}__{x['column_name']}\", axis=1)\n",
    "    column_data.loc[column_data['class_1'] == False,'class_1_name'] = \\\n",
    "        column_data.loc[column_data['class_1'] == False,:].apply(lambda x: f\"{x['class_1_name']}__{x['column_name']}\", axis=1)\n",
    "    # 做二级填充\n",
    "\n",
    "    column_data['class_2'] = column_data['column_name'].apply(lambda x: len(re.findall(pattern='（[0-9]+）', string=x))!=1)\n",
    "\n",
    "    column_data['class_2_name'] = column_data['class_1_name']\n",
    "    column_data.loc[column_data['class_2'] == False, 'class_2_name'] = np.nan\n",
    "    column_data['class_2_name'] = column_data['class_2_name'].ffill()\n",
    "\n",
    "    column_data.loc[column_data['class_2'] == False, 'class_2_name'] = column_data.loc[column_data['class_2'] == False, :].apply(lambda x: f\"{x['class_2_name']}__{x['column_name']}\", axis=1)\n",
    "\n",
    "    return column_data['class_2_name'].tolist()\n",
    "\n",
    "\n",
    "\n",
    "def get_chapter_data(index):\n",
    "    # time.sleep(random.randint(0, 1.5))\n",
    "\n",
    "    temp_url = all_chapter_url[index]\n",
    "    temp_info = all_chapter_text[index]\n",
    "    data = pd.read_html(temp_url)[2].dropna()\n",
    "    data = data.loc[data[0] != data[1], :]\n",
    "    data = data.set_index(0).T.reset_index(drop=True)\n",
    "\n",
    "    columns_list = data.columns.tolist()\n",
    "    data.columns = clean_column(columns_list)\n",
    "\n",
    "    # data.columns = [f\"{index}_{columns_list[index]}\" for index in range(len(columns_list))]\n",
    "\n",
    "\n",
    "    data['from_url'] = temp_url\n",
    "    data['info'] = temp_info\n",
    "    return data\n",
    "\n",
    "# test function\n",
    "test_data = get_chapter_data(index=70)\n",
    "test_data"
   ]
  },
  {
   "cell_type": "code",
   "execution_count": 5,
   "metadata": {
    "collapsed": false,
    "pycharm": {
     "name": "#%%\n"
    }
   },
   "outputs": [
    {
     "name": "stderr",
     "output_type": "stream",
     "text": [
      "100%|██████████| 107/107 [00:25<00:00,  4.21it/s]\n"
     ]
    },
    {
     "data": {
      "text/plain": "        原保险保费收入 原保险保费收入__1、财产险 原保险保费收入__2、人身险 原保险保费收入__2、人身险__（1）寿险  \\\n0   97034372.62    17721912.27    79312460.35           69017036.90   \n1   68519191.78    11454663.02    57064528.75           50787454.05   \n2  365810073.85    98346579.05   267463494.80          214555650.29   \n3  343975833.44    88130729.56   255845103.88          206441403.23   \n4  323887679.96    79611362.01   244276317.95          198156253.23   \n5  304573173.18    72302834.31   232270338.87          189409170.97   \n6  276541769.99    63881132.88   212660637.11          174654969.13   \n7  252675555.16    56292689.59   196382865.57          162214613.76   \n8  231401495.45    48524378.57   182877116.88          152096140.18   \n9  202918007.55    39564149.14   163353858.41          137173851.74   \n\n  原保险保费收入__2、人身险__（2）健康险 原保险保费收入__2、人身险__（3）人身意外伤害险 人身保险公司保户投资款新增交费  \\\n0             8749972.64                 1545450.80     25134457.09   \n1             5323376.13                  953698.58     18563165.10   \n2            43894603.83                 9013240.68     58923639.73   \n3            41055434.91                 8348265.74     55361017.40   \n4            38420882.44                 7699182.28     50765401.89   \n5            35830499.74                 7030668.16     46524958.71   \n6            31949255.13                 6056412.84     41739970.35   \n7            28864361.71                 5303890.11     38097394.40   \n8            26156889.00                 4624087.69     34828860.06   \n9            22400011.13                 3779995.54     30843720.02   \n\n  人身保险公司投连险独立账户新增交费       原保险赔付支出 原保险赔付支出__1、财产险  ...  \\\n0        1509510.17   22556676.55     8241803.44  ...   \n1         869157.37   13131087.35     4753829.05  ...   \n2        4704175.97  111807932.57    50874495.97  ...   \n3        4157640.32  100908462.55    44522715.32  ...   \n4        3972071.35   90846751.60    39443910.98  ...   \n5        3806503.17   83272656.90    35669905.50  ...   \n6        3162867.33   74363643.40    31246191.59  ...   \n7        2395478.90   65844323.44    26970622.18  ...   \n8        1646921.93   57855012.90    22945019.64  ...   \n9        1213315.76   49001009.68    18846693.75  ...   \n\n  原保险赔付支出__2、人身险__（3）人身意外伤害险       业务及管理费          银行存款             投资  \\\n0                  408911.78   6151768.99  190830329.04  1309099035.19   \n1                  231357.34   3179866.72  188340380.65  1313660366.91   \n2                 2236859.45  42880643.40  192740725.29  1299321408.14   \n3                 1994767.88  37058547.65  193021087.40  1277177694.44   \n4                 1784671.48  33410032.12  191123741.21  1278381459.75   \n5                 1623561.88  30425390.17  201134669.56  1263582594.79   \n6                 1413369.23  26731367.16  196178261.80  1250080800.81   \n7                 1202054.73  23567819.20  195881169.66  1246764619.36   \n8                 1017501.38  20341100.70  215932308.16  1234056354.15   \n9                  838250.71  16545616.74  234049445.24  1190286076.37   \n\n            资产总额                                           from_url  \\\n0  1688522210.14  http://www.iachina.cn/art/2018/4/3/art_617_102...   \n1  1690528099.26  http://www.iachina.cn/art/2018/3/9/art_617_102...   \n2  1674893735.07  http://www.iachina.cn/art/2018/3/6/art_617_102...   \n3  1664096886.61  http://www.iachina.cn/art/2018/1/10/art_617_10...   \n4  1661984320.20  http://www.iachina.cn/art/2017/11/27/art_617_9...   \n5  1658243165.53  http://www.iachina.cn/art/2017/11/21/art_617_9...   \n6  1636143978.33  http://www.iachina.cn/art/2017/10/9/art_617_95...   \n7  1632382960.40  http://www.iachina.cn/art/2017/9/1/art_617_942...   \n8  1643044791.18  http://www.iachina.cn/art/2017/8/10/art_617_94...   \n9  1606259671.62  http://www.iachina.cn/art/2017/6/28/art_617_94...   \n\n                 info 养老保险公司企业年金缴费 养老保险公司企业年金受托管理资产 养老保险公司企业年金投资管理资产  \n0   2018年1-2月保险业经营情况表          NaN              NaN              NaN  \n1     2018年1月保险业经营情况表          NaN              NaN              NaN  \n2       2017年保险业经营情况表          NaN              NaN              NaN  \n3  2017年1-11月保险业经营情况表          NaN              NaN              NaN  \n4  2017年1-10月保险业经营情况表          NaN              NaN              NaN  \n5   2017年1-9月保险业经营情况表          NaN              NaN              NaN  \n6   2017年1-8月保险业经营情况表          NaN              NaN              NaN  \n7   2017年1-7月保险业经营情况表          NaN              NaN              NaN  \n8   2017年1-6月保险业经营情况表          NaN              NaN              NaN  \n9   2017年1-5月保险业经营情况表          NaN              NaN              NaN  \n\n[10 rows x 23 columns]",
      "text/html": "<div>\n<style scoped>\n    .dataframe tbody tr th:only-of-type {\n        vertical-align: middle;\n    }\n\n    .dataframe tbody tr th {\n        vertical-align: top;\n    }\n\n    .dataframe thead th {\n        text-align: right;\n    }\n</style>\n<table border=\"1\" class=\"dataframe\">\n  <thead>\n    <tr style=\"text-align: right;\">\n      <th></th>\n      <th>原保险保费收入</th>\n      <th>原保险保费收入__1、财产险</th>\n      <th>原保险保费收入__2、人身险</th>\n      <th>原保险保费收入__2、人身险__（1）寿险</th>\n      <th>原保险保费收入__2、人身险__（2）健康险</th>\n      <th>原保险保费收入__2、人身险__（3）人身意外伤害险</th>\n      <th>人身保险公司保户投资款新增交费</th>\n      <th>人身保险公司投连险独立账户新增交费</th>\n      <th>原保险赔付支出</th>\n      <th>原保险赔付支出__1、财产险</th>\n      <th>...</th>\n      <th>原保险赔付支出__2、人身险__（3）人身意外伤害险</th>\n      <th>业务及管理费</th>\n      <th>银行存款</th>\n      <th>投资</th>\n      <th>资产总额</th>\n      <th>from_url</th>\n      <th>info</th>\n      <th>养老保险公司企业年金缴费</th>\n      <th>养老保险公司企业年金受托管理资产</th>\n      <th>养老保险公司企业年金投资管理资产</th>\n    </tr>\n  </thead>\n  <tbody>\n    <tr>\n      <th>0</th>\n      <td>97034372.62</td>\n      <td>17721912.27</td>\n      <td>79312460.35</td>\n      <td>69017036.90</td>\n      <td>8749972.64</td>\n      <td>1545450.80</td>\n      <td>25134457.09</td>\n      <td>1509510.17</td>\n      <td>22556676.55</td>\n      <td>8241803.44</td>\n      <td>...</td>\n      <td>408911.78</td>\n      <td>6151768.99</td>\n      <td>190830329.04</td>\n      <td>1309099035.19</td>\n      <td>1688522210.14</td>\n      <td>http://www.iachina.cn/art/2018/4/3/art_617_102...</td>\n      <td>2018年1-2月保险业经营情况表</td>\n      <td>NaN</td>\n      <td>NaN</td>\n      <td>NaN</td>\n    </tr>\n    <tr>\n      <th>1</th>\n      <td>68519191.78</td>\n      <td>11454663.02</td>\n      <td>57064528.75</td>\n      <td>50787454.05</td>\n      <td>5323376.13</td>\n      <td>953698.58</td>\n      <td>18563165.10</td>\n      <td>869157.37</td>\n      <td>13131087.35</td>\n      <td>4753829.05</td>\n      <td>...</td>\n      <td>231357.34</td>\n      <td>3179866.72</td>\n      <td>188340380.65</td>\n      <td>1313660366.91</td>\n      <td>1690528099.26</td>\n      <td>http://www.iachina.cn/art/2018/3/9/art_617_102...</td>\n      <td>2018年1月保险业经营情况表</td>\n      <td>NaN</td>\n      <td>NaN</td>\n      <td>NaN</td>\n    </tr>\n    <tr>\n      <th>2</th>\n      <td>365810073.85</td>\n      <td>98346579.05</td>\n      <td>267463494.80</td>\n      <td>214555650.29</td>\n      <td>43894603.83</td>\n      <td>9013240.68</td>\n      <td>58923639.73</td>\n      <td>4704175.97</td>\n      <td>111807932.57</td>\n      <td>50874495.97</td>\n      <td>...</td>\n      <td>2236859.45</td>\n      <td>42880643.40</td>\n      <td>192740725.29</td>\n      <td>1299321408.14</td>\n      <td>1674893735.07</td>\n      <td>http://www.iachina.cn/art/2018/3/6/art_617_102...</td>\n      <td>2017年保险业经营情况表</td>\n      <td>NaN</td>\n      <td>NaN</td>\n      <td>NaN</td>\n    </tr>\n    <tr>\n      <th>3</th>\n      <td>343975833.44</td>\n      <td>88130729.56</td>\n      <td>255845103.88</td>\n      <td>206441403.23</td>\n      <td>41055434.91</td>\n      <td>8348265.74</td>\n      <td>55361017.40</td>\n      <td>4157640.32</td>\n      <td>100908462.55</td>\n      <td>44522715.32</td>\n      <td>...</td>\n      <td>1994767.88</td>\n      <td>37058547.65</td>\n      <td>193021087.40</td>\n      <td>1277177694.44</td>\n      <td>1664096886.61</td>\n      <td>http://www.iachina.cn/art/2018/1/10/art_617_10...</td>\n      <td>2017年1-11月保险业经营情况表</td>\n      <td>NaN</td>\n      <td>NaN</td>\n      <td>NaN</td>\n    </tr>\n    <tr>\n      <th>4</th>\n      <td>323887679.96</td>\n      <td>79611362.01</td>\n      <td>244276317.95</td>\n      <td>198156253.23</td>\n      <td>38420882.44</td>\n      <td>7699182.28</td>\n      <td>50765401.89</td>\n      <td>3972071.35</td>\n      <td>90846751.60</td>\n      <td>39443910.98</td>\n      <td>...</td>\n      <td>1784671.48</td>\n      <td>33410032.12</td>\n      <td>191123741.21</td>\n      <td>1278381459.75</td>\n      <td>1661984320.20</td>\n      <td>http://www.iachina.cn/art/2017/11/27/art_617_9...</td>\n      <td>2017年1-10月保险业经营情况表</td>\n      <td>NaN</td>\n      <td>NaN</td>\n      <td>NaN</td>\n    </tr>\n    <tr>\n      <th>5</th>\n      <td>304573173.18</td>\n      <td>72302834.31</td>\n      <td>232270338.87</td>\n      <td>189409170.97</td>\n      <td>35830499.74</td>\n      <td>7030668.16</td>\n      <td>46524958.71</td>\n      <td>3806503.17</td>\n      <td>83272656.90</td>\n      <td>35669905.50</td>\n      <td>...</td>\n      <td>1623561.88</td>\n      <td>30425390.17</td>\n      <td>201134669.56</td>\n      <td>1263582594.79</td>\n      <td>1658243165.53</td>\n      <td>http://www.iachina.cn/art/2017/11/21/art_617_9...</td>\n      <td>2017年1-9月保险业经营情况表</td>\n      <td>NaN</td>\n      <td>NaN</td>\n      <td>NaN</td>\n    </tr>\n    <tr>\n      <th>6</th>\n      <td>276541769.99</td>\n      <td>63881132.88</td>\n      <td>212660637.11</td>\n      <td>174654969.13</td>\n      <td>31949255.13</td>\n      <td>6056412.84</td>\n      <td>41739970.35</td>\n      <td>3162867.33</td>\n      <td>74363643.40</td>\n      <td>31246191.59</td>\n      <td>...</td>\n      <td>1413369.23</td>\n      <td>26731367.16</td>\n      <td>196178261.80</td>\n      <td>1250080800.81</td>\n      <td>1636143978.33</td>\n      <td>http://www.iachina.cn/art/2017/10/9/art_617_95...</td>\n      <td>2017年1-8月保险业经营情况表</td>\n      <td>NaN</td>\n      <td>NaN</td>\n      <td>NaN</td>\n    </tr>\n    <tr>\n      <th>7</th>\n      <td>252675555.16</td>\n      <td>56292689.59</td>\n      <td>196382865.57</td>\n      <td>162214613.76</td>\n      <td>28864361.71</td>\n      <td>5303890.11</td>\n      <td>38097394.40</td>\n      <td>2395478.90</td>\n      <td>65844323.44</td>\n      <td>26970622.18</td>\n      <td>...</td>\n      <td>1202054.73</td>\n      <td>23567819.20</td>\n      <td>195881169.66</td>\n      <td>1246764619.36</td>\n      <td>1632382960.40</td>\n      <td>http://www.iachina.cn/art/2017/9/1/art_617_942...</td>\n      <td>2017年1-7月保险业经营情况表</td>\n      <td>NaN</td>\n      <td>NaN</td>\n      <td>NaN</td>\n    </tr>\n    <tr>\n      <th>8</th>\n      <td>231401495.45</td>\n      <td>48524378.57</td>\n      <td>182877116.88</td>\n      <td>152096140.18</td>\n      <td>26156889.00</td>\n      <td>4624087.69</td>\n      <td>34828860.06</td>\n      <td>1646921.93</td>\n      <td>57855012.90</td>\n      <td>22945019.64</td>\n      <td>...</td>\n      <td>1017501.38</td>\n      <td>20341100.70</td>\n      <td>215932308.16</td>\n      <td>1234056354.15</td>\n      <td>1643044791.18</td>\n      <td>http://www.iachina.cn/art/2017/8/10/art_617_94...</td>\n      <td>2017年1-6月保险业经营情况表</td>\n      <td>NaN</td>\n      <td>NaN</td>\n      <td>NaN</td>\n    </tr>\n    <tr>\n      <th>9</th>\n      <td>202918007.55</td>\n      <td>39564149.14</td>\n      <td>163353858.41</td>\n      <td>137173851.74</td>\n      <td>22400011.13</td>\n      <td>3779995.54</td>\n      <td>30843720.02</td>\n      <td>1213315.76</td>\n      <td>49001009.68</td>\n      <td>18846693.75</td>\n      <td>...</td>\n      <td>838250.71</td>\n      <td>16545616.74</td>\n      <td>234049445.24</td>\n      <td>1190286076.37</td>\n      <td>1606259671.62</td>\n      <td>http://www.iachina.cn/art/2017/6/28/art_617_94...</td>\n      <td>2017年1-5月保险业经营情况表</td>\n      <td>NaN</td>\n      <td>NaN</td>\n      <td>NaN</td>\n    </tr>\n  </tbody>\n</table>\n<p>10 rows × 23 columns</p>\n</div>"
     },
     "execution_count": 5,
     "metadata": {},
     "output_type": "execute_result"
    }
   ],
   "source": [
    "finaldata = pd.concat([get_chapter_data(index) for index in tqdm(range(len(all_chapter_url)))]).reset_index(drop=True)\n",
    "finaldata.head(10)"
   ]
  },
  {
   "cell_type": "code",
   "execution_count": 17,
   "metadata": {},
   "outputs": [],
   "source": [
    "finaldata.to_csv(\"保险业经营数据.csv\", index=False)"
   ]
  },
  {
   "cell_type": "code",
   "execution_count": 9,
   "metadata": {},
   "outputs": [
    {
     "data": {
      "text/plain": "          原保险保费收入 原保险保费收入__1、财产险 原保险保费收入__2、人身险 原保险保费收入__2、人身险__（1）寿险  \\\n0     97034372.62    17721912.27    79312460.35           69017036.90   \n1     68519191.78    11454663.02    57064528.75           50787454.05   \n2    365810073.85    98346579.05   267463494.80          214555650.29   \n3    343975833.44    88130729.56   255845103.88          206441403.23   \n4    323887679.96    79611362.01   244276317.95          198156253.23   \n..            ...            ...            ...                   ...   \n102   49504913.87    12089320.63    37415593.24           34211170.38   \n103   41404593.30     9827050.17    31577543.13           28972789.38   \n104   32767025.59     7185819.94    25581205.65           23589945.93   \n105   32767025.59     7185819.94    25581205.65           23589945.93   \n106   11476413.23     2973274.39     8503138.84            7834667.90   \n\n    原保险保费收入__2、人身险__（2）健康险 原保险保费收入__2、人身险__（3）人身意外伤害险 人身保险公司保户投资款新增交费  \\\n0               8749972.64                 1545450.80     25134457.09   \n1               5323376.13                  953698.58     18563165.10   \n2              43894603.83                 9013240.68     58923639.73   \n3              41055434.91                 8348265.74     55361017.40   \n4              38420882.44                 7699182.28     50765401.89   \n..                     ...                        ...             ...   \n102             2252622.26                  951800.60             NaN   \n103             1827127.81                  777625.94             NaN   \n104             1403958.63                  587301.08             NaN   \n105             1403958.63                  587301.08             NaN   \n106              488045.63                  180425.31             NaN   \n\n    人身保险公司投连险独立账户新增交费       原保险赔付支出 原保险赔付支出__1、财产险  ...  \\\n0          1509510.17   22556676.55     8241803.44  ...   \n1           869157.37   13131087.35     4753829.05  ...   \n2          4704175.97  111807932.57    50874495.97  ...   \n3          4157640.32  100908462.55    44522715.32  ...   \n4          3972071.35   90846751.60    39443910.98  ...   \n..                ...           ...            ...  ...   \n102               NaN   13081729.46     5913100.94  ...   \n103               NaN   10773711.41     4790724.18  ...   \n104               NaN    8235800.22     3514472.15  ...   \n105               NaN    8235800.22     3514472.15  ...   \n106               NaN    2837258.58     1251807.76  ...   \n\n    原保险赔付支出__2、人身险__（3）人身意外伤害险       业务及管理费          银行存款             投资  \\\n0                    408911.78   6151768.99  190830329.04  1309099035.19   \n1                    231357.34   3179866.72  188340380.65  1313660366.91   \n2                   2236859.45  42880643.40  192740725.29  1299321408.14   \n3                   1994767.88  37058547.65  193021087.40  1277177694.44   \n4                   1784671.48  33410032.12  191123741.21  1278381459.75   \n..                         ...          ...           ...            ...   \n102                  248749.81   4404294.17  105293958.23   224736995.09   \n103                  202573.98   3524507.80  103943128.69   220258335.04   \n104                  151276.72   2617023.35  100047101.33   221784969.58   \n105                  151276.72   2617023.35  100047101.33   221784969.58   \n106                   56583.86    837728.02   81948010.66   223636240.80   \n\n              资产总额                                           from_url  \\\n0    1688522210.14  http://www.iachina.cn/art/2018/4/3/art_617_102...   \n1    1690528099.26  http://www.iachina.cn/art/2018/3/9/art_617_102...   \n2    1674893735.07  http://www.iachina.cn/art/2018/3/6/art_617_102...   \n3    1664096886.61  http://www.iachina.cn/art/2018/1/10/art_617_10...   \n4    1661984320.20  http://www.iachina.cn/art/2017/11/27/art_617_9...   \n..             ...                                                ...   \n102   361956016.37  http://www.iachina.cn/art/2009/11/5/art_617_11...   \n103   355455087.17  http://www.iachina.cn/art/2009/11/5/art_617_11...   \n104   354347298.03  http://www.iachina.cn/art/2009/11/5/art_617_11...   \n105   354347298.03  http://www.iachina.cn/art/2009/11/5/art_617_11...   \n106   338154395.46  http://www.iachina.cn/art/2009/11/5/art_617_11...   \n\n                   info 养老保险公司企业年金缴费 养老保险公司企业年金受托管理资产 养老保险公司企业年金投资管理资产  \n0     2018年1-2月保险业经营情况表          NaN              NaN              NaN  \n1       2018年1月保险业经营情况表          NaN              NaN              NaN  \n2         2017年保险业经营情况表          NaN              NaN              NaN  \n3    2017年1-11月保险业经营情况表          NaN              NaN              NaN  \n4    2017年1-10月保险业经营情况表          NaN              NaN              NaN  \n..                  ...          ...              ...              ...  \n102    2009年1-5月保险业经营数据           --               --               --  \n103    2009年1-4月保险业经营数据           --               --               --  \n104    2009年1-3月保险业经营数据    639228.12       5376276.26       4236221.70  \n105    2009年1-2月保险业经营数据    639228.12       5376276.26       4236221.70  \n106      2009年1月保险业经营数据           --               --               --  \n\n[107 rows x 23 columns]",
      "text/html": "<div>\n<style scoped>\n    .dataframe tbody tr th:only-of-type {\n        vertical-align: middle;\n    }\n\n    .dataframe tbody tr th {\n        vertical-align: top;\n    }\n\n    .dataframe thead th {\n        text-align: right;\n    }\n</style>\n<table border=\"1\" class=\"dataframe\">\n  <thead>\n    <tr style=\"text-align: right;\">\n      <th></th>\n      <th>原保险保费收入</th>\n      <th>原保险保费收入__1、财产险</th>\n      <th>原保险保费收入__2、人身险</th>\n      <th>原保险保费收入__2、人身险__（1）寿险</th>\n      <th>原保险保费收入__2、人身险__（2）健康险</th>\n      <th>原保险保费收入__2、人身险__（3）人身意外伤害险</th>\n      <th>人身保险公司保户投资款新增交费</th>\n      <th>人身保险公司投连险独立账户新增交费</th>\n      <th>原保险赔付支出</th>\n      <th>原保险赔付支出__1、财产险</th>\n      <th>...</th>\n      <th>原保险赔付支出__2、人身险__（3）人身意外伤害险</th>\n      <th>业务及管理费</th>\n      <th>银行存款</th>\n      <th>投资</th>\n      <th>资产总额</th>\n      <th>from_url</th>\n      <th>info</th>\n      <th>养老保险公司企业年金缴费</th>\n      <th>养老保险公司企业年金受托管理资产</th>\n      <th>养老保险公司企业年金投资管理资产</th>\n    </tr>\n  </thead>\n  <tbody>\n    <tr>\n      <th>0</th>\n      <td>97034372.62</td>\n      <td>17721912.27</td>\n      <td>79312460.35</td>\n      <td>69017036.90</td>\n      <td>8749972.64</td>\n      <td>1545450.80</td>\n      <td>25134457.09</td>\n      <td>1509510.17</td>\n      <td>22556676.55</td>\n      <td>8241803.44</td>\n      <td>...</td>\n      <td>408911.78</td>\n      <td>6151768.99</td>\n      <td>190830329.04</td>\n      <td>1309099035.19</td>\n      <td>1688522210.14</td>\n      <td>http://www.iachina.cn/art/2018/4/3/art_617_102...</td>\n      <td>2018年1-2月保险业经营情况表</td>\n      <td>NaN</td>\n      <td>NaN</td>\n      <td>NaN</td>\n    </tr>\n    <tr>\n      <th>1</th>\n      <td>68519191.78</td>\n      <td>11454663.02</td>\n      <td>57064528.75</td>\n      <td>50787454.05</td>\n      <td>5323376.13</td>\n      <td>953698.58</td>\n      <td>18563165.10</td>\n      <td>869157.37</td>\n      <td>13131087.35</td>\n      <td>4753829.05</td>\n      <td>...</td>\n      <td>231357.34</td>\n      <td>3179866.72</td>\n      <td>188340380.65</td>\n      <td>1313660366.91</td>\n      <td>1690528099.26</td>\n      <td>http://www.iachina.cn/art/2018/3/9/art_617_102...</td>\n      <td>2018年1月保险业经营情况表</td>\n      <td>NaN</td>\n      <td>NaN</td>\n      <td>NaN</td>\n    </tr>\n    <tr>\n      <th>2</th>\n      <td>365810073.85</td>\n      <td>98346579.05</td>\n      <td>267463494.80</td>\n      <td>214555650.29</td>\n      <td>43894603.83</td>\n      <td>9013240.68</td>\n      <td>58923639.73</td>\n      <td>4704175.97</td>\n      <td>111807932.57</td>\n      <td>50874495.97</td>\n      <td>...</td>\n      <td>2236859.45</td>\n      <td>42880643.40</td>\n      <td>192740725.29</td>\n      <td>1299321408.14</td>\n      <td>1674893735.07</td>\n      <td>http://www.iachina.cn/art/2018/3/6/art_617_102...</td>\n      <td>2017年保险业经营情况表</td>\n      <td>NaN</td>\n      <td>NaN</td>\n      <td>NaN</td>\n    </tr>\n    <tr>\n      <th>3</th>\n      <td>343975833.44</td>\n      <td>88130729.56</td>\n      <td>255845103.88</td>\n      <td>206441403.23</td>\n      <td>41055434.91</td>\n      <td>8348265.74</td>\n      <td>55361017.40</td>\n      <td>4157640.32</td>\n      <td>100908462.55</td>\n      <td>44522715.32</td>\n      <td>...</td>\n      <td>1994767.88</td>\n      <td>37058547.65</td>\n      <td>193021087.40</td>\n      <td>1277177694.44</td>\n      <td>1664096886.61</td>\n      <td>http://www.iachina.cn/art/2018/1/10/art_617_10...</td>\n      <td>2017年1-11月保险业经营情况表</td>\n      <td>NaN</td>\n      <td>NaN</td>\n      <td>NaN</td>\n    </tr>\n    <tr>\n      <th>4</th>\n      <td>323887679.96</td>\n      <td>79611362.01</td>\n      <td>244276317.95</td>\n      <td>198156253.23</td>\n      <td>38420882.44</td>\n      <td>7699182.28</td>\n      <td>50765401.89</td>\n      <td>3972071.35</td>\n      <td>90846751.60</td>\n      <td>39443910.98</td>\n      <td>...</td>\n      <td>1784671.48</td>\n      <td>33410032.12</td>\n      <td>191123741.21</td>\n      <td>1278381459.75</td>\n      <td>1661984320.20</td>\n      <td>http://www.iachina.cn/art/2017/11/27/art_617_9...</td>\n      <td>2017年1-10月保险业经营情况表</td>\n      <td>NaN</td>\n      <td>NaN</td>\n      <td>NaN</td>\n    </tr>\n    <tr>\n      <th>...</th>\n      <td>...</td>\n      <td>...</td>\n      <td>...</td>\n      <td>...</td>\n      <td>...</td>\n      <td>...</td>\n      <td>...</td>\n      <td>...</td>\n      <td>...</td>\n      <td>...</td>\n      <td>...</td>\n      <td>...</td>\n      <td>...</td>\n      <td>...</td>\n      <td>...</td>\n      <td>...</td>\n      <td>...</td>\n      <td>...</td>\n      <td>...</td>\n      <td>...</td>\n      <td>...</td>\n    </tr>\n    <tr>\n      <th>102</th>\n      <td>49504913.87</td>\n      <td>12089320.63</td>\n      <td>37415593.24</td>\n      <td>34211170.38</td>\n      <td>2252622.26</td>\n      <td>951800.60</td>\n      <td>NaN</td>\n      <td>NaN</td>\n      <td>13081729.46</td>\n      <td>5913100.94</td>\n      <td>...</td>\n      <td>248749.81</td>\n      <td>4404294.17</td>\n      <td>105293958.23</td>\n      <td>224736995.09</td>\n      <td>361956016.37</td>\n      <td>http://www.iachina.cn/art/2009/11/5/art_617_11...</td>\n      <td>2009年1-5月保险业经营数据</td>\n      <td>--</td>\n      <td>--</td>\n      <td>--</td>\n    </tr>\n    <tr>\n      <th>103</th>\n      <td>41404593.30</td>\n      <td>9827050.17</td>\n      <td>31577543.13</td>\n      <td>28972789.38</td>\n      <td>1827127.81</td>\n      <td>777625.94</td>\n      <td>NaN</td>\n      <td>NaN</td>\n      <td>10773711.41</td>\n      <td>4790724.18</td>\n      <td>...</td>\n      <td>202573.98</td>\n      <td>3524507.80</td>\n      <td>103943128.69</td>\n      <td>220258335.04</td>\n      <td>355455087.17</td>\n      <td>http://www.iachina.cn/art/2009/11/5/art_617_11...</td>\n      <td>2009年1-4月保险业经营数据</td>\n      <td>--</td>\n      <td>--</td>\n      <td>--</td>\n    </tr>\n    <tr>\n      <th>104</th>\n      <td>32767025.59</td>\n      <td>7185819.94</td>\n      <td>25581205.65</td>\n      <td>23589945.93</td>\n      <td>1403958.63</td>\n      <td>587301.08</td>\n      <td>NaN</td>\n      <td>NaN</td>\n      <td>8235800.22</td>\n      <td>3514472.15</td>\n      <td>...</td>\n      <td>151276.72</td>\n      <td>2617023.35</td>\n      <td>100047101.33</td>\n      <td>221784969.58</td>\n      <td>354347298.03</td>\n      <td>http://www.iachina.cn/art/2009/11/5/art_617_11...</td>\n      <td>2009年1-3月保险业经营数据</td>\n      <td>639228.12</td>\n      <td>5376276.26</td>\n      <td>4236221.70</td>\n    </tr>\n    <tr>\n      <th>105</th>\n      <td>32767025.59</td>\n      <td>7185819.94</td>\n      <td>25581205.65</td>\n      <td>23589945.93</td>\n      <td>1403958.63</td>\n      <td>587301.08</td>\n      <td>NaN</td>\n      <td>NaN</td>\n      <td>8235800.22</td>\n      <td>3514472.15</td>\n      <td>...</td>\n      <td>151276.72</td>\n      <td>2617023.35</td>\n      <td>100047101.33</td>\n      <td>221784969.58</td>\n      <td>354347298.03</td>\n      <td>http://www.iachina.cn/art/2009/11/5/art_617_11...</td>\n      <td>2009年1-2月保险业经营数据</td>\n      <td>639228.12</td>\n      <td>5376276.26</td>\n      <td>4236221.70</td>\n    </tr>\n    <tr>\n      <th>106</th>\n      <td>11476413.23</td>\n      <td>2973274.39</td>\n      <td>8503138.84</td>\n      <td>7834667.90</td>\n      <td>488045.63</td>\n      <td>180425.31</td>\n      <td>NaN</td>\n      <td>NaN</td>\n      <td>2837258.58</td>\n      <td>1251807.76</td>\n      <td>...</td>\n      <td>56583.86</td>\n      <td>837728.02</td>\n      <td>81948010.66</td>\n      <td>223636240.80</td>\n      <td>338154395.46</td>\n      <td>http://www.iachina.cn/art/2009/11/5/art_617_11...</td>\n      <td>2009年1月保险业经营数据</td>\n      <td>--</td>\n      <td>--</td>\n      <td>--</td>\n    </tr>\n  </tbody>\n</table>\n<p>107 rows × 23 columns</p>\n</div>"
     },
     "execution_count": 9,
     "metadata": {},
     "output_type": "execute_result"
    }
   ],
   "source": [
    "finaldata"
   ]
  },
  {
   "cell_type": "code",
   "execution_count": null,
   "outputs": [],
   "source": [],
   "metadata": {
    "collapsed": false,
    "pycharm": {
     "name": "#%%\n"
    }
   }
  }
 ],
 "metadata": {
  "kernelspec": {
   "display_name": "Python 3",
   "language": "python",
   "name": "python3"
  },
  "language_info": {
   "codemirror_mode": {
    "name": "ipython",
    "version": 3
   },
   "file_extension": ".py",
   "mimetype": "text/x-python",
   "name": "python",
   "nbconvert_exporter": "python",
   "pygments_lexer": "ipython3",
   "version": "3.8.8"
  }
 },
 "nbformat": 4,
 "nbformat_minor": 0
}