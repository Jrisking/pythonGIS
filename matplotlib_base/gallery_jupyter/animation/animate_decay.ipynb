{
  "cells": [
    {
      "cell_type": "code",
      "execution_count": null,
      "metadata": {
        "collapsed": false
      },
      "outputs": [],
      "source": [
        "%matplotlib widget"
      ]
    },
    {
      "cell_type": "markdown",
      "metadata": {},
      "source": [
        "\n",
        "# Decay\n",
        "\n",
        "This example showcases:\n",
        "\n",
        "- using a generator to drive an animation,\n",
        "- changing axes limits during an animation.\n"
      ]
    },
    {
      "cell_type": "code",
      "execution_count": null,
      "metadata": {
        "collapsed": false
      },
      "outputs": [],
      "source": [
        "import itertools\n",
        "\n",
        "import numpy as np\n",
        "import matplotlib.pyplot as plt\n",
        "import matplotlib.animation as animation\n",
        "\n",
        "\n",
        "def data_gen():\n",
        "    for cnt in itertools.count():\n",
        "        t = cnt / 10\n",
        "        yield t, np.sin(2*np.pi*t) * np.exp(-t/10.)\n",
        "\n",
        "\n",
        "def init():\n",
        "    ax.set_ylim(-1.1, 1.1)\n",
        "    ax.set_xlim(0, 10)\n",
        "    del xdata[:]\n",
        "    del ydata[:]\n",
        "    line.set_data(xdata, ydata)\n",
        "    return line,\n",
        "\n",
        "fig, ax = plt.subplots()\n",
        "line, = ax.plot([], [], lw=2)\n",
        "ax.grid()\n",
        "xdata, ydata = [], []\n",
        "\n",
        "\n",
        "def run(data):\n",
        "    # update the data\n",
        "    t, y = data\n",
        "    xdata.append(t)\n",
        "    ydata.append(y)\n",
        "    xmin, xmax = ax.get_xlim()\n",
        "\n",
        "    if t >= xmax:\n",
        "        ax.set_xlim(xmin, 2*xmax)\n",
        "        ax.figure.canvas.draw()\n",
        "    line.set_data(xdata, ydata)\n",
        "\n",
        "    return line,\n",
        "\n",
        "ani = animation.FuncAnimation(fig, run, data_gen, interval=10, init_func=init)\n",
        "plt.show()"
      ]
    },
    {
      "cell_type": "code",
      "execution_count": null,
      "metadata": {},
      "outputs": [],
      "source": []
    }
  ],
  "metadata": {
    "kernelspec": {
      "display_name": "Python 3.9.12 ('mynet')",
      "language": "python",
      "name": "python3"
    },
    "language_info": {
      "codemirror_mode": {
        "name": "ipython",
        "version": 3
      },
      "file_extension": ".py",
      "mimetype": "text/x-python",
      "name": "python",
      "nbconvert_exporter": "python",
      "pygments_lexer": "ipython3",
      "version": "3.9.12"
    },
    "vscode": {
      "interpreter": {
        "hash": "d1c703db8f0ebb41ab4bf42c643bde37b5e3ec7c4c951eee917b53d0e6255188"
      }
    }
  },
  "nbformat": 4,
  "nbformat_minor": 0
}
