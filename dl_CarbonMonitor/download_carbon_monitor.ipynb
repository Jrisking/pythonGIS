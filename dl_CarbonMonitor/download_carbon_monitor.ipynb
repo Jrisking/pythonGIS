{
 "cells": [
  {
   "cell_type": "markdown",
   "source": [
    "# 脚本介绍\n",
    "下载全球实时碳数据的脚本"
   ],
   "metadata": {
    "collapsed": false
   }
  },
  {
   "cell_type": "code",
   "execution_count": 1,
   "metadata": {
    "collapsed": true
   },
   "outputs": [
    {
     "data": {
      "text/plain": "            date  Domestic Aviation  Ground Transport  Industry  \\\n0     2019-01-01               0.84             14.16     22.78   \n1     2019-01-02               0.97             15.69     24.67   \n2     2019-01-03               1.01             17.35     25.22   \n3     2019-01-04               1.00             17.39     25.45   \n4     2019-01-05               0.92             16.18     25.03   \n...          ...                ...               ...       ...   \n1030  2021-10-27               0.90             18.69     26.02   \n1031  2021-10-28               0.93             18.42     26.82   \n1032  2021-10-29               0.96             18.70     26.39   \n1033  2021-10-30               0.84             17.30     25.93   \n1034  2021-10-31               0.85             16.19     24.76   \n\n      International Aviation  Power  Residential      全球  \n0                       1.48  36.38        17.80   95.00  \n1                       1.62  39.65        18.52  102.98  \n2                       1.67  40.63        18.38  106.13  \n3                       1.69  41.07        18.08  106.61  \n4                       1.74  40.14        17.16  102.98  \n...                      ...    ...          ...     ...  \n1030                    1.06  33.91         8.45   90.87  \n1031                    1.12  34.81         8.42   92.37  \n1032                    1.16  34.20         8.44   91.75  \n1033                    1.20  33.33         8.31   88.85  \n1034                    1.16  31.88         8.36   85.00  \n\n[1035 rows x 8 columns]",
      "text/html": "<div>\n<style scoped>\n    .dataframe tbody tr th:only-of-type {\n        vertical-align: middle;\n    }\n\n    .dataframe tbody tr th {\n        vertical-align: top;\n    }\n\n    .dataframe thead th {\n        text-align: right;\n    }\n</style>\n<table border=\"1\" class=\"dataframe\">\n  <thead>\n    <tr style=\"text-align: right;\">\n      <th></th>\n      <th>date</th>\n      <th>Domestic Aviation</th>\n      <th>Ground Transport</th>\n      <th>Industry</th>\n      <th>International Aviation</th>\n      <th>Power</th>\n      <th>Residential</th>\n      <th>全球</th>\n    </tr>\n  </thead>\n  <tbody>\n    <tr>\n      <th>0</th>\n      <td>2019-01-01</td>\n      <td>0.84</td>\n      <td>14.16</td>\n      <td>22.78</td>\n      <td>1.48</td>\n      <td>36.38</td>\n      <td>17.80</td>\n      <td>95.00</td>\n    </tr>\n    <tr>\n      <th>1</th>\n      <td>2019-01-02</td>\n      <td>0.97</td>\n      <td>15.69</td>\n      <td>24.67</td>\n      <td>1.62</td>\n      <td>39.65</td>\n      <td>18.52</td>\n      <td>102.98</td>\n    </tr>\n    <tr>\n      <th>2</th>\n      <td>2019-01-03</td>\n      <td>1.01</td>\n      <td>17.35</td>\n      <td>25.22</td>\n      <td>1.67</td>\n      <td>40.63</td>\n      <td>18.38</td>\n      <td>106.13</td>\n    </tr>\n    <tr>\n      <th>3</th>\n      <td>2019-01-04</td>\n      <td>1.00</td>\n      <td>17.39</td>\n      <td>25.45</td>\n      <td>1.69</td>\n      <td>41.07</td>\n      <td>18.08</td>\n      <td>106.61</td>\n    </tr>\n    <tr>\n      <th>4</th>\n      <td>2019-01-05</td>\n      <td>0.92</td>\n      <td>16.18</td>\n      <td>25.03</td>\n      <td>1.74</td>\n      <td>40.14</td>\n      <td>17.16</td>\n      <td>102.98</td>\n    </tr>\n    <tr>\n      <th>...</th>\n      <td>...</td>\n      <td>...</td>\n      <td>...</td>\n      <td>...</td>\n      <td>...</td>\n      <td>...</td>\n      <td>...</td>\n      <td>...</td>\n    </tr>\n    <tr>\n      <th>1030</th>\n      <td>2021-10-27</td>\n      <td>0.90</td>\n      <td>18.69</td>\n      <td>26.02</td>\n      <td>1.06</td>\n      <td>33.91</td>\n      <td>8.45</td>\n      <td>90.87</td>\n    </tr>\n    <tr>\n      <th>1031</th>\n      <td>2021-10-28</td>\n      <td>0.93</td>\n      <td>18.42</td>\n      <td>26.82</td>\n      <td>1.12</td>\n      <td>34.81</td>\n      <td>8.42</td>\n      <td>92.37</td>\n    </tr>\n    <tr>\n      <th>1032</th>\n      <td>2021-10-29</td>\n      <td>0.96</td>\n      <td>18.70</td>\n      <td>26.39</td>\n      <td>1.16</td>\n      <td>34.20</td>\n      <td>8.44</td>\n      <td>91.75</td>\n    </tr>\n    <tr>\n      <th>1033</th>\n      <td>2021-10-30</td>\n      <td>0.84</td>\n      <td>17.30</td>\n      <td>25.93</td>\n      <td>1.20</td>\n      <td>33.33</td>\n      <td>8.31</td>\n      <td>88.85</td>\n    </tr>\n    <tr>\n      <th>1034</th>\n      <td>2021-10-31</td>\n      <td>0.85</td>\n      <td>16.19</td>\n      <td>24.76</td>\n      <td>1.16</td>\n      <td>31.88</td>\n      <td>8.36</td>\n      <td>85.00</td>\n    </tr>\n  </tbody>\n</table>\n<p>1035 rows × 8 columns</p>\n</div>"
     },
     "execution_count": 1,
     "metadata": {},
     "output_type": "execute_result"
    }
   ],
   "source": [
    "import requests\n",
    "\n",
    "from bs4 import BeautifulSoup\n",
    "from itertools import chain\n",
    "import re\n",
    "import pandas as pd\n",
    "import datetime\n",
    "\n",
    "\n",
    "def get_carbon_data(by='China'):\n",
    "    \"\"\"\n",
    "    by: 输入对应的区域，具体的可以参考这个网站\n",
    "    https://carbonmonitor.org.cn/user/data.php?by=WORLD\n",
    "    :return 返回数据框\n",
    "    \"\"\"\n",
    "    location_list = ['WORLD', 'China', 'India', 'US', 'EU27', 'Russia', 'Japan',\n",
    "                     'Brazil', 'UK', 'France', 'Italy', 'Germany', 'Spain', 'ROW']\n",
    "\n",
    "    if by not in location_list:\n",
    "        raise ValueError(f\"你输入的 by 参数应该在这个列表内: {' ,'.join(location_list)}\")\n",
    "    web = requests.get(url=f\"https://carbonmonitor.org.cn/user/data.php?by={by}\")\n",
    "\n",
    "    soup = BeautifulSoup(web.content, 'lxml')\n",
    "\n",
    "    target_str = soup.find_all(name='script', attrs={'type': 'text/javascript'})[-2].string\n",
    "\n",
    "    all_year = re.findall(pattern='''\\\"name\\\"\\:(\\w+)''', string=target_str)\n",
    "    all_value = re.findall(pattern='''\\\"data\\\"\\:\\[(.*?)\\]''', string=target_str)\n",
    "\n",
    "    # type_list = ['全国', '电力', '地面运输', '工业', '居民消费', '国内航空']\n",
    "    type_list = re.findall(pattern='''text\\:(.*?)\\<br \\/\\>(.*?)''', string=target_str)\n",
    "    type_list = [''.join(i).replace(\"'\", \"\").replace('\"', \"\").lstrip() for i in type_list]\n",
    "    type_list = list(chain(*[[i] * len(set(all_year)) for i in type_list]))\n",
    "    # print(type_list)\n",
    "\n",
    "    def generate_pd(i):\n",
    "        temp_data = pd.DataFrame({'value': [float(i) for i in all_value[i].split(',')]})\n",
    "        # temp_data['year'] = int(all_year[i])\n",
    "        temp_data['type'] = type_list[i]\n",
    "        temp_data['date'] = [datetime.date(year=int(all_year[i]), month=1, day=1) + datetime.timedelta(days=index) for\n",
    "                             index in range(0, temp_data.shape[0])]\n",
    "        return temp_data\n",
    "\n",
    "    allresult = pd.concat([generate_pd(i) for i in range(0, len(all_value))])\n",
    "    allresult = allresult.pivot_table(index=['date'], columns=['type'])\n",
    "    allresult.columns = [i[1] for i in allresult.columns.tolist()]\n",
    "    allresult = allresult.reset_index()\n",
    "    return allresult\n",
    "\n",
    "\n",
    "\n",
    "# 使用脚本\n",
    "get_carbon_data(by='WORLD')"
   ]
  },
  {
   "cell_type": "markdown",
   "source": [
    "## 批量下载数据"
   ],
   "metadata": {
    "collapsed": false
   }
  },
  {
   "cell_type": "code",
   "execution_count": 4,
   "outputs": [
    {
     "name": "stderr",
     "output_type": "stream",
     "text": [
      "100%|██████████| 14/14 [00:09<00:00,  1.43it/s]\n"
     ]
    }
   ],
   "source": [
    "import os\n",
    "import shutil\n",
    "import time\n",
    "import random\n",
    "\n",
    "from tqdm import tqdm\n",
    "dir_name = \"all_region_data\"\n",
    "\n",
    "\n",
    "if os.path.exists(path=dir_name):\n",
    "    shutil.rmtree(path=dir_name)\n",
    "    os.makedirs(name=dir_name)\n",
    "\n",
    "else:\n",
    "    os.makedirs(name=dir_name)\n",
    "\n",
    "region_list = ['WORLD', 'China', 'India', 'US', 'EU27', 'Russia', 'Japan',\n",
    "                     'Brazil', 'UK', 'France', 'Italy', 'Germany', 'Spain', 'ROW']\n",
    "\n",
    "\n",
    "for temp_reion in tqdm(region_list):\n",
    "    time.sleep(random.random(0, 4))\n",
    "    tempdata = get_carbon_data(by=temp_reion)\n",
    "    tempdata.to_csv(f\"{dir_name}/{temp_reion}.csv\", index=False)\n",
    "\n"
   ],
   "metadata": {
    "collapsed": false,
    "pycharm": {
     "name": "#%%\n"
    }
   }
  },
  {
   "cell_type": "code",
   "execution_count": null,
   "outputs": [],
   "source": [],
   "metadata": {
    "collapsed": false,
    "pycharm": {
     "name": "#%%\n"
    }
   }
  }
 ],
 "metadata": {
  "kernelspec": {
   "display_name": "Python 3",
   "language": "python",
   "name": "python3"
  },
  "language_info": {
   "codemirror_mode": {
    "name": "ipython",
    "version": 2
   },
   "file_extension": ".py",
   "mimetype": "text/x-python",
   "name": "python",
   "nbconvert_exporter": "python",
   "pygments_lexer": "ipython2",
   "version": "2.7.6"
  }
 },
 "nbformat": 4,
 "nbformat_minor": 0
}