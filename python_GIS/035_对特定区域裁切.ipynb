{
 "cells": [
  {
   "cell_type": "code",
   "execution_count": 4,
   "metadata": {
    "collapsed": true,
    "pycharm": {
     "name": "#%%\n"
    }
   },
   "outputs": [],
   "source": [
    "\n",
    "import numpy as np\n",
    "import pandas as pd\n",
    "import netCDF4 as nc\n",
    "import geopandas as gpd\n",
    "from netCDF4 import num2date\n",
    "import datetime\n",
    "\n",
    "from tqdm import tqdm\n",
    "\n",
    "tqdm.pandas()\n",
    "from shapely.geometry import Point\n",
    "\n",
    "import matplotlib.pyplot as plt\n",
    "\n",
    "import platform\n",
    "\n",
    "from cartopy import crs as ccrs\n",
    "\n",
    "if platform.system() == 'Darwin':\n",
    "    plt.rcParams[\"font.family\"] = 'Arial Unicode MS'\n",
    "elif platform.system() == 'Windows':\n",
    "    plt.rcParams[\"font.family\"] = 'SimHei'\n",
    "else:\n",
    "    pass"
   ]
  },
  {
   "cell_type": "code",
   "execution_count": 5,
   "outputs": [],
   "source": [
    "\n",
    "nc_data = nc.Dataset(\"cru_ts4.05.1901.2020.tmp.dat.nc\")"
   ],
   "metadata": {
    "collapsed": false,
    "pycharm": {
     "name": "#%%\n"
    }
   }
  },
  {
   "cell_type": "markdown",
   "source": [
    "## 提取变量\n"
   ],
   "metadata": {
    "collapsed": false,
    "pycharm": {
     "name": "#%% md\n"
    }
   }
  },
  {
   "cell_type": "code",
   "execution_count": 6,
   "outputs": [
    {
     "name": "stderr",
     "output_type": "stream",
     "text": [
      "<ipython-input-6-c2593932da71>:1: DeprecationWarning: `np.bool` is a deprecated alias for the builtin `bool`. To silence this warning, use `bool` by itself. Doing this will not modify any behavior and is safe. If you specifically wanted the numpy scalar type, use `np.bool_` here.\n",
      "Deprecated in NumPy 1.20; for more details and guidance: https://numpy.org/devdocs/release/1.20.0-notes.html#deprecations\n",
      "  raw_lat_data = np.array(nc_data.variables['lat'])\n",
      "<ipython-input-6-c2593932da71>:2: DeprecationWarning: `np.bool` is a deprecated alias for the builtin `bool`. To silence this warning, use `bool` by itself. Doing this will not modify any behavior and is safe. If you specifically wanted the numpy scalar type, use `np.bool_` here.\n",
      "Deprecated in NumPy 1.20; for more details and guidance: https://numpy.org/devdocs/release/1.20.0-notes.html#deprecations\n",
      "  raw_lon_data = np.array(nc_data.variables['lon'])\n",
      "<ipython-input-6-c2593932da71>:3: DeprecationWarning: `np.bool` is a deprecated alias for the builtin `bool`. To silence this warning, use `bool` by itself. Doing this will not modify any behavior and is safe. If you specifically wanted the numpy scalar type, use `np.bool_` here.\n",
      "Deprecated in NumPy 1.20; for more details and guidance: https://numpy.org/devdocs/release/1.20.0-notes.html#deprecations\n",
      "  raw_time_data = np.array(nc_data.variables['time'])\n",
      "<ipython-input-6-c2593932da71>:4: DeprecationWarning: `np.bool` is a deprecated alias for the builtin `bool`. To silence this warning, use `bool` by itself. Doing this will not modify any behavior and is safe. If you specifically wanted the numpy scalar type, use `np.bool_` here.\n",
      "Deprecated in NumPy 1.20; for more details and guidance: https://numpy.org/devdocs/release/1.20.0-notes.html#deprecations\n",
      "  raw_tmp_data = np.array(nc_data.variables['tmp'])\n"
     ]
    }
   ],
   "source": [
    "raw_lat_data = np.array(nc_data.variables['lat'])\n",
    "raw_lon_data = np.array(nc_data.variables['lon'])\n",
    "raw_time_data = np.array(nc_data.variables['time'])\n",
    "raw_tmp_data = np.array(nc_data.variables['tmp'])\n"
   ],
   "metadata": {
    "collapsed": false,
    "pycharm": {
     "name": "#%%\n"
    }
   }
  },
  {
   "cell_type": "code",
   "execution_count": 8,
   "outputs": [],
   "source": [
    "tmp_missing_value = nc_data.variables['tmp'].missing_value"
   ],
   "metadata": {
    "collapsed": false,
    "pycharm": {
     "name": "#%%\n"
    }
   }
  },
  {
   "cell_type": "markdown",
   "source": [
    "## 导入中国边界数据"
   ],
   "metadata": {
    "collapsed": false,
    "pycharm": {
     "name": "#%% md\n"
    }
   }
  },
  {
   "cell_type": "code",
   "execution_count": 7,
   "outputs": [],
   "source": [
    "china_boundary = gpd.read_file(filename=\"数据集/中国地图边界202111版.json\")\n",
    "\n",
    "china_boundary_valid = china_boundary.copy()\n",
    "china_boundary_valid['geometry'] = china_boundary.buffer(0)\n"
   ],
   "metadata": {
    "collapsed": false,
    "pycharm": {
     "name": "#%%\n"
    }
   }
  },
  {
   "cell_type": "code",
   "execution_count": 9,
   "outputs": [],
   "source": [
    "def pic(lon, lat) -> bool:\n",
    "    \"\"\"\n",
    "    检测一个点是否在中国边界线内\n",
    "    lon:东经\n",
    "    lat:北纬\n",
    "    :param lon:\n",
    "    :param lat:\n",
    "    :return:\n",
    "    \"\"\"\n",
    "    return china_boundary_valid.contains(Point(lon, lat))[0]"
   ],
   "metadata": {
    "collapsed": false,
    "pycharm": {
     "name": "#%%\n"
    }
   }
  },
  {
   "cell_type": "markdown",
   "source": [
    "## 开始\n"
   ],
   "metadata": {
    "collapsed": false,
    "pycharm": {
     "name": "#%% md\n"
    }
   }
  },
  {
   "cell_type": "code",
   "execution_count": 11,
   "outputs": [
    {
     "data": {
      "text/plain": "array([-89.75, -89.25, -88.75, -88.25, -87.75, -87.25, -86.75, -86.25,\n       -85.75, -85.25, -84.75, -84.25, -83.75, -83.25, -82.75, -82.25,\n       -81.75, -81.25, -80.75, -80.25, -79.75, -79.25, -78.75, -78.25,\n       -77.75, -77.25, -76.75, -76.25, -75.75, -75.25, -74.75, -74.25,\n       -73.75, -73.25, -72.75, -72.25, -71.75, -71.25, -70.75, -70.25,\n       -69.75, -69.25, -68.75, -68.25, -67.75, -67.25, -66.75, -66.25,\n       -65.75, -65.25, -64.75, -64.25, -63.75, -63.25, -62.75, -62.25,\n       -61.75, -61.25, -60.75, -60.25, -59.75, -59.25, -58.75, -58.25,\n       -57.75, -57.25, -56.75, -56.25, -55.75, -55.25, -54.75, -54.25,\n       -53.75, -53.25, -52.75, -52.25, -51.75, -51.25, -50.75, -50.25,\n       -49.75, -49.25, -48.75, -48.25, -47.75, -47.25, -46.75, -46.25,\n       -45.75, -45.25, -44.75, -44.25, -43.75, -43.25, -42.75, -42.25,\n       -41.75, -41.25, -40.75, -40.25, -39.75, -39.25, -38.75, -38.25,\n       -37.75, -37.25, -36.75, -36.25, -35.75, -35.25, -34.75, -34.25,\n       -33.75, -33.25, -32.75, -32.25, -31.75, -31.25, -30.75, -30.25,\n       -29.75, -29.25, -28.75, -28.25, -27.75, -27.25, -26.75, -26.25,\n       -25.75, -25.25, -24.75, -24.25, -23.75, -23.25, -22.75, -22.25,\n       -21.75, -21.25, -20.75, -20.25, -19.75, -19.25, -18.75, -18.25,\n       -17.75, -17.25, -16.75, -16.25, -15.75, -15.25, -14.75, -14.25,\n       -13.75, -13.25, -12.75, -12.25, -11.75, -11.25, -10.75, -10.25,\n        -9.75,  -9.25,  -8.75,  -8.25,  -7.75,  -7.25,  -6.75,  -6.25,\n        -5.75,  -5.25,  -4.75,  -4.25,  -3.75,  -3.25,  -2.75,  -2.25,\n        -1.75,  -1.25,  -0.75,  -0.25,   0.25,   0.75,   1.25,   1.75,\n         2.25,   2.75,   3.25,   3.75,   4.25,   4.75,   5.25,   5.75,\n         6.25,   6.75,   7.25,   7.75,   8.25,   8.75,   9.25,   9.75,\n        10.25,  10.75,  11.25,  11.75,  12.25,  12.75,  13.25,  13.75,\n        14.25,  14.75,  15.25,  15.75,  16.25,  16.75,  17.25,  17.75,\n        18.25,  18.75,  19.25,  19.75,  20.25,  20.75,  21.25,  21.75,\n        22.25,  22.75,  23.25,  23.75,  24.25,  24.75,  25.25,  25.75,\n        26.25,  26.75,  27.25,  27.75,  28.25,  28.75,  29.25,  29.75,\n        30.25,  30.75,  31.25,  31.75,  32.25,  32.75,  33.25,  33.75,\n        34.25,  34.75,  35.25,  35.75,  36.25,  36.75,  37.25,  37.75,\n        38.25,  38.75,  39.25,  39.75,  40.25,  40.75,  41.25,  41.75,\n        42.25,  42.75,  43.25,  43.75,  44.25,  44.75,  45.25,  45.75,\n        46.25,  46.75,  47.25,  47.75,  48.25,  48.75,  49.25,  49.75,\n        50.25,  50.75,  51.25,  51.75,  52.25,  52.75,  53.25,  53.75,\n        54.25,  54.75,  55.25,  55.75,  56.25,  56.75,  57.25,  57.75,\n        58.25,  58.75,  59.25,  59.75,  60.25,  60.75,  61.25,  61.75,\n        62.25,  62.75,  63.25,  63.75,  64.25,  64.75,  65.25,  65.75,\n        66.25,  66.75,  67.25,  67.75,  68.25,  68.75,  69.25,  69.75,\n        70.25,  70.75,  71.25,  71.75,  72.25,  72.75,  73.25,  73.75,\n        74.25,  74.75,  75.25,  75.75,  76.25,  76.75,  77.25,  77.75,\n        78.25,  78.75,  79.25,  79.75,  80.25,  80.75,  81.25,  81.75,\n        82.25,  82.75,  83.25,  83.75,  84.25,  84.75,  85.25,  85.75,\n        86.25,  86.75,  87.25,  87.75,  88.25,  88.75,  89.25,  89.75],\n      dtype=float32)"
     },
     "execution_count": 11,
     "metadata": {},
     "output_type": "execute_result"
    }
   ],
   "source": [
    "raw_lon_data,\n",
    "raw_lat_data"
   ],
   "metadata": {
    "collapsed": false,
    "pycharm": {
     "name": "#%%\n"
    }
   }
  },
  {
   "cell_type": "code",
   "execution_count": 33,
   "outputs": [],
   "source": [
    "single_data = raw_tmp_data[1,:,:].copy()\n",
    "single_data[single_data == tmp_missing_value] = np.nan"
   ],
   "metadata": {
    "collapsed": false,
    "pycharm": {
     "name": "#%%\n"
    }
   }
  },
  {
   "cell_type": "code",
   "execution_count": 14,
   "outputs": [
    {
     "data": {
      "text/plain": "<matplotlib.image.AxesImage at 0x7fbf0b3e79d0>"
     },
     "execution_count": 14,
     "metadata": {},
     "output_type": "execute_result"
    },
    {
     "data": {
      "text/plain": "<Figure size 432x288 with 1 Axes>",
      "image/png": "[encoded data removed]"
     },
     "metadata": {
      "needs_background": "light"
     },
     "output_type": "display_data"
    }
   ],
   "source": [
    "fig, ax = plt.subplots()\n",
    "ax.imshow(single_data[::-1, :])"
   ],
   "metadata": {
    "collapsed": false,
    "pycharm": {
     "name": "#%%\n"
    }
   }
  },
  {
   "cell_type": "markdown",
   "source": [
    "## 裁切\n"
   ],
   "metadata": {
    "collapsed": false,
    "pycharm": {
     "name": "#%% md\n"
    }
   }
  },
  {
   "cell_type": "code",
   "execution_count": 21,
   "outputs": [],
   "source": [
    "mask_matrix = np.full(shape=(360, 720), fill_value=False)\n",
    "# mask_matrix[0,0] = True"
   ],
   "metadata": {
    "collapsed": false,
    "pycharm": {
     "name": "#%%\n"
    }
   }
  },
  {
   "cell_type": "code",
   "execution_count": 18,
   "outputs": [
    {
     "data": {
      "text/plain": "array([[20., nan, nan, ..., nan, nan, nan],\n       [nan, nan, nan, ..., nan, nan, nan],\n       [nan, nan, nan, ..., nan, nan, nan],\n       ...,\n       [nan, nan, nan, ..., nan, nan, nan],\n       [nan, nan, nan, ..., nan, nan, nan],\n       [nan, nan, nan, ..., nan, nan, nan]], dtype=float32)"
     },
     "execution_count": 18,
     "metadata": {},
     "output_type": "execute_result"
    }
   ],
   "source": [
    "# single_data[mask_matrix] = 20\n",
    "# single_data"
   ],
   "metadata": {
    "collapsed": false,
    "pycharm": {
     "name": "#%%\n"
    }
   }
  },
  {
   "cell_type": "code",
   "execution_count": 22,
   "outputs": [
    {
     "name": "stderr",
     "output_type": "stream",
     "text": [
      "100%|██████████| 360/360 [00:58<00:00,  6.20it/s]\n"
     ]
    }
   ],
   "source": [
    "mask_matrix = np.full(shape=(360, 720), fill_value=False)\n",
    "for temp_lat in tqdm(range(360)):\n",
    "    for temp_lon in range(720):\n",
    "        point_lat_lon = (raw_lon_data[temp_lon], raw_lat_data[temp_lat])\n",
    "        mask_matrix[temp_lat, temp_lon] = pic(lon=point_lat_lon[0], lat=point_lat_lon[1])\n"
   ],
   "metadata": {
    "collapsed": false,
    "pycharm": {
     "name": "#%%\n"
    }
   }
  },
  {
   "cell_type": "code",
   "execution_count": 24,
   "outputs": [
    {
     "name": "stdout",
     "output_type": "stream",
     "text": [
      "ok~\n"
     ]
    }
   ],
   "source": [
    "print('ok~')"
   ],
   "metadata": {
    "collapsed": false,
    "pycharm": {
     "name": "#%%\n"
    }
   }
  },
  {
   "cell_type": "code",
   "execution_count": 34,
   "outputs": [],
   "source": [
    "single_data[~mask_matrix] = np.nan"
   ],
   "metadata": {
    "collapsed": false,
    "pycharm": {
     "name": "#%%\n"
    }
   }
  },
  {
   "cell_type": "code",
   "execution_count": 35,
   "outputs": [
    {
     "data": {
      "text/plain": "<matplotlib.image.AxesImage at 0x7fbf0c49f6d0>"
     },
     "execution_count": 35,
     "metadata": {},
     "output_type": "execute_result"
    },
    {
     "data": {
      "text/plain": "<Figure size 432x288 with 1 Axes>",
      "image/png": "[encoded data removed]"
     },
     "metadata": {
      "needs_background": "light"
     },
     "output_type": "display_data"
    }
   ],
   "source": [
    "fig, ax = plt.subplots()\n",
    "ax.imshow(single_data[::-1, :])"
   ],
   "metadata": {
    "collapsed": false,
    "pycharm": {
     "name": "#%%\n"
    }
   }
  },
  {
   "cell_type": "code",
   "execution_count": 36,
   "outputs": [
    {
     "data": {
      "text/plain": "array([[nan, nan, nan, ..., nan, nan, nan],\n       [nan, nan, nan, ..., nan, nan, nan],\n       [nan, nan, nan, ..., nan, nan, nan],\n       ...,\n       [nan, nan, nan, ..., nan, nan, nan],\n       [nan, nan, nan, ..., nan, nan, nan],\n       [nan, nan, nan, ..., nan, nan, nan]], dtype=float32)"
     },
     "execution_count": 36,
     "metadata": {},
     "output_type": "execute_result"
    }
   ],
   "source": [],
   "metadata": {
    "collapsed": false,
    "pycharm": {
     "name": "#%%\n"
    }
   }
  },
  {
   "cell_type": "code",
   "execution_count": 38,
   "outputs": [
    {
     "name": "stderr",
     "output_type": "stream",
     "text": [
      "/opt/anaconda3/envs/devc/lib/python3.8/site-packages/rasterio/__init__.py:230: NotGeoreferencedWarning: Dataset has no geotransform, gcps, or rpcs. The identity matrix be returned.\n",
      "  s = writer(path, mode, driver=driver,\n"
     ]
    }
   ],
   "source": [
    "import rasterio\n",
    "def array2gtiff(array, filename):\n",
    "    \"\"\"\n",
    "    将一个矩阵保存为tiff文件,\n",
    "    这里还可以设置tiff的crs和transofrm。更多，可以查看rasterio的官网或者下面的这个链接\n",
    "    https://gis.stackexchange.com/questions/279953/numpy-array-to-gtiff-using-rasterio-without-source-raster\n",
    "    :param array: shape:(row, col)\n",
    "    :param filename:\n",
    "    :return:\n",
    "    \"\"\"\n",
    "    with rasterio.open(filename, 'w', driver='GTiff',\n",
    "                       height=array.shape[0], width=array.shape[1],\n",
    "                       count=1, dtype=str(array.dtype)) as f:\n",
    "        f.write(array, 1)\n",
    "\n",
    "# test function\n",
    "array2gtiff(array=single_data[::-1,:], filename=\"结果/testchina.tiff\")"
   ],
   "metadata": {
    "collapsed": false,
    "pycharm": {
     "name": "#%%\n"
    }
   }
  },
  {
   "cell_type": "code",
   "execution_count": 39,
   "outputs": [
    {
     "data": {
      "text/plain": "array([[False, False, False, ..., False, False, False],\n       [False, False, False, ..., False, False, False],\n       [False, False, False, ..., False, False, False],\n       ...,\n       [False, False, False, ..., False, False, False],\n       [False, False, False, ..., False, False, False],\n       [False, False, False, ..., False, False, False]])"
     },
     "execution_count": 39,
     "metadata": {},
     "output_type": "execute_result"
    }
   ],
   "source": [
    "\n"
   ],
   "metadata": {
    "collapsed": false,
    "pycharm": {
     "name": "#%%\n"
    }
   }
  }
 ],
 "metadata": {
  "kernelspec": {
   "display_name": "Python 3",
   "language": "python",
   "name": "python3"
  },
  "language_info": {
   "codemirror_mode": {
    "name": "ipython",
    "version": 2
   },
   "file_extension": ".py",
   "mimetype": "text/x-python",
   "name": "python",
   "nbconvert_exporter": "python",
   "pygments_lexer": "ipython2",
   "version": "2.7.6"
  }
 },
 "nbformat": 4,
 "nbformat_minor": 0
}