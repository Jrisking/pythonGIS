{
 "cells": [
  {
   "cell_type": "markdown",
   "metadata": {
    "collapsed": true,
    "pycharm": {
     "name": "#%% md\n"
    }
   },
   "source": [
    "## 导入包\n"
   ]
  },
  {
   "cell_type": "code",
   "execution_count": null,
   "metadata": {
    "collapsed": false,
    "pycharm": {
     "name": "#%%\n"
    }
   },
   "outputs": [],
   "source": [
    "# 基础的数据处理工具\n",
    "import numpy as np\n",
    "import pandas as pd\n",
    "import matplotlib.pyplot as plt # 可视化\n",
    "import datetime # 处理python时间函数\n",
    "import netCDF4 as nc  # 处理nc数据\n",
    "from netCDF4 import num2date  # 处理nc数据\n",
    "import geopandas as gpd  # 处理网格数据，shp之类的\n",
    "import rasterio  # 处理tiff文件\n",
    "from shapely.geometry import Point  # gis的一些逻辑判断\n",
    "from cartopy import crs as ccrs  # 设置投影坐标系等\n",
    "from tqdm import tqdm  # 打印进度条\n",
    "from joblib import Parallel, delayed  # 并行\n",
    "import platform  # 检测系统\n",
    "\n",
    "tqdm.pandas()\n",
    "\n",
    "# matplotlib 显示中文的问题\n",
    "if platform.system() == 'Darwin':\n",
    "    plt.rcParams[\"font.family\"] = 'Arial Unicode MS'\n",
    "elif platform.system() == 'Windows':\n",
    "    plt.rcParams[\"font.family\"] = 'SimHei'\n",
    "else:\n",
    "    pass"
   ]
  },
  {
   "cell_type": "code",
   "execution_count": null,
   "metadata": {
    "collapsed": false,
    "pycharm": {
     "name": "#%%\n"
    }
   },
   "outputs": [],
   "source": [
    "nc_data = nc.Dataset(\"./数据集/GIS实践3/2016_2020.nc\")"
   ]
  },
  {
   "cell_type": "code",
   "execution_count": null,
   "metadata": {
    "collapsed": false,
    "pycharm": {
     "name": "#%%\n"
    }
   },
   "outputs": [],
   "source": [
    "for item in nc_data.variables.values():\n",
    "    print('*' * 70)\n",
    "    print(item)"
   ]
  },
  {
   "cell_type": "code",
   "execution_count": null,
   "metadata": {
    "collapsed": false,
    "pycharm": {
     "name": "#%%\n"
    }
   },
   "outputs": [],
   "source": [
    "nc_data.variables.keys()"
   ]
  },
  {
   "cell_type": "code",
   "execution_count": null,
   "metadata": {
    "collapsed": false,
    "pycharm": {
     "name": "#%%\n"
    }
   },
   "outputs": [],
   "source": [
    "raw_latitude = np.array(nc_data.variables['latitude'])\n",
    "raw_longitude = np.array(nc_data.variables['longitude'])\n",
    "raw_time = np.array(nc_data.variables['time'])\n",
    "raw_u10 = np.array(nc_data.variables['u10'])\n",
    "raw_v10 = np.array(nc_data.variables['v10'])\n",
    "# 提取缺失值，并且将缺失值替换\n",
    "missing_u10_value = nc_data.variables['u10'].missing_value\n",
    "missing_v10_value = nc_data.variables['v10'].missing_value\n",
    "raw_v10[raw_v10 == missing_v10_value] = np.nan\n",
    "raw_u10[raw_u10 == missing_u10_value] = np.nan"
   ]
  },
  {
   "cell_type": "code",
   "execution_count": null,
   "metadata": {
    "collapsed": false,
    "pycharm": {
     "name": "#%%\n"
    }
   },
   "outputs": [],
   "source": [
    "# 处理时间\n",
    "def cftime2datetime(cftime, units, format='%Y-%m-%d %H:%M:%S'):\n",
    "    \"\"\"\n",
    "    将nc文件里面的时间格式 从cftime 转换到 datetime格式\n",
    "    :param cftime:\n",
    "    :param units:\n",
    "    :param format:\n",
    "    :return:\n",
    "    \"\"\"\n",
    "    return datetime.datetime.strptime(num2date(times=cftime, units=units).strftime(format), format)\n",
    "\n",
    "clean_time_data = pd.Series([cftime2datetime(i, units=str(nc_data.variables['time'].units)) for i in tqdm(raw_time)])\n",
    "clean_time_data[:4]\n"
   ]
  },
  {
   "cell_type": "code",
   "execution_count": null,
   "metadata": {
    "collapsed": false,
    "pycharm": {
     "name": "#%%\n"
    }
   },
   "outputs": [],
   "source": [
    "windspeed_mean = pd.Series([np.sqrt(raw_v10[i,:, :] ** 2 + raw_u10[i, :, :]**2).mean() for i in tqdm(range(clean_time_data.shape[0]))])\n",
    "\n",
    "time_windspeed = pd.DataFrame({'time':clean_time_data,'mean_ws':windspeed_mean})\n",
    "time_windspeed"
   ]
  },
  {
   "cell_type": "markdown",
   "metadata": {
    "collapsed": false,
    "pycharm": {
     "name": "#%% md\n"
    }
   },
   "source": [
    "## 年维度风速数据"
   ]
  },
  {
   "cell_type": "code",
   "execution_count": null,
   "metadata": {
    "collapsed": false,
    "pycharm": {
     "name": "#%%\n"
    }
   },
   "outputs": [],
   "source": [
    "year_data = time_windspeed.groupby(time_windspeed.time.dt.year).agg(\n",
    "    mean_ws = ('mean_ws', 'mean')\n",
    ").reset_index()\n",
    "\n",
    "# year_data\n",
    "\n",
    "with plt.style.context('fivethirtyeight') as style:\n",
    "\n",
    "    fig, ax = plt.subplots(figsize=(10,3), dpi=300)\n",
    "    ax.plot(year_data['time'], year_data['mean_ws'], '-o',linewidth=3, ms=6)\n",
    "    ax.set_xticks(year_data['time'])\n",
    "    #\n",
    "    #\n",
    "    for i in range(year_data.shape[0]):\n",
    "        ax.text(year_data.iloc[i]['time']+0.1, year_data.iloc[i]['mean_ws'], str(np.around(year_data.iloc[i]['mean_ws'], 2)),\n",
    "                bbox=dict(boxstyle='round', facecolor='white', alpha=0.5))\n",
    "    #\n",
    "    for i in ['top', 'right']:\n",
    "        ax.spines[i].set_visible(False)\n",
    "\n",
    "    ax.set_title(\"各年平均风速\")\n",
    "    ax.set_ylabel(\"$Wind Speed / m.s^{-1}$\")\n",
    "    fig.savefig(\"year_plot.png\")"
   ]
  },
  {
   "cell_type": "markdown",
   "metadata": {
    "collapsed": false,
    "pycharm": {
     "name": "#%% md\n"
    }
   },
   "source": [
    "## 月维度风速数据"
   ]
  },
  {
   "cell_type": "code",
   "execution_count": null,
   "metadata": {
    "collapsed": false,
    "pycharm": {
     "name": "#%%\n"
    }
   },
   "outputs": [],
   "source": [
    "month_data = time_windspeed.groupby(time_windspeed.time.dt.month).agg(\n",
    "    mean_ws = ('mean_ws', 'mean')\n",
    ").reset_index()\n",
    "\n",
    "\n",
    "with plt.style.context('fivethirtyeight') as style:\n",
    "\n",
    "    fig, ax = plt.subplots(figsize=(10,3), dpi=300)\n",
    "    ax.plot(month_data['time'], month_data['mean_ws'], '-o',linewidth=3, ms=6)\n",
    "    ax.set_xticks(month_data['time'])\n",
    "    _ = ax.set_xticklabels(labels=[f'{i}月' for i in month_data['time']])\n",
    "\n",
    "\n",
    "    for i in range(month_data.shape[0]):\n",
    "        ax.text(month_data.iloc[i]['time'], month_data.iloc[i]['mean_ws']+0.05, str(np.around(month_data.iloc[i]['mean_ws'], 2)),\n",
    "                bbox=dict(boxstyle='round', facecolor='white', alpha=0.5))\n",
    "\n",
    "    for i in ['top', 'right']:\n",
    "        ax.spines[i].set_visible(False)\n",
    "\n",
    "    ax.set_title(\"各月平均风速\")\n",
    "    ax.set_ylabel(\"$Wind Speed / m.s^{-1}$\")\n",
    "    fig.savefig(\"month_plot.png\")"
   ]
  },
  {
   "cell_type": "markdown",
   "metadata": {
    "collapsed": false,
    "pycharm": {
     "name": "#%% md\n"
    }
   },
   "source": [
    "## 天维度数据"
   ]
  },
  {
   "cell_type": "code",
   "execution_count": null,
   "metadata": {
    "collapsed": false,
    "pycharm": {
     "name": "#%%\n"
    }
   },
   "outputs": [],
   "source": [
    "day_data = time_windspeed.groupby(time_windspeed.time.apply(lambda x: x.strftime('%Y-%m-%d'))).agg(\n",
    "    mean_ws = ('mean_ws', 'mean')\n",
    ").reset_index()\n",
    "\n",
    "day_data['time'] = pd.to_datetime(day_data['time'])\n",
    "\n",
    "day_data = day_data.set_index('time')\n",
    "day_data.head()"
   ]
  },
  {
   "cell_type": "code",
   "execution_count": null,
   "metadata": {
    "collapsed": false,
    "pycharm": {
     "name": "#%%\n"
    }
   },
   "outputs": [],
   "source": [
    "# day_data.dtypes\n",
    "fig, ax = plt.subplots(figsize=(20,4), dpi=300)\n",
    "ax.plot(day_data.index, day_data['mean_ws'], '-o')\n",
    "# ax.xaxis.set_ticks_position('none')\n",
    "# ax.tick_params(axis=\"x\", labelbottom=False)\n",
    "ax.set_title(\"每天平均风速\")\n",
    "ax.set_ylabel(\"$Wind Speed / m.s^{-1}$\")\n",
    "ax.set_xlabel(\"date\")\n",
    "fig.savefig('day_plot.png')"
   ]
  },
  {
   "cell_type": "markdown",
   "metadata": {
    "collapsed": false,
    "pycharm": {
     "name": "#%% md\n"
    }
   },
   "source": [
    "## 时间序列的趋势分解"
   ]
  },
  {
   "cell_type": "code",
   "execution_count": null,
   "metadata": {
    "collapsed": false,
    "pycharm": {
     "name": "#%%\n"
    }
   },
   "outputs": [],
   "source": [
    "# 导入包\n",
    "from statsmodels.tsa.seasonal import seasonal_decompose\n",
    "from dateutil.parser import parse\n",
    "# 乘法模型\n",
    "result_mul = seasonal_decompose(day_data['mean_ws'], model=\"multilicative\", extrapolate_trend='freq')\n",
    "result_add = seasonal_decompose(day_data['mean_ws'], model=\"additive\", extrapolate_trend='freq')\n",
    "font = {'family': 'serif',\n",
    "        'color': 'darkred',\n",
    "        'weight': 'normal',\n",
    "        'size': 16,\n",
    "        }\n",
    "# 画图\n",
    "\n",
    "with plt.style.context('default'):\n",
    "    fig, ax = plt.subplots(ncols=2, nrows=4, figsize=(22, 15), sharex=True, dpi=300)\n",
    "\n",
    "\n",
    "    def plot_decompose(result, ax, index, title, fontdict=font):\n",
    "        ax[0, index].set_title(title, fontdict=fontdict)\n",
    "        result.observed.plot(ax=ax[0, index])\n",
    "        ax[0, index].set_ylabel(\"Observed\")\n",
    "\n",
    "        result.trend.plot(ax=ax[1, index])\n",
    "        ax[1, index].set_ylabel(\"Trend\")\n",
    "\n",
    "        result.seasonal.plot(ax=ax[2, index])\n",
    "        ax[2, index].set_ylabel(\"Seasonal\")\n",
    "\n",
    "        result.resid.plot(ax=ax[3, index])\n",
    "        ax[3, index].set_ylabel(\"Resid\")\n",
    "\n",
    "\n",
    "    plot_decompose(result=result_add, ax=ax, index=0, title=\"Additive Decompose\", fontdict=font)\n",
    "    plot_decompose(result=result_mul, ax=ax, index=1, title=\"Multiplicative Decompose\", fontdict=font)\n",
    "    fig.savefig('decompose.png')"
   ]
  },
  {
   "cell_type": "code",
   "execution_count": null,
   "metadata": {
    "collapsed": false,
    "pycharm": {
     "name": "#%%\n"
    }
   },
   "outputs": [],
   "source": []
  }
 ],
 "metadata": {
  "kernelspec": {
   "display_name": "Python 3",
   "language": "python",
   "name": "python3"
  },
  "language_info": {
   "codemirror_mode": {
    "name": "ipython",
    "version": 2
   },
   "file_extension": ".py",
   "mimetype": "text/x-python",
   "name": "python",
   "nbconvert_exporter": "python",
   "pygments_lexer": "ipython2",
   "version": "2.7.6"
  }
 },
 "nbformat": 4,
 "nbformat_minor": 0
}
