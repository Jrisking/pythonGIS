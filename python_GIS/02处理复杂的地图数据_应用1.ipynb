{
 "cells": [
  {
   "cell_type": "markdown",
   "metadata": {
    "collapsed": true,
    "pycharm": {
     "name": "#%% md\n"
    }
   },
   "source": [
    "## 导入包"
   ]
  },
  {
   "cell_type": "code",
   "execution_count": 3,
   "outputs": [],
   "source": [
    "import numpy as np\n",
    "import pandas as pd\n",
    "import geopandas as gpd\n",
    "import netCDF4 as nc\n",
    "\n",
    "from tqdm import tqdm\n",
    "from netCDF4 import num2date\n",
    "\n",
    "import matplotlib.pyplot as plt\n",
    "\n",
    "from shapely.geometry import Point\n",
    "# from shapely.validation import make_valid\n",
    "\n",
    "import platform\n"
   ],
   "metadata": {
    "collapsed": false,
    "pycharm": {
     "name": "#%%\n"
    }
   }
  },
  {
   "cell_type": "markdown",
   "source": [
    "发现mac系统下面，是有`from shapely.validation import make_valid`,但是在window上面不行"
   ],
   "metadata": {
    "collapsed": false,
    "pycharm": {
     "name": "#%% md\n"
    }
   }
  },
  {
   "cell_type": "code",
   "execution_count": 15,
   "outputs": [],
   "source": [
    "from shapely.geometry.base import geom_factory\n",
    "from shapely.geos import lgeos\n",
    "\n",
    "\n",
    "def make_valid(ob):\n",
    "    if ob.is_valid:\n",
    "        return ob\n",
    "    else:\n",
    "        return geom_factory(lgeos.GEOSMakeValid(ob._geom))"
   ],
   "metadata": {
    "collapsed": false,
    "pycharm": {
     "name": "#%%\n"
    }
   }
  },
  {
   "cell_type": "markdown",
   "source": [
    "## 加载NC文件"
   ],
   "metadata": {
    "collapsed": false,
    "pycharm": {
     "name": "#%% md\n"
    }
   }
  },
  {
   "cell_type": "code",
   "execution_count": 5,
   "outputs": [],
   "source": [
    "nc_data = nc.Dataset(\"lftx.sfc.2021.nc\")"
   ],
   "metadata": {
    "collapsed": false,
    "pycharm": {
     "name": "#%%\n"
    }
   }
  },
  {
   "cell_type": "markdown",
   "source": [
    "## 处理NC数据"
   ],
   "metadata": {
    "collapsed": false,
    "pycharm": {
     "name": "#%% md\n"
    }
   }
  },
  {
   "cell_type": "code",
   "execution_count": 6,
   "outputs": [],
   "source": [
    "time_units = [temp_variable.units for temp_variable in nc_data.variables.values() if temp_variable.name == 'time'][0]\n",
    "# [pd.to_datetime(str(num2date(temp_time,units=time_units))) for temp_time in np.array(nc_data.variables['time'])]\n",
    "time_list = [num2date(temp_time, units=time_units).strftime('%Y-%m-%d') for temp_time in\n",
    "             np.array(nc_data.variables['time'])]\n"
   ],
   "metadata": {
    "collapsed": false,
    "pycharm": {
     "name": "#%%\n"
    }
   }
  },
  {
   "cell_type": "code",
   "execution_count": 7,
   "outputs": [],
   "source": [
    "lftx_data = np.array(nc_data.variables['lftx'])\n",
    "lftx_data = lftx_data[np.where([i == '2021-02-13' for i in time_list])[0][0], :, :]\n",
    "\n",
    "lon_data = np.array(nc_data.variables['lon'])\n",
    "lat_data = np.array(nc_data.variables['lat'])"
   ],
   "metadata": {
    "collapsed": false,
    "pycharm": {
     "name": "#%%\n"
    }
   }
  },
  {
   "cell_type": "markdown",
   "source": [
    "## 读取json数据"
   ],
   "metadata": {
    "collapsed": false,
    "pycharm": {
     "name": "#%% md\n"
    }
   }
  },
  {
   "cell_type": "code",
   "execution_count": 8,
   "outputs": [
    {
     "data": {
      "text/plain": "   adcode    name  childrenNum     level              parent  subFeatureIndex  \\\n0  110000     北京市         16.0  province  {'adcode': 100000}              0.0   \n1  120000     天津市         16.0  province  {'adcode': 100000}              1.0   \n2  130000     河北省         11.0  province  {'adcode': 100000}              2.0   \n3  140000     山西省         11.0  province  {'adcode': 100000}              3.0   \n4  150000  内蒙古自治区         12.0  province  {'adcode': 100000}              4.0   \n\n  adchar                                           geometry  \n0   None  MULTIPOLYGON (((117.34861 40.58114, 117.38988 ...  \n1   None  MULTIPOLYGON (((117.76560 39.40053, 117.84691 ...  \n2   None  MULTIPOLYGON (((117.46749 40.64974, 117.41267 ...  \n3   None  MULTIPOLYGON (((110.37926 34.60061, 110.42484 ...  \n4   None  POLYGON ((97.17290 42.79526, 97.37123 42.45708...  ",
      "text/html": "<div>\n<style scoped>\n    .dataframe tbody tr th:only-of-type {\n        vertical-align: middle;\n    }\n\n    .dataframe tbody tr th {\n        vertical-align: top;\n    }\n\n    .dataframe thead th {\n        text-align: right;\n    }\n</style>\n<table border=\"1\" class=\"dataframe\">\n  <thead>\n    <tr style=\"text-align: right;\">\n      <th></th>\n      <th>adcode</th>\n      <th>name</th>\n      <th>childrenNum</th>\n      <th>level</th>\n      <th>parent</th>\n      <th>subFeatureIndex</th>\n      <th>adchar</th>\n      <th>geometry</th>\n    </tr>\n  </thead>\n  <tbody>\n    <tr>\n      <th>0</th>\n      <td>110000</td>\n      <td>北京市</td>\n      <td>16.0</td>\n      <td>province</td>\n      <td>{'adcode': 100000}</td>\n      <td>0.0</td>\n      <td>None</td>\n      <td>MULTIPOLYGON (((117.34861 40.58114, 117.38988 ...</td>\n    </tr>\n    <tr>\n      <th>1</th>\n      <td>120000</td>\n      <td>天津市</td>\n      <td>16.0</td>\n      <td>province</td>\n      <td>{'adcode': 100000}</td>\n      <td>1.0</td>\n      <td>None</td>\n      <td>MULTIPOLYGON (((117.76560 39.40053, 117.84691 ...</td>\n    </tr>\n    <tr>\n      <th>2</th>\n      <td>130000</td>\n      <td>河北省</td>\n      <td>11.0</td>\n      <td>province</td>\n      <td>{'adcode': 100000}</td>\n      <td>2.0</td>\n      <td>None</td>\n      <td>MULTIPOLYGON (((117.46749 40.64974, 117.41267 ...</td>\n    </tr>\n    <tr>\n      <th>3</th>\n      <td>140000</td>\n      <td>山西省</td>\n      <td>11.0</td>\n      <td>province</td>\n      <td>{'adcode': 100000}</td>\n      <td>3.0</td>\n      <td>None</td>\n      <td>MULTIPOLYGON (((110.37926 34.60061, 110.42484 ...</td>\n    </tr>\n    <tr>\n      <th>4</th>\n      <td>150000</td>\n      <td>内蒙古自治区</td>\n      <td>12.0</td>\n      <td>province</td>\n      <td>{'adcode': 100000}</td>\n      <td>4.0</td>\n      <td>None</td>\n      <td>POLYGON ((97.17290 42.79526, 97.37123 42.45708...</td>\n    </tr>\n  </tbody>\n</table>\n</div>"
     },
     "execution_count": 8,
     "metadata": {},
     "output_type": "execute_result"
    }
   ],
   "source": [
    "chinamap_data = gpd.read_file(filename=\"100000_中华人民共和国_full.json\")\n",
    "chinamap_data.head()"
   ],
   "metadata": {
    "collapsed": false,
    "pycharm": {
     "name": "#%%\n"
    }
   }
  },
  {
   "cell_type": "code",
   "execution_count": 10,
   "outputs": [
    {
     "name": "stdout",
     "output_type": "stream",
     "text": [
      "Using matplotlib backend: Qt5Agg\n"
     ]
    }
   ],
   "source": [
    "%matplotlib\n",
    "fig, ax = plt.subplots(figsize=(6, 6))\n",
    "chinamap_data.iloc[:35, :].plot(ax=ax, color='black')\n",
    "plt.show()"
   ],
   "metadata": {
    "collapsed": false,
    "pycharm": {
     "name": "#%%\n"
    }
   }
  },
  {
   "cell_type": "code",
   "execution_count": 11,
   "outputs": [],
   "source": [
    "\n",
    "#\n",
    "# chinamap_data['geometry'].contains(Point(20, 40))"
   ],
   "metadata": {
    "collapsed": false,
    "pycharm": {
     "name": "#%%\n"
    }
   }
  },
  {
   "cell_type": "markdown",
   "source": [
    "## 处理地图数据"
   ],
   "metadata": {
    "collapsed": false,
    "pycharm": {
     "name": "#%% md\n"
    }
   }
  },
  {
   "cell_type": "code",
   "execution_count": 12,
   "outputs": [],
   "source": [
    "Lon_data, Lat_data = np.meshgrid(lon_data, lat_data)"
   ],
   "metadata": {
    "collapsed": false,
    "pycharm": {
     "name": "#%%\n"
    }
   }
  },
  {
   "cell_type": "code",
   "execution_count": 13,
   "outputs": [
    {
     "data": {
      "text/plain": "    lon   lat    lftx\n0   0.0  90.0  30.475\n1   2.5  90.0  30.475\n2   5.0  90.0  30.475\n3   7.5  90.0  30.475\n4  10.0  90.0  30.475",
      "text/html": "<div>\n<style scoped>\n    .dataframe tbody tr th:only-of-type {\n        vertical-align: middle;\n    }\n\n    .dataframe tbody tr th {\n        vertical-align: top;\n    }\n\n    .dataframe thead th {\n        text-align: right;\n    }\n</style>\n<table border=\"1\" class=\"dataframe\">\n  <thead>\n    <tr style=\"text-align: right;\">\n      <th></th>\n      <th>lon</th>\n      <th>lat</th>\n      <th>lftx</th>\n    </tr>\n  </thead>\n  <tbody>\n    <tr>\n      <th>0</th>\n      <td>0.0</td>\n      <td>90.0</td>\n      <td>30.475</td>\n    </tr>\n    <tr>\n      <th>1</th>\n      <td>2.5</td>\n      <td>90.0</td>\n      <td>30.475</td>\n    </tr>\n    <tr>\n      <th>2</th>\n      <td>5.0</td>\n      <td>90.0</td>\n      <td>30.475</td>\n    </tr>\n    <tr>\n      <th>3</th>\n      <td>7.5</td>\n      <td>90.0</td>\n      <td>30.475</td>\n    </tr>\n    <tr>\n      <th>4</th>\n      <td>10.0</td>\n      <td>90.0</td>\n      <td>30.475</td>\n    </tr>\n  </tbody>\n</table>\n</div>"
     },
     "execution_count": 13,
     "metadata": {},
     "output_type": "execute_result"
    }
   ],
   "source": [
    "lftx_data_with_location = pd.DataFrame({'lon': Lon_data.flatten(),\n",
    "                                        'lat': Lat_data.flatten(),\n",
    "                                        'lftx': lftx_data.flatten()})\n",
    "lftx_data_with_location.head()"
   ],
   "metadata": {
    "collapsed": false,
    "pycharm": {
     "name": "#%%\n"
    }
   }
  },
  {
   "cell_type": "code",
   "execution_count": 17,
   "outputs": [
    {
     "name": "stderr",
     "output_type": "stream",
     "text": [
      "<ipython-input-17-4acb89e82aa5>:2: SettingWithCopyWarning: \n",
      "A value is trying to be set on a copy of a slice from a DataFrame.\n",
      "Try using .loc[row_indexer,col_indexer] = value instead\n",
      "\n",
      "See the caveats in the documentation: https://pandas.pydata.org/pandas-docs/stable/user_guide/indexing.html#returning-a-view-versus-a-copy\n",
      "  map_value['lftx_value'] = 0\n",
      "<ipython-input-17-4acb89e82aa5>:3: SettingWithCopyWarning: \n",
      "A value is trying to be set on a copy of a slice from a DataFrame.\n",
      "Try using .loc[row_indexer,col_indexer] = value instead\n",
      "\n",
      "See the caveats in the documentation: https://pandas.pydata.org/pandas-docs/stable/user_guide/indexing.html#returning-a-view-versus-a-copy\n",
      "  map_value['num'] = 0\n",
      "<ipython-input-17-4acb89e82aa5>:23: SettingWithCopyWarning: \n",
      "A value is trying to be set on a copy of a slice from a DataFrame.\n",
      "Try using .loc[row_indexer,col_indexer] = value instead\n",
      "\n",
      "See the caveats in the documentation: https://pandas.pydata.org/pandas-docs/stable/user_guide/indexing.html#returning-a-view-versus-a-copy\n",
      "  map_value['geometry'] = map_value.buffer(0)\n"
     ]
    },
    {
     "data": {
      "text/plain": "Empty GeoDataFrame\nColumns: [adcode, name, geometry, lftx_value, num]\nIndex: []",
      "text/html": "<div>\n<style scoped>\n    .dataframe tbody tr th:only-of-type {\n        vertical-align: middle;\n    }\n\n    .dataframe tbody tr th {\n        vertical-align: top;\n    }\n\n    .dataframe thead th {\n        text-align: right;\n    }\n</style>\n<table border=\"1\" class=\"dataframe\">\n  <thead>\n    <tr style=\"text-align: right;\">\n      <th></th>\n      <th>adcode</th>\n      <th>name</th>\n      <th>geometry</th>\n      <th>lftx_value</th>\n      <th>num</th>\n    </tr>\n  </thead>\n  <tbody>\n  </tbody>\n</table>\n</div>"
     },
     "execution_count": 17,
     "metadata": {},
     "output_type": "execute_result"
    }
   ],
   "source": [
    "map_value = chinamap_data[['adcode', 'name', 'geometry']]\n",
    "map_value['lftx_value'] = 0\n",
    "map_value['num'] = 0\n",
    "\n",
    "\n",
    "# map_value.head()\n",
    "\n",
    "def trans(lon):\n",
    "    \"\"\"\n",
    "\n",
    "    :param lon:\n",
    "    :return:\n",
    "    \"\"\"\n",
    "    if lon <= 180:\n",
    "        return lon\n",
    "    else:\n",
    "        return lon - 360\n",
    "\n",
    "\n",
    "# 这个代码非常重要\n",
    "# https://stackoverflow.com/questions/63955752/topologicalerror-the-operation-geosintersection-r-could-not-be-performed\n",
    "\n",
    "map_value['geometry'] = map_value.buffer(0)\n",
    "\n",
    "\n",
    "\n",
    "# map_value['geometry'] = map_value['geometry'].apply(lambda x: make_valid(x))\n",
    "map_value.loc[~map_value.is_valid]"
   ],
   "metadata": {
    "collapsed": false,
    "pycharm": {
     "name": "#%%\n"
    }
   }
  },
  {
   "cell_type": "code",
   "execution_count": 18,
   "outputs": [
    {
     "name": "stderr",
     "output_type": "stream",
     "text": [
      "  0%|          | 0/10512 [00:00<?, ?it/s]<ipython-input-18-ff3ae4a514ba>:6: SettingWithCopyWarning: \n",
      "A value is trying to be set on a copy of a slice from a DataFrame.\n",
      "Try using .loc[row_indexer,col_indexer] = value instead\n",
      "\n",
      "See the caveats in the documentation: https://pandas.pydata.org/pandas-docs/stable/user_guide/indexing.html#returning-a-view-versus-a-copy\n",
      "  map_value['lftx_value'] = map_value['lftx_value'] + temp_mask * temp_df.lftx\n",
      "<ipython-input-18-ff3ae4a514ba>:8: SettingWithCopyWarning: \n",
      "A value is trying to be set on a copy of a slice from a DataFrame.\n",
      "Try using .loc[row_indexer,col_indexer] = value instead\n",
      "\n",
      "See the caveats in the documentation: https://pandas.pydata.org/pandas-docs/stable/user_guide/indexing.html#returning-a-view-versus-a-copy\n",
      "  map_value['num'] = map_value['num'] + temp_mask * 1\n",
      "100%|██████████| 10512/10512 [00:12<00:00, 841.82it/s]\n"
     ]
    }
   ],
   "source": [
    "\n",
    "for index in tqdm(range(lftx_data_with_location.shape[0])):\n",
    "    temp_df = lftx_data_with_location.iloc[index, :]\n",
    "\n",
    "    temp_mask = map_value['geometry'].contains(Point(trans(temp_df.lon),\n",
    "                                                     temp_df.lat))\n",
    "    map_value['lftx_value'] = map_value['lftx_value'] + temp_mask * temp_df.lftx\n",
    "\n",
    "    map_value['num'] = map_value['num'] + temp_mask * 1"
   ],
   "metadata": {
    "collapsed": false,
    "pycharm": {
     "name": "#%%\n"
    }
   }
  },
  {
   "cell_type": "code",
   "execution_count": 19,
   "outputs": [
    {
     "name": "stderr",
     "output_type": "stream",
     "text": [
      "<ipython-input-19-03ee3867ac12>:1: SettingWithCopyWarning: \n",
      "A value is trying to be set on a copy of a slice from a DataFrame.\n",
      "Try using .loc[row_indexer,col_indexer] = value instead\n",
      "\n",
      "See the caveats in the documentation: https://pandas.pydata.org/pandas-docs/stable/user_guide/indexing.html#returning-a-view-versus-a-copy\n",
      "  map_value['mean_lftx'] = map_value['lftx_value'] / map_value['num']  #(map_value['num'] + 0.00001)\n",
      "C:\\Users\\yuanz\\anaconda3\\envs\\mynet\\lib\\site-packages\\pandas\\core\\indexing.py:1817: SettingWithCopyWarning: \n",
      "A value is trying to be set on a copy of a slice from a DataFrame.\n",
      "Try using .loc[row_indexer,col_indexer] = value instead\n",
      "\n",
      "See the caveats in the documentation: https://pandas.pydata.org/pandas-docs/stable/user_guide/indexing.html#returning-a-view-versus-a-copy\n",
      "  self._setitem_single_column(loc, value, pi)\n"
     ]
    },
    {
     "data": {
      "text/plain": "   adcode    name                                           geometry  \\\n0  110000     北京市  POLYGON ((115.72253 39.54420, 115.72068 39.551...   \n1  120000     天津市  POLYGON ((116.91253 39.11090, 116.90945 39.150...   \n2  130000     河北省  MULTIPOLYGON (((115.72253 39.54420, 115.72253 ...   \n3  140000     山西省  POLYGON ((110.37926 34.60061, 110.29549 34.610...   \n4  150000  内蒙古自治区  POLYGON ((97.17290 42.79526, 97.28254 42.78208...   \n\n   lftx_value  num  mean_lftx  \n0    0.000000    0   0.000000  \n1    5.825000    1   5.825000  \n2   21.725000    3   7.241667  \n3   10.250000    2   5.125000  \n4  289.474996   20  14.473750  ",
      "text/html": "<div>\n<style scoped>\n    .dataframe tbody tr th:only-of-type {\n        vertical-align: middle;\n    }\n\n    .dataframe tbody tr th {\n        vertical-align: top;\n    }\n\n    .dataframe thead th {\n        text-align: right;\n    }\n</style>\n<table border=\"1\" class=\"dataframe\">\n  <thead>\n    <tr style=\"text-align: right;\">\n      <th></th>\n      <th>adcode</th>\n      <th>name</th>\n      <th>geometry</th>\n      <th>lftx_value</th>\n      <th>num</th>\n      <th>mean_lftx</th>\n    </tr>\n  </thead>\n  <tbody>\n    <tr>\n      <th>0</th>\n      <td>110000</td>\n      <td>北京市</td>\n      <td>POLYGON ((115.72253 39.54420, 115.72068 39.551...</td>\n      <td>0.000000</td>\n      <td>0</td>\n      <td>0.000000</td>\n    </tr>\n    <tr>\n      <th>1</th>\n      <td>120000</td>\n      <td>天津市</td>\n      <td>POLYGON ((116.91253 39.11090, 116.90945 39.150...</td>\n      <td>5.825000</td>\n      <td>1</td>\n      <td>5.825000</td>\n    </tr>\n    <tr>\n      <th>2</th>\n      <td>130000</td>\n      <td>河北省</td>\n      <td>MULTIPOLYGON (((115.72253 39.54420, 115.72253 ...</td>\n      <td>21.725000</td>\n      <td>3</td>\n      <td>7.241667</td>\n    </tr>\n    <tr>\n      <th>3</th>\n      <td>140000</td>\n      <td>山西省</td>\n      <td>POLYGON ((110.37926 34.60061, 110.29549 34.610...</td>\n      <td>10.250000</td>\n      <td>2</td>\n      <td>5.125000</td>\n    </tr>\n    <tr>\n      <th>4</th>\n      <td>150000</td>\n      <td>内蒙古自治区</td>\n      <td>POLYGON ((97.17290 42.79526, 97.28254 42.78208...</td>\n      <td>289.474996</td>\n      <td>20</td>\n      <td>14.473750</td>\n    </tr>\n  </tbody>\n</table>\n</div>"
     },
     "execution_count": 19,
     "metadata": {},
     "output_type": "execute_result"
    }
   ],
   "source": [
    "map_value['mean_lftx'] = map_value['lftx_value'] / map_value['num']  #(map_value['num'] + 0.00001)\n",
    "\n",
    "map_value.loc[pd.isna(map_value['mean_lftx']), 'mean_lftx'] = 0\n",
    "map_value.head()"
   ],
   "metadata": {
    "collapsed": false,
    "pycharm": {
     "name": "#%%\n"
    }
   }
  },
  {
   "cell_type": "markdown",
   "source": [
    "## 画图\n"
   ],
   "metadata": {
    "collapsed": false,
    "pycharm": {
     "name": "#%% md\n"
    }
   }
  },
  {
   "cell_type": "code",
   "execution_count": 21,
   "outputs": [
    {
     "data": {
      "text/plain": "'Windows'"
     },
     "execution_count": 21,
     "metadata": {},
     "output_type": "execute_result"
    }
   ],
   "source": [
    "platform.system()"
   ],
   "metadata": {
    "collapsed": false,
    "pycharm": {
     "name": "#%%\n"
    }
   }
  },
  {
   "cell_type": "code",
   "execution_count": 24,
   "outputs": [],
   "source": [
    "# 检测系统\n",
    "\n",
    "if platform.system() == 'Darwin':\n",
    "    plt.rcParams[\"font.family\"] = 'Arial Unicode MS'\n",
    "elif platform.system() == 'Windows':\n",
    "    plt.rcParams[\"font.family\"] = 'SimHei'\n",
    "    # plt.rcParams['font.sans-serif']=['SimHei']\n",
    "else:\n",
    "    pass\n",
    "# Linux\n",
    "# Windows\n",
    "\n",
    "\n",
    "fig, ax = plt.subplots()\n",
    "\n",
    "map_value.plot(ax=ax, column='mean_lftx', legend=True)\n",
    "\n",
    "map_value['center_lon'] = map_value['geometry'].centroid.x\n",
    "map_value['center_lat'] = map_value['geometry'].centroid.y\n",
    "\n",
    "for index in range(map_value.shape[0]):\n",
    "    # ax.scatter(map_value['center_lon'], map_value['center_lat'])\n",
    "    temp_df = map_value.iloc[index, :]\n",
    "    ax.text(x=temp_df.center_lon, y=temp_df.center_lat, s=str(temp_df['name']))\n",
    "\n",
    "ax.set_title(\"demo 中国地图, 公众号：pypi\", fontdict={\"size\": 20})\n",
    "ax.autoscale()\n",
    "plt.tight_layout()"
   ],
   "metadata": {
    "collapsed": false,
    "pycharm": {
     "name": "#%%\n"
    }
   }
  },
  {
   "cell_type": "code",
   "execution_count": 104,
   "outputs": [
    {
     "data": {
      "text/plain": "'Darwin'"
     },
     "execution_count": 104,
     "metadata": {},
     "output_type": "execute_result"
    }
   ],
   "source": [],
   "metadata": {
    "collapsed": false,
    "pycharm": {
     "name": "#%%\n"
    }
   }
  }
 ],
 "metadata": {
  "kernelspec": {
   "name": "pycharm-17c0256d",
   "language": "python",
   "display_name": "PyCharm (trycode)"
  },
  "language_info": {
   "codemirror_mode": {
    "name": "ipython",
    "version": 2
   },
   "file_extension": ".py",
   "mimetype": "text/x-python",
   "name": "python",
   "nbconvert_exporter": "python",
   "pygments_lexer": "ipython2",
   "version": "2.7.6"
  }
 },
 "nbformat": 4,
 "nbformat_minor": 0
}