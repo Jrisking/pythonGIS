{
 "cells": [
  {
   "cell_type": "markdown",
   "metadata": {
    "collapsed": true,
    "pycharm": {
     "name": "#%% md\n"
    }
   },
   "source": [
    "## 导入包\n"
   ]
  },
  {
   "cell_type": "code",
   "execution_count": null,
   "metadata": {
    "collapsed": false,
    "pycharm": {
     "name": "#%%\n"
    }
   },
   "outputs": [],
   "source": [
    "# 基础的数据处理工具\n",
    "import numpy as np\n",
    "import pandas as pd\n",
    "\n",
    "# 可视化\n",
    "import matplotlib.pyplot as plt\n",
    "\n",
    "# 处理python时间函数\n",
    "import datetime\n",
    "\n",
    "# 处理nc数据\n",
    "import netCDF4 as nc\n",
    "from netCDF4 import num2date\n",
    "\n",
    "# 处理网格数据，shp之类的\n",
    "import geopandas as gpd\n",
    "\n",
    "# 处理tiff文件\n",
    "import rasterio\n",
    "\n",
    "# gis的一些逻辑判断\n",
    "from shapely.geometry import Point\n",
    "\n",
    "# 设置投影坐标系等\n",
    "from cartopy import crs as ccrs\n",
    "\n",
    "# 打印进度条\n",
    "from tqdm import tqdm\n",
    "\n",
    "tqdm.pandas()\n",
    "\n",
    "# 并行\n",
    "\n",
    "from joblib import Parallel, delayed\n",
    "\n",
    "# 检测系统\n",
    "\n",
    "import platform\n",
    "\n",
    "# matplotlib 显示中文的问题\n",
    "if platform.system() == 'Darwin':\n",
    "    plt.rcParams[\"font.family\"] = 'Arial Unicode MS'\n",
    "elif platform.system() == 'Windows':\n",
    "    plt.rcParams[\"font.family\"] = 'SimHei'\n",
    "else:\n",
    "    pass"
   ]
  },
  {
   "cell_type": "markdown",
   "metadata": {
    "collapsed": false,
    "pycharm": {
     "name": "#%% md\n"
    }
   },
   "source": [
    "## 加载数据"
   ]
  },
  {
   "cell_type": "code",
   "execution_count": null,
   "metadata": {
    "collapsed": false,
    "pycharm": {
     "name": "#%%\n"
    }
   },
   "outputs": [],
   "source": [
    "shp_data = gpd.read_file(\"./数据集/Pearl王川/shp-数据1/ca_Union.shp\")\n",
    "\n",
    "nc_1988tp = nc.Dataset(\"./数据集/Pearl王川/1988tp.nc\")"
   ]
  },
  {
   "cell_type": "code",
   "execution_count": null,
   "metadata": {
    "collapsed": false,
    "pycharm": {
     "name": "#%%\n"
    }
   },
   "outputs": [],
   "source": [
    "for item in nc_1988tp.variables.values():\n",
    "    print('*' * 70)\n",
    "    print(item)"
   ]
  },
  {
   "cell_type": "code",
   "execution_count": null,
   "metadata": {
    "collapsed": false,
    "pycharm": {
     "name": "#%%\n"
    }
   },
   "outputs": [],
   "source": [
    "raw_longitude = np.array(nc_1988tp.variables['longitude'])\n",
    "raw_latitude = np.array(nc_1988tp.variables['latitude'])\n",
    "raw_time = np.array(nc_1988tp.variables['time'])\n",
    "raw_tp = np.array(nc_1988tp.variables['tp'])"
   ]
  },
  {
   "cell_type": "markdown",
   "metadata": {
    "collapsed": false,
    "pycharm": {
     "name": "#%% md\n"
    }
   },
   "source": [
    "## 插值"
   ]
  },
  {
   "cell_type": "code",
   "execution_count": null,
   "metadata": {
    "collapsed": false,
    "pycharm": {
     "name": "#%%\n"
    }
   },
   "outputs": [],
   "source": [
    "# [ 89.75 -89.75]\n",
    "# [-179.75 179.75]\n",
    "target_lon = -179.75 + 0.5 * np.arange(0, 720)\n",
    "target_lat = -89.75 + 0.5 * np.arange(0, 360)\n",
    "\n",
    "target_value = []\n",
    "\n",
    "from scipy.interpolate import interp2d\n",
    "\n",
    "for i in tqdm(range(raw_time.shape[0])):\n",
    "    f = interp2d(raw_longitude, raw_latitude, raw_tp[i, :, :])\n",
    "    temp_value = f(target_lon, target_lat)\n",
    "    target_value.append(temp_value)\n",
    "\n",
    "target_value = np.array(target_value)\n",
    "target_value.shape"
   ]
  },
  {
   "cell_type": "markdown",
   "metadata": {
    "collapsed": false,
    "pycharm": {
     "name": "#%% md\n"
    }
   },
   "source": [
    "## 写入nc文件"
   ]
  },
  {
   "cell_type": "code",
   "execution_count": null,
   "metadata": {
    "collapsed": false,
    "pycharm": {
     "name": "#%%\n"
    }
   },
   "outputs": [],
   "source": [
    "with nc.Dataset('./结果/test1115.nc', mode='w', format='NETCDF4_CLASSIC') as ncfile:\n",
    "    # 创建维度\n",
    "    lat_dim = ncfile.createDimension('lat', 360)  # latitude axis\n",
    "    lon_dim = ncfile.createDimension('lon', 720)  # longitude axis\n",
    "    time_dim = ncfile.createDimension('time', None)\n",
    "\n",
    "    # 创建变量\n",
    "    lat = ncfile.createVariable('lat', np.float32, ('lat',))\n",
    "    lat.units = 'degrees_north'\n",
    "    lat.long_name = 'latitude'\n",
    "\n",
    "    lon = ncfile.createVariable('lon', np.float32, ('lon',))\n",
    "    lon.units = 'degrees_east'\n",
    "    lon.long_name = 'longitude'\n",
    "\n",
    "    time = ncfile.createVariable('time', np.float64, ('time',))\n",
    "    time.units = 'days since 1988-01-01 00:00:00'\n",
    "    time.long_name = 'time'\n",
    "\n",
    "    temp = ncfile.createVariable('temp', np.float64, ('time', 'lat', 'lon'))  # note: unlimited dimension is leftmost\n",
    "    # temp.units = 'K' # degrees Kelvin\n",
    "    temp.standard_name = 'air_temperature'\n",
    "\n",
    "    # 写入变量\n",
    "    lat[:] = target_lat\n",
    "    lon[:] = target_lon\n",
    "    time[:] = raw_time\n",
    "    temp[:, :, :] = target_value"
   ]
  },
  {
   "cell_type": "markdown",
   "metadata": {
    "collapsed": false,
    "pycharm": {
     "name": "#%% md\n"
    }
   },
   "source": [
    "### 测试"
   ]
  },
  {
   "cell_type": "code",
   "execution_count": null,
   "metadata": {
    "collapsed": false,
    "pycharm": {
     "name": "#%%\n"
    }
   },
   "outputs": [],
   "source": [
    "import xarray as xr\n",
    "\n",
    "test_xr = xr.open_dataset(\"./结果/test1115.nc\")\n",
    "test_xr"
   ]
  },
  {
   "cell_type": "code",
   "execution_count": null,
   "metadata": {
    "collapsed": false,
    "pycharm": {
     "name": "#%%\n"
    }
   },
   "outputs": [],
   "source": [
    "test_nc = nc.Dataset(\"./结果/test1115.nc\")\n",
    "\n",
    "for item in test_nc.variables.values():\n",
    "    print('*' * 70)\n",
    "    print(item.name)\n",
    "    print(item)"
   ]
  },
  {
   "cell_type": "markdown",
   "metadata": {
    "collapsed": false,
    "pycharm": {
     "name": "#%% md\n"
    }
   },
   "source": [
    "## 裁切"
   ]
  },
  {
   "cell_type": "code",
   "execution_count": null,
   "metadata": {
    "collapsed": false,
    "pycharm": {
     "name": "#%%\n"
    }
   },
   "outputs": [],
   "source": [
    "class GetMask(object):\n",
    "    def __init__(self,\n",
    "                 geopandas: gpd.GeoDataFrame,\n",
    "                 nc_data: nc.Dataset,\n",
    "                 nc_variable: str,\n",
    "                 lat_variable: str,\n",
    "                 lon_variable: str,\n",
    "                 time_variable: str):\n",
    "        self.geopandas = geopandas\n",
    "        self.nc_data = nc_data\n",
    "        self.nc_variable = nc_variable\n",
    "        self.lat_variable = lat_variable\n",
    "        self.lon_variable = lon_variable\n",
    "        self.time_variable = time_variable\n",
    "        self.nc_target_data = None\n",
    "        self.target_data_missing_value = None\n",
    "        self.time_dim = None\n",
    "        self.lat_dim = None\n",
    "        self.lon_dim = None\n",
    "        self.mask_matrix = None\n",
    "        self.longitude_data = None\n",
    "        self.latitude_data = None\n",
    "        self.time_data = None\n",
    "        self.time_units = None\n",
    "        self.clean_time_data = None\n",
    "\n",
    "    def num2datetime(self, cftime, units, format='%Y-%m-%d %H:%M:%S'):\n",
    "        \"\"\"\n",
    "        将nc文件里面的时间格式 从cftime 转换到 datetime格式\n",
    "        :param cftime:\n",
    "        :param units:\n",
    "        :param format:\n",
    "        :return:\n",
    "        \"\"\"\n",
    "        return datetime.datetime.strptime(num2date(times=cftime, units=units).strftime(format), format)\n",
    "\n",
    "    @staticmethod\n",
    "    def array2gtiff(array, filename):\n",
    "        \"\"\"\n",
    "        将一个矩阵保存为tiff文件,\n",
    "        这里还可以设置tiff的crs和transofrm。更多，可以查看rasterio的官网或者下面的这个链接\n",
    "        https://gis.stackexchange.com/questions/279953/numpy-array-to-gtiff-using-rasterio-without-source-raster\n",
    "        :param array: shape:(row, col)\n",
    "        :param filename:\n",
    "        :return:\n",
    "        \"\"\"\n",
    "        with rasterio.open(filename, 'w', driver='GTiff',\n",
    "                           height=array.shape[0], width=array.shape[1],\n",
    "                           count=1, dtype=str(array.dtype)) as f:\n",
    "            f.write(array, 1)\n",
    "\n",
    "    def pic(self, lon, lat) -> bool:\n",
    "\n",
    "        \"\"\"\n",
    "        检测一个点是否在中国边界线内\n",
    "        lon:东经\n",
    "        lat:北纬\n",
    "        :param lon:\n",
    "        :param lat:\n",
    "        :return:\n",
    "        \"\"\"\n",
    "        return self.geopandas.contains(Point(lon, lat))[0]\n",
    "\n",
    "    def parallel_mask(self, index_lon, index_lat):\n",
    "        point = (self.longitude_data[index_lon], self.latitude_data[index_lat])\n",
    "        value = self.pic(lon=point[0], lat=point[1])\n",
    "        # return value\n",
    "        self.mask_matrix[index_lat, index_lon] = value\n",
    "\n",
    "    def run(self):\n",
    "        # 处理geopandas数据\n",
    "        # self.geopandas = self.geopandas.iloc[0, :]\n",
    "        self.geopandas['geometry'] = self.geopandas.buffer(0)\n",
    "\n",
    "        # 处理nc数据\n",
    "        self.nc_target_data = np.array(self.nc_data.variables[self.nc_variable])\n",
    "\n",
    "        if 'missing_value' in dir(self.nc_data.variables[self.nc_variable]):\n",
    "            self.target_data_missing_value = self.nc_data.variables[self.nc_variable].missing_value\n",
    "        else:\n",
    "            self.target_data_missing_value = np.nan\n",
    "\n",
    "        self.nc_target_data[self.nc_target_data == self.target_data_missing_value] = np.nan\n",
    "\n",
    "        # 提取lat,lon,lat 变量\n",
    "        self.longitude_data = np.array(self.nc_data.variables[self.lon_variable])\n",
    "        self.latitude_data = np.array(self.nc_data.variables[self.lat_variable])\n",
    "        self.time_units = self.nc_data.variables[self.time_variable].units\n",
    "        self.time_data = np.array(self.nc_data.variables[self.time_variable])\n",
    "        self.clean_time_data = [self.num2datetime(cftime=i, units=self.time_units) for i in self.time_data]\n",
    "\n",
    "        # 创建一个mask\n",
    "        nc_target_data_shape = self.nc_target_data.shape\n",
    "\n",
    "        if len(nc_target_data_shape) == 3:\n",
    "            (self.time_dim, self.lat_dim, self.lon_dim) = nc_target_data_shape\n",
    "        else:\n",
    "            (self.lat_dim, self.lon_dim) = nc_target_data_shape\n",
    "\n",
    "        self.mask_matrix = np.full(shape=(self.lat_dim, self.lon_dim), fill_value=False)\n",
    "\n",
    "        _ = Parallel(n_jobs=-1, backend='threading', verbose=0)(\n",
    "            delayed(self.parallel_mask)(index_lon, index_lat)\n",
    "            for index_lon in tqdm(range(self.lon_dim))\n",
    "            for index_lat in range(self.lat_dim))\n",
    "\n",
    "    def getclipdata(self):\n",
    "        \"\"\"\n",
    "        返回一个mask处理好的矩阵\n",
    "        :return:\n",
    "        \"\"\"\n",
    "        value = self.nc_target_data.copy()\n",
    "        for i in tqdm(range(self.time_data.shape[0])):\n",
    "            temp = value[i, :, :]\n",
    "            temp[~self.mask_matrix] = np.nan\n",
    "            value[i, :, :] = temp\n",
    "\n",
    "        return value\n",
    "\n",
    "\n",
    "nc_mask = GetMask(geopandas=shp_data, nc_data=test_nc, nc_variable='temp', lat_variable='lat',\n",
    "                  lon_variable='lon', time_variable='time')\n",
    "\n",
    "nc_mask.run()"
   ]
  },
  {
   "cell_type": "code",
   "execution_count": null,
   "metadata": {
    "collapsed": false,
    "pycharm": {
     "name": "#%%\n"
    }
   },
   "outputs": [],
   "source": [
    "clip_test = nc_mask.getclipdata()"
   ]
  },
  {
   "cell_type": "markdown",
   "metadata": {
    "collapsed": false,
    "pycharm": {
     "name": "#%% md\n"
    }
   },
   "source": [
    "## 测试一下这个函数"
   ]
  },
  {
   "cell_type": "code",
   "execution_count": null,
   "metadata": {
    "collapsed": false,
    "pycharm": {
     "name": "#%%\n"
    }
   },
   "outputs": [],
   "source": [
    "Lon_data, Lat_data = np.meshgrid(target_lon, target_lat)\n",
    "\n",
    "plot_data = pd.DataFrame({'lon': Lon_data.flatten(),\n",
    "                          'lat': Lat_data.flatten(),\n",
    "                          'mask': nc_mask.mask_matrix.flatten()})"
   ]
  },
  {
   "cell_type": "code",
   "execution_count": null,
   "metadata": {
    "collapsed": false,
    "pycharm": {
     "name": "#%%\n"
    }
   },
   "outputs": [],
   "source": [
    "% matplotlib inline\n",
    "fig, ax = plt.subplots(figsize=(7, 6), dpi=150)\n",
    "shp_data.boundary.plot(ax=ax, color='black')\n",
    "ax.grid()\n",
    "\n",
    "plot_data_in = plot_data.loc[plot_data['mask']]\n",
    "ax.scatter(plot_data_in['lon'], plot_data_in['lat'], s=0.1)\n",
    "\n",
    "plot_data_out = plot_data.loc[~plot_data['mask']]\n",
    "ax.scatter(plot_data_out['lon'], plot_data_out['lat'], s=0.1, c='red')"
   ]
  },
  {
   "cell_type": "code",
   "execution_count": null,
   "metadata": {
    "collapsed": false,
    "pycharm": {
     "name": "#%%\n"
    }
   },
   "outputs": [],
   "source": [
    "%matplotlib\n",
    "fig, ax = plt.subplots(figsize=(7, 6), dpi=150)\n",
    "\n",
    "im = ax.imshow(clip_test[1, :, :][::-1, :], cmap=plt.cm.get_cmap('RdYlBu'))\n",
    "\n",
    "fig.colorbar(im, orientation='vertical')"
   ]
  },
  {
   "cell_type": "code",
   "execution_count": null,
   "metadata": {
    "collapsed": false,
    "pycharm": {
     "name": "#%%\n"
    }
   },
   "outputs": [],
   "source": [
    "with nc.Dataset('./结果/test11152.nc', mode='w', format='NETCDF4_CLASSIC') as ncfile:\n",
    "    # 创建维度\n",
    "    lat_dim = ncfile.createDimension('lat', 360)  # latitude axis\n",
    "    lon_dim = ncfile.createDimension('lon', 720)  # longitude axis\n",
    "    time_dim = ncfile.createDimension('time', None)\n",
    "\n",
    "    # 创建变量\n",
    "    lat = ncfile.createVariable('lat', np.float32, ('lat',))\n",
    "    lat.units = 'degrees_north'\n",
    "    lat.long_name = 'latitude'\n",
    "\n",
    "    lon = ncfile.createVariable('lon', np.float32, ('lon',))\n",
    "    lon.units = 'degrees_east'\n",
    "    lon.long_name = 'longitude'\n",
    "\n",
    "    time = ncfile.createVariable('time', np.float64, ('time',))\n",
    "    time.units = 'days since 1988-01-01 00:00:00'\n",
    "    time.long_name = 'time'\n",
    "\n",
    "    temp = ncfile.createVariable('temp', np.float64, ('time', 'lat', 'lon'))  # note: unlimited dimension is leftmost\n",
    "    # temp.units = 'K' # degrees Kelvin\n",
    "    temp.standard_name = 'air_temperature'\n",
    "\n",
    "    # 写入变量\n",
    "    lat[:] = target_lat\n",
    "    lon[:] = target_lon\n",
    "    time[:] = raw_time\n",
    "    temp[:, :, :] = clip_test"
   ]
  },
  {
   "cell_type": "code",
   "execution_count": null,
   "metadata": {
    "collapsed": false,
    "pycharm": {
     "name": "#%%\n"
    }
   },
   "outputs": [],
   "source": []
  }
 ],
 "metadata": {
  "kernelspec": {
   "display_name": "Python 3.8.8 ('devc')",
   "language": "python",
   "name": "python3"
  },
  "language_info": {
   "codemirror_mode": {
    "name": "ipython",
    "version": 2
   },
   "file_extension": ".py",
   "mimetype": "text/x-python",
   "name": "python",
   "nbconvert_exporter": "python",
   "pygments_lexer": "ipython2",
   "version": "3.8.8"
  },
  "vscode": {
   "interpreter": {
    "hash": "4fb0a6905ed5d212c3c96d4a56e67eb44191d04d6f3997ffb197b9a104e8e26d"
   }
  }
 },
 "nbformat": 4,
 "nbformat_minor": 0
}
