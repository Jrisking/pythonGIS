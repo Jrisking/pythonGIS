{
 "cells": [
  {
   "cell_type": "code",
   "execution_count": 115,
   "metadata": {
    "collapsed": true
   },
   "outputs": [],
   "source": [
    "import numpy as np\n",
    "import pandas as pd\n",
    "import netCDF4 as nc\n",
    "import geopandas as gpd\n",
    "from netCDF4 import num2date\n",
    "import datetime\n",
    "\n",
    "from tqdm import tqdm\n",
    "\n",
    "tqdm.pandas()\n",
    "from shapely.geometry import Point\n",
    "\n",
    "import matplotlib.pyplot as plt\n",
    "\n",
    "import platform\n",
    "\n",
    "if platform.system() == 'Darwin':\n",
    "    plt.rcParams[\"font.family\"] = 'Arial Unicode MS'\n",
    "elif platform.system() == 'Windows':\n",
    "    plt.rcParams[\"font.family\"] = 'SimHei'\n",
    "else:\n",
    "    pass"
   ]
  },
  {
   "cell_type": "markdown",
   "source": [
    "## 加载nc文件和读取数据\n"
   ],
   "metadata": {
    "collapsed": false,
    "pycharm": {
     "name": "#%% md\n"
    }
   }
  },
  {
   "cell_type": "code",
   "execution_count": 116,
   "outputs": [],
   "source": [
    "nc_data = nc.Dataset(\"cru_ts4.05.1901.2020.tmp.dat.nc\")"
   ],
   "metadata": {
    "collapsed": false,
    "pycharm": {
     "name": "#%%\n"
    }
   }
  },
  {
   "cell_type": "code",
   "execution_count": 117,
   "outputs": [
    {
     "name": "stdout",
     "output_type": "stream",
     "text": [
      "**********************************************************************\n",
      "<class 'netCDF4._netCDF4.Variable'>\n",
      "float32 lon(lon)\n",
      "    long_name: longitude\n",
      "    units: degrees_east\n",
      "unlimited dimensions: \n",
      "current shape = (720,)\n",
      "filling on, default _FillValue of 9.969209968386869e+36 used\n",
      "**********************************************************************\n",
      "<class 'netCDF4._netCDF4.Variable'>\n",
      "float32 lat(lat)\n",
      "    long_name: latitude\n",
      "    units: degrees_north\n",
      "unlimited dimensions: \n",
      "current shape = (360,)\n",
      "filling on, default _FillValue of 9.969209968386869e+36 used\n",
      "**********************************************************************\n",
      "<class 'netCDF4._netCDF4.Variable'>\n",
      "float32 time(time)\n",
      "    long_name: time\n",
      "    units: days since 1900-1-1\n",
      "    calendar: gregorian\n",
      "unlimited dimensions: time\n",
      "current shape = (1440,)\n",
      "filling on, default _FillValue of 9.969209968386869e+36 used\n",
      "**********************************************************************\n",
      "<class 'netCDF4._netCDF4.Variable'>\n",
      "float32 tmp(time, lat, lon)\n",
      "    long_name: near-surface temperature\n",
      "    units: degrees Celsius\n",
      "    correlation_decay_distance: 1200.0\n",
      "    _FillValue: 9.96921e+36\n",
      "    missing_value: 9.96921e+36\n",
      "unlimited dimensions: time\n",
      "current shape = (1440, 360, 720)\n",
      "filling on\n",
      "**********************************************************************\n",
      "<class 'netCDF4._netCDF4.Variable'>\n",
      "int32 stn(time, lat, lon)\n",
      "    description: number of stations contributing to each datum\n",
      "    _FillValue: -999\n",
      "    missing_value: -999\n",
      "unlimited dimensions: time\n",
      "current shape = (1440, 360, 720)\n",
      "filling on\n"
     ]
    },
    {
     "name": "stderr",
     "output_type": "stream",
     "text": [
      "<ipython-input-117-ab2ee6009efa>:3: DeprecationWarning: tostring() is deprecated. Use tobytes() instead.\n",
      "  print(temp_value)\n"
     ]
    }
   ],
   "source": [
    "for temp_value in nc_data.variables.values():\n",
    "    print(\"*\" * 70)\n",
    "    print(temp_value)"
   ],
   "metadata": {
    "collapsed": false,
    "pycharm": {
     "name": "#%%\n"
    }
   }
  },
  {
   "cell_type": "markdown",
   "source": [
    "## 提取变量\n"
   ],
   "metadata": {
    "collapsed": false,
    "pycharm": {
     "name": "#%% md\n"
    }
   }
  },
  {
   "cell_type": "code",
   "execution_count": 118,
   "outputs": [
    {
     "name": "stderr",
     "output_type": "stream",
     "text": [
      "<ipython-input-118-c2593932da71>:1: DeprecationWarning: `np.bool` is a deprecated alias for the builtin `bool`. To silence this warning, use `bool` by itself. Doing this will not modify any behavior and is safe. If you specifically wanted the numpy scalar type, use `np.bool_` here.\n",
      "Deprecated in NumPy 1.20; for more details and guidance: https://numpy.org/devdocs/release/1.20.0-notes.html#deprecations\n",
      "  raw_lat_data = np.array(nc_data.variables['lat'])\n",
      "<ipython-input-118-c2593932da71>:2: DeprecationWarning: `np.bool` is a deprecated alias for the builtin `bool`. To silence this warning, use `bool` by itself. Doing this will not modify any behavior and is safe. If you specifically wanted the numpy scalar type, use `np.bool_` here.\n",
      "Deprecated in NumPy 1.20; for more details and guidance: https://numpy.org/devdocs/release/1.20.0-notes.html#deprecations\n",
      "  raw_lon_data = np.array(nc_data.variables['lon'])\n",
      "<ipython-input-118-c2593932da71>:3: DeprecationWarning: `np.bool` is a deprecated alias for the builtin `bool`. To silence this warning, use `bool` by itself. Doing this will not modify any behavior and is safe. If you specifically wanted the numpy scalar type, use `np.bool_` here.\n",
      "Deprecated in NumPy 1.20; for more details and guidance: https://numpy.org/devdocs/release/1.20.0-notes.html#deprecations\n",
      "  raw_time_data = np.array(nc_data.variables['time'])\n",
      "<ipython-input-118-c2593932da71>:4: DeprecationWarning: `np.bool` is a deprecated alias for the builtin `bool`. To silence this warning, use `bool` by itself. Doing this will not modify any behavior and is safe. If you specifically wanted the numpy scalar type, use `np.bool_` here.\n",
      "Deprecated in NumPy 1.20; for more details and guidance: https://numpy.org/devdocs/release/1.20.0-notes.html#deprecations\n",
      "  raw_tmp_data = np.array(nc_data.variables['tmp'])\n"
     ]
    }
   ],
   "source": [
    "raw_lat_data = np.array(nc_data.variables['lat'])\n",
    "raw_lon_data = np.array(nc_data.variables['lon'])\n",
    "raw_time_data = np.array(nc_data.variables['time'])\n",
    "raw_tmp_data = np.array(nc_data.variables['tmp'])\n"
   ],
   "metadata": {
    "collapsed": false,
    "pycharm": {
     "name": "#%%\n"
    }
   }
  },
  {
   "cell_type": "code",
   "execution_count": 119,
   "outputs": [
    {
     "data": {
      "text/plain": "(1440, 360, 720)"
     },
     "execution_count": 119,
     "metadata": {},
     "output_type": "execute_result"
    }
   ],
   "source": [
    "raw_tmp_data.shape\n"
   ],
   "metadata": {
    "collapsed": false,
    "pycharm": {
     "name": "#%%\n"
    }
   }
  },
  {
   "cell_type": "code",
   "execution_count": 120,
   "outputs": [
    {
     "data": {
      "text/plain": "[datetime.datetime(1901, 1, 16, 0, 0),\n datetime.datetime(1901, 2, 15, 0, 0),\n datetime.datetime(1901, 3, 16, 0, 0),\n datetime.datetime(1901, 4, 16, 0, 0)]"
     },
     "execution_count": 120,
     "metadata": {},
     "output_type": "execute_result"
    }
   ],
   "source": [
    "def cftime2datetime(cftime, units, format='%Y-%m-%d %H:%M:%S'):\n",
    "    \"\"\"\n",
    "    将nc文件里面的时间格式 从cftime 转换到 datetime格式\n",
    "    :param cftime:\n",
    "    :param units:\n",
    "    :param format:\n",
    "    :return:\n",
    "    \"\"\"\n",
    "    return datetime.datetime.strptime(num2date(times=cftime, units=units).strftime(format), format)\n",
    "\n",
    "\n",
    "clean_time_data = [cftime2datetime(i, units='days since 1900-1-1') for i in raw_time_data]\n",
    "clean_time_data[:4]"
   ],
   "metadata": {
    "collapsed": false,
    "pycharm": {
     "name": "#%%\n"
    }
   }
  },
  {
   "cell_type": "markdown",
   "source": [
    "## 计算全球每年的平均气温"
   ],
   "metadata": {
    "collapsed": false,
    "pycharm": {
     "name": "#%% md\n"
    }
   }
  },
  {
   "cell_type": "code",
   "execution_count": 121,
   "outputs": [
    {
     "name": "stderr",
     "output_type": "stream",
     "text": [
      "100%|██████████| 1440/1440 [00:00<00:00, 2148.57it/s]\n"
     ]
    }
   ],
   "source": [
    "avg_mean_tmp = np.ones(shape=raw_tmp_data.shape[0])\n",
    "\n",
    "for index in tqdm(range(raw_tmp_data.shape[0])):\n",
    "    temp_temp = raw_tmp_data[index, :, :]\n",
    "    avg_mean_tmp[index] = temp_temp[temp_temp != 9.96921e+36].mean()"
   ],
   "metadata": {
    "collapsed": false,
    "pycharm": {
     "name": "#%%\n"
    }
   }
  },
  {
   "cell_type": "code",
   "execution_count": 122,
   "outputs": [
    {
     "data": {
      "text/plain": "           date  avg_mean_tmp  year  month\n0    1901-01-16     -2.276233  1901      1\n1    1901-02-15     -0.606501  1901      2\n2    1901-03-16      3.036036  1901      3\n3    1901-04-16      7.728032  1901      4\n4    1901-05-16     12.336249  1901      5\n...         ...           ...   ...    ...\n1435 2020-08-16     17.980717  2020      8\n1436 2020-09-16     15.052033  2020      9\n1437 2020-10-16     10.223289  2020     10\n1438 2020-11-16      5.359230  2020     11\n1439 2020-12-16      0.882745  2020     12\n\n[1440 rows x 4 columns]",
      "text/html": "<div>\n<style scoped>\n    .dataframe tbody tr th:only-of-type {\n        vertical-align: middle;\n    }\n\n    .dataframe tbody tr th {\n        vertical-align: top;\n    }\n\n    .dataframe thead th {\n        text-align: right;\n    }\n</style>\n<table border=\"1\" class=\"dataframe\">\n  <thead>\n    <tr style=\"text-align: right;\">\n      <th></th>\n      <th>date</th>\n      <th>avg_mean_tmp</th>\n      <th>year</th>\n      <th>month</th>\n    </tr>\n  </thead>\n  <tbody>\n    <tr>\n      <th>0</th>\n      <td>1901-01-16</td>\n      <td>-2.276233</td>\n      <td>1901</td>\n      <td>1</td>\n    </tr>\n    <tr>\n      <th>1</th>\n      <td>1901-02-15</td>\n      <td>-0.606501</td>\n      <td>1901</td>\n      <td>2</td>\n    </tr>\n    <tr>\n      <th>2</th>\n      <td>1901-03-16</td>\n      <td>3.036036</td>\n      <td>1901</td>\n      <td>3</td>\n    </tr>\n    <tr>\n      <th>3</th>\n      <td>1901-04-16</td>\n      <td>7.728032</td>\n      <td>1901</td>\n      <td>4</td>\n    </tr>\n    <tr>\n      <th>4</th>\n      <td>1901-05-16</td>\n      <td>12.336249</td>\n      <td>1901</td>\n      <td>5</td>\n    </tr>\n    <tr>\n      <th>...</th>\n      <td>...</td>\n      <td>...</td>\n      <td>...</td>\n      <td>...</td>\n    </tr>\n    <tr>\n      <th>1435</th>\n      <td>2020-08-16</td>\n      <td>17.980717</td>\n      <td>2020</td>\n      <td>8</td>\n    </tr>\n    <tr>\n      <th>1436</th>\n      <td>2020-09-16</td>\n      <td>15.052033</td>\n      <td>2020</td>\n      <td>9</td>\n    </tr>\n    <tr>\n      <th>1437</th>\n      <td>2020-10-16</td>\n      <td>10.223289</td>\n      <td>2020</td>\n      <td>10</td>\n    </tr>\n    <tr>\n      <th>1438</th>\n      <td>2020-11-16</td>\n      <td>5.359230</td>\n      <td>2020</td>\n      <td>11</td>\n    </tr>\n    <tr>\n      <th>1439</th>\n      <td>2020-12-16</td>\n      <td>0.882745</td>\n      <td>2020</td>\n      <td>12</td>\n    </tr>\n  </tbody>\n</table>\n<p>1440 rows × 4 columns</p>\n</div>"
     },
     "execution_count": 122,
     "metadata": {},
     "output_type": "execute_result"
    }
   ],
   "source": [
    "avg_mean_tmp_df = pd.DataFrame({'date': clean_time_data,\n",
    "                                'avg_mean_tmp': avg_mean_tmp})\n",
    "avg_mean_tmp_df['year'] = avg_mean_tmp_df['date'].dt.year\n",
    "avg_mean_tmp_df['month'] = avg_mean_tmp_df['date'].dt.month\n",
    "avg_mean_tmp_df\n"
   ],
   "metadata": {
    "collapsed": false,
    "pycharm": {
     "name": "#%%\n"
    }
   }
  },
  {
   "cell_type": "code",
   "execution_count": 123,
   "outputs": [
    {
     "data": {
      "text/plain": "   year   avg_tmp\n0  1901  8.029477\n1  1902  7.642335\n2  1903  7.813257\n3  1904  7.759539\n4  1905  7.875768",
      "text/html": "<div>\n<style scoped>\n    .dataframe tbody tr th:only-of-type {\n        vertical-align: middle;\n    }\n\n    .dataframe tbody tr th {\n        vertical-align: top;\n    }\n\n    .dataframe thead th {\n        text-align: right;\n    }\n</style>\n<table border=\"1\" class=\"dataframe\">\n  <thead>\n    <tr style=\"text-align: right;\">\n      <th></th>\n      <th>year</th>\n      <th>avg_tmp</th>\n    </tr>\n  </thead>\n  <tbody>\n    <tr>\n      <th>0</th>\n      <td>1901</td>\n      <td>8.029477</td>\n    </tr>\n    <tr>\n      <th>1</th>\n      <td>1902</td>\n      <td>7.642335</td>\n    </tr>\n    <tr>\n      <th>2</th>\n      <td>1903</td>\n      <td>7.813257</td>\n    </tr>\n    <tr>\n      <th>3</th>\n      <td>1904</td>\n      <td>7.759539</td>\n    </tr>\n    <tr>\n      <th>4</th>\n      <td>1905</td>\n      <td>7.875768</td>\n    </tr>\n  </tbody>\n</table>\n</div>"
     },
     "execution_count": 123,
     "metadata": {},
     "output_type": "execute_result"
    }
   ],
   "source": [
    "year_tmp_df = avg_mean_tmp_df.groupby(['year']).agg(\n",
    "    avg_tmp=('avg_mean_tmp', 'mean')\n",
    ").reset_index()\n",
    "year_tmp_df.head()"
   ],
   "metadata": {
    "collapsed": false,
    "pycharm": {
     "name": "#%%\n"
    }
   }
  },
  {
   "cell_type": "code",
   "execution_count": 128,
   "outputs": [
    {
     "name": "stdout",
     "output_type": "stream",
     "text": [
      "Using matplotlib backend: MacOSX\n"
     ]
    }
   ],
   "source": [
    "% matplotlib"
   ],
   "metadata": {
    "collapsed": false,
    "pycharm": {
     "name": "#%%\n"
    }
   }
  },
  {
   "cell_type": "code",
   "execution_count": 129,
   "outputs": [],
   "source": [
    "fig, ax = plt.subplots(figsize=(12, 4), dpi=200)\n",
    "ax.plot(year_tmp_df['year'], year_tmp_df['avg_tmp'], linestyle='-', marker='o')\n",
    "ax.set_title(\"全球各年平均气温,公众号：pypi\")\n",
    "ax.set_xlabel(\"年份\")\n",
    "ax.set_ylabel(\"温度平均数$ ^\\circ C $\")\n",
    "plt.tight_layout()\n",
    "plt.show()\n",
    "fig.savefig(\"全球各年平均气温.png\")"
   ],
   "metadata": {
    "collapsed": false,
    "pycharm": {
     "name": "#%%\n"
    }
   }
  },
  {
   "cell_type": "code",
   "execution_count": 93,
   "outputs": [],
   "source": [
    "china_boundary = gpd.read_file(filename=\"中国地图边界202111版.json\")\n",
    "\n",
    "china_boundary_valid = china_boundary.copy()\n",
    "china_boundary_valid['geometry'] = china_boundary.buffer(0)"
   ],
   "metadata": {
    "collapsed": false,
    "pycharm": {
     "name": "#%%\n"
    }
   }
  },
  {
   "cell_type": "code",
   "execution_count": 88,
   "outputs": [],
   "source": [
    "fig, ax = plt.subplots()\n",
    "china_boundary.boundary.plot(ax=ax)\n",
    "ax.set_xlabel(\"longitude\")\n",
    "ax.set_ylabel(\"latitude\")\n",
    "ax.set_title(\"中国地图边界图\")\n",
    "plt.tight_layout()"
   ],
   "metadata": {
    "collapsed": false,
    "pycharm": {
     "name": "#%%\n"
    }
   }
  },
  {
   "cell_type": "markdown",
   "source": [
    "### 对比一下两个地图"
   ],
   "metadata": {
    "collapsed": false,
    "pycharm": {
     "name": "#%% md\n"
    }
   }
  },
  {
   "cell_type": "code",
   "execution_count": 95,
   "outputs": [],
   "source": [
    "fig, ax = plt.subplots(ncols=2)\n",
    "china_boundary.boundary.plot(ax=ax[0])\n",
    "china_boundary_valid.boundary.plot(ax=ax[1])\n",
    "ax[0].set_title(\"原始中国地图\")\n",
    "ax[1].set_title(\"处理有效后的中国地图\")\n",
    "plt.tight_layout()\n"
   ],
   "metadata": {
    "collapsed": false,
    "pycharm": {
     "name": "#%%\n"
    }
   }
  },
  {
   "cell_type": "code",
   "execution_count": 101,
   "outputs": [
    {
     "name": "stderr",
     "output_type": "stream",
     "text": [
      "100%|██████████| 259200/259200 [01:01<00:00, 4243.39it/s] \n"
     ]
    },
    {
     "data": {
      "text/plain": "   longitude  latitude  in_china\n0    -179.75    -89.75     False\n1    -179.25    -89.75     False\n2    -178.75    -89.75     False\n3    -178.25    -89.75     False\n4    -177.75    -89.75     False",
      "text/html": "<div>\n<style scoped>\n    .dataframe tbody tr th:only-of-type {\n        vertical-align: middle;\n    }\n\n    .dataframe tbody tr th {\n        vertical-align: top;\n    }\n\n    .dataframe thead th {\n        text-align: right;\n    }\n</style>\n<table border=\"1\" class=\"dataframe\">\n  <thead>\n    <tr style=\"text-align: right;\">\n      <th></th>\n      <th>longitude</th>\n      <th>latitude</th>\n      <th>in_china</th>\n    </tr>\n  </thead>\n  <tbody>\n    <tr>\n      <th>0</th>\n      <td>-179.75</td>\n      <td>-89.75</td>\n      <td>False</td>\n    </tr>\n    <tr>\n      <th>1</th>\n      <td>-179.25</td>\n      <td>-89.75</td>\n      <td>False</td>\n    </tr>\n    <tr>\n      <th>2</th>\n      <td>-178.75</td>\n      <td>-89.75</td>\n      <td>False</td>\n    </tr>\n    <tr>\n      <th>3</th>\n      <td>-178.25</td>\n      <td>-89.75</td>\n      <td>False</td>\n    </tr>\n    <tr>\n      <th>4</th>\n      <td>-177.75</td>\n      <td>-89.75</td>\n      <td>False</td>\n    </tr>\n  </tbody>\n</table>\n</div>"
     },
     "execution_count": 101,
     "metadata": {},
     "output_type": "execute_result"
    }
   ],
   "source": [
    "def pic(lon, lat) -> bool:\n",
    "    \"\"\"\n",
    "    检测一个点是否在中国边界线内\n",
    "    lon:东经\n",
    "    lat:北纬\n",
    "    :param lon:\n",
    "    :param lat:\n",
    "    :return:\n",
    "    \"\"\"\n",
    "    return china_boundary_valid.contains(Point(lon, lat))[0]\n",
    "\n",
    "\n",
    "pic(lon=116, lat=45)\n",
    "\n",
    "Lon_data, Lat_data = np.meshgrid(raw_lon_data, raw_lat_data)\n",
    "\n",
    "point_set_df = pd.DataFrame({'longitude': Lon_data.flatten(),\n",
    "                             'latitude': Lat_data.flatten()})\n",
    "# 检测每一个点是否在中国内\n",
    "\n",
    "point_set_df['in_china'] = point_set_df.progress_apply(lambda x: pic(lon=x['longitude'], lat=x['latitude']), axis=1)\n",
    "point_set_df.head()"
   ],
   "metadata": {
    "collapsed": false,
    "pycharm": {
     "name": "#%%\n"
    }
   }
  },
  {
   "cell_type": "code",
   "execution_count": 110,
   "outputs": [],
   "source": [
    "point_in_ch = point_set_df.loc[point_set_df['in_china']]\n",
    "\n",
    "fig, ax = plt.subplots(figsize=(10, 7), dpi=200)\n",
    "china_boundary.boundary.plot(ax=ax)\n",
    "ax.scatter(point_in_ch['longitude'], point_in_ch['latitude'], c='red', s=1)\n",
    "ax.set_xlabel(\"longitude\")\n",
    "ax.set_ylabel(\"latitude\")\n",
    "ax.set_title(\"检测点是否在中国境内， 公众号：pypi\")\n",
    "plt.tight_layout()\n",
    "fig.savefig(\"检测点是否在中国境内.png\")"
   ],
   "metadata": {
    "collapsed": false,
    "pycharm": {
     "name": "#%%\n"
    }
   }
  },
  {
   "cell_type": "markdown",
   "source": [
    "## 中国地图边界裁剪"
   ],
   "metadata": {
    "collapsed": false,
    "pycharm": {
     "name": "#%% md\n"
    }
   }
  },
  {
   "cell_type": "code",
   "execution_count": 133,
   "outputs": [],
   "source": [
    "china_boundary_box = china_boundary_valid.bounds.iloc[0]"
   ],
   "metadata": {
    "collapsed": false,
    "pycharm": {
     "name": "#%%\n"
    }
   }
  },
  {
   "cell_type": "code",
   "execution_count": 142,
   "outputs": [],
   "source": [
    "fig, ax = plt.subplots(figsize=(10, 7), dpi=150)\n",
    "china_boundary.boundary.plot(ax=ax, color='black')\n",
    "# 在中国内的点\n",
    "point_in_ch = point_set_df.loc[point_set_df['in_china']]\n",
    "ax.scatter(point_in_ch['longitude'], point_in_ch['latitude'], c='red', s=1)\n",
    "\n",
    "# 不在中国内的点\n",
    "point_notin_ch = point_set_df.loc[~point_set_df['in_china']]\n",
    "ax.scatter(point_notin_ch['longitude'], point_notin_ch['latitude'], c='blue', s=1)\n",
    "\n",
    "ax.set_xlabel(\"longitude\")\n",
    "ax.set_ylabel(\"latitude\")\n",
    "ax.set_title(\"检测点是否在中国境内， 公众号：pypi\")\n",
    "ax.set_xlim(china_boundary_box.minx-0.1, china_boundary_box.maxx+0.1)\n",
    "ax.set_ylim(china_boundary_box.miny-0.1, china_boundary_box.maxy+0.1)\n",
    "plt.tight_layout()\n",
    "fig.savefig(\"检测点是否在中国境内2.png\")\n"
   ],
   "metadata": {
    "collapsed": false,
    "pycharm": {
     "name": "#%%\n"
    }
   }
  },
  {
   "cell_type": "code",
   "execution_count": null,
   "outputs": [],
   "source": [],
   "metadata": {
    "collapsed": false,
    "pycharm": {
     "name": "#%%\n"
    }
   }
  }
 ],
 "metadata": {
  "kernelspec": {
   "display_name": "Python 3",
   "language": "python",
   "name": "python3"
  },
  "language_info": {
   "codemirror_mode": {
    "name": "ipython",
    "version": 2
   },
   "file_extension": ".py",
   "mimetype": "text/x-python",
   "name": "python",
   "nbconvert_exporter": "python",
   "pygments_lexer": "ipython2",
   "version": "2.7.6"
  }
 },
 "nbformat": 4,
 "nbformat_minor": 0
}