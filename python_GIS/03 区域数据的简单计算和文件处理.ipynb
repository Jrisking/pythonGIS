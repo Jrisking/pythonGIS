{
 "cells": [
  {
   "cell_type": "code",
   "execution_count": 1,
   "metadata": {
    "collapsed": true
   },
   "outputs": [],
   "source": [
    "import numpy as np\n",
    "import pandas as pd\n",
    "import netCDF4 as nc"
   ]
  },
  {
   "cell_type": "markdown",
   "source": [
    "## 加载nc文件和读取数据\n"
   ],
   "metadata": {
    "collapsed": false,
    "pycharm": {
     "name": "#%% md\n"
    }
   }
  },
  {
   "cell_type": "code",
   "execution_count": 2,
   "outputs": [],
   "source": [
    "nc_data = nc.Dataset(\"cru_ts4.05.1901.2020.tmp.dat.nc\")"
   ],
   "metadata": {
    "collapsed": false,
    "pycharm": {
     "name": "#%%\n"
    }
   }
  },
  {
   "cell_type": "code",
   "execution_count": 3,
   "outputs": [
    {
     "name": "stdout",
     "output_type": "stream",
     "text": [
      "**********************************************************************\n",
      "<class 'netCDF4._netCDF4.Variable'>\n",
      "float32 lon(lon)\n",
      "    long_name: longitude\n",
      "    units: degrees_east\n",
      "unlimited dimensions: \n",
      "current shape = (720,)\n",
      "filling on, default _FillValue of 9.969209968386869e+36 used\n",
      "**********************************************************************\n",
      "<class 'netCDF4._netCDF4.Variable'>\n",
      "float32 lat(lat)\n",
      "    long_name: latitude\n",
      "    units: degrees_north\n",
      "unlimited dimensions: \n",
      "current shape = (360,)\n",
      "filling on, default _FillValue of 9.969209968386869e+36 used\n",
      "**********************************************************************\n",
      "<class 'netCDF4._netCDF4.Variable'>\n",
      "float32 time(time)\n",
      "    long_name: time\n",
      "    units: days since 1900-1-1\n",
      "    calendar: gregorian\n",
      "unlimited dimensions: time\n",
      "current shape = (1440,)\n",
      "filling on, default _FillValue of 9.969209968386869e+36 used\n",
      "**********************************************************************\n",
      "<class 'netCDF4._netCDF4.Variable'>\n",
      "float32 tmp(time, lat, lon)\n",
      "    long_name: near-surface temperature\n",
      "    units: degrees Celsius\n",
      "    correlation_decay_distance: 1200.0\n",
      "    _FillValue: 9.96921e+36\n",
      "    missing_value: 9.96921e+36\n",
      "unlimited dimensions: time\n",
      "current shape = (1440, 360, 720)\n",
      "filling on\n",
      "**********************************************************************\n",
      "<class 'netCDF4._netCDF4.Variable'>\n",
      "int32 stn(time, lat, lon)\n",
      "    description: number of stations contributing to each datum\n",
      "    _FillValue: -999\n",
      "    missing_value: -999\n",
      "unlimited dimensions: time\n",
      "current shape = (1440, 360, 720)\n",
      "filling on\n"
     ]
    },
    {
     "name": "stderr",
     "output_type": "stream",
     "text": [
      "<ipython-input-3-ab2ee6009efa>:3: DeprecationWarning: tostring() is deprecated. Use tobytes() instead.\n",
      "  print(temp_value)\n"
     ]
    }
   ],
   "source": [
    "for temp_value in nc_data.variables.values():\n",
    "    print(\"*\" * 70)\n",
    "    print(temp_value)"
   ],
   "metadata": {
    "collapsed": false,
    "pycharm": {
     "name": "#%%\n"
    }
   }
  },
  {
   "cell_type": "code",
   "execution_count": null,
   "outputs": [],
   "source": [],
   "metadata": {
    "collapsed": false,
    "pycharm": {
     "name": "#%%\n"
    }
   }
  }
 ],
 "metadata": {
  "kernelspec": {
   "display_name": "Python 3",
   "language": "python",
   "name": "python3"
  },
  "language_info": {
   "codemirror_mode": {
    "name": "ipython",
    "version": 2
   },
   "file_extension": ".py",
   "mimetype": "text/x-python",
   "name": "python",
   "nbconvert_exporter": "python",
   "pygments_lexer": "ipython2",
   "version": "2.7.6"
  }
 },
 "nbformat": 4,
 "nbformat_minor": 0
}