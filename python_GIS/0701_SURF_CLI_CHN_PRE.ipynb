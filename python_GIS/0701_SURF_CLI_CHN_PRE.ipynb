{
 "cells": [
  {
   "cell_type": "markdown",
   "source": [
    "# 气象数据数据处理\n",
    "\n",
    "气象数据集说明文档\n",
    "## 1.数据集信息\n",
    "  数据集中文名称：中国地面降水日值0.5°×0.5°格点数据集（V2.0）\n",
    "  数据集代码：SURF_CLI_CHN_PRE_DAY_GRID_0.5\n",
    "  数据集版本：V2.0\n",
    "  数据集建立时间：20120801\n",
    "## 2.数据来源：\n",
    "该数据集的数据来源包括2个部分：由国家气象信息中心基础资料专项收集、整理的1961年至最新的全国国家级台站（基本、基准和一般站）的降水日值资料；由GTOPO30数据（分辨率为0.05°×0.05°）经过重采样生产的中国陆地0.5°×0.5°的数字高程模型DEM。\n",
    "## 3.数据集实体\n",
    "###  3.1.数据集实体内容说明\n",
    "#### 3.1.1.数据集实体文件名称：\n",
    "\n",
    "中国降水日值0.5°×0.5°格点数据集文件命名由数据集代码（SURF_CLI_CHN_PRE_DAY_GRID_0.5）、年月日标识（YYYYMMDD）组成。\n",
    "具体形式：SURF_CLI_CHN_PRE_DAY_GRID_0.5-YYYYMMDD.TXT\n",
    "#### 3.1.2.数据集实体文件的内容描述：\n",
    "\n",
    "数据集存储格式为ARCGIS标准格式，数据集实体包括1961年1月1日－至最新的逐日数据文件，每个文件中包括的前6行为头文件信息，其中：\n",
    "第一行\"ncols        128\"表示实体数据有128列；\n",
    "第二行\"nrows       72\"表示实体数据有72行；\n",
    "第三行\"xllcorner    72\"表示数据最左下方格点单元的经度范围是72°-72.5°E；\n",
    "第四行\"yllcorner    18\"表示数据最左下方格点单元的纬度范围是18°-18.5°N；\n",
    "第五行\"cellsize      0.5\"表示网格是0.5°×0.5°的；\n",
    "第六行\"NODATA_value  -9999.0\"表示中国区域以外的值用-9999.0表示。\n",
    "从第七行开始是对应网格的降水值，第七行（降水数据第一行）第一列数据网格中心为（72.25°E ，53.75°N），第七行第二列数据网格中心为（72.75°E ，53.75°N），……，数据最后一行最后一列网格中心为（135.75°E ，18.25°N）。降水值保留1位小数。经度单位：度，纬度单位：度，格点降水单位：mm。\n",
    "#### 3.1.3.特征值说明：\n",
    "中国区域以外的值用-9999.0表示。\n"
   ],
   "metadata": {
    "collapsed": false
   }
  },
  {
   "cell_type": "code",
   "execution_count": 2,
   "metadata": {
    "collapsed": true
   },
   "outputs": [],
   "source": [
    "import numpy as np\n",
    "import re\n",
    "from glob import glob\n",
    "\n",
    "import pandas as pd\n",
    "from tqdm import tqdm\n",
    "from joblib import Parallel, delayed"
   ]
  },
  {
   "cell_type": "code",
   "execution_count": 9,
   "outputs": [
    {
     "data": {
      "text/plain": "{'params': {'date': '19610101',\n  'NCOLS': 128.0,\n  'NROWS': 72.0,\n  'XLLCORNER': 72.0,\n  'YLLCORNER': 18.0,\n  'CELLSIZE': 0.5,\n  'NODATA_VALUE': -9999.0},\n 'array': array([[-9999., -9999., -9999., ..., -9999., -9999., -9999.],\n        [-9999., -9999., -9999., ..., -9999., -9999., -9999.],\n        [-9999., -9999., -9999., ..., -9999., -9999., -9999.],\n        ...,\n        [-9999., -9999., -9999., ..., -9999., -9999., -9999.],\n        [-9999., -9999., -9999., ..., -9999., -9999., -9999.],\n        [-9999., -9999., -9999., ..., -9999., -9999., -9999.]])}"
     },
     "execution_count": 9,
     "metadata": {},
     "output_type": "execute_result"
    }
   ],
   "source": [
    "txt_file = \"/Users/huzheng/Downloads/气象数据集合/SURF_CLI_CHN_PRE_DAY_GRID_0.5_V2.0/1961/SURF_CLI_CHN_PRE_DAY_GRID_0.5-19610101.txt\"\n",
    "\n",
    "\n",
    "def txtfile2array(txtfile):\n",
    "    with open(file=txtfile, mode='r', encoding='utf-8') as f:\n",
    "        data = f.readlines()\n",
    "\n",
    "    params = ['NCOLS', 'NROWS', 'XLLCORNER', 'YLLCORNER', 'CELLSIZE', 'NODATA_VALUE']\n",
    "    params_dict = {}\n",
    "\n",
    "    params_dict['date'] = re.findall(pattern=\"\\-(.*?)\\.txt\", string=txtfile)[0]\n",
    "\n",
    "    for index, temp_key in enumerate(params):\n",
    "        params_dict[temp_key] = float([i for i in data[index].split(' ') if i != ''][1])\n",
    "\n",
    "    out_array = np.concatenate(\n",
    "        [np.array([float(i.strip()) for i in data[index].split(' ') if i != '']).reshape(1, -1) for index in\n",
    "         range(len(params_dict) - 1, len(data))])\n",
    "    return {'params': params_dict,\n",
    "            'array': out_array}\n",
    "\n",
    "\n",
    "txtfile2array(txtfile=txt_file)\n"
   ],
   "metadata": {
    "collapsed": false,
    "pycharm": {
     "name": "#%%\n"
    }
   }
  },
  {
   "cell_type": "code",
   "execution_count": 11,
   "outputs": [
    {
     "data": {
      "text/plain": "['/Users/huzheng/Downloads/气象数据集合/SURF_CLI_CHN_PRE_DAY_GRID_0.5_V2.0/1961/SURF_CLI_CHN_PRE_DAY_GRID_0.5-19610101.txt',\n '/Users/huzheng/Downloads/气象数据集合/SURF_CLI_CHN_PRE_DAY_GRID_0.5_V2.0/1961/SURF_CLI_CHN_PRE_DAY_GRID_0.5-19610102.txt',\n '/Users/huzheng/Downloads/气象数据集合/SURF_CLI_CHN_PRE_DAY_GRID_0.5_V2.0/1961/SURF_CLI_CHN_PRE_DAY_GRID_0.5-19610103.txt',\n '/Users/huzheng/Downloads/气象数据集合/SURF_CLI_CHN_PRE_DAY_GRID_0.5_V2.0/1961/SURF_CLI_CHN_PRE_DAY_GRID_0.5-19610104.txt',\n '/Users/huzheng/Downloads/气象数据集合/SURF_CLI_CHN_PRE_DAY_GRID_0.5_V2.0/1961/SURF_CLI_CHN_PRE_DAY_GRID_0.5-19610105.txt']"
     },
     "execution_count": 11,
     "metadata": {},
     "output_type": "execute_result"
    }
   ],
   "source": [
    "base_dir = \"/Users/huzheng/Downloads/气象数据集合/SURF_CLI_CHN_PRE_DAY_GRID_0.5_V2.0\"\n",
    "year_dir = glob(pathname=f\"{base_dir}/*/*.txt\")\n",
    "year_dir = sorted(year_dir, key=lambda x: re.findall(pattern=\"\\-(.*?)\\.txt\", string=x)[0])\n",
    "year_dir[:5]"
   ],
   "metadata": {
    "collapsed": false,
    "pycharm": {
     "name": "#%%\n"
    }
   }
  },
  {
   "cell_type": "code",
   "execution_count": 12,
   "outputs": [
    {
     "name": "stderr",
     "output_type": "stream",
     "text": [
      "100%|██████████| 21197/21197 [00:17<00:00, 1183.01it/s]\n"
     ]
    }
   ],
   "source": [
    "temp_result = Parallel(n_jobs=-1)(delayed(txtfile2array)(i) for i in tqdm(year_dir))"
   ],
   "metadata": {
    "collapsed": false,
    "pycharm": {
     "name": "#%%\n"
    }
   }
  },
  {
   "cell_type": "code",
   "execution_count": 13,
   "outputs": [
    {
     "data": {
      "text/plain": "(21197, 72, 128)"
     },
     "execution_count": 13,
     "metadata": {},
     "output_type": "execute_result"
    }
   ],
   "source": [
    "final_alldata = np.concatenate([np.expand_dims(i['array'], axis=0) for i in temp_result], axis=0)\n",
    "final_alldata.shape"
   ],
   "metadata": {
    "collapsed": false,
    "pycharm": {
     "name": "#%%\n"
    }
   }
  },
  {
   "cell_type": "code",
   "execution_count": 29,
   "outputs": [
    {
     "data": {
      "text/plain": "[Timestamp('1961-01-01 00:00:00'),\n Timestamp('1961-01-02 00:00:00'),\n Timestamp('1961-01-03 00:00:00'),\n Timestamp('1961-01-04 00:00:00')]"
     },
     "execution_count": 29,
     "metadata": {},
     "output_type": "execute_result"
    }
   ],
   "source": [
    "import pandas as pd\n",
    "pd.to_datetime([i['params']['date'] for i in temp_result]).tolist()[:4]"
   ],
   "metadata": {
    "collapsed": false,
    "pycharm": {
     "name": "#%%\n"
    }
   }
  },
  {
   "cell_type": "markdown",
   "source": [
    "## 更多操作"
   ],
   "metadata": {
    "collapsed": false
   }
  },
  {
   "cell_type": "code",
   "execution_count": 18,
   "outputs": [
    {
     "data": {
      "text/plain": "-9999.0"
     },
     "execution_count": 18,
     "metadata": {},
     "output_type": "execute_result"
    }
   ],
   "source": [
    "list(set([i['params']['NODATA_VALUE'] for i in temp_result]))[0]"
   ],
   "metadata": {
    "collapsed": false,
    "pycharm": {
     "name": "#%%\n"
    }
   }
  },
  {
   "cell_type": "code",
   "execution_count": 19,
   "outputs": [
    {
     "data": {
      "text/plain": "array([[[nan, nan, nan, ..., nan, nan, nan],\n        [nan, nan, nan, ..., nan, nan, nan],\n        [nan, nan, nan, ..., nan, nan, nan],\n        ...,\n        [nan, nan, nan, ..., nan, nan, nan],\n        [nan, nan, nan, ..., nan, nan, nan],\n        [nan, nan, nan, ..., nan, nan, nan]],\n\n       [[nan, nan, nan, ..., nan, nan, nan],\n        [nan, nan, nan, ..., nan, nan, nan],\n        [nan, nan, nan, ..., nan, nan, nan],\n        ...,\n        [nan, nan, nan, ..., nan, nan, nan],\n        [nan, nan, nan, ..., nan, nan, nan],\n        [nan, nan, nan, ..., nan, nan, nan]],\n\n       [[nan, nan, nan, ..., nan, nan, nan],\n        [nan, nan, nan, ..., nan, nan, nan],\n        [nan, nan, nan, ..., nan, nan, nan],\n        ...,\n        [nan, nan, nan, ..., nan, nan, nan],\n        [nan, nan, nan, ..., nan, nan, nan],\n        [nan, nan, nan, ..., nan, nan, nan]],\n\n       ...,\n\n       [[nan, nan, nan, ..., nan, nan, nan],\n        [nan, nan, nan, ..., nan, nan, nan],\n        [nan, nan, nan, ..., nan, nan, nan],\n        ...,\n        [nan, nan, nan, ..., nan, nan, nan],\n        [nan, nan, nan, ..., nan, nan, nan],\n        [nan, nan, nan, ..., nan, nan, nan]],\n\n       [[nan, nan, nan, ..., nan, nan, nan],\n        [nan, nan, nan, ..., nan, nan, nan],\n        [nan, nan, nan, ..., nan, nan, nan],\n        ...,\n        [nan, nan, nan, ..., nan, nan, nan],\n        [nan, nan, nan, ..., nan, nan, nan],\n        [nan, nan, nan, ..., nan, nan, nan]],\n\n       [[nan, nan, nan, ..., nan, nan, nan],\n        [nan, nan, nan, ..., nan, nan, nan],\n        [nan, nan, nan, ..., nan, nan, nan],\n        ...,\n        [nan, nan, nan, ..., nan, nan, nan],\n        [nan, nan, nan, ..., nan, nan, nan],\n        [nan, nan, nan, ..., nan, nan, nan]]])"
     },
     "execution_count": 19,
     "metadata": {},
     "output_type": "execute_result"
    }
   ],
   "source": [
    "data2 = final_alldata.copy()\n",
    "data2[data2 == list(set([i['params']['NODATA_VALUE'] for i in temp_result]))[0]] = np.nan\n",
    "data2"
   ],
   "metadata": {
    "collapsed": false,
    "pycharm": {
     "name": "#%%\n"
    }
   }
  },
  {
   "cell_type": "code",
   "execution_count": 21,
   "outputs": [
    {
     "data": {
      "text/plain": "135878739.4999997"
     },
     "execution_count": 21,
     "metadata": {},
     "output_type": "execute_result"
    }
   ],
   "source": [],
   "metadata": {
    "collapsed": false,
    "pycharm": {
     "name": "#%%\n"
    }
   }
  },
  {
   "cell_type": "code",
   "execution_count": null,
   "outputs": [],
   "source": [],
   "metadata": {
    "collapsed": false,
    "pycharm": {
     "name": "#%%\n"
    }
   }
  }
 ],
 "metadata": {
  "kernelspec": {
   "display_name": "Python 3",
   "language": "python",
   "name": "python3"
  },
  "language_info": {
   "codemirror_mode": {
    "name": "ipython",
    "version": 2
   },
   "file_extension": ".py",
   "mimetype": "text/x-python",
   "name": "python",
   "nbconvert_exporter": "python",
   "pygments_lexer": "ipython2",
   "version": "2.7.6"
  }
 },
 "nbformat": 4,
 "nbformat_minor": 0
}