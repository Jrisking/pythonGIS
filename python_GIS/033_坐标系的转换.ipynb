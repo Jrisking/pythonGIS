{
 "cells": [
  {
   "cell_type": "code",
   "execution_count": null,
   "metadata": {
    "collapsed": true,
    "pycharm": {
     "name": "#%%\n"
    }
   },
   "outputs": [],
   "source": [
    "import geopandas as gpd\n",
    "import pandas as pd\n",
    "import numpy as np\n",
    "import matplotlib.pyplot as plt\n",
    "from cartopy import crs as ccrs\n",
    "import platform\n",
    "\n",
    "\n",
    "\n",
    "if platform.system() == 'Darwin':\n",
    "    plt.rcParams[\"font.family\"] = 'Arial Unicode MS'\n",
    "elif platform.system() == 'Windows':\n",
    "    plt.rcParams[\"font.family\"] = 'SimHei'\n",
    "else:\n",
    "    pass"
   ]
  },
  {
   "cell_type": "code",
   "execution_count": null,
   "metadata": {
    "collapsed": false,
    "pycharm": {
     "name": "#%%\n"
    }
   },
   "outputs": [],
   "source": [
    "china_full_map = gpd.read_file(filename=\"数据集/100000_中华人民共和国_full.json\")\n",
    "china_full_map['geometry'] = china_full_map.buffer(0)\n",
    "china_full_map.head()"
   ]
  },
  {
   "cell_type": "code",
   "execution_count": null,
   "metadata": {
    "collapsed": false,
    "pycharm": {
     "name": "#%%\n"
    }
   },
   "outputs": [],
   "source": [
    "china_full_map.crs\n"
   ]
  },
  {
   "cell_type": "code",
   "execution_count": null,
   "metadata": {
    "collapsed": false,
    "pycharm": {
     "name": "#%%\n"
    }
   },
   "outputs": [],
   "source": [
    "china_boundary = gpd.read_file(filename=\"数据集/中国地图边界202111版.json\")\n",
    "china_boundary['geometry'] = china_boundary.buffer(0)\n",
    "china_boundary"
   ]
  },
  {
   "cell_type": "code",
   "execution_count": null,
   "metadata": {
    "collapsed": false,
    "pycharm": {
     "name": "#%%\n"
    }
   },
   "outputs": [],
   "source": [
    "china_boundary.bounds"
   ]
  },
  {
   "cell_type": "code",
   "execution_count": null,
   "metadata": {
    "collapsed": false,
    "pycharm": {
     "name": "#%%\n"
    }
   },
   "outputs": [],
   "source": [
    "china_boundary.crs\n"
   ]
  },
  {
   "cell_type": "code",
   "execution_count": null,
   "metadata": {
    "collapsed": false,
    "pycharm": {
     "name": "#%%\n"
    }
   },
   "outputs": [],
   "source": [
    "china_boundary.centroid[0].x"
   ]
  },
  {
   "cell_type": "code",
   "execution_count": null,
   "metadata": {
    "collapsed": false,
    "pycharm": {
     "name": "#%%\n"
    }
   },
   "outputs": [],
   "source": [
    "lambert_ccrs = ccrs.LambertConformal(central_longitude=china_boundary.centroid[0].x,\n",
    "                                     central_latitude=china_boundary.centroid[0].y)"
   ]
  },
  {
   "cell_type": "code",
   "execution_count": null,
   "metadata": {
    "collapsed": false,
    "pycharm": {
     "name": "#%%\n"
    }
   },
   "outputs": [],
   "source": [
    "china_boundary_lambert = china_boundary.to_crs(lambert_ccrs.proj4_init)\n",
    "china_boundary_lambert"
   ]
  },
  {
   "cell_type": "code",
   "execution_count": null,
   "metadata": {
    "collapsed": false,
    "pycharm": {
     "name": "#%%\n"
    }
   },
   "outputs": [],
   "source": [
    "china_full_map_lambert = china_full_map.to_crs(lambert_ccrs.proj4_init)\n",
    "china_full_map_lambert"
   ]
  },
  {
   "cell_type": "code",
   "execution_count": null,
   "metadata": {
    "collapsed": false,
    "pycharm": {
     "name": "#%%\n"
    }
   },
   "outputs": [],
   "source": [
    "ax1 = plt.subplot(121)\n",
    "china_full_map.boundary.plot(ax=ax1)\n",
    "ax2 = plt.subplot(122, projection=lambert_ccrs)\n",
    "china_full_map_lambert.boundary.plot(ax=ax2)\n",
    "ax2.gridlines()\n"
   ]
  },
  {
   "cell_type": "code",
   "execution_count": null,
   "metadata": {
    "collapsed": false,
    "pycharm": {
     "name": "#%%\n"
    }
   },
   "outputs": [],
   "source": [
    "sample_data = pd.DataFrame({'lon':np.linspace(start=100, stop=105, num=100),\n",
    "                            'lat':np.linspace(start=30, stop=40, num=100),\n",
    "                            'show_value':np.random.rand(100)})\n"
   ]
  },
  {
   "cell_type": "code",
   "execution_count": null,
   "metadata": {
    "collapsed": false,
    "pycharm": {
     "name": "#%%\n"
    }
   },
   "outputs": [],
   "source": [
    "print(china_boundary.crs)"
   ]
  },
  {
   "cell_type": "code",
   "execution_count": null,
   "metadata": {
    "collapsed": false,
    "pycharm": {
     "name": "#%%\n"
    }
   },
   "outputs": [],
   "source": [
    "sample_data_gpd = gpd.GeoDataFrame(\n",
    "    sample_data,\n",
    "    geometry=gpd.points_from_xy(x=sample_data['lon'], y=sample_data['lat']),\n",
    "    crs='epsg:4326'#china_boundary.crs\n",
    ")\n",
    "sample_data_gpd"
   ]
  },
  {
   "cell_type": "code",
   "execution_count": null,
   "metadata": {
    "collapsed": false,
    "pycharm": {
     "name": "#%%\n"
    }
   },
   "outputs": [],
   "source": [
    "sample_data_gpd = sample_data_gpd.to_crs(lambert_ccrs.proj4_init)\n",
    "sample_data_gpd"
   ]
  },
  {
   "cell_type": "code",
   "execution_count": null,
   "metadata": {
    "collapsed": false,
    "pycharm": {
     "name": "#%%\n"
    }
   },
   "outputs": [],
   "source": [
    "fig, ax = plt.subplots(subplot_kw={'projection': lambert_ccrs}, figsize=(7,7), dpi=150)\n",
    "sample_data_gpd.plot(ax=ax, column='show_value')\n",
    "china_full_map_lambert.boundary.plot(ax=ax)\n",
    "ax.gridlines(draw_labels=True,\n",
    "             linewidth=2, color='gray', alpha=0.5, linestyle='--')"
   ]
  },
  {
   "cell_type": "code",
   "execution_count": null,
   "metadata": {
    "collapsed": false,
    "pycharm": {
     "name": "#%%\n"
    }
   },
   "outputs": [],
   "source": []
  }
 ],
 "metadata": {
  "kernelspec": {
   "display_name": "Python 3",
   "language": "python",
   "name": "python3"
  },
  "language_info": {
   "codemirror_mode": {
    "name": "ipython",
    "version": 2
   },
   "file_extension": ".py",
   "mimetype": "text/x-python",
   "name": "python",
   "nbconvert_exporter": "python",
   "pygments_lexer": "ipython2",
   "version": "2.7.6"
  }
 },
 "nbformat": 4,
 "nbformat_minor": 0
}
