{
 "cells": [
  {
   "cell_type": "markdown",
   "metadata": {
    "collapsed": true,
    "pycharm": {
     "name": "#%% md\n"
    }
   },
   "source": [
    "## 导入包"
   ]
  },
  {
   "cell_type": "code",
   "execution_count": null,
   "metadata": {
    "collapsed": false,
    "pycharm": {
     "name": "#%%\n"
    }
   },
   "outputs": [],
   "source": [
    "import numpy as np\n",
    "import pandas as pd\n",
    "import geopandas as gpd\n",
    "import netCDF4 as nc\n",
    "\n",
    "from tqdm import tqdm\n",
    "from netCDF4 import num2date\n",
    "\n",
    "import matplotlib.pyplot as plt\n",
    "\n",
    "from shapely.geometry import Point\n",
    "# from shapely.validation import make_valid\n",
    "\n",
    "import platform"
   ]
  },
  {
   "cell_type": "markdown",
   "metadata": {
    "collapsed": false,
    "pycharm": {
     "name": "#%% md\n"
    }
   },
   "source": [
    "## 加载NC文件"
   ]
  },
  {
   "cell_type": "code",
   "execution_count": null,
   "metadata": {
    "collapsed": false,
    "pycharm": {
     "name": "#%%\n"
    }
   },
   "outputs": [],
   "source": [
    "nc_data = nc.Dataset(\"lftx.sfc.2021.nc\")"
   ]
  },
  {
   "cell_type": "markdown",
   "metadata": {
    "collapsed": false,
    "pycharm": {
     "name": "#%% md\n"
    }
   },
   "source": [
    "## 处理NC数据"
   ]
  },
  {
   "cell_type": "code",
   "execution_count": null,
   "metadata": {
    "collapsed": false,
    "pycharm": {
     "name": "#%%\n"
    }
   },
   "outputs": [],
   "source": [
    "time_units = [temp_variable.units for temp_variable in nc_data.variables.values() if temp_variable.name == 'time'][0]\n",
    "# [pd.to_datetime(str(num2date(temp_time,units=time_units))) for temp_time in np.array(nc_data.variables['time'])]\n",
    "time_list = [num2date(temp_time, units=time_units).strftime('%Y-%m-%d') for temp_time in\n",
    "             np.array(nc_data.variables['time'])]\n"
   ]
  },
  {
   "cell_type": "code",
   "execution_count": null,
   "metadata": {
    "collapsed": false,
    "pycharm": {
     "name": "#%%\n"
    }
   },
   "outputs": [],
   "source": [
    "lftx_data = np.array(nc_data.variables['lftx'])\n",
    "lftx_data = lftx_data[np.where([i == '2021-02-13' for i in time_list])[0][0], :, :]\n",
    "\n",
    "lon_data = np.array(nc_data.variables['lon'])\n",
    "lat_data = np.array(nc_data.variables['lat'])"
   ]
  },
  {
   "cell_type": "markdown",
   "metadata": {
    "collapsed": false,
    "pycharm": {
     "name": "#%% md\n"
    }
   },
   "source": [
    "## 读取json数据"
   ]
  },
  {
   "cell_type": "code",
   "execution_count": null,
   "metadata": {
    "collapsed": false,
    "pycharm": {
     "name": "#%%\n"
    }
   },
   "outputs": [],
   "source": [
    "chinamap_data = gpd.read_file(filename=\"100000_中华人民共和国_full.json\")\n",
    "chinamap_data.head()"
   ]
  },
  {
   "cell_type": "code",
   "execution_count": null,
   "metadata": {
    "collapsed": false,
    "pycharm": {
     "name": "#%%\n"
    }
   },
   "outputs": [],
   "source": [
    "% matplotlib\n",
    "fig, ax = plt.subplots(figsize=(6, 6))\n",
    "chinamap_data.iloc[:35, :].plot(ax=ax, color='black')\n",
    "plt.show()"
   ]
  },
  {
   "cell_type": "code",
   "execution_count": null,
   "metadata": {
    "collapsed": false,
    "pycharm": {
     "name": "#%%\n"
    }
   },
   "outputs": [],
   "source": [
    "\n",
    "#\n",
    "# chinamap_data['geometry'].contains(Point(20, 40))"
   ]
  },
  {
   "cell_type": "markdown",
   "metadata": {
    "collapsed": false,
    "pycharm": {
     "name": "#%% md\n"
    }
   },
   "source": [
    "## 处理地图数据"
   ]
  },
  {
   "cell_type": "code",
   "execution_count": null,
   "metadata": {
    "collapsed": false,
    "pycharm": {
     "name": "#%%\n"
    }
   },
   "outputs": [],
   "source": [
    "Lon_data, Lat_data = np.meshgrid(lon_data, lat_data)"
   ]
  },
  {
   "cell_type": "code",
   "execution_count": null,
   "metadata": {
    "collapsed": false,
    "pycharm": {
     "name": "#%%\n"
    }
   },
   "outputs": [],
   "source": [
    "lftx_data_with_location = pd.DataFrame({'lon': Lon_data.flatten(),\n",
    "                                        'lat': Lat_data.flatten(),\n",
    "                                        'lftx': lftx_data.flatten()})\n",
    "lftx_data_with_location.head()"
   ]
  },
  {
   "cell_type": "code",
   "execution_count": null,
   "metadata": {
    "collapsed": false,
    "pycharm": {
     "name": "#%%\n"
    }
   },
   "outputs": [],
   "source": [
    "map_value = chinamap_data[['adcode', 'name', 'geometry']]\n",
    "map_value['lftx_value'] = 0\n",
    "map_value['num'] = 0\n",
    "\n",
    "\n",
    "# map_value.head()\n",
    "\n",
    "def trans(lon):\n",
    "    \"\"\"\n",
    "\n",
    "    :param lon:\n",
    "    :return:\n",
    "    \"\"\"\n",
    "    if lon <= 180:\n",
    "        return lon\n",
    "    else:\n",
    "        return lon - 360\n",
    "\n",
    "\n",
    "# 这个代码非常重要\n",
    "# https://stackoverflow.com/questions/63955752/topologicalerror-the-operation-geosintersection-r-could-not-be-performed\n",
    "\n",
    "# map_value['geometry'] = map_value.buffer(0)\n",
    "\n",
    "\n",
    "\n",
    "map_value['geometry'] = map_value.buffer(0) #['geometry'].apply(lambda x: make_valid(x))\n",
    "map_value.loc[~map_value.is_valid]"
   ]
  },
  {
   "cell_type": "code",
   "execution_count": null,
   "metadata": {
    "collapsed": false,
    "pycharm": {
     "name": "#%%\n"
    }
   },
   "outputs": [],
   "source": [
    "\n",
    "for index in tqdm(range(lftx_data_with_location.shape[0])):\n",
    "    temp_df = lftx_data_with_location.iloc[index, :]\n",
    "\n",
    "    temp_mask = map_value['geometry'].contains(Point(trans(temp_df.lon),\n",
    "                                                     temp_df.lat))\n",
    "    map_value['lftx_value'] = map_value['lftx_value'] + temp_mask * temp_df.lftx\n",
    "\n",
    "    map_value['num'] = map_value['num'] + temp_mask * 1"
   ]
  },
  {
   "cell_type": "code",
   "execution_count": null,
   "metadata": {
    "collapsed": false,
    "pycharm": {
     "name": "#%%\n"
    }
   },
   "outputs": [],
   "source": [
    "map_value['mean_lftx'] = map_value['lftx_value'] / map_value['num']  #(map_value['num'] + 0.00001)\n",
    "\n",
    "map_value.loc[pd.isna(map_value['mean_lftx']), 'mean_lftx'] = 0\n",
    "map_value.head()"
   ]
  },
  {
   "cell_type": "markdown",
   "metadata": {
    "collapsed": false,
    "pycharm": {
     "name": "#%% md\n"
    }
   },
   "source": [
    "## 画图\n"
   ]
  },
  {
   "cell_type": "code",
   "execution_count": null,
   "metadata": {
    "collapsed": false,
    "pycharm": {
     "name": "#%%\n"
    }
   },
   "outputs": [],
   "source": [
    "\n",
    "\n",
    "# 检测系统\n",
    "import platform\n",
    "\n",
    "if platform.system() == 'Darwin':\n",
    "    plt.rcParams[\"font.family\"] = 'Arial Unicode MS'\n",
    "elif platform.system() == 'Windows':\n",
    "    plt.rcParams[\"font.family\"] = 'SimHei'\n",
    "else:\n",
    "    pass\n",
    "# Linux\n",
    "# Windows\n",
    "\n",
    "\n",
    "fig, ax = plt.subplots()\n",
    "\n",
    "map_value.plot(ax=ax, column='mean_lftx', legend=True)\n",
    "\n",
    "map_value['center_lon'] = map_value['geometry'].centroid.x\n",
    "map_value['center_lat'] = map_value['geometry'].centroid.y\n",
    "\n",
    "for index in range(map_value.shape[0]):\n",
    "    # ax.scatter(map_value['center_lon'], map_value['center_lat'])\n",
    "    temp_df = map_value.iloc[index, :]\n",
    "    ax.text(x=temp_df.center_lon, y=temp_df.center_lat, s=str(temp_df['name']))\n",
    "\n",
    "ax.set_title(\"demo 中国地图, 公众号：pypi\", fontdict={\"size\": 20})\n",
    "ax.autoscale()\n",
    "plt.tight_layout()"
   ]
  },
  {
   "cell_type": "code",
   "execution_count": null,
   "metadata": {
    "collapsed": false,
    "pycharm": {
     "name": "#%%\n"
    }
   },
   "outputs": [],
   "source": []
  }
 ],
 "metadata": {
  "kernelspec": {
   "display_name": "Python 3.8.8 ('devc')",
   "language": "python",
   "name": "python3"
  },
  "language_info": {
   "codemirror_mode": {
    "name": "ipython",
    "version": 2
   },
   "file_extension": ".py",
   "mimetype": "text/x-python",
   "name": "python",
   "nbconvert_exporter": "python",
   "pygments_lexer": "ipython2",
   "version": "3.8.8"
  },
  "vscode": {
   "interpreter": {
    "hash": "4fb0a6905ed5d212c3c96d4a56e67eb44191d04d6f3997ffb197b9a104e8e26d"
   }
  }
 },
 "nbformat": 4,
 "nbformat_minor": 0
}
