{
 "cells": [
  {
   "cell_type": "markdown",
   "metadata": {
    "collapsed": true,
    "pycharm": {
     "name": "#%% md\n"
    }
   },
   "source": [
    "# 导入包"
   ]
  },
  {
   "cell_type": "code",
   "execution_count": null,
   "metadata": {
    "pycharm": {
     "name": "#%%\n"
    }
   },
   "outputs": [],
   "source": [
    "\n",
    "# 基础的数据处理工具\n",
    "import numpy as np\n",
    "import pandas as pd\n",
    "\n",
    "# 可视化\n",
    "import matplotlib.pyplot as plt\n",
    "\n",
    "# 处理python时间函数\n",
    "import datetime\n",
    "\n",
    "# 处理nc数据\n",
    "import netCDF4 as nc\n",
    "from netCDF4 import num2date\n",
    "\n",
    "# 处理网格数据，shp之类的\n",
    "import geopandas as gpd\n",
    "\n",
    "# 处理tiff文件\n",
    "import rasterio\n",
    "\n",
    "# gis的一些逻辑判断\n",
    "from shapely.geometry import Point\n",
    "\n",
    "# 设置投影坐标系等\n",
    "from cartopy import crs as ccrs\n",
    "\n",
    "# 打印进度条\n",
    "from tqdm import tqdm\n",
    "\n",
    "tqdm.pandas()\n",
    "\n",
    "# 检测系统\n",
    "\n",
    "import platform\n",
    "\n",
    "# matplotlib 显示中文的问题\n",
    "if platform.system() == 'Darwin':\n",
    "    plt.rcParams[\"font.family\"] = 'Arial Unicode MS'\n",
    "elif platform.system() == 'Windows':\n",
    "    plt.rcParams[\"font.family\"] = 'SimHei'\n",
    "else:\n",
    "    pass"
   ]
  },
  {
   "cell_type": "markdown",
   "metadata": {
    "pycharm": {
     "name": "#%% md\n"
    }
   },
   "source": [
    "# 加载并且处理数据\n",
    "## 加载nc文件和读取数据"
   ]
  },
  {
   "cell_type": "code",
   "execution_count": null,
   "metadata": {
    "pycharm": {
     "name": "#%%\n"
    }
   },
   "outputs": [],
   "source": [
    "nc_data = nc.Dataset(\"cru_ts4.05.1901.2020.tmp.dat.nc\")"
   ]
  },
  {
   "cell_type": "markdown",
   "metadata": {
    "pycharm": {
     "name": "#%% md\n"
    }
   },
   "source": [
    "## 提取变量\n"
   ]
  },
  {
   "cell_type": "code",
   "execution_count": null,
   "metadata": {
    "pycharm": {
     "name": "#%%\n"
    }
   },
   "outputs": [],
   "source": [
    "raw_lat_data = np.array(nc_data.variables['lat'])\n",
    "raw_lon_data = np.array(nc_data.variables['lon'])\n",
    "raw_time_data = np.array(nc_data.variables['time'])\n",
    "raw_tmp_data = np.array(nc_data.variables['tmp'])\n",
    "\n",
    "# 变量的缺失值\n",
    "tmp_missing_value = nc_data.variables['tmp'].missing_value\n",
    "\n",
    "# 对原始的缺失值做替换，替换成numpy可以识别的缺失值\n",
    "\n",
    "raw_tmp_data[raw_tmp_data == tmp_missing_value] = np.nan"
   ]
  },
  {
   "cell_type": "markdown",
   "metadata": {
    "pycharm": {
     "name": "#%% md\n"
    }
   },
   "source": [
    "## 对时间处理"
   ]
  },
  {
   "cell_type": "code",
   "execution_count": null,
   "metadata": {
    "pycharm": {
     "name": "#%%\n"
    }
   },
   "outputs": [],
   "source": [
    "def cftime2datetime(cftime, units, format='%Y-%m-%d %H:%M:%S'):\n",
    "    \"\"\"\n",
    "    将nc文件里面的时间格式 从cftime 转换到 datetime格式\n",
    "    :param cftime:\n",
    "    :param units:\n",
    "    :param format:\n",
    "    :return:\n",
    "    \"\"\"\n",
    "    return datetime.datetime.strptime(num2date(times=cftime, units=units).strftime(format), format)\n",
    "\n",
    "\n",
    "clean_time_data = pd.Series([cftime2datetime(i, units='days since 1900-1-1') for i in raw_time_data])\n",
    "clean_time_data[:4]\n",
    "\n"
   ]
  },
  {
   "cell_type": "markdown",
   "metadata": {
    "pycharm": {
     "name": "#%% md\n"
    }
   },
   "source": [
    "## 处理边界数据\n",
    "\n",
    "### 导入中国边界数据"
   ]
  },
  {
   "cell_type": "code",
   "execution_count": null,
   "metadata": {
    "pycharm": {
     "name": "#%%\n"
    }
   },
   "outputs": [],
   "source": [
    "china_boundary = gpd.read_file(filename=\"数据集/中国地图边界202111版.json\")\n",
    "\n",
    "china_boundary_valid = china_boundary.copy()\n",
    "china_boundary_valid['geometry'] = china_boundary.buffer(0)"
   ]
  },
  {
   "cell_type": "code",
   "execution_count": null,
   "metadata": {
    "pycharm": {
     "name": "#%%\n"
    }
   },
   "outputs": [],
   "source": [
    "china_boundary_valid"
   ]
  },
  {
   "cell_type": "code",
   "execution_count": null,
   "metadata": {
    "pycharm": {
     "name": "#%%\n"
    }
   },
   "outputs": [],
   "source": [
    "### 计算相关数据\n",
    "# 计算中心点\n",
    "center_china_point = china_boundary_valid.centroid[0]\n",
    "center_china_point.x, center_china_point.y"
   ]
  },
  {
   "cell_type": "markdown",
   "metadata": {
    "pycharm": {
     "name": "#%% md\n"
    }
   },
   "source": [
    "## 设置投影"
   ]
  },
  {
   "cell_type": "code",
   "execution_count": null,
   "metadata": {
    "pycharm": {
     "name": "#%%\n"
    }
   },
   "outputs": [],
   "source": [
    "# 原来的投影系统\n",
    "raw_crs = china_boundary_valid.crs\n",
    "\n",
    "# 新的兰伯特投影\n",
    "new_crs = ccrs.LambertConformal(central_longitude=center_china_point.x,\n",
    "                                central_latitude=center_china_point.y)"
   ]
  },
  {
   "cell_type": "markdown",
   "metadata": {
    "collapsed": false,
    "pycharm": {
     "name": "#%% md\n"
    }
   },
   "source": [
    "## 基础计算部分\n",
    "\n",
    "### 计算中国地图点的mask"
   ]
  },
  {
   "cell_type": "code",
   "execution_count": null,
   "metadata": {
    "collapsed": false,
    "pycharm": {
     "name": "#%%\n"
    }
   },
   "outputs": [],
   "source": [
    "def pic(lon, lat) -> bool:\n",
    "    \"\"\"\n",
    "    检测一个点是否在中国边界线内\n",
    "    lon:东经\n",
    "    lat:北纬\n",
    "    :param lon:\n",
    "    :param lat:\n",
    "    :return:\n",
    "    \"\"\"\n",
    "    return china_boundary_valid.contains(Point(lon, lat))[0]\n",
    "\n",
    "\n",
    "mask_for_china = np.full(shape=raw_tmp_data.shape[1:], fill_value=False)\n",
    "\n",
    "for index_lat in tqdm(range(raw_lat_data.shape[0])):\n",
    "    for index_lon in range(raw_lon_data.shape[0]):\n",
    "        point = (raw_lon_data[index_lon], raw_lat_data[index_lat])\n",
    "        mask_for_china[index_lat, index_lon] = pic(point[0], point[1])"
   ]
  },
  {
   "cell_type": "code",
   "execution_count": null,
   "metadata": {
    "collapsed": false,
    "pycharm": {
     "name": "#%%\n"
    }
   },
   "outputs": [],
   "source": [
    "mask_for_china"
   ]
  },
  {
   "cell_type": "markdown",
   "metadata": {
    "collapsed": false,
    "pycharm": {
     "name": "#%% md\n"
    }
   },
   "source": [
    "## 基础函数部分\n",
    "\n",
    "### 将矩阵保存到tiff文件中"
   ]
  },
  {
   "cell_type": "code",
   "execution_count": null,
   "metadata": {
    "collapsed": false,
    "pycharm": {
     "name": "#%%\n"
    }
   },
   "outputs": [],
   "source": [
    "def array2gtiff(array, filename):\n",
    "    \"\"\"\n",
    "    将一个矩阵保存为tiff文件,\n",
    "    这里还可以设置tiff的crs和transofrm。更多，可以查看rasterio的官网或者下面的这个链接\n",
    "    https://gis.stackexchange.com/questions/279953/numpy-array-to-gtiff-using-rasterio-without-source-raster\n",
    "    :param array: shape:(row, col)\n",
    "    :param filename:\n",
    "    :return:\n",
    "    \"\"\"\n",
    "    with rasterio.open(filename, 'w', driver='GTiff',\n",
    "                       height=array.shape[0], width=array.shape[1],\n",
    "                       count=1, dtype=str(array.dtype)) as f:\n",
    "        f.write(array, 1)\n"
   ]
  },
  {
   "cell_type": "code",
   "execution_count": null,
   "metadata": {
    "collapsed": false,
    "pycharm": {
     "name": "#%%\n"
    }
   },
   "outputs": [],
   "source": [
    "# 保存mask，测试我们的函数都对不对\n",
    "array2gtiff(array=mask_for_china.astype('float64')[::-1, :],\n",
    "            filename=\"结果/test_mask.tiff\")"
   ]
  },
  {
   "cell_type": "markdown",
   "metadata": {
    "collapsed": false,
    "pycharm": {
     "name": "#%% md\n"
    }
   },
   "source": [
    "# 需求部分\n",
    "1. 全世界的年月变化折线图；\n",
    "2. 中国的年月变化折线图；\n",
    "3. 全世界年变化折线图；\n",
    "4. 中国年变化折线图；\n",
    "5. 全世界每一年的平均数保存为tiff文件；\n",
    "6. 中国每一年的平均数保存为tiff文件；\n",
    "7. 特定时间范围内的数据保存为tiff文件（包括中国和全世界两种）\n",
    "8. 特定时间范围内的且中国范围内的数据求平均数 可视化（使用兰伯特投影）"
   ]
  },
  {
   "cell_type": "markdown",
   "metadata": {
    "collapsed": false,
    "pycharm": {
     "name": "#%% md\n"
    }
   },
   "source": [
    "## 需求1和需求2\n",
    "1. 全世界的年月变化折线图；\n",
    "2. 中国的年月变化折线图；"
   ]
  },
  {
   "cell_type": "code",
   "execution_count": null,
   "metadata": {
    "collapsed": false,
    "pycharm": {
     "name": "#%%\n"
    }
   },
   "outputs": [],
   "source": [
    "need_1 = pd.DataFrame()\n",
    "need_1['date'] = clean_time_data\n",
    "\n",
    "need_1['world_value'] = [np.nanmean(raw_tmp_data[i, :, :]) for i in tqdm(range(raw_tmp_data.shape[0]))]\n",
    "\n",
    "need_1['china_value'] = [np.nanmean(raw_tmp_data[i, :, :][mask_for_china]) for i in tqdm(range(raw_tmp_data.shape[0]))]\n",
    "need_1.head()\n"
   ]
  },
  {
   "cell_type": "code",
   "execution_count": null,
   "metadata": {
    "collapsed": false,
    "pycharm": {
     "name": "#%%\n"
    }
   },
   "outputs": [],
   "source": [
    "fig, ax = plt.subplots(figsize=(10, 4), dpi=150)\n",
    "ax.plot(need_1['date'], need_1['world_value'], label='世界平均温度')\n",
    "ax.plot(need_1['date'], need_1['china_value'], label='中国平均温度')\n",
    "ax.legend()"
   ]
  },
  {
   "cell_type": "markdown",
   "metadata": {
    "collapsed": false,
    "pycharm": {
     "name": "#%% md\n"
    }
   },
   "source": [
    "## 需求3和4\n",
    "3. 全世界年变化折线图；\n",
    "4. 中国年变化折线图；"
   ]
  },
  {
   "cell_type": "code",
   "execution_count": null,
   "metadata": {
    "collapsed": false,
    "pycharm": {
     "name": "#%%\n"
    }
   },
   "outputs": [],
   "source": [
    "def cal_need34(year, type):\n",
    "    out = np.nanmean(raw_tmp_data[clean_time_data.dt.year == year, :, :], axis=0)\n",
    "    if type == 'world':\n",
    "        value = np.nanmean(out)\n",
    "    elif type == 'china':\n",
    "        value = np.nanmean(out[mask_for_china])\n",
    "    else:\n",
    "        value = None\n",
    "    return value\n",
    "\n",
    "\n",
    "# test function\n",
    "\n",
    "cal_need34(year=2001, type='china'), cal_need34(year=2001, type='world')"
   ]
  },
  {
   "cell_type": "code",
   "execution_count": null,
   "metadata": {
    "collapsed": false,
    "pycharm": {
     "name": "#%%\n"
    }
   },
   "outputs": [],
   "source": [
    "year = np.arange(start=np.min(clean_time_data.dt.year),\n",
    "                 stop=np.max(clean_time_data.dt.year) + 1)\n",
    "\n",
    "need_34 = pd.DataFrame({'year': year})\n",
    "need_34['china_value'] = need_34['year'].apply(lambda x: cal_need34(year=x, type='china'))\n",
    "need_34['world_value'] = need_34['year'].apply(lambda x: cal_need34(year=x, type='world'))\n",
    "need_34"
   ]
  },
  {
   "cell_type": "code",
   "execution_count": null,
   "metadata": {
    "collapsed": false,
    "pycharm": {
     "name": "#%%\n"
    }
   },
   "outputs": [],
   "source": [
    "# % matplotlib\n",
    "%matplotlib inline"
   ]
  },
  {
   "cell_type": "code",
   "execution_count": null,
   "metadata": {
    "collapsed": false,
    "pycharm": {
     "name": "#%%\n"
    }
   },
   "outputs": [],
   "source": [
    "def smooth_data(y_value, deg=4):\n",
    "    x_new = np.arange(y_value.shape[0])\n",
    "    new_param = np.polyfit(x_new, y_value, deg=deg)\n",
    "    value = np.zeros_like(x_new)\n",
    "    for index, param in enumerate(new_param[::-1]):\n",
    "        value = value + param * x_new ** index\n",
    "    return value\n",
    "\n",
    "\n",
    "need_34['smooth_china_value'] = smooth_data(y_value=need_34['china_value'])\n",
    "need_34['smooth_world_value'] = smooth_data(y_value=need_34['world_value'])"
   ]
  },
  {
   "cell_type": "code",
   "execution_count": null,
   "metadata": {
    "collapsed": false,
    "pycharm": {
     "name": "#%%\n"
    }
   },
   "outputs": [],
   "source": [
    "fig, ax = plt.subplots(figsize=(10, 4), dpi=150)\n",
    "ax.plot(need_34['year'], need_34['world_value'], label='世界平均温度', linestyle='-', marker='o')\n",
    "ax.plot(need_34['year'], need_34['china_value'], label='中国平均温度', linestyle='-', marker='o')\n",
    "\n",
    "# 增加拟合曲线\n",
    "ax.plot(need_34['year'], need_34['smooth_china_value'], linestyle='--', color='gray')\n",
    "ax.plot(need_34['year'], need_34['smooth_world_value'], linestyle='--', color='gray')\n",
    "\n",
    "ax.set_title(\"每年平均气温\")\n",
    "ax.legend()\n",
    "ax.set_xlabel(\"年份\")\n",
    "ax.set_ylabel(\"温度平均数$ ^\\circ C $\")\n",
    "plt.tight_layout()\n",
    "fig.savefig(\"结果/每年平均气温.png\")"
   ]
  },
  {
   "cell_type": "markdown",
   "metadata": {
    "collapsed": false,
    "pycharm": {
     "name": "#%% md\n"
    }
   },
   "source": [
    "## 需求5和6\n",
    "5. 全世界每一年的平均数保存为tiff文件；\n",
    "6. 中国每一年的平均数保存为tiff文件；"
   ]
  },
  {
   "cell_type": "code",
   "execution_count": null,
   "metadata": {
    "collapsed": false,
    "pycharm": {
     "name": "#%%\n"
    }
   },
   "outputs": [],
   "source": [
    "def cal_need56(year, type):\n",
    "    out = np.nanmean(raw_tmp_data[clean_time_data.dt.year == year, :, :], axis=0)\n",
    "    if type == 'world':\n",
    "        value = out\n",
    "    elif type == 'china':\n",
    "        out[~mask_for_china] = np.nan\n",
    "        value = out\n",
    "    else:\n",
    "        value = None\n",
    "    return value\n",
    "\n",
    "\n",
    "out = cal_need56(year=2000, type='china')\n",
    "array2gtiff(array=out[::-1, :], filename=\"结果/year2000.tiff\")\n",
    "\n",
    "out = cal_need56(year=2000, type='world')\n",
    "array2gtiff(array=out[::-1, :], filename=\"结果/year2000_world.tiff\")"
   ]
  },
  {
   "cell_type": "code",
   "execution_count": null,
   "metadata": {
    "collapsed": false,
    "pycharm": {
     "name": "#%%\n"
    }
   },
   "outputs": [],
   "source": [
    "for temp_year in tqdm(range(np.min(clean_time_data.dt.year), np.max(clean_time_data.dt.year) + 1)):\n",
    "    out = cal_need56(year=temp_year, type='china')\n",
    "    array2gtiff(array=out[::-1, :], filename=f\"结果/year_{temp_year}_china.tiff\")\n",
    "\n",
    "    out = cal_need56(year=temp_year, type='world')\n",
    "    array2gtiff(array=out[::-1, :], filename=f\"结果/year_{temp_year}_world.tiff\")"
   ]
  },
  {
   "cell_type": "markdown",
   "metadata": {
    "collapsed": false,
    "pycharm": {
     "name": "#%% md\n"
    }
   },
   "source": [
    "## 需求7\n",
    "7. 特定时间范围内的数据保存为tiff文件（包括中国和全世界两种）\n"
   ]
  },
  {
   "cell_type": "code",
   "execution_count": null,
   "metadata": {
    "collapsed": false,
    "pycharm": {
     "name": "#%%\n"
    }
   },
   "outputs": [],
   "source": [
    "def cal_need7(start_date, end_date, type):\n",
    "    out = np.nanmean(raw_tmp_data[(start_date <= clean_time_data) & (clean_time_data <= end_date), :, :], axis=0)\n",
    "    if type == 'world':\n",
    "        value = out\n",
    "    elif type == 'china':\n",
    "        out[~mask_for_china] = np.nan\n",
    "        value = out\n",
    "    else:\n",
    "        value = None\n",
    "    return value\n",
    "\n",
    "out = cal_need7(start_date='1902-01', end_date='2020-01', type='world')\n",
    "array2gtiff(array=out[::-1, :], filename=\"结果/data190201_202001_world.tiff\")\n",
    "\n",
    "out = cal_need7(start_date='1902-01', end_date='2020-01', type='china')\n",
    "array2gtiff(array=out[::-1, :], filename=\"结果/data190201_202001_china.tiff\")"
   ]
  },
  {
   "cell_type": "markdown",
   "metadata": {
    "collapsed": false,
    "pycharm": {
     "name": "#%% md\n"
    }
   },
   "source": [
    "## 需求8\n",
    "8. 特定时间范围内的且中国范围内的数据求平均数 可视化（使用兰伯特投影）"
   ]
  },
  {
   "cell_type": "code",
   "execution_count": null,
   "metadata": {
    "collapsed": false,
    "pycharm": {
     "name": "#%%\n"
    }
   },
   "outputs": [],
   "source": [
    "out_8 = cal_need7(start_date='1902-01', end_date='2020-01', type='china')\n"
   ]
  },
  {
   "cell_type": "code",
   "execution_count": null,
   "metadata": {
    "collapsed": false,
    "pycharm": {
     "name": "#%%\n"
    }
   },
   "outputs": [],
   "source": [
    "Lon_data, Lat_data = np.meshgrid(raw_lon_data, raw_lat_data)\n",
    "\n",
    "need_8_df = pd.DataFrame({'value':out_8.flatten(),\n",
    "                          'mask_china':mask_for_china.flatten(),\n",
    "                          'lon':Lon_data.flatten(),\n",
    "                          'lat':Lat_data.flatten()})\n",
    "need_8_df = need_8_df.loc[need_8_df['mask_china']]\n",
    "need_8_df"
   ]
  },
  {
   "cell_type": "code",
   "execution_count": null,
   "metadata": {
    "collapsed": false,
    "pycharm": {
     "name": "#%%\n"
    }
   },
   "outputs": [],
   "source": [
    "need_8_df_gd = gpd.GeoDataFrame(\n",
    "    need_8_df,\n",
    "    geometry=gpd.points_from_xy(x=need_8_df['lon'], y=need_8_df['lat']),\n",
    "    crs= raw_crs#china_boundary.crs\n",
    ")\n",
    "need_8_df_gd = need_8_df_gd.to_crs(new_crs.proj4_init)\n",
    "need_8_df_gd"
   ]
  },
  {
   "cell_type": "code",
   "execution_count": null,
   "metadata": {
    "collapsed": false,
    "pycharm": {
     "name": "#%%\n"
    }
   },
   "outputs": [],
   "source": [
    "china_boundary_valid_new_crs = china_boundary_valid.to_crs(new_crs.proj4_init)\n",
    "china_boundary_valid_new_crs"
   ]
  },
  {
   "cell_type": "code",
   "execution_count": null,
   "metadata": {
    "collapsed": false,
    "pycharm": {
     "name": "#%%\n"
    }
   },
   "outputs": [],
   "source": [
    "fig, ax = plt.subplots(figsize=(8, 7), dpi=150, subplot_kw={'projection': new_crs})\n",
    "ax.gridlines(draw_labels=True,\n",
    "             linewidth=2, color='gray', alpha=0.5, linestyle='--')\n",
    "china_boundary_valid_new_crs.boundary.plot(ax=ax, color='black', marker='s')\n",
    "need_8_df_gd.plot(ax=ax, column='value', cmap=plt.cm.get_cmap('RdYlBu'), legend=True)\n",
    "ax.set_xlabel(\"longitude\")\n",
    "ax.set_ylabel(\"latitude\")\n",
    "ax.set_title(f\"时间范围为: 1902-01 ~ 202-01\")\n",
    "plt.tight_layout()\n",
    "\n",
    "fig.savefig(\"结果/中国可视化.png\")"
   ]
  },
  {
   "cell_type": "code",
   "execution_count": null,
   "metadata": {
    "collapsed": false,
    "pycharm": {
     "name": "#%%\n"
    }
   },
   "outputs": [],
   "source": []
  }
 ],
 "metadata": {
  "kernelspec": {
   "display_name": "Python 3.8.8 ('devc')",
   "language": "python",
   "name": "python3"
  },
  "language_info": {
   "codemirror_mode": {
    "name": "ipython",
    "version": 3
   },
   "file_extension": ".py",
   "mimetype": "text/x-python",
   "name": "python",
   "nbconvert_exporter": "python",
   "pygments_lexer": "ipython3",
   "version": "3.8.8"
  },
  "toc": {
   "base_numbering": 1,
   "nav_menu": {},
   "number_sections": true,
   "sideBar": true,
   "skip_h1_title": false,
   "title_cell": "Table of Contents",
   "title_sidebar": "Contents",
   "toc_cell": false,
   "toc_position": {},
   "toc_section_display": true,
   "toc_window_display": true
  },
  "vscode": {
   "interpreter": {
    "hash": "4fb0a6905ed5d212c3c96d4a56e67eb44191d04d6f3997ffb197b9a104e8e26d"
   }
  }
 },
 "nbformat": 4,
 "nbformat_minor": 1
}
