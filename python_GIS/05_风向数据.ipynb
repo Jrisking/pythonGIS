{
 "cells": [
  {
   "cell_type": "markdown",
   "metadata": {
    "collapsed": true,
    "pycharm": {
     "name": "#%% md\n"
    }
   },
   "source": [
    "## 导入包\n"
   ]
  },
  {
   "cell_type": "code",
   "execution_count": 3,
   "outputs": [],
   "source": [
    "# 基础的数据处理工具\n",
    "import numpy as np\n",
    "import pandas as pd\n",
    "\n",
    "# 可视化\n",
    "import matplotlib.pyplot as plt\n",
    "\n",
    "# 处理python时间函数\n",
    "import datetime\n",
    "\n",
    "# 处理nc数据\n",
    "import netCDF4 as nc\n",
    "from netCDF4 import num2date\n",
    "\n",
    "# 处理网格数据，shp之类的\n",
    "import geopandas as gpd\n",
    "\n",
    "# 处理tiff文件\n",
    "import rasterio\n",
    "\n",
    "# gis的一些逻辑判断\n",
    "from shapely.geometry import Point\n",
    "\n",
    "# 设置投影坐标系等\n",
    "from cartopy import crs as ccrs\n",
    "\n",
    "# 打印进度条\n",
    "from tqdm import tqdm\n",
    "\n",
    "tqdm.pandas()\n",
    "\n",
    "# 并行\n",
    "\n",
    "from joblib import Parallel, delayed\n",
    "\n",
    "# 检测系统\n",
    "\n",
    "import platform\n",
    "\n",
    "# matplotlib 显示中文的问题\n",
    "if platform.system() == 'Darwin':\n",
    "    plt.rcParams[\"font.family\"] = 'Arial Unicode MS'\n",
    "elif platform.system() == 'Windows':\n",
    "    plt.rcParams[\"font.family\"] = 'SimHei'\n",
    "else:\n",
    "    pass"
   ],
   "metadata": {
    "collapsed": false,
    "pycharm": {
     "name": "#%%\n"
    }
   }
  },
  {
   "cell_type": "code",
   "execution_count": 4,
   "outputs": [],
   "source": [
    "nc_data = nc.Dataset(\"./数据集/GIS实践3/2016_2020.nc\")"
   ],
   "metadata": {
    "collapsed": false,
    "pycharm": {
     "name": "#%%\n"
    }
   }
  },
  {
   "cell_type": "code",
   "execution_count": 5,
   "outputs": [
    {
     "name": "stdout",
     "output_type": "stream",
     "text": [
      "**********************************************************************\n",
      "<class 'netCDF4._netCDF4.Variable'>\n",
      "float32 longitude(longitude)\n",
      "    units: degrees_east\n",
      "    long_name: longitude\n",
      "unlimited dimensions: \n",
      "current shape = (31,)\n",
      "filling on, default _FillValue of 9.969209968386869e+36 used\n",
      "**********************************************************************\n",
      "<class 'netCDF4._netCDF4.Variable'>\n",
      "float32 latitude(latitude)\n",
      "    units: degrees_north\n",
      "    long_name: latitude\n",
      "unlimited dimensions: \n",
      "current shape = (21,)\n",
      "filling on, default _FillValue of 9.969209968386869e+36 used\n",
      "**********************************************************************\n",
      "<class 'netCDF4._netCDF4.Variable'>\n",
      "int32 time(time)\n",
      "    units: hours since 1900-01-01 00:00:00.0\n",
      "    long_name: time\n",
      "    calendar: gregorian\n",
      "unlimited dimensions: \n",
      "current shape = (43848,)\n",
      "filling on, default _FillValue of -2147483647 used\n",
      "**********************************************************************\n",
      "<class 'netCDF4._netCDF4.Variable'>\n",
      "int16 u10(time, latitude, longitude)\n",
      "    scale_factor: 0.00043007790966836365\n",
      "    add_offset: 1.9074540284279784\n",
      "    _FillValue: -32767\n",
      "    missing_value: -32767\n",
      "    units: m s**-1\n",
      "    long_name: 10 metre U wind component\n",
      "unlimited dimensions: \n",
      "current shape = (43848, 21, 31)\n",
      "filling on\n",
      "**********************************************************************\n",
      "<class 'netCDF4._netCDF4.Variable'>\n",
      "int16 v10(time, latitude, longitude)\n",
      "    scale_factor: 0.00042479520620217106\n",
      "    add_offset: 0.4807751512250239\n",
      "    _FillValue: -32767\n",
      "    missing_value: -32767\n",
      "    units: m s**-1\n",
      "    long_name: 10 metre V wind component\n",
      "unlimited dimensions: \n",
      "current shape = (43848, 21, 31)\n",
      "filling on\n"
     ]
    },
    {
     "name": "stderr",
     "output_type": "stream",
     "text": [
      "<ipython-input-5-831ad1beb57c>:3: DeprecationWarning: tostring() is deprecated. Use tobytes() instead.\n",
      "  print(item)\n"
     ]
    }
   ],
   "source": [
    "for item in nc_data.variables.values():\n",
    "    print('*' * 70)\n",
    "    print(item)"
   ],
   "metadata": {
    "collapsed": false,
    "pycharm": {
     "name": "#%%\n"
    }
   }
  },
  {
   "cell_type": "code",
   "execution_count": 6,
   "outputs": [
    {
     "data": {
      "text/plain": "dict_keys(['longitude', 'latitude', 'time', 'u10', 'v10'])"
     },
     "execution_count": 6,
     "metadata": {},
     "output_type": "execute_result"
    }
   ],
   "source": [
    "nc_data.variables.keys()"
   ],
   "metadata": {
    "collapsed": false,
    "pycharm": {
     "name": "#%%\n"
    }
   }
  },
  {
   "cell_type": "code",
   "execution_count": 7,
   "outputs": [
    {
     "name": "stderr",
     "output_type": "stream",
     "text": [
      "<ipython-input-7-16fd3837c296>:1: DeprecationWarning: `np.bool` is a deprecated alias for the builtin `bool`. To silence this warning, use `bool` by itself. Doing this will not modify any behavior and is safe. If you specifically wanted the numpy scalar type, use `np.bool_` here.\n",
      "Deprecated in NumPy 1.20; for more details and guidance: https://numpy.org/devdocs/release/1.20.0-notes.html#deprecations\n",
      "  raw_latitude = np.array(nc_data.variables['latitude'])\n",
      "<ipython-input-7-16fd3837c296>:2: DeprecationWarning: `np.bool` is a deprecated alias for the builtin `bool`. To silence this warning, use `bool` by itself. Doing this will not modify any behavior and is safe. If you specifically wanted the numpy scalar type, use `np.bool_` here.\n",
      "Deprecated in NumPy 1.20; for more details and guidance: https://numpy.org/devdocs/release/1.20.0-notes.html#deprecations\n",
      "  raw_longitude = np.array(nc_data.variables['longitude'])\n",
      "<ipython-input-7-16fd3837c296>:3: DeprecationWarning: `np.bool` is a deprecated alias for the builtin `bool`. To silence this warning, use `bool` by itself. Doing this will not modify any behavior and is safe. If you specifically wanted the numpy scalar type, use `np.bool_` here.\n",
      "Deprecated in NumPy 1.20; for more details and guidance: https://numpy.org/devdocs/release/1.20.0-notes.html#deprecations\n",
      "  raw_time = np.array(nc_data.variables['time'])\n",
      "<ipython-input-7-16fd3837c296>:4: DeprecationWarning: `np.bool` is a deprecated alias for the builtin `bool`. To silence this warning, use `bool` by itself. Doing this will not modify any behavior and is safe. If you specifically wanted the numpy scalar type, use `np.bool_` here.\n",
      "Deprecated in NumPy 1.20; for more details and guidance: https://numpy.org/devdocs/release/1.20.0-notes.html#deprecations\n",
      "  raw_u10 = np.array(nc_data.variables['u10'])\n",
      "<ipython-input-7-16fd3837c296>:5: DeprecationWarning: `np.bool` is a deprecated alias for the builtin `bool`. To silence this warning, use `bool` by itself. Doing this will not modify any behavior and is safe. If you specifically wanted the numpy scalar type, use `np.bool_` here.\n",
      "Deprecated in NumPy 1.20; for more details and guidance: https://numpy.org/devdocs/release/1.20.0-notes.html#deprecations\n",
      "  raw_v10 = np.array(nc_data.variables['v10'])\n"
     ]
    }
   ],
   "source": [
    "raw_latitude = np.array(nc_data.variables['latitude'])\n",
    "raw_longitude = np.array(nc_data.variables['longitude'])\n",
    "raw_time = np.array(nc_data.variables['time'])\n",
    "raw_u10 = np.array(nc_data.variables['u10'])\n",
    "raw_v10 = np.array(nc_data.variables['v10'])\n",
    "\n",
    "missing_u10_value = nc_data.variables['u10'].missing_value\n",
    "missing_v10_value = nc_data.variables['v10'].missing_value"
   ],
   "metadata": {
    "collapsed": false,
    "pycharm": {
     "name": "#%%\n"
    }
   }
  },
  {
   "cell_type": "code",
   "execution_count": 8,
   "outputs": [],
   "source": [
    "raw_v10[raw_v10 == missing_v10_value] = np.nan\n",
    "raw_u10[raw_u10 == missing_u10_value] = np.nan"
   ],
   "metadata": {
    "collapsed": false,
    "pycharm": {
     "name": "#%%\n"
    }
   }
  },
  {
   "cell_type": "markdown",
   "source": [
    "## 绘制风场图\n"
   ],
   "metadata": {
    "collapsed": false,
    "pycharm": {
     "name": "#%% md\n"
    }
   }
  },
  {
   "cell_type": "code",
   "execution_count": 9,
   "outputs": [],
   "source": [
    "BIG_Longitude, BIG_LATITUDE = np.meshgrid(raw_longitude, raw_latitude)"
   ],
   "metadata": {
    "collapsed": false,
    "pycharm": {
     "name": "#%%\n"
    }
   }
  },
  {
   "cell_type": "code",
   "execution_count": 10,
   "outputs": [
    {
     "data": {
      "text/plain": "<matplotlib.quiver.Quiver at 0x7f9f1e2863a0>"
     },
     "execution_count": 10,
     "metadata": {},
     "output_type": "execute_result"
    },
    {
     "data": {
      "text/plain": "<Figure size 432x288 with 1 Axes>",
      "image/png": "[encoded data removed]"
     },
     "metadata": {
      "needs_background": "light"
     },
     "output_type": "display_data"
    }
   ],
   "source": [
    "from cartopy import crs as ccrs\n",
    "import cartopy.feature as cfeature\n",
    "\n",
    "projection = ccrs.LambertConformal(central_longitude=np.mean(raw_longitude),\n",
    "                                   central_latitude=np.mean(raw_latitude))\n",
    "\n",
    "fig, ax = plt.subplots(subplot_kw={'projection': projection})\n",
    "\n",
    "ax.quiver(BIG_Longitude, BIG_LATITUDE, raw_u10[0, :, :], raw_v10[0, :, :])\n",
    "# ax.gridlines(draw_labels=True,linewidth=2, color='gray', alpha=0.5, linestyle='--')\n",
    "# ax.add_feature(cfeature.LAND.with_scale('50m'))\n",
    "# ax.add_feature(cfeature.COASTLINE.with_scale('50m'), lw=0.3)\n",
    "# ax.add_feature(cfeature.OCEAN.with_scale('50m'))\n",
    "# ax.streamplot(BIG_Longitude, BIG_LATITUDE, raw_u10[0, :, :], raw_v10[0, :, :])"
   ],
   "metadata": {
    "collapsed": false,
    "pycharm": {
     "name": "#%%\n"
    }
   }
  },
  {
   "cell_type": "code",
   "execution_count": null,
   "outputs": [],
   "source": [],
   "metadata": {
    "collapsed": false,
    "pycharm": {
     "name": "#%%\n"
    }
   }
  }
 ],
 "metadata": {
  "kernelspec": {
   "display_name": "Python 3",
   "language": "python",
   "name": "python3"
  },
  "language_info": {
   "codemirror_mode": {
    "name": "ipython",
    "version": 2
   },
   "file_extension": ".py",
   "mimetype": "text/x-python",
   "name": "python",
   "nbconvert_exporter": "python",
   "pygments_lexer": "ipython2",
   "version": "2.7.6"
  }
 },
 "nbformat": 4,
 "nbformat_minor": 0
}