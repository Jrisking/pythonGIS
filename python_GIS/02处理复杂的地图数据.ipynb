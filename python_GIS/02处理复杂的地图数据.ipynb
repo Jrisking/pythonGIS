{
 "cells": [
  {
   "cell_type": "markdown",
   "metadata": {
    "collapsed": true,
    "pycharm": {
     "name": "#%% md\n"
    }
   },
   "source": [
    "## 导入包"
   ]
  },
  {
   "cell_type": "code",
   "execution_count": 64,
   "outputs": [],
   "source": [
    "import numpy as np\n",
    "import pandas as pd\n",
    "import geopandas as gpd\n",
    "import netCDF4 as nc\n",
    "\n",
    "from tqdm import tqdm\n",
    "from netCDF4 import num2date\n",
    "\n",
    "import matplotlib.pyplot as plt"
   ],
   "metadata": {
    "collapsed": false,
    "pycharm": {
     "name": "#%%\n"
    }
   }
  },
  {
   "cell_type": "markdown",
   "source": [
    "## 加载NC文件"
   ],
   "metadata": {
    "collapsed": false,
    "pycharm": {
     "name": "#%% md\n"
    }
   }
  },
  {
   "cell_type": "code",
   "execution_count": 65,
   "outputs": [],
   "source": [
    "nc_data = nc.Dataset(\"lftx.sfc.2021.nc\")"
   ],
   "metadata": {
    "collapsed": false,
    "pycharm": {
     "name": "#%%\n"
    }
   }
  },
  {
   "cell_type": "code",
   "execution_count": 66,
   "outputs": [],
   "source": [
    "time_units = [temp_variable.units for temp_variable in nc_data.variables.values() if temp_variable.name == 'time'][0]\n",
    "# [pd.to_datetime(str(num2date(temp_time,units=time_units))) for temp_time in np.array(nc_data.variables['time'])]\n",
    "time_list = [num2date(temp_time, units=time_units).strftime('%Y-%m-%d') for temp_time in\n",
    "             np.array(nc_data.variables['time'])]\n"
   ],
   "metadata": {
    "collapsed": false,
    "pycharm": {
     "name": "#%%\n"
    }
   }
  },
  {
   "cell_type": "code",
   "execution_count": 67,
   "outputs": [],
   "source": [
    "lftx_data = np.array(nc_data.variables['lftx'])\n",
    "lftx_data = lftx_data[np.where([i == '2021-02-13' for i in time_list])[0][0], :, :]\n",
    "\n",
    "lon_data = np.array(nc_data.variables['lon'])\n",
    "lat_data = np.array(nc_data.variables['lat'])"
   ],
   "metadata": {
    "collapsed": false,
    "pycharm": {
     "name": "#%%\n"
    }
   }
  },
  {
   "cell_type": "markdown",
   "source": [
    "## 读取json数据"
   ],
   "metadata": {
    "collapsed": false,
    "pycharm": {
     "name": "#%% md\n"
    }
   }
  },
  {
   "cell_type": "code",
   "execution_count": 68,
   "outputs": [
    {
     "data": {
      "text/plain": "   adcode    name  childrenNum     level              parent  subFeatureIndex  \\\n0  110000     北京市         16.0  province  {'adcode': 100000}              0.0   \n1  120000     天津市         16.0  province  {'adcode': 100000}              1.0   \n2  130000     河北省         11.0  province  {'adcode': 100000}              2.0   \n3  140000     山西省         11.0  province  {'adcode': 100000}              3.0   \n4  150000  内蒙古自治区         12.0  province  {'adcode': 100000}              4.0   \n\n  adchar                                           geometry  \n0   None  MULTIPOLYGON (((117.34861 40.58114, 117.38988 ...  \n1   None  MULTIPOLYGON (((117.76560 39.40053, 117.84691 ...  \n2   None  MULTIPOLYGON (((117.46749 40.64974, 117.41267 ...  \n3   None  MULTIPOLYGON (((110.37926 34.60061, 110.42484 ...  \n4   None  POLYGON ((97.17290 42.79526, 97.37123 42.45708...  ",
      "text/html": "<div>\n<style scoped>\n    .dataframe tbody tr th:only-of-type {\n        vertical-align: middle;\n    }\n\n    .dataframe tbody tr th {\n        vertical-align: top;\n    }\n\n    .dataframe thead th {\n        text-align: right;\n    }\n</style>\n<table border=\"1\" class=\"dataframe\">\n  <thead>\n    <tr style=\"text-align: right;\">\n      <th></th>\n      <th>adcode</th>\n      <th>name</th>\n      <th>childrenNum</th>\n      <th>level</th>\n      <th>parent</th>\n      <th>subFeatureIndex</th>\n      <th>adchar</th>\n      <th>geometry</th>\n    </tr>\n  </thead>\n  <tbody>\n    <tr>\n      <th>0</th>\n      <td>110000</td>\n      <td>北京市</td>\n      <td>16.0</td>\n      <td>province</td>\n      <td>{'adcode': 100000}</td>\n      <td>0.0</td>\n      <td>None</td>\n      <td>MULTIPOLYGON (((117.34861 40.58114, 117.38988 ...</td>\n    </tr>\n    <tr>\n      <th>1</th>\n      <td>120000</td>\n      <td>天津市</td>\n      <td>16.0</td>\n      <td>province</td>\n      <td>{'adcode': 100000}</td>\n      <td>1.0</td>\n      <td>None</td>\n      <td>MULTIPOLYGON (((117.76560 39.40053, 117.84691 ...</td>\n    </tr>\n    <tr>\n      <th>2</th>\n      <td>130000</td>\n      <td>河北省</td>\n      <td>11.0</td>\n      <td>province</td>\n      <td>{'adcode': 100000}</td>\n      <td>2.0</td>\n      <td>None</td>\n      <td>MULTIPOLYGON (((117.46749 40.64974, 117.41267 ...</td>\n    </tr>\n    <tr>\n      <th>3</th>\n      <td>140000</td>\n      <td>山西省</td>\n      <td>11.0</td>\n      <td>province</td>\n      <td>{'adcode': 100000}</td>\n      <td>3.0</td>\n      <td>None</td>\n      <td>MULTIPOLYGON (((110.37926 34.60061, 110.42484 ...</td>\n    </tr>\n    <tr>\n      <th>4</th>\n      <td>150000</td>\n      <td>内蒙古自治区</td>\n      <td>12.0</td>\n      <td>province</td>\n      <td>{'adcode': 100000}</td>\n      <td>4.0</td>\n      <td>None</td>\n      <td>POLYGON ((97.17290 42.79526, 97.37123 42.45708...</td>\n    </tr>\n  </tbody>\n</table>\n</div>"
     },
     "execution_count": 68,
     "metadata": {},
     "output_type": "execute_result"
    }
   ],
   "source": [
    "chinamap_data = gpd.read_file(filename=\"100000_中华人民共和国_full.json\")\n",
    "chinamap_data.head()"
   ],
   "metadata": {
    "collapsed": false,
    "pycharm": {
     "name": "#%%\n"
    }
   }
  },
  {
   "cell_type": "code",
   "execution_count": 103,
   "outputs": [
    {
     "name": "stdout",
     "output_type": "stream",
     "text": [
      "Using matplotlib backend: Qt5Agg\n"
     ]
    }
   ],
   "source": [
    "%matplotlib\n",
    "fig, ax = plt.subplots(figsize=(6, 6))\n",
    "chinamap_data.iloc[:35,:].plot(ax=ax, color='black')\n",
    "plt.show()"
   ],
   "metadata": {
    "collapsed": false,
    "pycharm": {
     "name": "#%%\n"
    }
   }
  },
  {
   "cell_type": "code",
   "execution_count": 74,
   "outputs": [
    {
     "data": {
      "text/plain": "0    False\ndtype: bool"
     },
     "execution_count": 74,
     "metadata": {},
     "output_type": "execute_result"
    }
   ],
   "source": [
    "from shapely.geometry import Point\n",
    "\n",
    "chinamap_data.loc[chinamap_data['name'] == '北京市', 'geometry'].contains(Point(20, 40))"
   ],
   "metadata": {
    "collapsed": false,
    "pycharm": {
     "name": "#%%\n"
    }
   }
  },
  {
   "cell_type": "code",
   "execution_count": 75,
   "outputs": [
    {
     "data": {
      "text/plain": "0     False\n1     False\n2     False\n3     False\n4     False\n5     False\n6     False\n7     False\n8     False\n9     False\n10    False\n11    False\n12    False\n13    False\n14    False\n15    False\n16    False\n17    False\n18    False\n19    False\n20    False\n21    False\n22    False\n23    False\n24    False\n25    False\n26    False\n27    False\n28    False\n29    False\n30    False\n31    False\n32    False\n33    False\n34    False\ndtype: bool"
     },
     "execution_count": 75,
     "metadata": {},
     "output_type": "execute_result"
    }
   ],
   "source": [
    "chinamap_data.loc[:, 'geometry'].contains(Point(20, 40))\n",
    "\n"
   ],
   "metadata": {
    "collapsed": false,
    "pycharm": {
     "name": "#%%\n"
    }
   }
  },
  {
   "cell_type": "code",
   "execution_count": 88,
   "outputs": [
    {
     "data": {
      "text/plain": "<Figure size 600x600 with 1 Axes>",
      "image/png": "[encoded data removed]"
     },
     "metadata": {},
     "output_type": "display_data"
    }
   ],
   "source": [],
   "metadata": {
    "collapsed": false,
    "pycharm": {
     "name": "#%%\n"
    }
   }
  },
  {
   "cell_type": "code",
   "execution_count": null,
   "outputs": [],
   "source": [],
   "metadata": {
    "collapsed": false,
    "pycharm": {
     "name": "#%%\n"
    }
   }
  }
 ],
 "metadata": {
  "kernelspec": {
   "name": "pycharm-17c0256d",
   "language": "python",
   "display_name": "PyCharm (trycode)"
  },
  "language_info": {
   "codemirror_mode": {
    "name": "ipython",
    "version": 2
   },
   "file_extension": ".py",
   "mimetype": "text/x-python",
   "name": "python",
   "nbconvert_exporter": "python",
   "pygments_lexer": "ipython2",
   "version": "2.7.6"
  }
 },
 "nbformat": 4,
 "nbformat_minor": 0
}