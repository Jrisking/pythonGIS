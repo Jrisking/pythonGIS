{
 "cells": [
  {
   "cell_type": "code",
   "execution_count": null,
   "metadata": {
    "collapsed": true
   },
   "outputs": [],
   "source": [
    "import rasterio\n",
    "import numpy as np\n",
    "import matplotlib.pyplot as plt\n",
    "from getchinamap.getchinamap import DownloadChmap\n",
    "import rasterio.mask\n",
    "import cartopy.crs as ccrs\n",
    "import matplotlib as mpl\n",
    "import datetime\n",
    "dl_engine = DownloadChmap()\n",
    "\n"
   ]
  },
  {
   "cell_type": "code",
   "execution_count": null,
   "metadata": {
    "collapsed": false,
    "pycharm": {
     "name": "#%%\n"
    }
   },
   "outputs": [],
   "source": [
    "\n",
    "dem_raw_data = rasterio.open(\"数据集/ChinaDEM1km_WGS84.tif\")\n",
    "# dem_raw_data = rasterio.open(\"数据集/Global_DEM/World_e-Atlas-UCSD_SRTM30-plus_v8.tif\")\n"
   ]
  },
  {
   "cell_type": "code",
   "execution_count": null,
   "metadata": {
    "collapsed": false,
    "pycharm": {
     "name": "#%%\n"
    }
   },
   "outputs": [],
   "source": [
    "dem_raw_data.crs"
   ]
  },
  {
   "cell_type": "code",
   "execution_count": null,
   "metadata": {
    "collapsed": false,
    "pycharm": {
     "name": "#%%\n"
    }
   },
   "outputs": [],
   "source": [
    "dem_raw_data.bounds"
   ]
  },
  {
   "cell_type": "code",
   "execution_count": null,
   "metadata": {
    "collapsed": false,
    "pycharm": {
     "name": "#%%\n"
    }
   },
   "outputs": [],
   "source": [
    "dem_raw_data.transform"
   ]
  },
  {
   "cell_type": "code",
   "execution_count": null,
   "metadata": {
    "collapsed": false,
    "pycharm": {
     "name": "#%%\n"
    }
   },
   "outputs": [],
   "source": [
    "%matplotlib"
   ]
  },
  {
   "cell_type": "code",
   "execution_count": null,
   "metadata": {
    "collapsed": false,
    "pycharm": {
     "name": "#%%\n"
    }
   },
   "outputs": [],
   "source": [
    "# china_boundary_gdf = dl_engine.download_country(target='边界')\n",
    "province_name = '西藏自治区'\n",
    "china_boundary_gdf = dl_engine.download_province(province_name=province_name,target='边界')\n",
    "china_boundary_gdf_sub = dl_engine.download_province(province_name=province_name,target='市')\n",
    "# china_boundary_gdf = dl_engine.download_country(target='边界')\n",
    "# china_boundary_gdf_sub = dl_engine.download_country(target='省')\n",
    "china_boundary_gdf_sub"
   ]
  },
  {
   "cell_type": "code",
   "execution_count": null,
   "metadata": {
    "collapsed": false,
    "pycharm": {
     "name": "#%%\n"
    }
   },
   "outputs": [],
   "source": [
    "out_image, out_transform = rasterio.mask.mask(dem_raw_data, china_boundary_gdf['geometry'], crop=True)\n",
    "out_meta = dem_raw_data.meta\n",
    "out_meta.update({\"driver\": \"GTiff\",\n",
    "                 \"height\": out_image.shape[1],\n",
    "                 \"width\": out_image.shape[2],\n",
    "                 \"transform\": out_transform})"
   ]
  },
  {
   "cell_type": "code",
   "execution_count": null,
   "metadata": {
    "collapsed": false,
    "pycharm": {
     "name": "#%%\n"
    }
   },
   "outputs": [],
   "source": [
    "clean_data = out_image.copy().astype('float')\n",
    "clean_data = clean_data[0, :, :]\n",
    "clean_data[clean_data == out_meta['nodata']] = np.nan\n",
    "# clean_data[clean_data <= -200] = np.nan\n",
    "\n",
    "# clean_data"
   ]
  },
  {
   "cell_type": "markdown",
   "metadata": {
    "collapsed": false
   },
   "source": [
    "## 全部都是ccrs.PlateCarree()"
   ]
  },
  {
   "cell_type": "code",
   "execution_count": null,
   "metadata": {
    "collapsed": false,
    "pycharm": {
     "name": "#%%\n"
    }
   },
   "outputs": [],
   "source": [
    "mat_extent = [getattr(out_transform, 'c'),\n",
    "              getattr(out_transform, 'c') + clean_data.shape[1] * getattr(out_transform, 'a'),\n",
    "              getattr(out_transform, 'f') + clean_data.shape[0] * getattr(out_transform, 'e'),\n",
    "              getattr(out_transform, 'f')]\n",
    "\n",
    "colors = [\"#33A02C\", \"#B2DF8A\", \"#FDBF6F\", \"#1F78B4\", \"#999999\", \"#E31A1C\", \"#E6E6E6\", \"#A6CEE3\"]\n",
    "\n",
    "myccrs = ccrs.PlateCarree()\n",
    "\n",
    "fig, ax = plt.subplots(figsize=(10, 5), dpi=150, subplot_kw={'projection': myccrs})\n",
    "\n",
    "ax.gridlines(draw_labels=True,\n",
    "             linewidth=2, color='gray', alpha=0.5, linestyle='--')\n",
    "\n",
    "ax_im_bar = ax.imshow(clean_data, origin='upper', extent=mat_extent, transform=myccrs,\n",
    "                      cmap=mpl.colors.LinearSegmentedColormap.from_list(\"mypalette\", colors, N=1000))\n",
    "\n",
    "china_boundary_gdf_sub.boundary.plot(ax=ax, color='black', linewidth=1)\n",
    "\n",
    "fig.colorbar(ax_im_bar, orientation='vertical')\n",
    "# plt.tight_layout()\n",
    "#\n",
    "# ax.set_title(\"china dem\")\n",
    "# ax.set_ylabel(\"y label\")\n",
    "# ax.set_xlabel(\"x label\")"
   ]
  },
  {
   "cell_type": "code",
   "execution_count": null,
   "metadata": {
    "collapsed": false,
    "pycharm": {
     "name": "#%%\n"
    }
   },
   "outputs": [],
   "source": [
    "np.nanmin(clean_data), np.nanmax(clean_data)"
   ]
  },
  {
   "cell_type": "markdown",
   "metadata": {
    "collapsed": false
   },
   "source": [
    "## 别的投影"
   ]
  },
  {
   "cell_type": "code",
   "execution_count": null,
   "metadata": {
    "collapsed": false,
    "pycharm": {
     "name": "#%%\n"
    }
   },
   "outputs": [],
   "source": [
    "longitude = np.array(\n",
    "    [getattr(out_transform, 'c') + i * getattr(out_transform, 'a') for i in range(clean_data.shape[1])])\n",
    "latitude = np.array(\n",
    "    [getattr(out_transform, 'f') + i * getattr(out_transform, 'e') for i in range(clean_data.shape[0])])\n",
    "\n",
    "colors = [\"#33A02C\", \"#B2DF8A\", \"#FDBF6F\", \"#1F78B4\", \"#999999\", \"#E31A1C\", \"#E6E6E6\", \"#A6CEE3\"]\n",
    "center_china_point = china_boundary_gdf.centroid[0]\n",
    "\n",
    "# 新的兰伯特投影\n",
    "new_crs = ccrs.Orthographic(central_longitude=center_china_point.x,\n",
    "                                central_latitude=center_china_point.y)\n",
    "myccrs = ccrs.PlateCarree()\n",
    "\n",
    "fig, ax = plt.subplots(figsize=(10, 10), dpi=100, subplot_kw={'projection': new_crs})\n",
    "\n",
    "ax.gridlines(draw_labels=True,\n",
    "             linewidth=2, color='gray', alpha=0.5, linestyle='--')\n",
    "ax_im_bar = ax.contourf(longitude, latitude, clean_data,  # [::-1,:]\n",
    "                            np.arange(0, np.nanmax(clean_data), 100.0),\n",
    "                            transform=ccrs.PlateCarree(),\n",
    "                            cmap=mpl.colors.LinearSegmentedColormap.from_list(\"mypalette\", colors, N=1000),\n",
    "                            extend='both', origin='upper')\n",
    "china_boundary_gdf_sub.to_crs(new_crs.proj4_init).boundary.plot(ax=ax, edgecolor='black', linewidth=1)\n",
    "fig.colorbar(ax_im_bar, orientation='vertical')\n",
    "# fig.savefig('test1226.png')\n",
    "fig.savefig(f\"test1226_china_{datetime.datetime.now().strftime('%Y-%m-%d %X')}.png\")"
   ]
  },
  {
   "cell_type": "code",
   "execution_count": null,
   "metadata": {
    "collapsed": false,
    "pycharm": {
     "name": "#%%\n"
    }
   },
   "outputs": [],
   "source": []
  },
  {
   "cell_type": "code",
   "execution_count": null,
   "metadata": {
    "collapsed": false,
    "pycharm": {
     "name": "#%%\n"
    }
   },
   "outputs": [],
   "source": []
  }
 ],
 "metadata": {
  "kernelspec": {
   "display_name": "Python 3",
   "language": "python",
   "name": "python3"
  },
  "language_info": {
   "codemirror_mode": {
    "name": "ipython",
    "version": 2
   },
   "file_extension": ".py",
   "mimetype": "text/x-python",
   "name": "python",
   "nbconvert_exporter": "python",
   "pygments_lexer": "ipython2",
   "version": "2.7.6"
  }
 },
 "nbformat": 4,
 "nbformat_minor": 0
}
