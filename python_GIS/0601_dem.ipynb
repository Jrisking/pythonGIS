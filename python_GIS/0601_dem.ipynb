{
 "cells": [
  {
   "cell_type": "code",
   "execution_count": 1,
   "metadata": {
    "collapsed": true
   },
   "outputs": [],
   "source": [
    "import rasterio\n",
    "import numpy as np\n",
    "import matplotlib.pyplot as plt\n",
    "from getchinamap.getchinamap import DownloadChmap\n",
    "import rasterio.mask\n",
    "import cartopy.crs as ccrs\n",
    "import matplotlib as mpl\n",
    "import datetime\n",
    "dl_engine = DownloadChmap()\n"
   ]
  },
  {
   "cell_type": "code",
   "execution_count": 2,
   "outputs": [],
   "source": [
    "\n",
    "dem_raw_data = rasterio.open(\"数据集/ChinaDEM1km_WGS84.tif\")\n",
    "# dem_raw_data = rasterio.open(\"数据集/Global_DEM/World_e-Atlas-UCSD_SRTM30-plus_v8.tif\")\n"
   ],
   "metadata": {
    "collapsed": false,
    "pycharm": {
     "name": "#%%\n"
    }
   }
  },
  {
   "cell_type": "code",
   "execution_count": 3,
   "outputs": [
    {
     "name": "stderr",
     "output_type": "stream",
     "text": [
      "ERROR 1: PROJ: proj_identify: /opt/anaconda3/envs/devc/share/proj/proj.db lacks DATABASE.LAYOUT.VERSION.MAJOR / DATABASE.LAYOUT.VERSION.MINOR metadata. It comes from another PROJ installation.\n"
     ]
    },
    {
     "data": {
      "text/plain": "CRS.from_wkt('GEOGCS[\"WGS 84\",DATUM[\"WGS_1984\",SPHEROID[\"WGS 84\",6378137,298.257223563,AUTHORITY[\"EPSG\",\"7030\"]],AUTHORITY[\"EPSG\",\"6326\"]],PRIMEM[\"Greenwich\",0],UNIT[\"degree\",0.0174532925199433,AUTHORITY[\"EPSG\",\"9122\"]],AXIS[\"Latitude\",NORTH],AXIS[\"Longitude\",EAST],AUTHORITY[\"EPSG\",\"4326\"]]')"
     },
     "execution_count": 3,
     "metadata": {},
     "output_type": "execute_result"
    }
   ],
   "source": [
    "dem_raw_data.crs"
   ],
   "metadata": {
    "collapsed": false,
    "pycharm": {
     "name": "#%%\n"
    }
   }
  },
  {
   "cell_type": "code",
   "execution_count": 4,
   "outputs": [
    {
     "data": {
      "text/plain": "BoundingBox(left=53.46698648391842, bottom=10.408439857763582, right=152.87245373475398, top=59.554459059540065)"
     },
     "execution_count": 4,
     "metadata": {},
     "output_type": "execute_result"
    }
   ],
   "source": [
    "dem_raw_data.bounds"
   ],
   "metadata": {
    "collapsed": false,
    "pycharm": {
     "name": "#%%\n"
    }
   }
  },
  {
   "cell_type": "code",
   "execution_count": 5,
   "outputs": [
    {
     "data": {
      "text/plain": "Affine(0.00912646596133268, 0.0, 53.46698648391842,\n       0.0, -0.00912646596133268, 59.554459059540065)"
     },
     "execution_count": 5,
     "metadata": {},
     "output_type": "execute_result"
    }
   ],
   "source": [
    "dem_raw_data.transform"
   ],
   "metadata": {
    "collapsed": false,
    "pycharm": {
     "name": "#%%\n"
    }
   }
  },
  {
   "cell_type": "code",
   "execution_count": 6,
   "outputs": [
    {
     "name": "stdout",
     "output_type": "stream",
     "text": [
      "Using matplotlib backend: MacOSX\n"
     ]
    }
   ],
   "source": [
    "%matplotlib"
   ],
   "metadata": {
    "collapsed": false,
    "pycharm": {
     "name": "#%%\n"
    }
   }
  },
  {
   "cell_type": "code",
   "execution_count": 7,
   "outputs": [
    {
     "data": {
      "text/plain": "   adcode  name  childrenNum level              parent  subFeatureIndex  \\\n0  540100   拉萨市            8  city  {'adcode': 540000}                0   \n1  540200  日喀则市           18  city  {'adcode': 540000}                1   \n2  540300   昌都市           11  city  {'adcode': 540000}                2   \n3  540400   林芝市            7  city  {'adcode': 540000}                3   \n4  540500   山南市           12  city  {'adcode': 540000}                4   \n5  540600   那曲市           11  city  {'adcode': 540000}                5   \n6  542500  阿里地区            7  city  {'adcode': 540000}                6   \n\n                                            geometry  \n0  MULTIPOLYGON (((90.34923 29.30736, 90.37761 29...  \n1  MULTIPOLYGON (((89.89917 29.97530, 89.88384 29...  \n2  MULTIPOLYGON (((98.68483 28.43523, 98.68939 28...  \n3  MULTIPOLYGON (((94.15421 30.48689, 94.15130 30...  \n4  MULTIPOLYGON (((90.34923 29.30736, 90.33824 29...  \n5  MULTIPOLYGON (((94.75946 32.52937, 94.75781 32...  \n6  MULTIPOLYGON (((86.07057 35.86067, 86.05979 35...  ",
      "text/html": "<div>\n<style scoped>\n    .dataframe tbody tr th:only-of-type {\n        vertical-align: middle;\n    }\n\n    .dataframe tbody tr th {\n        vertical-align: top;\n    }\n\n    .dataframe thead th {\n        text-align: right;\n    }\n</style>\n<table border=\"1\" class=\"dataframe\">\n  <thead>\n    <tr style=\"text-align: right;\">\n      <th></th>\n      <th>adcode</th>\n      <th>name</th>\n      <th>childrenNum</th>\n      <th>level</th>\n      <th>parent</th>\n      <th>subFeatureIndex</th>\n      <th>geometry</th>\n    </tr>\n  </thead>\n  <tbody>\n    <tr>\n      <th>0</th>\n      <td>540100</td>\n      <td>拉萨市</td>\n      <td>8</td>\n      <td>city</td>\n      <td>{'adcode': 540000}</td>\n      <td>0</td>\n      <td>MULTIPOLYGON (((90.34923 29.30736, 90.37761 29...</td>\n    </tr>\n    <tr>\n      <th>1</th>\n      <td>540200</td>\n      <td>日喀则市</td>\n      <td>18</td>\n      <td>city</td>\n      <td>{'adcode': 540000}</td>\n      <td>1</td>\n      <td>MULTIPOLYGON (((89.89917 29.97530, 89.88384 29...</td>\n    </tr>\n    <tr>\n      <th>2</th>\n      <td>540300</td>\n      <td>昌都市</td>\n      <td>11</td>\n      <td>city</td>\n      <td>{'adcode': 540000}</td>\n      <td>2</td>\n      <td>MULTIPOLYGON (((98.68483 28.43523, 98.68939 28...</td>\n    </tr>\n    <tr>\n      <th>3</th>\n      <td>540400</td>\n      <td>林芝市</td>\n      <td>7</td>\n      <td>city</td>\n      <td>{'adcode': 540000}</td>\n      <td>3</td>\n      <td>MULTIPOLYGON (((94.15421 30.48689, 94.15130 30...</td>\n    </tr>\n    <tr>\n      <th>4</th>\n      <td>540500</td>\n      <td>山南市</td>\n      <td>12</td>\n      <td>city</td>\n      <td>{'adcode': 540000}</td>\n      <td>4</td>\n      <td>MULTIPOLYGON (((90.34923 29.30736, 90.33824 29...</td>\n    </tr>\n    <tr>\n      <th>5</th>\n      <td>540600</td>\n      <td>那曲市</td>\n      <td>11</td>\n      <td>city</td>\n      <td>{'adcode': 540000}</td>\n      <td>5</td>\n      <td>MULTIPOLYGON (((94.75946 32.52937, 94.75781 32...</td>\n    </tr>\n    <tr>\n      <th>6</th>\n      <td>542500</td>\n      <td>阿里地区</td>\n      <td>7</td>\n      <td>city</td>\n      <td>{'adcode': 540000}</td>\n      <td>6</td>\n      <td>MULTIPOLYGON (((86.07057 35.86067, 86.05979 35...</td>\n    </tr>\n  </tbody>\n</table>\n</div>"
     },
     "execution_count": 7,
     "metadata": {},
     "output_type": "execute_result"
    }
   ],
   "source": [
    "# china_boundary_gdf = dl_engine.download_country(target='边界')\n",
    "province_name = '西藏自治区'\n",
    "china_boundary_gdf = dl_engine.download_province(province_name=province_name,target='边界')\n",
    "china_boundary_gdf_sub = dl_engine.download_province(province_name=province_name,target='市')\n",
    "# china_boundary_gdf = dl_engine.download_country(target='边界')\n",
    "# china_boundary_gdf_sub = dl_engine.download_country(target='省')\n",
    "china_boundary_gdf_sub"
   ],
   "metadata": {
    "collapsed": false,
    "pycharm": {
     "name": "#%%\n"
    }
   }
  },
  {
   "cell_type": "code",
   "execution_count": 8,
   "outputs": [],
   "source": [
    "out_image, out_transform = rasterio.mask.mask(dem_raw_data, china_boundary_gdf['geometry'], crop=True)\n",
    "out_meta = dem_raw_data.meta\n",
    "out_meta.update({\"driver\": \"GTiff\",\n",
    "                 \"height\": out_image.shape[1],\n",
    "                 \"width\": out_image.shape[2],\n",
    "                 \"transform\": out_transform})"
   ],
   "metadata": {
    "collapsed": false,
    "pycharm": {
     "name": "#%%\n"
    }
   }
  },
  {
   "cell_type": "code",
   "execution_count": 9,
   "outputs": [],
   "source": [
    "clean_data = out_image.copy().astype('float')\n",
    "clean_data = clean_data[0, :, :]\n",
    "clean_data[clean_data == out_meta['nodata']] = np.nan\n",
    "# clean_data[clean_data <= -200] = np.nan\n",
    "\n",
    "# clean_data"
   ],
   "metadata": {
    "collapsed": false,
    "pycharm": {
     "name": "#%%\n"
    }
   }
  },
  {
   "cell_type": "markdown",
   "source": [
    "## 全部都是ccrs.PlateCarree()"
   ],
   "metadata": {
    "collapsed": false
   }
  },
  {
   "cell_type": "code",
   "execution_count": 10,
   "outputs": [
    {
     "data": {
      "text/plain": "<matplotlib.colorbar.Colorbar at 0x7f90f1bbb0a0>"
     },
     "execution_count": 10,
     "metadata": {},
     "output_type": "execute_result"
    }
   ],
   "source": [
    "mat_extent = [getattr(out_transform, 'c'),\n",
    "              getattr(out_transform, 'c') + clean_data.shape[1] * getattr(out_transform, 'a'),\n",
    "              getattr(out_transform, 'f') + clean_data.shape[0] * getattr(out_transform, 'e'),\n",
    "              getattr(out_transform, 'f')]\n",
    "\n",
    "colors = [\"#33A02C\", \"#B2DF8A\", \"#FDBF6F\", \"#1F78B4\", \"#999999\", \"#E31A1C\", \"#E6E6E6\", \"#A6CEE3\"]\n",
    "\n",
    "myccrs = ccrs.PlateCarree()\n",
    "\n",
    "fig, ax = plt.subplots(figsize=(10, 5), dpi=150, subplot_kw={'projection': myccrs})\n",
    "\n",
    "ax.gridlines(draw_labels=True,\n",
    "             linewidth=2, color='gray', alpha=0.5, linestyle='--')\n",
    "\n",
    "ax_im_bar = ax.imshow(clean_data, origin='upper', extent=mat_extent, transform=myccrs,\n",
    "                      cmap=mpl.colors.LinearSegmentedColormap.from_list(\"mypalette\", colors, N=1000))\n",
    "\n",
    "china_boundary_gdf_sub.boundary.plot(ax=ax, color='black', linewidth=1)\n",
    "\n",
    "fig.colorbar(ax_im_bar, orientation='vertical')\n",
    "# plt.tight_layout()\n",
    "#\n",
    "# ax.set_title(\"china dem\")\n",
    "# ax.set_ylabel(\"y label\")\n",
    "# ax.set_xlabel(\"x label\")"
   ],
   "metadata": {
    "collapsed": false,
    "pycharm": {
     "name": "#%%\n"
    }
   }
  },
  {
   "cell_type": "code",
   "execution_count": 11,
   "outputs": [
    {
     "data": {
      "text/plain": "(46.0, 8668.0)"
     },
     "execution_count": 11,
     "metadata": {},
     "output_type": "execute_result"
    }
   ],
   "source": [
    "np.nanmin(clean_data), np.nanmax(clean_data)"
   ],
   "metadata": {
    "collapsed": false,
    "pycharm": {
     "name": "#%%\n"
    }
   }
  },
  {
   "cell_type": "markdown",
   "source": [
    "## 别的投影"
   ],
   "metadata": {
    "collapsed": false
   }
  },
  {
   "cell_type": "code",
   "execution_count": 12,
   "outputs": [
    {
     "name": "stderr",
     "output_type": "stream",
     "text": [
      "/var/folders/rn/1sl8q5g56bb377glk8qyp_k40000gn/T/ipykernel_685/3706497031.py:7: UserWarning: Geometry is in a geographic CRS. Results from 'centroid' are likely incorrect. Use 'GeoSeries.to_crs()' to re-project geometries to a projected CRS before this operation.\n",
      "\n",
      "  center_china_point = china_boundary_gdf.centroid[0]\n"
     ]
    }
   ],
   "source": [
    "longitude = np.array(\n",
    "    [getattr(out_transform, 'c') + i * getattr(out_transform, 'a') for i in range(clean_data.shape[1])])\n",
    "latitude = np.array(\n",
    "    [getattr(out_transform, 'f') + i * getattr(out_transform, 'e') for i in range(clean_data.shape[0])])\n",
    "\n",
    "colors = [\"#33A02C\", \"#B2DF8A\", \"#FDBF6F\", \"#1F78B4\", \"#999999\", \"#E31A1C\", \"#E6E6E6\", \"#A6CEE3\"]\n",
    "center_china_point = china_boundary_gdf.centroid[0]\n",
    "\n",
    "# 新的兰伯特投影\n",
    "new_crs = ccrs.Orthographic(central_longitude=center_china_point.x,\n",
    "                                central_latitude=center_china_point.y)\n",
    "myccrs = ccrs.PlateCarree()\n",
    "\n",
    "fig, ax = plt.subplots(figsize=(10, 10), dpi=100, subplot_kw={'projection': new_crs})\n",
    "\n",
    "ax.gridlines(draw_labels=True,\n",
    "             linewidth=2, color='gray', alpha=0.5, linestyle='--')\n",
    "ax_im_bar = ax.contourf(longitude, latitude, clean_data,  # [::-1,:]\n",
    "                            np.arange(0, np.nanmax(clean_data), 100.0),\n",
    "                            transform=ccrs.PlateCarree(),\n",
    "                            cmap=mpl.colors.LinearSegmentedColormap.from_list(\"mypalette\", colors, N=1000),\n",
    "                            extend='both', origin='upper')\n",
    "china_boundary_gdf_sub.to_crs(new_crs.proj4_init).boundary.plot(ax=ax, edgecolor='black', linewidth=1)\n",
    "fig.colorbar(ax_im_bar, orientation='vertical')\n",
    "# fig.savefig('test1226.png')\n",
    "fig.savefig(f\"test1226_china_{datetime.datetime.now().strftime('%Y-%m-%d %X')}.png\")"
   ],
   "metadata": {
    "collapsed": false,
    "pycharm": {
     "name": "#%%\n"
    }
   }
  },
  {
   "cell_type": "code",
   "execution_count": 12,
   "outputs": [],
   "source": [],
   "metadata": {
    "collapsed": false,
    "pycharm": {
     "name": "#%%\n"
    }
   }
  },
  {
   "cell_type": "code",
   "execution_count": 12,
   "outputs": [],
   "source": [],
   "metadata": {
    "collapsed": false,
    "pycharm": {
     "name": "#%%\n"
    }
   }
  }
 ],
 "metadata": {
  "kernelspec": {
   "display_name": "Python 3",
   "language": "python",
   "name": "python3"
  },
  "language_info": {
   "codemirror_mode": {
    "name": "ipython",
    "version": 2
   },
   "file_extension": ".py",
   "mimetype": "text/x-python",
   "name": "python",
   "nbconvert_exporter": "python",
   "pygments_lexer": "ipython2",
   "version": "2.7.6"
  }
 },
 "nbformat": 4,
 "nbformat_minor": 0
}