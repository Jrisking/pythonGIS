{
 "cells": [
  {
   "cell_type": "markdown",
   "metadata": {},
   "source": [
    "### 在reshape里面，-1是什么意思\n",
    "1. https://stackoverflow.com/questions/18691084/what-does-1-mean-in-numpy-reshape"
   ]
  },
  {
   "cell_type": "markdown",
   "metadata": {},
   "source": [
    "1. 实际上，-1就是代表一个占位，表示这里有一个位置（或者叫有一个维度）\n",
    "2. 至于这个维度是多少，让numpy去自己推导\n",
    "3. 但是在reshape里面，-1最多只能出现一次。"
   ]
  },
  {
   "cell_type": "code",
   "execution_count": 2,
   "metadata": {},
   "outputs": [
    {
     "data": {
      "text/plain": [
       "array([ 6, 15, 13,  3, 10, 16, 12,  7, 10,  9, 11,  4, 19, 19,  8,  2, 10,\n",
       "        0, 16,  7])"
      ]
     },
     "execution_count": 2,
     "metadata": {},
     "output_type": "execute_result"
    }
   ],
   "source": [
    "import numpy as np \n",
    "data = np.random.randint(0, 20, (20, ))\n",
    "data"
   ]
  },
  {
   "cell_type": "code",
   "execution_count": 3,
   "metadata": {},
   "outputs": [
    {
     "data": {
      "text/plain": [
       "(4, 5)"
      ]
     },
     "execution_count": 3,
     "metadata": {},
     "output_type": "execute_result"
    }
   ],
   "source": [
    "# 希望吧data转换成二维的，第一个维为4，第二维度我不在乎多少，让numpy自己算\n",
    "data.reshape(4, -1).shape"
   ]
  },
  {
   "cell_type": "code",
   "execution_count": 7,
   "metadata": {},
   "outputs": [
    {
     "data": {
      "text/plain": [
       "(1, 1, 4, 5)"
      ]
     },
     "execution_count": 7,
     "metadata": {},
     "output_type": "execute_result"
    }
   ],
   "source": [
    "# 这里我希望有4个维度，第一个维度为1， 第二个维度为1， 第三个为x（让numpy自己算），第4个维度为5\n",
    "data.reshape(1,1, -1, 5).shape"
   ]
  },
  {
   "cell_type": "code",
   "execution_count": null,
   "metadata": {},
   "outputs": [],
   "source": []
  }
 ],
 "metadata": {
  "kernelspec": {
   "display_name": "Python 3.8.8 ('devc')",
   "language": "python",
   "name": "python3"
  },
  "language_info": {
   "codemirror_mode": {
    "name": "ipython",
    "version": 3
   },
   "file_extension": ".py",
   "mimetype": "text/x-python",
   "name": "python",
   "nbconvert_exporter": "python",
   "pygments_lexer": "ipython3",
   "version": "3.8.8"
  },
  "orig_nbformat": 4,
  "vscode": {
   "interpreter": {
    "hash": "4fb0a6905ed5d212c3c96d4a56e67eb44191d04d6f3997ffb197b9a104e8e26d"
   }
  }
 },
 "nbformat": 4,
 "nbformat_minor": 2
}
