{
 "cells": [
  {
   "cell_type": "code",
   "execution_count": 2,
   "metadata": {},
   "outputs": [],
   "source": [
    "import numpy as np "
   ]
  },
  {
   "cell_type": "markdown",
   "metadata": {},
   "source": [
    "`np.partition`是对一个向量、沿着一个维度方向、按照大小对数据进行分堆，分成了两堆。\n",
    "1. 在`kth`前面的这堆数值，都是这个向量里面比较小的群体们。\n",
    "2. 在`kth`后面的这堆数值，都是这个向量里面比较大的群体们。"
   ]
  },
  {
   "cell_type": "code",
   "execution_count": 3,
   "metadata": {},
   "outputs": [
    {
     "data": {
      "text/plain": [
       "array([-10, -30, -40,  -1,   1,   2, 564,   3, 278, 232])"
      ]
     },
     "execution_count": 3,
     "metadata": {},
     "output_type": "execute_result"
    }
   ],
   "source": [
    "data = np.array([232, 564, 278, 3, 2, 1, -1, -10, -30, -40])\n",
    "np.partition(data, kth=4)"
   ]
  },
  {
   "cell_type": "markdown",
   "metadata": {},
   "source": [
    "`np.partition(data, kth=4)`的意思就是：\n",
    "1. `np.partition`对`data`说：“你们班，现在给我从左向右站好！我不需要你们完全从低到高排序好，我只要左边4个是你们里面最小的就行”\n",
    "2. 然后`data`就找到班里最小的4个同学：`-1`, `-10`, `-30`, `-40`，说：“你们几个赶快给我站到左边，不需要你们几个再排序了，怎么快怎么来”\n",
    "3. `-1`, `-10`, `-30`, `-40`听到`data`指令后，马上跑到左边站好。\n",
    "4. 剩下的没有被指出来的，想怎么站都无所谓"
   ]
  },
  {
   "cell_type": "markdown",
   "metadata": {},
   "source": [
    "1. `np.partition`功能和`np.argpartition`功能是一样的，只不过`np.argpartition`返回的是序号"
   ]
  },
  {
   "cell_type": "code",
   "execution_count": 4,
   "metadata": {},
   "outputs": [
    {
     "data": {
      "text/plain": [
       "array([7, 8, 9, 6, 5, 4, 1, 3, 2, 0])"
      ]
     },
     "execution_count": 4,
     "metadata": {},
     "output_type": "execute_result"
    }
   ],
   "source": [
    "np.argpartition(data, kth=4)"
   ]
  },
  {
   "cell_type": "markdown",
   "metadata": {},
   "source": [
    "1. `np.argpartition`对`data`说:“把你们班最差的几个人学号放在前4个坑，剩下人随便填上就行了。\n",
    "2. `data`对`-1`, `-10`, `-30`, `-40`说，你们几个差学生也别出来了，就对我说你们学号多少，我来填上，然后`-1`说我是6号，`-10`说我说7号，`-30`说我是8号，`-40`说我是9号。\n",
    "3. 然后剩下的人的编号，`data`敷衍了事，随便写上了。"
   ]
  },
  {
   "cell_type": "markdown",
   "metadata": {},
   "source": [
    "那么我们要想找到`data`的最小的4个数字，其实非常简单。两个方法"
   ]
  },
  {
   "cell_type": "code",
   "execution_count": 17,
   "metadata": {},
   "outputs": [
    {
     "data": {
      "text/plain": [
       "array([-10, -30, -40,  -1])"
      ]
     },
     "execution_count": 17,
     "metadata": {},
     "output_type": "execute_result"
    }
   ],
   "source": [
    "# way 1\n",
    "np.partition(data, kth=4)[:4]\n",
    "\n",
    "# way 2\n",
    "data[np.argpartition(data, kth=4)[:4]]"
   ]
  },
  {
   "cell_type": "markdown",
   "metadata": {},
   "source": [
    "那么问题来了，我想找到`data`最大的3位数怎么办？\n",
    "1. 一般第k个，我们在python里面都是使用k为正数，也就是从左向右数第k个。\n",
    "2. 在python取后k个，其实我们都是知道的，就是使用`-k`这个方法。\n",
    "\n",
    "那么这个方法其实在这里也是适用的，下面就是解决方法。就不过多做解释了。（注意返回的结果的后三个数值）"
   ]
  },
  {
   "cell_type": "code",
   "execution_count": 19,
   "metadata": {},
   "outputs": [
    {
     "data": {
      "text/plain": [
       "array([  1, -40, -30, -10,  -1,   2,   3, 232, 278, 564])"
      ]
     },
     "execution_count": 19,
     "metadata": {},
     "output_type": "execute_result"
    }
   ],
   "source": [
    "np.partition(data, kth=-3)# 返回的是具体的值"
   ]
  },
  {
   "cell_type": "code",
   "execution_count": 20,
   "metadata": {},
   "outputs": [
    {
     "data": {
      "text/plain": [
       "array([5, 9, 8, 7, 6, 4, 3, 0, 2, 1])"
      ]
     },
     "execution_count": 20,
     "metadata": {},
     "output_type": "execute_result"
    }
   ],
   "source": [
    "np.argpartition(data, kth=-3) # 返回的是值对应的序号"
   ]
  },
  {
   "cell_type": "markdown",
   "metadata": {},
   "source": [
    "我要是取后3个序号，其实就是top3的值了"
   ]
  },
  {
   "cell_type": "code",
   "execution_count": 5,
   "metadata": {},
   "outputs": [
    {
     "data": {
      "text/plain": [
       "array([232, 278, 564])"
      ]
     },
     "execution_count": 5,
     "metadata": {},
     "output_type": "execute_result"
    }
   ],
   "source": [
    "# way1\n",
    "np.partition(data, kth=-3)[-3:]\n",
    "\n",
    "# way 2\n",
    "data[np.argpartition(data, kth=-3)[-3:]]"
   ]
  },
  {
   "cell_type": "markdown",
   "metadata": {},
   "source": [
    "上面的`data`只是一维的，对于二维及更高维度的数据同样适用。\n",
    "这里要注意一个小细节：\n",
    "1. 假设一个数组的shape是: (m,n,z)\n",
    "那么`axis=1`的方向其实就是沿着第二个也就是`n`这个方向。希望可以帮助读者分清楚"
   ]
  },
  {
   "cell_type": "markdown",
   "metadata": {},
   "source": [
    "### 实际问题\n",
    "我是一个研究疾病的研究生，手上有个数据：\n",
    "1. 有一系列数据：其中有425个`疾病名称`，有13426个`症状`\n",
    "2. 还有一个`疾病名称`和`症状`的`权重matrix`，矩阵的shape为`425 x 13426`\n",
    "\n",
    "需要解决的问题是：\n",
    "我需要按照`权重matrix`找到每个`疾病名称`前10个最相关的`症状`，并且记录下来。\n",
    "\n",
    "\n",
    "#### 解析\n",
    "1. 这里需要处理的数组变成了二维数组，找top10（没让你排序，只要找到就行了），并且记录下来。\n",
    "2. 这里使用`np.argpartition`可以一次性将所有的topk找出来，大大的提高了计算量"
   ]
  },
  {
   "cell_type": "code",
   "execution_count": 7,
   "metadata": {},
   "outputs": [
    {
     "name": "stderr",
     "output_type": "stream",
     "text": [
      "100%|██████████| 425/425 [00:01<00:00, 254.92it/s]\n"
     ]
    },
    {
     "data": {
      "text/html": [
       "<div>\n",
       "<style scoped>\n",
       "    .dataframe tbody tr th:only-of-type {\n",
       "        vertical-align: middle;\n",
       "    }\n",
       "\n",
       "    .dataframe tbody tr th {\n",
       "        vertical-align: top;\n",
       "    }\n",
       "\n",
       "    .dataframe thead th {\n",
       "        text-align: right;\n",
       "    }\n",
       "</style>\n",
       "<table border=\"1\" class=\"dataframe\">\n",
       "  <thead>\n",
       "    <tr style=\"text-align: right;\">\n",
       "      <th></th>\n",
       "      <th>features</th>\n",
       "      <th>disease</th>\n",
       "      <th>weights</th>\n",
       "    </tr>\n",
       "  </thead>\n",
       "  <tbody>\n",
       "    <tr>\n",
       "      <th>0</th>\n",
       "      <td>feature_12018</td>\n",
       "      <td>disease_0</td>\n",
       "      <td>0.999897</td>\n",
       "    </tr>\n",
       "    <tr>\n",
       "      <th>1</th>\n",
       "      <td>feature_8510</td>\n",
       "      <td>disease_0</td>\n",
       "      <td>0.999966</td>\n",
       "    </tr>\n",
       "    <tr>\n",
       "      <th>2</th>\n",
       "      <td>feature_268</td>\n",
       "      <td>disease_0</td>\n",
       "      <td>0.999974</td>\n",
       "    </tr>\n",
       "    <tr>\n",
       "      <th>3</th>\n",
       "      <td>feature_4504</td>\n",
       "      <td>disease_1</td>\n",
       "      <td>0.999844</td>\n",
       "    </tr>\n",
       "    <tr>\n",
       "      <th>4</th>\n",
       "      <td>feature_5604</td>\n",
       "      <td>disease_1</td>\n",
       "      <td>0.999965</td>\n",
       "    </tr>\n",
       "    <tr>\n",
       "      <th>5</th>\n",
       "      <td>feature_777</td>\n",
       "      <td>disease_1</td>\n",
       "      <td>0.999873</td>\n",
       "    </tr>\n",
       "    <tr>\n",
       "      <th>6</th>\n",
       "      <td>feature_1221</td>\n",
       "      <td>disease_2</td>\n",
       "      <td>0.999905</td>\n",
       "    </tr>\n",
       "    <tr>\n",
       "      <th>7</th>\n",
       "      <td>feature_7040</td>\n",
       "      <td>disease_2</td>\n",
       "      <td>0.999963</td>\n",
       "    </tr>\n",
       "    <tr>\n",
       "      <th>8</th>\n",
       "      <td>feature_9973</td>\n",
       "      <td>disease_2</td>\n",
       "      <td>0.999927</td>\n",
       "    </tr>\n",
       "    <tr>\n",
       "      <th>9</th>\n",
       "      <td>feature_3787</td>\n",
       "      <td>disease_3</td>\n",
       "      <td>0.999900</td>\n",
       "    </tr>\n",
       "  </tbody>\n",
       "</table>\n",
       "</div>"
      ],
      "text/plain": [
       "        features    disease   weights\n",
       "0  feature_12018  disease_0  0.999897\n",
       "1   feature_8510  disease_0  0.999966\n",
       "2    feature_268  disease_0  0.999974\n",
       "3   feature_4504  disease_1  0.999844\n",
       "4   feature_5604  disease_1  0.999965\n",
       "5    feature_777  disease_1  0.999873\n",
       "6   feature_1221  disease_2  0.999905\n",
       "7   feature_7040  disease_2  0.999963\n",
       "8   feature_9973  disease_2  0.999927\n",
       "9   feature_3787  disease_3  0.999900"
      ]
     },
     "execution_count": 7,
     "metadata": {},
     "output_type": "execute_result"
    }
   ],
   "source": [
    "import numpy as np\n",
    "import pandas as pd\n",
    "from tqdm import tqdm\n",
    "# generate sample data\n",
    "n_features = 13426\n",
    "n_disease = 425\n",
    "features = [f\"feature_{i}\" for i in range(n_features)]\n",
    "disease = [f\"disease_{i}\" for i in range(n_disease)]\n",
    "weights = np.random.random((n_disease, n_features))\n",
    "#function\n",
    "def getdata(top_k: int) -> pd.DataFrame:\n",
    "    index = np.argpartition(weights, -top_k, axis=1)[:, -top_k:]\n",
    "\n",
    "    def slice_data(i):\n",
    "        temp_data = pd.DataFrame({\n",
    "            'features': np.array(features)[index[i, :]]})\n",
    "        temp_data['disease'] = disease[i]\n",
    "        temp_data['weights'] = weights[i, index[i, :]]\n",
    "        return temp_data\n",
    "\n",
    "    res = pd.concat([slice_data(i) for i in tqdm(range(weights.shape[0]))]).reset_index(drop=True)\n",
    "    return res\n",
    "\n",
    "\n",
    "final_data = getdata(top_k=3) # 这里只是找top3的，要是想找top10的，修改数值就行了\n",
    "final_data.shape\n",
    "final_data.head(10)"
   ]
  },
  {
   "cell_type": "code",
   "execution_count": null,
   "metadata": {},
   "outputs": [],
   "source": []
  }
 ],
 "metadata": {
  "kernelspec": {
   "display_name": "Python 3.8.8 ('devc')",
   "language": "python",
   "name": "python3"
  },
  "language_info": {
   "codemirror_mode": {
    "name": "ipython",
    "version": 3
   },
   "file_extension": ".py",
   "mimetype": "text/x-python",
   "name": "python",
   "nbconvert_exporter": "python",
   "pygments_lexer": "ipython3",
   "version": "3.8.8"
  },
  "orig_nbformat": 4,
  "vscode": {
   "interpreter": {
    "hash": "4fb0a6905ed5d212c3c96d4a56e67eb44191d04d6f3997ffb197b9a104e8e26d"
   }
  }
 },
 "nbformat": 4,
 "nbformat_minor": 2
}
