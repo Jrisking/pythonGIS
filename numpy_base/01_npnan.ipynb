{
 "cells": [
  {
   "cell_type": "code",
   "execution_count": 1,
   "metadata": {},
   "outputs": [],
   "source": [
    "import numpy as np "
   ]
  },
  {
   "cell_type": "code",
   "execution_count": 2,
   "metadata": {},
   "outputs": [
    {
     "name": "stdout",
     "output_type": "stream",
     "text": [
      "arr 的shape为: (4, 3, 5)\n"
     ]
    }
   ],
   "source": [
    "arr = np.array([[[5, np.nan, np.nan, 7, 2],\n",
    "                 [3, np.nan, 1, 8, np.nan],\n",
    "                 [4, 9, 6, np.nan, np.nan]],\n",
    "                [[5, np.nan, np.nan, 7, 2],\n",
    "                 [3, np.nan, 1, 8, np.nan],\n",
    "                 [4, 9, 6, np.nan, np.nan]],\n",
    "                [[5, np.nan, np.nan, 7, 2],\n",
    "                 [3, np.nan, 1, 8, np.nan],\n",
    "                 [4, 9, 6, np.nan, np.nan]],\n",
    "                [[5, np.nan, np.nan, 7, 2],\n",
    "                 [3, np.nan, 1, 8, np.nan],\n",
    "                 [4, 9, 6, np.nan, np.nan]]])\n",
    "\n",
    "print(f\"arr 的shape为: {arr.shape}\")"
   ]
  },
  {
   "cell_type": "code",
   "execution_count": 4,
   "metadata": {},
   "outputs": [
    {
     "data": {
      "text/plain": [
       "array([[[False,  True,  True, False, False],\n",
       "        [False,  True, False, False,  True],\n",
       "        [False, False, False,  True,  True]],\n",
       "\n",
       "       [[False,  True,  True, False, False],\n",
       "        [False,  True, False, False,  True],\n",
       "        [False, False, False,  True,  True]],\n",
       "\n",
       "       [[False,  True,  True, False, False],\n",
       "        [False,  True, False, False,  True],\n",
       "        [False, False, False,  True,  True]],\n",
       "\n",
       "       [[False,  True,  True, False, False],\n",
       "        [False,  True, False, False,  True],\n",
       "        [False, False, False,  True,  True]]])"
      ]
     },
     "execution_count": 4,
     "metadata": {},
     "output_type": "execute_result"
    }
   ],
   "source": [
    "np.isnan(arr)"
   ]
  },
  {
   "cell_type": "code",
   "execution_count": 5,
   "metadata": {},
   "outputs": [
    {
     "data": {
      "text/plain": [
       "(4, 3, 5)"
      ]
     },
     "execution_count": 5,
     "metadata": {},
     "output_type": "execute_result"
    }
   ],
   "source": [
    "np.isnan(arr).shape"
   ]
  },
  {
   "cell_type": "code",
   "execution_count": 10,
   "metadata": {},
   "outputs": [
    {
     "data": {
      "text/plain": [
       "array([1, 0])"
      ]
     },
     "execution_count": 10,
     "metadata": {},
     "output_type": "execute_result"
    }
   ],
   "source": [
    "np.array([True, False]).astype('int')"
   ]
  },
  {
   "cell_type": "code",
   "execution_count": 11,
   "metadata": {},
   "outputs": [
    {
     "data": {
      "text/plain": [
       "1"
      ]
     },
     "execution_count": 11,
     "metadata": {},
     "output_type": "execute_result"
    }
   ],
   "source": [
    "np.array([True, False]).sum()"
   ]
  },
  {
   "cell_type": "code",
   "execution_count": 12,
   "metadata": {},
   "outputs": [
    {
     "data": {
      "text/plain": [
       "array([[0, 4, 4, 0, 0],\n",
       "       [0, 4, 0, 0, 4],\n",
       "       [0, 0, 0, 4, 4]])"
      ]
     },
     "execution_count": 12,
     "metadata": {},
     "output_type": "execute_result"
    }
   ],
   "source": [
    "np.isnan(arr).sum(axis=0)"
   ]
  },
  {
   "cell_type": "code",
   "execution_count": null,
   "metadata": {},
   "outputs": [],
   "source": []
  }
 ],
 "metadata": {
  "kernelspec": {
   "display_name": "Python 3.8.8 ('devc')",
   "language": "python",
   "name": "python3"
  },
  "language_info": {
   "codemirror_mode": {
    "name": "ipython",
    "version": 3
   },
   "file_extension": ".py",
   "mimetype": "text/x-python",
   "name": "python",
   "nbconvert_exporter": "python",
   "pygments_lexer": "ipython3",
   "version": "3.8.8"
  },
  "orig_nbformat": 4,
  "vscode": {
   "interpreter": {
    "hash": "4fb0a6905ed5d212c3c96d4a56e67eb44191d04d6f3997ffb197b9a104e8e26d"
   }
  }
 },
 "nbformat": 4,
 "nbformat_minor": 2
}
