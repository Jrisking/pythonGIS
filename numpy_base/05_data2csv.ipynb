{
 "cells": [
  {
   "cell_type": "markdown",
   "metadata": {},
   "source": [
    "### 保存numpy数据到csv文件中\n",
    "1. https://stackoverflow.com/questions/6081008/dump-a-numpy-array-into-a-csv-file"
   ]
  },
  {
   "cell_type": "code",
   "execution_count": 7,
   "metadata": {},
   "outputs": [],
   "source": [
    "import numpy as np \n",
    "import os\n",
    "os.makedirs(name=\"data\", exist_ok=True)"
   ]
  },
  {
   "cell_type": "code",
   "execution_count": 2,
   "metadata": {},
   "outputs": [
    {
     "data": {
      "text/plain": [
       "array([[ 2,  8,  5, 19],\n",
       "       [12, 17,  0, 17],\n",
       "       [ 5,  4, 12,  0],\n",
       "       [15, 17, 19,  1],\n",
       "       [14, 17,  4, 11],\n",
       "       [12,  1,  7,  8],\n",
       "       [ 3,  1,  2,  0],\n",
       "       [11, 15, 17, 12],\n",
       "       [ 5,  2,  8, 11],\n",
       "       [ 5, 10,  3,  6]])"
      ]
     },
     "execution_count": 2,
     "metadata": {},
     "output_type": "execute_result"
    }
   ],
   "source": [
    "a = np.random.randint(0, 20, (10,4))"
   ]
  },
  {
   "cell_type": "markdown",
   "metadata": {},
   "source": [
    "#### 方法1:直接保存"
   ]
  },
  {
   "cell_type": "code",
   "execution_count": 3,
   "metadata": {},
   "outputs": [],
   "source": [
    "np.savetxt(\"data/data1.csv\", a, delimiter=',')"
   ]
  },
  {
   "cell_type": "markdown",
   "metadata": {},
   "source": [
    "#### 方法2:pandas保存"
   ]
  },
  {
   "cell_type": "code",
   "execution_count": 6,
   "metadata": {},
   "outputs": [],
   "source": [
    "import pandas as pd \n",
    "pd.DataFrame(a).to_csv(\"data/data2.csv\", index=False)"
   ]
  },
  {
   "cell_type": "markdown",
   "metadata": {},
   "source": [
    "#### 方法3:`tofile`函数\n",
    "1. 这个更加直接，快捷、方便"
   ]
  },
  {
   "cell_type": "code",
   "execution_count": 8,
   "metadata": {},
   "outputs": [],
   "source": [
    "a.tofile(\"data/data3.csv\", sep=',', format='%10.5f')"
   ]
  },
  {
   "cell_type": "markdown",
   "metadata": {},
   "source": [
    "### 另外的话\n",
    "1. 除非特别需要保存为csv文件，用这种方法，不然的话，还是不要使用这种方法。\n",
    "2. 如果只是想保存numpy的数据，其实可以使用numpy的`.npy`格式文件(推荐!!!)"
   ]
  },
  {
   "cell_type": "code",
   "execution_count": 9,
   "metadata": {},
   "outputs": [],
   "source": [
    "# 保存数据\n",
    "\n",
    "with open('data/data4.npy', 'wb') as f:\n",
    "    np.save(f, a)"
   ]
  },
  {
   "cell_type": "code",
   "execution_count": 10,
   "metadata": {},
   "outputs": [
    {
     "data": {
      "text/plain": [
       "array([[ 2,  8,  5, 19],\n",
       "       [12, 17,  0, 17],\n",
       "       [ 5,  4, 12,  0],\n",
       "       [15, 17, 19,  1],\n",
       "       [14, 17,  4, 11],\n",
       "       [12,  1,  7,  8],\n",
       "       [ 3,  1,  2,  0],\n",
       "       [11, 15, 17, 12],\n",
       "       [ 5,  2,  8, 11],\n",
       "       [ 5, 10,  3,  6]])"
      ]
     },
     "execution_count": 10,
     "metadata": {},
     "output_type": "execute_result"
    }
   ],
   "source": [
    "# 加载数据\n",
    "\n",
    "with open('data/data4.npy', 'rb') as f:\n",
    "    a_copy = np.load(f)\n",
    "\n",
    "a_copy"
   ]
  },
  {
   "cell_type": "code",
   "execution_count": null,
   "metadata": {},
   "outputs": [],
   "source": []
  }
 ],
 "metadata": {
  "kernelspec": {
   "display_name": "Python 3.8.8 ('devc')",
   "language": "python",
   "name": "python3"
  },
  "language_info": {
   "codemirror_mode": {
    "name": "ipython",
    "version": 3
   },
   "file_extension": ".py",
   "mimetype": "text/x-python",
   "name": "python",
   "nbconvert_exporter": "python",
   "pygments_lexer": "ipython3",
   "version": "3.8.8"
  },
  "orig_nbformat": 4,
  "vscode": {
   "interpreter": {
    "hash": "4fb0a6905ed5d212c3c96d4a56e67eb44191d04d6f3997ffb197b9a104e8e26d"
   }
  }
 },
 "nbformat": 4,
 "nbformat_minor": 2
}
