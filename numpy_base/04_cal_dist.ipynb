{
 "cells": [
  {
   "cell_type": "markdown",
   "metadata": {},
   "source": [
    "### 计算两个向量的欧式距离\n",
    "参考链接：\n",
    "1. https://stackoverflow.com/questions/1401712/how-can-the-euclidean-distance-be-calculated-with-numpy\n",
    "2. https://numpy.org/doc/stable/reference/generated/numpy.linalg.norm.html\n",
    "3. https://docs.scipy.org/doc/scipy/reference/generated/scipy.spatial.distance.cdist.html"
   ]
  },
  {
   "cell_type": "code",
   "execution_count": 1,
   "metadata": {},
   "outputs": [],
   "source": [
    "from scipy.spatial import distance\n",
    "import numpy as np "
   ]
  },
  {
   "cell_type": "code",
   "execution_count": 30,
   "metadata": {},
   "outputs": [],
   "source": [
    "dataa = np.random.randint(0, 20, (5, 2))\n",
    "datab = np.random.randint(0, 20, (3, 2))"
   ]
  },
  {
   "cell_type": "code",
   "execution_count": 31,
   "metadata": {},
   "outputs": [
    {
     "data": {
      "text/plain": [
       "array([[12,  2],\n",
       "       [18, 17],\n",
       "       [11, 13],\n",
       "       [12, 11],\n",
       "       [ 0, 17]])"
      ]
     },
     "execution_count": 31,
     "metadata": {},
     "output_type": "execute_result"
    }
   ],
   "source": [
    "dataa"
   ]
  },
  {
   "cell_type": "code",
   "execution_count": 32,
   "metadata": {},
   "outputs": [
    {
     "data": {
      "text/plain": [
       "array([[15, 13],\n",
       "       [ 1, 15],\n",
       "       [ 0,  1]])"
      ]
     },
     "execution_count": 32,
     "metadata": {},
     "output_type": "execute_result"
    }
   ],
   "source": [
    "datab"
   ]
  },
  {
   "cell_type": "markdown",
   "metadata": {},
   "source": [
    "我们如果想计算dataa和datab的第一行数据的欧式距离，就可以这么写\n",
    "\n",
    "原因是：\n",
    "1. `np.linalg.norm`也就是常说的范数，默认是2阶的。\n",
    "2. 那么`a - b`再用二阶范数，即可求出欧式距离。"
   ]
  },
  {
   "cell_type": "code",
   "execution_count": 33,
   "metadata": {},
   "outputs": [
    {
     "data": {
      "text/plain": [
       "11.40175425099138"
      ]
     },
     "execution_count": 33,
     "metadata": {},
     "output_type": "execute_result"
    }
   ],
   "source": [
    "dist = np.linalg.norm(dataa[0, :] - datab[0,:])\n",
    "dist"
   ]
  },
  {
   "cell_type": "markdown",
   "metadata": {},
   "source": [
    "但是有时候，要计算的都是成对成对计算的。这个时候，再简单的使用`np.linalg.norm`就不行了。这个时候可以使用下面的方法\n",
    "需要注意的是：\n",
    "1. dataa的维度是(5, 2)，其中5位于第0个位置，2位于第1个位置。第0个位置叫batch。第1个位置叫dimension。\n",
    "2. 那么`distance.cdist`在计算的时候，都是保留batch上的维度。dimension维度都被计算消化掉了。"
   ]
  },
  {
   "cell_type": "code",
   "execution_count": 34,
   "metadata": {},
   "outputs": [
    {
     "data": {
      "text/plain": [
       "array([[11.40175425, 17.02938637, 12.04159458],\n",
       "       [ 5.        , 17.11724277, 24.08318916],\n",
       "       [ 4.        , 10.19803903, 16.2788206 ],\n",
       "       [ 3.60555128, 11.70469991, 15.62049935],\n",
       "       [15.5241747 ,  2.23606798, 16.        ]])"
      ]
     },
     "execution_count": 34,
     "metadata": {},
     "output_type": "execute_result"
    }
   ],
   "source": [
    "distance.cdist(dataa, datab, 'euclidean') #> 这里计算得到的维度是5x3，其中第一个5是dataa的batch，第二个3是datab的batch。"
   ]
  },
  {
   "cell_type": "code",
   "execution_count": null,
   "metadata": {},
   "outputs": [],
   "source": []
  }
 ],
 "metadata": {
  "kernelspec": {
   "display_name": "Python 3.8.8 ('devc')",
   "language": "python",
   "name": "python3"
  },
  "language_info": {
   "codemirror_mode": {
    "name": "ipython",
    "version": 3
   },
   "file_extension": ".py",
   "mimetype": "text/x-python",
   "name": "python",
   "nbconvert_exporter": "python",
   "pygments_lexer": "ipython3",
   "version": "3.8.8"
  },
  "orig_nbformat": 4,
  "vscode": {
   "interpreter": {
    "hash": "4fb0a6905ed5d212c3c96d4a56e67eb44191d04d6f3997ffb197b9a104e8e26d"
   }
  }
 },
 "nbformat": 4,
 "nbformat_minor": 2
}
