{
 "cells": [
  {
   "cell_type": "code",
   "execution_count": 1,
   "metadata": {
    "collapsed": true
   },
   "outputs": [],
   "source": [
    "import pandas as pd\n",
    "import os"
   ]
  },
  {
   "cell_type": "code",
   "execution_count": 2,
   "outputs": [
    {
     "data": {
      "text/plain": "                    旧文件名称           新文件名称\n0    pre_1988_1990_25.tif  pet_1990_1.tif\n1    pre_1988_1990_26.tif  pet_1990_2.tif\n2    pre_1988_1990_27.tif  pet_1990_3.tif\n3    pre_1988_1990_28.tif  pet_1990_4.tif\n4    pre_1988_1990_29.tif  pet_1990_5.tif\n..                    ...             ...\n331   pre_2015_2017_5.tif  pre_2015_5.tif\n332   pre_2015_2017_6.tif  pre_2015_6.tif\n333   pre_2015_2017_7.tif  pre_2015_7.tif\n334   pre_2015_2017_8.tif  pre_2015_8.tif\n335   pre_2015_2017_9.tif  pre_2015_9.tif\n\n[336 rows x 2 columns]",
      "text/html": "<div>\n<style scoped>\n    .dataframe tbody tr th:only-of-type {\n        vertical-align: middle;\n    }\n\n    .dataframe tbody tr th {\n        vertical-align: top;\n    }\n\n    .dataframe thead th {\n        text-align: right;\n    }\n</style>\n<table border=\"1\" class=\"dataframe\">\n  <thead>\n    <tr style=\"text-align: right;\">\n      <th></th>\n      <th>旧文件名称</th>\n      <th>新文件名称</th>\n    </tr>\n  </thead>\n  <tbody>\n    <tr>\n      <th>0</th>\n      <td>pre_1988_1990_25.tif</td>\n      <td>pet_1990_1.tif</td>\n    </tr>\n    <tr>\n      <th>1</th>\n      <td>pre_1988_1990_26.tif</td>\n      <td>pet_1990_2.tif</td>\n    </tr>\n    <tr>\n      <th>2</th>\n      <td>pre_1988_1990_27.tif</td>\n      <td>pet_1990_3.tif</td>\n    </tr>\n    <tr>\n      <th>3</th>\n      <td>pre_1988_1990_28.tif</td>\n      <td>pet_1990_4.tif</td>\n    </tr>\n    <tr>\n      <th>4</th>\n      <td>pre_1988_1990_29.tif</td>\n      <td>pet_1990_5.tif</td>\n    </tr>\n    <tr>\n      <th>...</th>\n      <td>...</td>\n      <td>...</td>\n    </tr>\n    <tr>\n      <th>331</th>\n      <td>pre_2015_2017_5.tif</td>\n      <td>pre_2015_5.tif</td>\n    </tr>\n    <tr>\n      <th>332</th>\n      <td>pre_2015_2017_6.tif</td>\n      <td>pre_2015_6.tif</td>\n    </tr>\n    <tr>\n      <th>333</th>\n      <td>pre_2015_2017_7.tif</td>\n      <td>pre_2015_7.tif</td>\n    </tr>\n    <tr>\n      <th>334</th>\n      <td>pre_2015_2017_8.tif</td>\n      <td>pre_2015_8.tif</td>\n    </tr>\n    <tr>\n      <th>335</th>\n      <td>pre_2015_2017_9.tif</td>\n      <td>pre_2015_9.tif</td>\n    </tr>\n  </tbody>\n</table>\n<p>336 rows × 2 columns</p>\n</div>"
     },
     "execution_count": 2,
     "metadata": {},
     "output_type": "execute_result"
    }
   ],
   "source": [
    "rawdata = pd.read_excel(\"namen2o.xls\")\n",
    "rawdata"
   ],
   "metadata": {
    "collapsed": false
   }
  },
  {
   "cell_type": "code",
   "execution_count": 3,
   "outputs": [],
   "source": [
    "def func(x):\n",
    "    with open(file=f'tif文件集合/{x}', mode='w') as f:\n",
    "        f.write(x)\n",
    "\n",
    "_ = rawdata.pipe(\n",
    "    lambda x: x['旧文件名称'].apply(\n",
    "        lambda x: func(x)\n",
    "    )\n",
    ")"
   ],
   "metadata": {
    "collapsed": false
   }
  },
  {
   "cell_type": "code",
   "execution_count": null,
   "outputs": [],
   "source": [],
   "metadata": {
    "collapsed": false
   }
  }
 ],
 "metadata": {
  "kernelspec": {
   "display_name": "Python 3",
   "language": "python",
   "name": "python3"
  },
  "language_info": {
   "codemirror_mode": {
    "name": "ipython",
    "version": 2
   },
   "file_extension": ".py",
   "mimetype": "text/x-python",
   "name": "python",
   "nbconvert_exporter": "python",
   "pygments_lexer": "ipython2",
   "version": "2.7.6"
  }
 },
 "nbformat": 4,
 "nbformat_minor": 0
}
