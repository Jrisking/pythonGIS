{
 "cells": [
  {
   "cell_type": "code",
   "execution_count": 4,
   "outputs": [
    {
     "name": "stdout",
     "output_type": "stream",
     "text": [
      "Using matplotlib backend: MacOSX\n"
     ]
    }
   ],
   "source": [
    "import matplotlib.pyplot as plt\n",
    "import numpy as np\n",
    "import pandas as pd\n",
    "from PIL import Image\n",
    "from datetime import datetime, timedelta\n",
    "import matplotlib.colors as clr\n",
    "from math import ceil\n",
    "import matplotlib.patches as patches\n",
    "\n",
    "plt.rcParams['font.sans-serif'] = ['Heiti TC'] #不同系统不一样，我这里是mac系统\n",
    "%matplotlib"
   ],
   "metadata": {
    "collapsed": false,
    "pycharm": {
     "name": "#%%\n"
    }
   }
  },
  {
   "cell_type": "code",
   "execution_count": 3,
   "outputs": [
    {
     "data": {
      "text/plain": "<matplotlib.image.AxesImage at 0x7ff6dd387ee0>"
     },
     "execution_count": 3,
     "metadata": {},
     "output_type": "execute_result"
    }
   ],
   "source": [
    "picture_image = Image.open(\"apple_store首页.jpg\")\n",
    "\n",
    "# 这里是交互式的，查看对应的位置\n",
    "fig, ax = plt.subplots()\n",
    "ax.imshow(picture_image)"
   ],
   "metadata": {
    "collapsed": false,
    "pycharm": {
     "name": "#%%\n"
    }
   }
  },
  {
   "cell_type": "code",
   "execution_count": 4,
   "outputs": [
    {
     "data": {
      "text/plain": "    location_x   location_y          name  pointer_x  pointer_y\n0            0            0           Mac        275        600\n1            0            1        iPhone        856        600\n2            1            0          iPad        300       1383\n3            1            1   Apple Watch        875       1383\n4            2            0       AirPods        300       2110\n5            2            1  HomePod mini        875       2110\n6            3            0        AirTag        300       2870\n7            3            1            配件        875       2870\n8            4            0            选购         98       3517\n9            4            1            课程        330       3517\n10           4            2          为你推荐        600       3517\n11           4            3            搜索        811       3517\n12           4            4           购物袋       1052       3517",
      "text/html": "<div>\n<style scoped>\n    .dataframe tbody tr th:only-of-type {\n        vertical-align: middle;\n    }\n\n    .dataframe tbody tr th {\n        vertical-align: top;\n    }\n\n    .dataframe thead th {\n        text-align: right;\n    }\n</style>\n<table border=\"1\" class=\"dataframe\">\n  <thead>\n    <tr style=\"text-align: right;\">\n      <th></th>\n      <th>location_x</th>\n      <th>location_y</th>\n      <th>name</th>\n      <th>pointer_x</th>\n      <th>pointer_y</th>\n    </tr>\n  </thead>\n  <tbody>\n    <tr>\n      <th>0</th>\n      <td>0</td>\n      <td>0</td>\n      <td>Mac</td>\n      <td>275</td>\n      <td>600</td>\n    </tr>\n    <tr>\n      <th>1</th>\n      <td>0</td>\n      <td>1</td>\n      <td>iPhone</td>\n      <td>856</td>\n      <td>600</td>\n    </tr>\n    <tr>\n      <th>2</th>\n      <td>1</td>\n      <td>0</td>\n      <td>iPad</td>\n      <td>300</td>\n      <td>1383</td>\n    </tr>\n    <tr>\n      <th>3</th>\n      <td>1</td>\n      <td>1</td>\n      <td>Apple Watch</td>\n      <td>875</td>\n      <td>1383</td>\n    </tr>\n    <tr>\n      <th>4</th>\n      <td>2</td>\n      <td>0</td>\n      <td>AirPods</td>\n      <td>300</td>\n      <td>2110</td>\n    </tr>\n    <tr>\n      <th>5</th>\n      <td>2</td>\n      <td>1</td>\n      <td>HomePod mini</td>\n      <td>875</td>\n      <td>2110</td>\n    </tr>\n    <tr>\n      <th>6</th>\n      <td>3</td>\n      <td>0</td>\n      <td>AirTag</td>\n      <td>300</td>\n      <td>2870</td>\n    </tr>\n    <tr>\n      <th>7</th>\n      <td>3</td>\n      <td>1</td>\n      <td>配件</td>\n      <td>875</td>\n      <td>2870</td>\n    </tr>\n    <tr>\n      <th>8</th>\n      <td>4</td>\n      <td>0</td>\n      <td>选购</td>\n      <td>98</td>\n      <td>3517</td>\n    </tr>\n    <tr>\n      <th>9</th>\n      <td>4</td>\n      <td>1</td>\n      <td>课程</td>\n      <td>330</td>\n      <td>3517</td>\n    </tr>\n    <tr>\n      <th>10</th>\n      <td>4</td>\n      <td>2</td>\n      <td>为你推荐</td>\n      <td>600</td>\n      <td>3517</td>\n    </tr>\n    <tr>\n      <th>11</th>\n      <td>4</td>\n      <td>3</td>\n      <td>搜索</td>\n      <td>811</td>\n      <td>3517</td>\n    </tr>\n    <tr>\n      <th>12</th>\n      <td>4</td>\n      <td>4</td>\n      <td>购物袋</td>\n      <td>1052</td>\n      <td>3517</td>\n    </tr>\n  </tbody>\n</table>\n</div>"
     },
     "execution_count": 4,
     "metadata": {},
     "output_type": "execute_result"
    }
   ],
   "source": [
    "location_data = pd.read_csv(\"按钮位置对照表.csv\")#.head(10)\n",
    "location_data"
   ],
   "metadata": {
    "collapsed": false,
    "pycharm": {
     "name": "#%%\n"
    }
   }
  },
  {
   "cell_type": "code",
   "execution_count": 5,
   "outputs": [
    {
     "data": {
      "text/plain": "            name       date  data1\n0            Mac 2022-06-10     72\n1         iPhone 2022-06-10     26\n2           iPad 2022-06-10     22\n3    Apple Watch 2022-06-10     17\n4        AirPods 2022-06-10     55\n..           ...        ...    ...\n255           选购 2022-06-29   5631\n256           课程 2022-06-29   8747\n257         为你推荐 2022-06-29  12047\n258           搜索 2022-06-29   7250\n259          购物袋 2022-06-29   1600\n\n[260 rows x 3 columns]",
      "text/html": "<div>\n<style scoped>\n    .dataframe tbody tr th:only-of-type {\n        vertical-align: middle;\n    }\n\n    .dataframe tbody tr th {\n        vertical-align: top;\n    }\n\n    .dataframe thead th {\n        text-align: right;\n    }\n</style>\n<table border=\"1\" class=\"dataframe\">\n  <thead>\n    <tr style=\"text-align: right;\">\n      <th></th>\n      <th>name</th>\n      <th>date</th>\n      <th>data1</th>\n    </tr>\n  </thead>\n  <tbody>\n    <tr>\n      <th>0</th>\n      <td>Mac</td>\n      <td>2022-06-10</td>\n      <td>72</td>\n    </tr>\n    <tr>\n      <th>1</th>\n      <td>iPhone</td>\n      <td>2022-06-10</td>\n      <td>26</td>\n    </tr>\n    <tr>\n      <th>2</th>\n      <td>iPad</td>\n      <td>2022-06-10</td>\n      <td>22</td>\n    </tr>\n    <tr>\n      <th>3</th>\n      <td>Apple Watch</td>\n      <td>2022-06-10</td>\n      <td>17</td>\n    </tr>\n    <tr>\n      <th>4</th>\n      <td>AirPods</td>\n      <td>2022-06-10</td>\n      <td>55</td>\n    </tr>\n    <tr>\n      <th>...</th>\n      <td>...</td>\n      <td>...</td>\n      <td>...</td>\n    </tr>\n    <tr>\n      <th>255</th>\n      <td>选购</td>\n      <td>2022-06-29</td>\n      <td>5631</td>\n    </tr>\n    <tr>\n      <th>256</th>\n      <td>课程</td>\n      <td>2022-06-29</td>\n      <td>8747</td>\n    </tr>\n    <tr>\n      <th>257</th>\n      <td>为你推荐</td>\n      <td>2022-06-29</td>\n      <td>12047</td>\n    </tr>\n    <tr>\n      <th>258</th>\n      <td>搜索</td>\n      <td>2022-06-29</td>\n      <td>7250</td>\n    </tr>\n    <tr>\n      <th>259</th>\n      <td>购物袋</td>\n      <td>2022-06-29</td>\n      <td>1600</td>\n    </tr>\n  </tbody>\n</table>\n<p>260 rows × 3 columns</p>\n</div>"
     },
     "execution_count": 5,
     "metadata": {},
     "output_type": "execute_result"
    }
   ],
   "source": [
    "# create data\n",
    "faker_data = pd.DataFrame({'name': location_data['name']})\n",
    "\n",
    "for index, value in enumerate([datetime(2022, 6, 10) + timedelta(days=i) for i in range(20)]):\n",
    "    faker_data[value] = np.random.randint(10 + index * 42, 1000 * index + 100, size=faker_data.shape[0])\n",
    "\n",
    "faker_data = faker_data.melt(id_vars=['name'], var_name=\"date\", value_name=\"data1\").reset_index(drop=True)\n",
    "faker_data"
   ],
   "metadata": {
    "collapsed": false,
    "pycharm": {
     "name": "#%%\n"
    }
   }
  },
  {
   "cell_type": "code",
   "execution_count": 6,
   "outputs": [
    {
     "data": {
      "text/plain": "    index          name  value\n0       0            课程   8420\n1       1       AirPods   7910\n2       2        AirTag   7510\n3       3          为你推荐   7480\n4       4  HomePod mini   7410\n5       5          iPad   7040\n6       6           购物袋   6990\n7       7        iPhone   6900\n8       8            搜索   6720\n9       9   Apple Watch   6420\n10     10            选购   6040\n11     11            配件   5450\n12     12           Mac   4350",
      "text/html": "<div>\n<style scoped>\n    .dataframe tbody tr th:only-of-type {\n        vertical-align: middle;\n    }\n\n    .dataframe tbody tr th {\n        vertical-align: top;\n    }\n\n    .dataframe thead th {\n        text-align: right;\n    }\n</style>\n<table border=\"1\" class=\"dataframe\">\n  <thead>\n    <tr style=\"text-align: right;\">\n      <th></th>\n      <th>index</th>\n      <th>name</th>\n      <th>value</th>\n    </tr>\n  </thead>\n  <tbody>\n    <tr>\n      <th>0</th>\n      <td>0</td>\n      <td>课程</td>\n      <td>8420</td>\n    </tr>\n    <tr>\n      <th>1</th>\n      <td>1</td>\n      <td>AirPods</td>\n      <td>7910</td>\n    </tr>\n    <tr>\n      <th>2</th>\n      <td>2</td>\n      <td>AirTag</td>\n      <td>7510</td>\n    </tr>\n    <tr>\n      <th>3</th>\n      <td>3</td>\n      <td>为你推荐</td>\n      <td>7480</td>\n    </tr>\n    <tr>\n      <th>4</th>\n      <td>4</td>\n      <td>HomePod mini</td>\n      <td>7410</td>\n    </tr>\n    <tr>\n      <th>5</th>\n      <td>5</td>\n      <td>iPad</td>\n      <td>7040</td>\n    </tr>\n    <tr>\n      <th>6</th>\n      <td>6</td>\n      <td>购物袋</td>\n      <td>6990</td>\n    </tr>\n    <tr>\n      <th>7</th>\n      <td>7</td>\n      <td>iPhone</td>\n      <td>6900</td>\n    </tr>\n    <tr>\n      <th>8</th>\n      <td>8</td>\n      <td>搜索</td>\n      <td>6720</td>\n    </tr>\n    <tr>\n      <th>9</th>\n      <td>9</td>\n      <td>Apple Watch</td>\n      <td>6420</td>\n    </tr>\n    <tr>\n      <th>10</th>\n      <td>10</td>\n      <td>选购</td>\n      <td>6040</td>\n    </tr>\n    <tr>\n      <th>11</th>\n      <td>11</td>\n      <td>配件</td>\n      <td>5450</td>\n    </tr>\n    <tr>\n      <th>12</th>\n      <td>12</td>\n      <td>Mac</td>\n      <td>4350</td>\n    </tr>\n  </tbody>\n</table>\n</div>"
     },
     "execution_count": 6,
     "metadata": {},
     "output_type": "execute_result"
    }
   ],
   "source": [
    "def custom_func1(x):\n",
    "    return ceil(x.max() / 20) * 10\n",
    "sort_index_data = faker_data.groupby(['name']).agg(\n",
    "    value =('data1', custom_func1)\n",
    ").reset_index(drop=False).sort_values(by=['value'],ascending=False).reset_index(drop=True).reset_index(drop=False)\n",
    "sort_index_data"
   ],
   "metadata": {
    "collapsed": false,
    "pycharm": {
     "name": "#%%\n"
    }
   }
  },
  {
   "cell_type": "code",
   "execution_count": 7,
   "outputs": [],
   "source": [
    "\n",
    "cmap = clr.LinearSegmentedColormap.from_list('custom blue', ['#244162','#DCE6F1'], N=location_data.shape[0])\n",
    "# cmap = clr.LinearSegmentedColormap.from_list('custom blue', ['gray','red'], N=location_data.shape[0])"
   ],
   "metadata": {
    "collapsed": false,
    "pycharm": {
     "name": "#%%\n"
    }
   }
  },
  {
   "cell_type": "code",
   "execution_count": 8,
   "outputs": [],
   "source": [
    "\n",
    "\n",
    "def annotate_axes(ax, text, fontsize=12):\n",
    "    ax.text(0.5, 0.5, text, transform=ax.transAxes,\n",
    "            ha=\"center\", va=\"center\", fontsize=fontsize, color=\"darkgrey\")\n",
    "\n",
    "\n",
    "fig = plt.figure(constrained_layout=False, facecolor='0.9', figsize=(11, 8))\n",
    "gs = fig.add_gridspec(nrows=sort_index_data.shape[0], ncols=7, left=0.01, right=0.99,\n",
    "                      hspace=0, wspace=0.1)\n",
    "\n",
    "ax0_image = fig.add_subplot(gs[:, :2])\n",
    "ax0_image.imshow(picture_image)\n",
    "# annotate_axes(ax0_image, \"ax0_image\")\n",
    "ax0_image.axis('off')\n",
    "\n",
    "part2_ax_list = []\n",
    "connect_patch_list = []\n",
    "for index, value in enumerate(location_data['name'].unique().tolist()):\n",
    "    temp_ax = fig.add_subplot(gs[index, 2:])\n",
    "\n",
    "    temp_data = faker_data.loc[faker_data['name'] == value].sort_values(by=['date'])\n",
    "\n",
    "    face_color = cmap(sort_index_data.loc[sort_index_data['name'] == value]['index'].tolist()[0])\n",
    "    temp_ax.fill_between(range(temp_data['data1'].shape[0]), 0, temp_data['data1'],\n",
    "                         facecolor=face_color)\n",
    "\n",
    "    y_ticks_center = ceil(temp_data['data1'].max() / 20) * 10\n",
    "    temp_ax.set_yticks([0, y_ticks_center])\n",
    "    temp_ax.set_yticklabels([\"0\", str(int(y_ticks_center))])\n",
    "    temp_ax.yaxis.grid(True, linestyle=':')\n",
    "\n",
    "    location_ax1 = location_data.loc[location_data['name'] == value]\n",
    "\n",
    "    connectionstyle = \"arc3,rad=0.2\" if location_ax1['location_x'].tolist()[0] == 1 else \"arc3,rad=-0.2\"\n",
    "    if location_ax1['location_x'].tolist()[0] ==4:\n",
    "        connectionstyle = \"arc3,rad=-0.3\"\n",
    "\n",
    "\n",
    "    con = patches.ConnectionPatch(\n",
    "        xyA=(location_ax1['pointer_x'].tolist()[0], location_ax1['pointer_y'].tolist()[0]),\n",
    "        xyB=(0, temp_data['data1'].mean()),\n",
    "        axesA=ax0_image,\n",
    "        axesB=temp_ax,\n",
    "        coordsA=ax0_image.transData,\n",
    "        coordsB=temp_ax.transData,\n",
    "        arrowstyle=\"fancy\",\n",
    "        connectionstyle=connectionstyle,\n",
    "        shrinkA=5, shrinkB=5,\n",
    "        mutation_scale=20,\n",
    "        fc=\"gray\",\n",
    "        alpha=0.3\n",
    "    )\n",
    "    fig.add_artist(con)\n",
    "    connect_patch_list.append(con)\n",
    "\n",
    "    part2_ax_list.append(temp_ax)\n",
    "    annotate_axes(temp_ax, value)\n",
    "\n",
    "y_label = temp_data['date'].dt.strftime('%m-%d').tolist()\n",
    "part2_ax_list[-1].set_xticks(list(range(len(y_label))))\n",
    "part2_ax_list[-1].set_xticklabels(y_label,rotation=45)\n",
    "\n",
    "\n",
    "fig.suptitle('各个模块pv')\n",
    "fig.savefig(\"test.png\", dpi=300)"
   ],
   "metadata": {
    "collapsed": false,
    "pycharm": {
     "name": "#%%\n"
    }
   }
  },
  {
   "cell_type": "code",
   "execution_count": null,
   "outputs": [],
   "source": [],
   "metadata": {
    "collapsed": false,
    "pycharm": {
     "name": "#%%\n"
    }
   }
  }
 ],
 "metadata": {
  "kernelspec": {
   "display_name": "Python 3",
   "language": "python",
   "name": "python3"
  },
  "language_info": {
   "codemirror_mode": {
    "name": "ipython",
    "version": 2
   },
   "file_extension": ".py",
   "mimetype": "text/x-python",
   "name": "python",
   "nbconvert_exporter": "python",
   "pygments_lexer": "ipython2",
   "version": "2.7.6"
  }
 },
 "nbformat": 4,
 "nbformat_minor": 0
}