{
 "cells": [
  {
   "cell_type": "code",
   "execution_count": 51,
   "metadata": {},
   "outputs": [],
   "source": [
    "# 导入包\n",
    "from shapely.geometry import Polygon, MultiPolygon\n",
    "from matplotlib import cm\n",
    "import matplotlib\n",
    "from getchinamap.getchinamap import DownloadChmap\n",
    "import numpy as np\n",
    "import pandas as pd\n",
    "import matplotlib.pyplot as plt\n",
    "import cartopy.crs as ccrs \n",
    "import platform\n",
    "from mpl_toolkits.mplot3d.art3d import Poly3DCollection\n",
    "import geopandas as gpd\n",
    "import cartopy.feature\n",
    "from cartopy.mpl.patch import geos_to_path\n",
    "\n",
    "import itertools\n",
    "\n",
    "from mpl_toolkits.mplot3d import Axes3D\n",
    "# import matplotlib.pyplot as plt\n",
    "from matplotlib.collections import LineCollection,PolyCollection\n",
    "\n",
    "# matplotlib 显示中文的问题\n",
    "if platform.system() == 'Darwin':\n",
    "    plt.rcParams[\"font.family\"] = 'Arial Unicode MS'\n",
    "elif platform.system() == 'Windows':\n",
    "    plt.rcParams[\"font.family\"] = 'SimHei'\n",
    "else:\n",
    "    pass"
   ]
  },
  {
   "cell_type": "code",
   "execution_count": 2,
   "metadata": {},
   "outputs": [
    {
     "data": {
      "text/html": [
       "<div>\n",
       "<style scoped>\n",
       "    .dataframe tbody tr th:only-of-type {\n",
       "        vertical-align: middle;\n",
       "    }\n",
       "\n",
       "    .dataframe tbody tr th {\n",
       "        vertical-align: top;\n",
       "    }\n",
       "\n",
       "    .dataframe thead th {\n",
       "        text-align: right;\n",
       "    }\n",
       "</style>\n",
       "<table border=\"1\" class=\"dataframe\">\n",
       "  <thead>\n",
       "    <tr style=\"text-align: right;\">\n",
       "      <th></th>\n",
       "      <th>adcode</th>\n",
       "      <th>name</th>\n",
       "      <th>childrenNum</th>\n",
       "      <th>level</th>\n",
       "      <th>parent</th>\n",
       "      <th>subFeatureIndex</th>\n",
       "      <th>adchar</th>\n",
       "      <th>geometry</th>\n",
       "    </tr>\n",
       "  </thead>\n",
       "  <tbody>\n",
       "    <tr>\n",
       "      <th>0</th>\n",
       "      <td>110000</td>\n",
       "      <td>北京市</td>\n",
       "      <td>16.0</td>\n",
       "      <td>province</td>\n",
       "      <td>{'adcode': 100000}</td>\n",
       "      <td>0.0</td>\n",
       "      <td>None</td>\n",
       "      <td>MULTIPOLYGON (((117.34861 40.58114, 117.38988 ...</td>\n",
       "    </tr>\n",
       "    <tr>\n",
       "      <th>1</th>\n",
       "      <td>120000</td>\n",
       "      <td>天津市</td>\n",
       "      <td>16.0</td>\n",
       "      <td>province</td>\n",
       "      <td>{'adcode': 100000}</td>\n",
       "      <td>1.0</td>\n",
       "      <td>None</td>\n",
       "      <td>MULTIPOLYGON (((117.76560 39.40053, 117.84691 ...</td>\n",
       "    </tr>\n",
       "    <tr>\n",
       "      <th>2</th>\n",
       "      <td>130000</td>\n",
       "      <td>河北省</td>\n",
       "      <td>11.0</td>\n",
       "      <td>province</td>\n",
       "      <td>{'adcode': 100000}</td>\n",
       "      <td>2.0</td>\n",
       "      <td>None</td>\n",
       "      <td>MULTIPOLYGON (((117.46749 40.64974, 117.41267 ...</td>\n",
       "    </tr>\n",
       "  </tbody>\n",
       "</table>\n",
       "</div>"
      ],
      "text/plain": [
       "   adcode name  childrenNum     level              parent  subFeatureIndex  \\\n",
       "0  110000  北京市         16.0  province  {'adcode': 100000}              0.0   \n",
       "1  120000  天津市         16.0  province  {'adcode': 100000}              1.0   \n",
       "2  130000  河北省         11.0  province  {'adcode': 100000}              2.0   \n",
       "\n",
       "  adchar                                           geometry  \n",
       "0   None  MULTIPOLYGON (((117.34861 40.58114, 117.38988 ...  \n",
       "1   None  MULTIPOLYGON (((117.76560 39.40053, 117.84691 ...  \n",
       "2   None  MULTIPOLYGON (((117.46749 40.64974, 117.41267 ...  "
      ]
     },
     "execution_count": 2,
     "metadata": {},
     "output_type": "execute_result"
    }
   ],
   "source": [
    "chinamapdata = gpd.read_file(\"https://geo.datav.aliyun.com/areas_v3/bound/geojson?code=100000_full\")\n",
    "chinamapdata.head(3)"
   ]
  },
  {
   "cell_type": "code",
   "execution_count": 23,
   "metadata": {},
   "outputs": [
    {
     "name": "stderr",
     "output_type": "stream",
     "text": [
      "/var/folders/rn/1sl8q5g56bb377glk8qyp_k40000gn/T/ipykernel_69796/3265185008.py:1: UserWarning: Geometry is in a geographic CRS. Results from 'centroid' are likely incorrect. Use 'GeoSeries.to_crs()' to re-project geometries to a projected CRS before this operation.\n",
      "\n",
      "  sampledata = pd.DataFrame({'lon':chinamapdata.centroid.x, 'lat':chinamapdata.centroid.y, 'name':chinamapdata['name']})\n",
      "/var/folders/rn/1sl8q5g56bb377glk8qyp_k40000gn/T/ipykernel_69796/3265185008.py:1: UserWarning: Geometry is in a geographic CRS. Results from 'centroid' are likely incorrect. Use 'GeoSeries.to_crs()' to re-project geometries to a projected CRS before this operation.\n",
      "\n",
      "  sampledata = pd.DataFrame({'lon':chinamapdata.centroid.x, 'lat':chinamapdata.centroid.y, 'name':chinamapdata['name']})\n"
     ]
    },
    {
     "data": {
      "text/html": [
       "<div>\n",
       "<style scoped>\n",
       "    .dataframe tbody tr th:only-of-type {\n",
       "        vertical-align: middle;\n",
       "    }\n",
       "\n",
       "    .dataframe tbody tr th {\n",
       "        vertical-align: top;\n",
       "    }\n",
       "\n",
       "    .dataframe thead th {\n",
       "        text-align: right;\n",
       "    }\n",
       "</style>\n",
       "<table border=\"1\" class=\"dataframe\">\n",
       "  <thead>\n",
       "    <tr style=\"text-align: right;\">\n",
       "      <th></th>\n",
       "      <th>lon</th>\n",
       "      <th>lat</th>\n",
       "      <th>name</th>\n",
       "      <th>value</th>\n",
       "    </tr>\n",
       "  </thead>\n",
       "  <tbody>\n",
       "    <tr>\n",
       "      <th>0</th>\n",
       "      <td>116.419926</td>\n",
       "      <td>40.188020</td>\n",
       "      <td>北京市</td>\n",
       "      <td>828</td>\n",
       "    </tr>\n",
       "    <tr>\n",
       "      <th>1</th>\n",
       "      <td>117.347635</td>\n",
       "      <td>39.284229</td>\n",
       "      <td>天津市</td>\n",
       "      <td>949</td>\n",
       "    </tr>\n",
       "    <tr>\n",
       "      <th>2</th>\n",
       "      <td>116.137235</td>\n",
       "      <td>39.542269</td>\n",
       "      <td>河北省</td>\n",
       "      <td>290</td>\n",
       "    </tr>\n",
       "    <tr>\n",
       "      <th>3</th>\n",
       "      <td>112.295479</td>\n",
       "      <td>37.572346</td>\n",
       "      <td>山西省</td>\n",
       "      <td>559</td>\n",
       "    </tr>\n",
       "  </tbody>\n",
       "</table>\n",
       "</div>"
      ],
      "text/plain": [
       "          lon        lat name  value\n",
       "0  116.419926  40.188020  北京市    828\n",
       "1  117.347635  39.284229  天津市    949\n",
       "2  116.137235  39.542269  河北省    290\n",
       "3  112.295479  37.572346  山西省    559"
      ]
     },
     "execution_count": 23,
     "metadata": {},
     "output_type": "execute_result"
    }
   ],
   "source": [
    "sampledata = pd.DataFrame({'lon':chinamapdata.centroid.x, 'lat':chinamapdata.centroid.y, 'name':chinamapdata['name']})\n",
    "sampledata['value'] = np.random.randint(0, 1000, sampledata.shape[0])\n",
    "sampledata.head(4)"
   ]
  },
  {
   "cell_type": "code",
   "execution_count": 15,
   "metadata": {},
   "outputs": [
    {
     "data": {
      "text/plain": [
       "<Geographic 2D CRS: EPSG:4326>\n",
       "Name: WGS 84\n",
       "Axis Info [ellipsoidal]:\n",
       "- Lat[north]: Geodetic latitude (degree)\n",
       "- Lon[east]: Geodetic longitude (degree)\n",
       "Area of Use:\n",
       "- name: World.\n",
       "- bounds: (-180.0, -90.0, 180.0, 90.0)\n",
       "Datum: World Geodetic System 1984 ensemble\n",
       "- Ellipsoid: WGS 84\n",
       "- Prime Meridian: Greenwich"
      ]
     },
     "execution_count": 15,
     "metadata": {},
     "output_type": "execute_result"
    }
   ],
   "source": [
    "chinamapdata.crs"
   ]
  },
  {
   "cell_type": "code",
   "execution_count": 16,
   "metadata": {},
   "outputs": [],
   "source": [
    "bounds_box = chinamapdata.bounds\n",
    "minx = bounds_box['minx'].min()\n",
    "miny = bounds_box['miny'].min()\n",
    "maxx = bounds_box['maxx'].max()\n",
    "maxy = bounds_box['maxy'].max()"
   ]
  },
  {
   "cell_type": "code",
   "execution_count": 17,
   "metadata": {},
   "outputs": [],
   "source": [
    "\n",
    "\n",
    "geoms = chinamapdata.geometry\n",
    "# target_projection = ccrs.PlateCarree()\n",
    "# geoms = [target_projection.project_geometry(geom, target_projection)\n",
    "#          for geom in geoms]\n",
    "\n",
    "paths = list(itertools.chain.from_iterable(geos_to_path(geom) for geom in geoms))\n",
    "\n",
    "# At this point, we start working around mpl3d's slightly broken interfaces.\n",
    "# So we produce a LineCollection rather than a PathCollection.\n",
    "segments = []\n",
    "for path in paths:\n",
    "    vertices = [vertex for vertex, _ in path.iter_segments()]\n",
    "    vertices = np.asarray(vertices)\n",
    "    segments.append(vertices)\n",
    "\n",
    "lc = LineCollection(segments, color='black')\n"
   ]
  },
  {
   "cell_type": "code",
   "execution_count": 18,
   "metadata": {},
   "outputs": [
    {
     "name": "stdout",
     "output_type": "stream",
     "text": [
      "Using matplotlib backend: MacOSX\n"
     ]
    }
   ],
   "source": [
    "%matplotlib"
   ]
  },
  {
   "cell_type": "code",
   "execution_count": 48,
   "metadata": {},
   "outputs": [],
   "source": [
    "# part 1\n",
    "segments = []\n",
    "for path in paths:\n",
    "    vertices = [vertex for vertex, _ in path.iter_segments()]\n",
    "    vertices = np.asarray(vertices)\n",
    "    segments.append(vertices)\n",
    "\n",
    "# with plt.style.context('fivethirtyeight'):\n",
    "\n",
    "fig = plt.figure()\n",
    "ax = Axes3D(fig, xlim=[minx, maxx], ylim=[miny, maxy])\n",
    "# ax.set_zlim(bottom=0)\n",
    "\n",
    "lc = LineCollection(segments, color='black',linewidths=1)\n",
    "\n",
    "ax.add_collection3d(lc)\n",
    "\n",
    "\n",
    "ax.bar3d(x=sampledata['lon'], y=sampledata['lat'], z=np.zeros_like(sampledata['value']),\n",
    "        dx=np.ones_like(sampledata['value']), \n",
    "        dy=np.ones_like(sampledata['value']), \n",
    "        dz=sampledata['value'],alpha=0.8)\n",
    "\n",
    "for index, iterrow in sampledata.iterrows():\n",
    "    ax.text(iterrow['lon'], iterrow['lat'], iterrow['value']+2,iterrow['name'], color='green',size=9)\n",
    "\n",
    "ax.text(80, 30, 1000, '公众号: world of statistics', size=20, color='gray')\n",
    "\n",
    "ax.set_xlabel('经度')\n",
    "ax.set_ylabel('维度')\n",
    "# ax.set_xlim([minx, maxx])\n",
    "# ax.set_ylim([miny, maxy])\n",
    "ax.set_zlabel('value')\n",
    "    # ax.set_title(\"公众号: world of statistics\")\n",
    "\n",
    "\n",
    "plt.show()\n"
   ]
  },
  {
   "cell_type": "code",
   "execution_count": 55,
   "metadata": {},
   "outputs": [],
   "source": [
    "# geoms\n",
    "# part 2\n",
    "\n",
    "fig = plt.figure()\n",
    "ax = Axes3D(fig, xlim=[minx, maxx], ylim=[miny, maxy])\n",
    "\n",
    "\n",
    "concat = lambda iterable: list(itertools.chain.from_iterable(iterable))\n",
    "polys = concat(path.to_polygons() for path in paths)\n",
    "\n",
    "lc = PolyCollection(polys, edgecolor='black',\n",
    "                    facecolor='green', closed=False, alpha=0.4)\n",
    "\n",
    "ax.add_collection3d(lc)\n",
    "\n",
    "ax.bar3d(x=sampledata['lon'], y=sampledata['lat'], z=np.zeros_like(sampledata['value']),\n",
    "        dx=np.ones_like(sampledata['value']), \n",
    "        dy=np.ones_like(sampledata['value']), \n",
    "        dz=sampledata['value'],alpha=0.8)\n",
    "\n",
    "\n",
    "ax.text(80, 30, 1000, '公众号: world of statistics', size=20, color='gray')\n",
    "\n",
    "ax.set_xlabel('经度')\n",
    "ax.set_ylabel('维度')\n",
    "# ax.set_xlim([minx, maxx])\n",
    "# ax.set_ylim([miny, maxy])\n",
    "ax.set_zlabel('value')\n",
    "    # ax.set_title(\"公众号: world of statistics\")\n",
    "\n",
    "\n",
    "plt.show()"
   ]
  },
  {
   "cell_type": "code",
   "execution_count": null,
   "metadata": {},
   "outputs": [],
   "source": []
  },
  {
   "cell_type": "code",
   "execution_count": null,
   "metadata": {},
   "outputs": [],
   "source": []
  },
  {
   "cell_type": "code",
   "execution_count": null,
   "metadata": {},
   "outputs": [],
   "source": []
  },
  {
   "cell_type": "markdown",
   "metadata": {},
   "source": [
    "### 参考链接\n",
    "1. https://pythonprogramming.net/3d-bar-chart-matplotlib-tutorial/\n",
    "2. https://stackoverflow.com/questions/23785408/3d-cartopy-similar-to-matplotlib-basemap\n",
    "3. https://matplotlib.org/stable/gallery/mplot3d/text3d.html\n",
    "4. https://datav.aliyun.com/portal/school/atlas/area_selector\n",
    "5. https://matplotlib.org/stable/gallery/mplot3d/3d_bars.html\n",
    "6. https://stackoverflow.com/questions/19390895/matplotlib-plot-with-variable-line-width"
   ]
  },
  {
   "cell_type": "markdown",
   "metadata": {},
   "source": []
  }
 ],
 "metadata": {
  "kernelspec": {
   "display_name": "Python 3.8.8 ('devc')",
   "language": "python",
   "name": "python3"
  },
  "language_info": {
   "codemirror_mode": {
    "name": "ipython",
    "version": 3
   },
   "file_extension": ".py",
   "mimetype": "text/x-python",
   "name": "python",
   "nbconvert_exporter": "python",
   "pygments_lexer": "ipython3",
   "version": "3.8.8"
  },
  "orig_nbformat": 4,
  "vscode": {
   "interpreter": {
    "hash": "4fb0a6905ed5d212c3c96d4a56e67eb44191d04d6f3997ffb197b9a104e8e26d"
   }
  }
 },
 "nbformat": 4,
 "nbformat_minor": 2
}
