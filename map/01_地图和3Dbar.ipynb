{
 "cells": [
  {
   "cell_type": "code",
   "execution_count": null,
   "metadata": {},
   "outputs": [],
   "source": [
    "# 导入包\n",
    "from shapely.geometry import Polygon, MultiPolygon\n",
    "from matplotlib import cm\n",
    "import matplotlib\n",
    "from getchinamap.getchinamap import DownloadChmap\n",
    "import numpy as np\n",
    "import pandas as pd\n",
    "import matplotlib.pyplot as plt\n",
    "import cartopy.crs as ccrs \n",
    "import platform\n",
    "from mpl_toolkits.mplot3d.art3d import Poly3DCollection\n",
    "import geopandas as gpd\n",
    "import cartopy.feature\n",
    "from cartopy.mpl.patch import geos_to_path\n",
    "\n",
    "import itertools\n",
    "\n",
    "from mpl_toolkits.mplot3d import Axes3D\n",
    "# import matplotlib.pyplot as plt\n",
    "from matplotlib.collections import LineCollection,PolyCollection\n",
    "\n",
    "# matplotlib 显示中文的问题\n",
    "if platform.system() == 'Darwin':\n",
    "    plt.rcParams[\"font.family\"] = 'Arial Unicode MS'\n",
    "elif platform.system() == 'Windows':\n",
    "    plt.rcParams[\"font.family\"] = 'SimHei'\n",
    "else:\n",
    "    pass"
   ]
  },
  {
   "cell_type": "code",
   "execution_count": null,
   "metadata": {},
   "outputs": [],
   "source": [
    "chinamapdata = gpd.read_file(\"https://geo.datav.aliyun.com/areas_v3/bound/geojson?code=100000_full\")\n",
    "chinamapdata.head(3)"
   ]
  },
  {
   "cell_type": "code",
   "execution_count": null,
   "metadata": {},
   "outputs": [],
   "source": [
    "sampledata = pd.DataFrame({'lon':chinamapdata.centroid.x, 'lat':chinamapdata.centroid.y, 'name':chinamapdata['name']})\n",
    "sampledata['value'] = np.random.randint(0, 1000, sampledata.shape[0])\n",
    "sampledata.head(4)"
   ]
  },
  {
   "cell_type": "code",
   "execution_count": null,
   "metadata": {},
   "outputs": [],
   "source": [
    "chinamapdata.crs"
   ]
  },
  {
   "cell_type": "code",
   "execution_count": null,
   "metadata": {},
   "outputs": [],
   "source": [
    "bounds_box = chinamapdata.bounds\n",
    "minx = bounds_box['minx'].min()\n",
    "miny = bounds_box['miny'].min()\n",
    "maxx = bounds_box['maxx'].max()\n",
    "maxy = bounds_box['maxy'].max()"
   ]
  },
  {
   "cell_type": "code",
   "execution_count": null,
   "metadata": {},
   "outputs": [],
   "source": [
    "\n",
    "\n",
    "geoms = chinamapdata.geometry\n",
    "# target_projection = ccrs.PlateCarree()\n",
    "# geoms = [target_projection.project_geometry(geom, target_projection)\n",
    "#          for geom in geoms]\n",
    "\n",
    "paths = list(itertools.chain.from_iterable(geos_to_path(geom) for geom in geoms))\n",
    "\n",
    "# At this point, we start working around mpl3d's slightly broken interfaces.\n",
    "# So we produce a LineCollection rather than a PathCollection.\n",
    "segments = []\n",
    "for path in paths:\n",
    "    vertices = [vertex for vertex, _ in path.iter_segments()]\n",
    "    vertices = np.asarray(vertices)\n",
    "    segments.append(vertices)\n",
    "\n",
    "lc = LineCollection(segments, color='black')\n"
   ]
  },
  {
   "cell_type": "code",
   "execution_count": null,
   "metadata": {},
   "outputs": [],
   "source": [
    "%matplotlib widget"
   ]
  },
  {
   "cell_type": "code",
   "execution_count": null,
   "metadata": {},
   "outputs": [],
   "source": [
    "# part 1\n",
    "segments = []\n",
    "for path in paths:\n",
    "    vertices = [vertex for vertex, _ in path.iter_segments()]\n",
    "    vertices = np.asarray(vertices)\n",
    "    segments.append(vertices)\n",
    "\n",
    "# with plt.style.context('fivethirtyeight'):\n",
    "\n",
    "fig = plt.figure()\n",
    "ax = Axes3D(fig, xlim=[minx, maxx], ylim=[miny, maxy])\n",
    "# ax.set_zlim(bottom=0)\n",
    "\n",
    "lc = LineCollection(segments, color='black',linewidths=1)\n",
    "\n",
    "ax.add_collection3d(lc)\n",
    "\n",
    "\n",
    "ax.bar3d(x=sampledata['lon'], y=sampledata['lat'], z=np.zeros_like(sampledata['value']),\n",
    "        dx=np.ones_like(sampledata['value']), \n",
    "        dy=np.ones_like(sampledata['value']), \n",
    "        dz=sampledata['value'],alpha=0.8)\n",
    "\n",
    "# for index, iterrow in sampledata.iterrows():\n",
    "#     ax.text(iterrow['lon'], iterrow['lat'], iterrow['value']+2,iterrow['name'], color='green',size=9)\n",
    "\n",
    "ax.text(80, 30, 1000, '公众号: world of statistics', size=20, color='gray')\n",
    "\n",
    "ax.set_xlabel('经度')\n",
    "ax.set_ylabel('维度')\n",
    "# ax.set_xlim([minx, maxx])\n",
    "# ax.set_ylim([miny, maxy])\n",
    "ax.set_zlabel('value')\n",
    "    # ax.set_title(\"公众号: world of statistics\")\n",
    "\n",
    "\n",
    "plt.show()\n"
   ]
  },
  {
   "cell_type": "code",
   "execution_count": null,
   "metadata": {},
   "outputs": [],
   "source": [
    "# geoms\n",
    "# part 2\n",
    "\n",
    "fig = plt.figure()\n",
    "ax = Axes3D(fig, xlim=[minx, maxx], ylim=[miny, maxy])\n",
    "\n",
    "\n",
    "concat = lambda iterable: list(itertools.chain.from_iterable(iterable))\n",
    "polys = concat(path.to_polygons() for path in paths)\n",
    "\n",
    "lc = PolyCollection(polys, edgecolor='black',\n",
    "                    facecolor='green', closed=False, alpha=0.4)\n",
    "\n",
    "ax.add_collection3d(lc)\n",
    "\n",
    "ax.bar3d(x=sampledata['lon'], y=sampledata['lat'], z=np.zeros_like(sampledata['value']),\n",
    "        dx=np.ones_like(sampledata['value']), \n",
    "        dy=np.ones_like(sampledata['value']), \n",
    "        dz=sampledata['value'],alpha=0.8)\n",
    "\n",
    "\n",
    "ax.text(80, 30, 1000, '公众号: world of statistics', size=20, color='gray')\n",
    "\n",
    "ax.set_xlabel('经度')\n",
    "ax.set_ylabel('维度')\n",
    "# ax.set_xlim([minx, maxx])\n",
    "# ax.set_ylim([miny, maxy])\n",
    "ax.set_zlabel('value')\n",
    "    # ax.set_title(\"公众号: world of statistics\")\n",
    "\n",
    "\n",
    "plt.show()"
   ]
  },
  {
   "cell_type": "code",
   "execution_count": null,
   "metadata": {},
   "outputs": [],
   "source": []
  },
  {
   "cell_type": "code",
   "execution_count": null,
   "metadata": {},
   "outputs": [],
   "source": []
  },
  {
   "cell_type": "code",
   "execution_count": null,
   "metadata": {},
   "outputs": [],
   "source": []
  },
  {
   "cell_type": "markdown",
   "metadata": {},
   "source": [
    "### 参考链接\n",
    "1. https://pythonprogramming.net/3d-bar-chart-matplotlib-tutorial/\n",
    "2. https://stackoverflow.com/questions/23785408/3d-cartopy-similar-to-matplotlib-basemap\n",
    "3. https://matplotlib.org/stable/gallery/mplot3d/text3d.html\n",
    "4. https://datav.aliyun.com/portal/school/atlas/area_selector\n",
    "5. https://matplotlib.org/stable/gallery/mplot3d/3d_bars.html\n",
    "6. https://stackoverflow.com/questions/19390895/matplotlib-plot-with-variable-line-width"
   ]
  },
  {
   "cell_type": "markdown",
   "metadata": {},
   "source": []
  }
 ],
 "metadata": {
  "kernelspec": {
   "display_name": "Python 3.8.8 ('devc')",
   "language": "python",
   "name": "python3"
  },
  "language_info": {
   "codemirror_mode": {
    "name": "ipython",
    "version": 3
   },
   "file_extension": ".py",
   "mimetype": "text/x-python",
   "name": "python",
   "nbconvert_exporter": "python",
   "pygments_lexer": "ipython3",
   "version": "3.8.8"
  },
  "orig_nbformat": 4,
  "vscode": {
   "interpreter": {
    "hash": "4fb0a6905ed5d212c3c96d4a56e67eb44191d04d6f3997ffb197b9a104e8e26d"
   }
  }
 },
 "nbformat": 4,
 "nbformat_minor": 2
}
