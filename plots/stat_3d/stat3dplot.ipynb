{
 "cells": [
  {
   "cell_type": "code",
   "execution_count": null,
   "metadata": {
    "collapsed": true,
    "pycharm": {
     "name": "#%%\n"
    }
   },
   "outputs": [],
   "source": [
    "from sklearn.datasets import load_iris\n",
    "import matplotlib.pyplot as plt\n",
    "import numpy as np\n",
    "import pandas as pd\n",
    "import statsmodels.api as sm"
   ]
  },
  {
   "cell_type": "code",
   "execution_count": null,
   "metadata": {
    "collapsed": false,
    "pycharm": {
     "name": "#%%\n"
    }
   },
   "outputs": [],
   "source": [
    "%matplotlib widget\n",
    "\n",
    "# 如果上面出现错误，把widget 改为inline"
   ]
  },
  {
   "cell_type": "markdown",
   "metadata": {
    "collapsed": false,
    "pycharm": {
     "name": "#%% md\n"
    }
   },
   "source": [
    "### 数据\n",
    "1. 这里是你的数据奥\n",
    "2. 需要保证你的数据是pd.DataFrame的（只要用pandas处理的，基本上都是）\n",
    "3. 你的数据至少要有3列是数值型的奥～～（如果超过了3列，只会考虑前3列的）\n",
    "4. `条件2`、`条件3`一定要满足！"
   ]
  },
  {
   "cell_type": "code",
   "execution_count": null,
   "metadata": {
    "collapsed": false,
    "pycharm": {
     "name": "#%%\n"
    }
   },
   "outputs": [],
   "source": [
    "data = load_iris()\n",
    "data = pd.DataFrame(data=data.get('data'), columns=data.get('feature_names'))\n",
    "data = data.iloc[:, :3]\n",
    "#注意这里是你的数据奥～\n",
    "\n",
    "data.head()"
   ]
  },
  {
   "cell_type": "code",
   "execution_count": null,
   "metadata": {
    "collapsed": false,
    "pycharm": {
     "name": "#%%\n"
    }
   },
   "outputs": [],
   "source": [
    "class Stat3Dplot(object):\n",
    "    def __init__(self, xdata):\n",
    "        self.xdata = xdata\n",
    "        if not isinstance(self.xdata, pd.DataFrame):\n",
    "            raise ValueError(\"xdata 必须是一个 pd.DataFrame\")\n",
    "\n",
    "        self.xdata = self.xdata.select_dtypes(include=np.number)\n",
    "        if self.xdata.shape[1] < 3:\n",
    "            raise ValueError(\"data至少要有3列是数值型\")\n",
    "\n",
    "    def cal_fit_info(self, x, y):\n",
    "        X = np.column_stack((x, x ** 2))\n",
    "        X = sm.add_constant(X)\n",
    "\n",
    "        res2 = sm.OLS(y, X).fit()\n",
    "        adjust_R = res2.rsquared_adj\n",
    "\n",
    "        new_x = np.linspace(x.min(), x.max())\n",
    "        new_x_model = sm.add_constant(np.column_stack((new_x, new_x ** 2)))\n",
    "        pred_y = res2.predict(new_x_model)\n",
    "\n",
    "        # y = res2.get_prediction().summary_frame()\n",
    "        return {'x': new_x, 'y': pred_y, 'adjr': adjust_R}\n",
    "\n",
    "    def stat3dplot(self, fig):\n",
    "        xdata = self.xdata\n",
    "        # fig = plt.figure(figsize=(8, 8))\n",
    "        ax = fig.add_subplot(projection='3d')\n",
    "\n",
    "        # 3d scatter\n",
    "        ax.scatter(xdata.iloc[:, 0], xdata.iloc[:, 1], xdata.iloc[:, 2], color='red')\n",
    "\n",
    "        # add scatter to axis\n",
    "        ax.scatter(xdata.iloc[:, 0], xdata.iloc[:, 1],\n",
    "                   xdata.iloc[:, 2].min(), color='gray', alpha=0.5, s=3)\n",
    "        ax.scatter(xdata.iloc[:, 0], xdata.iloc[:, 1].min(),\n",
    "                   xdata.iloc[:, 2], color='gray', alpha=0.5, s=3)\n",
    "        ax.scatter(xdata.iloc[:, 0].min(), xdata.iloc[:, 1],\n",
    "                   xdata.iloc[:, 2], color='gray', alpha=0.5, s=3)\n",
    "\n",
    "        # cal fit curve\n",
    "\n",
    "        # x and y\n",
    "        res1 = self.cal_fit_info(x=xdata.iloc[:, 0], y=xdata.iloc[:, 1])\n",
    "        ax.plot(res1.get('x'), res1.get('y'), xdata.iloc[:, 2].min(), color='gray')\n",
    "        ax.text(xdata.iloc[:, 0].mean(), xdata.iloc[:, 1].mean(), xdata.iloc[:, 2].min(),\n",
    "                f\"R-square: {res1.get('adjr'):.3f}\", (0, 1, 1))\n",
    "\n",
    "        # x and z\n",
    "        res1 = self.cal_fit_info(x=xdata.iloc[:, 0], y=xdata.iloc[:, 2])\n",
    "        ax.plot(res1.get('x'), np.ones_like(res1.get('x')) *\n",
    "                xdata.iloc[:, 1].min(), res1.get('y'), color='gray')\n",
    "        ax.text(xdata.iloc[:, 0].mean(), xdata.iloc[:, 1].min(), xdata.iloc[:, 2].mean(),\n",
    "                f\"R-square: {res1.get('adjr'):.3f}\", (0, 1, 1))\n",
    "\n",
    "        # y and z\n",
    "        res1 = self.cal_fit_info(x=xdata.iloc[:, 1], y=xdata.iloc[:, 2])\n",
    "        ax.plot(np.ones_like(res1.get('x')) *\n",
    "                xdata.iloc[:, 0].min(), res1.get('x'), res1.get('y'), color='gray')\n",
    "        ax.text(xdata.iloc[:, 0].mean(), xdata.iloc[:, 1].mean(), xdata.iloc[:, 2].min(),\n",
    "                f\"R-square: {res1.get('adjr'):.3f}\", (0, 1, 1))\n",
    "        ax.text(xdata.iloc[:, 0].min(), xdata.iloc[:, 1].mean(), xdata.iloc[:, 2].mean(),\n",
    "                f\"R-square: {res1.get('adjr'):.3f}\", (0, 1, 1))\n",
    "\n",
    "        ax.xaxis.pane.fill = False\n",
    "        ax.yaxis.pane.fill = False\n",
    "        ax.zaxis.pane.fill = False\n",
    "\n",
    "        ax.xaxis.pane.set_edgecolor('black')\n",
    "        ax.yaxis.pane.set_edgecolor('black')\n",
    "        ax.zaxis.pane.set_edgecolor('black')\n",
    "\n",
    "        ax.set_xlabel(xdata.columns.tolist()[0])\n",
    "        ax.set_ylabel(xdata.columns.tolist()[1])\n",
    "        ax.set_zlabel(xdata.columns.tolist()[2])\n",
    "        ax.view_init(elev=30., azim=40)\n",
    "        return ax"
   ]
  },
  {
   "cell_type": "markdown",
   "metadata": {
    "collapsed": false,
    "pycharm": {
     "name": "#%% md\n"
    }
   },
   "source": [
    "## demo 1"
   ]
  },
  {
   "cell_type": "code",
   "execution_count": null,
   "metadata": {
    "collapsed": false,
    "pycharm": {
     "name": "#%%\n"
    }
   },
   "outputs": [],
   "source": [
    "# 01: 创建画布\n",
    "fig = plt.figure(figsize=(10, 10), dpi=120)\n",
    "\n",
    "# 02: 创建一个3d统计对象，把自己的数据传递进去\n",
    "s3d = Stat3Dplot(xdata=data)\n",
    "\n",
    "# 03: 开始画图\n",
    "ax = s3d.stat3dplot(fig=fig)\n",
    "\n",
    "# 04: 保存\n",
    "fig.savefig(\"data001.png\")"
   ]
  },
  {
   "cell_type": "code",
   "execution_count": null,
   "metadata": {
    "collapsed": false,
    "pycharm": {
     "name": "#%%\n"
    }
   },
   "outputs": [],
   "source": []
  }
 ],
 "metadata": {
  "kernelspec": {
   "display_name": "Python 3.9.12 ('mynet')",
   "language": "python",
   "name": "python3"
  },
  "language_info": {
   "codemirror_mode": {
    "name": "ipython",
    "version": 3
   },
   "file_extension": ".py",
   "mimetype": "text/x-python",
   "name": "python",
   "nbconvert_exporter": "python",
   "pygments_lexer": "ipython3",
   "version": "3.9.12"
  },
  "vscode": {
   "interpreter": {
    "hash": "d1c703db8f0ebb41ab4bf42c643bde37b5e3ec7c4c951eee917b53d0e6255188"
   }
  }
 },
 "nbformat": 4,
 "nbformat_minor": 0
}
