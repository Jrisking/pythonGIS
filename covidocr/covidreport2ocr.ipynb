{
 "cells": [
  {
   "cell_type": "code",
   "execution_count": 1,
   "metadata": {
    "collapsed": true,
    "pycharm": {
     "name": "#%%\n"
    }
   },
   "outputs": [
    {
     "name": "stderr",
     "output_type": "stream",
     "text": [
      "/opt/anaconda3/envs/devc/lib/python3.8/site-packages/paddle/fluid/layers/utils.py:26: DeprecationWarning: `np.int` is a deprecated alias for the builtin `int`. To silence this warning, use `int` by itself. Doing this will not modify any behavior and is safe. When replacing `np.int`, you may wish to use e.g. `np.int64` or `np.int32` to specify the precision. If you wish to review your current use, check the release note link for additional information.\n",
      "Deprecated in NumPy 1.20; for more details and guidance: https://numpy.org/devdocs/release/1.20.0-notes.html#deprecations\n",
      "  def convert_to_list(value, n, name, dtype=np.int):\n",
      "/opt/anaconda3/envs/devc/lib/python3.8/site-packages/skimage/data/__init__.py:111: DeprecationWarning: \n",
      "    Importing file_hash from pooch.utils is DEPRECATED. Please import from the\n",
      "    top-level namespace (`from pooch import file_hash`) instead, which is fully\n",
      "    backwards compatible with pooch >= 0.1.\n",
      "    \n",
      "  return file_hash(path) == expected_hash\n"
     ]
    },
    {
     "name": "stdout",
     "output_type": "stream",
     "text": [
      "[2022/04/10 18:16:12] ppocr DEBUG: Namespace(alpha=1.0, benchmark=False, beta=1.0, cls_batch_num=6, cls_image_shape='3, 48, 192', cls_model_dir='/Users/huzheng/.paddleocr/whl/cls/ch_ppocr_mobile_v2.0_cls_infer', cls_thresh=0.9, cpu_threads=10, crop_res_save_dir='./output', det=True, det_algorithm='DB', det_db_box_thresh=0.6, det_db_score_mode='fast', det_db_thresh=0.3, det_db_unclip_ratio=1.5, det_east_cover_thresh=0.1, det_east_nms_thresh=0.2, det_east_score_thresh=0.8, det_fce_box_type='poly', det_limit_side_len=960, det_limit_type='max', det_model_dir='/Users/huzheng/.paddleocr/whl/det/ch/ch_PP-OCRv2_det_infer', det_pse_box_thresh=0.85, det_pse_box_type='quad', det_pse_min_area=16, det_pse_scale=1, det_pse_thresh=0, det_sast_nms_thresh=0.2, det_sast_polygon=False, det_sast_score_thresh=0.5, draw_img_save_dir='./inference_results', drop_score=0.5, e2e_algorithm='PGNet', e2e_char_dict_path='./ppocr/utils/ic15_dict.txt', e2e_limit_side_len=768, e2e_limit_type='max', e2e_model_dir=None, e2e_pgnet_mode='fast', e2e_pgnet_score_thresh=0.5, e2e_pgnet_valid_set='totaltext', enable_mkldnn=False, fourier_degree=5, gpu_mem=500, help='==SUPPRESS==', image_dir=None, ir_optim=True, label_list=['0', '180'], lang='ch', layout_label_map=None, layout_path_model='lp://PubLayNet/ppyolov2_r50vd_dcn_365e_publaynet/config', max_batch_size=10, max_text_length=25, min_subgraph_size=15, mode='structure', ocr_version='PP-OCRv2', output='./output', precision='fp32', process_id=0, rec=True, rec_algorithm='CRNN', rec_batch_num=6, rec_char_dict_path='/opt/anaconda3/envs/devc/lib/python3.8/site-packages/paddleocr/ppocr/utils/ppocr_keys_v1.txt', rec_image_shape='3, 32, 320', rec_model_dir='/Users/huzheng/.paddleocr/whl/rec/ch/ch_PP-OCRv2_rec_infer', save_crop_res=False, save_log_path='./log_output/', scales=[8, 16, 32], show_log=True, structure_version='STRUCTURE', table_char_dict_path=None, table_char_type='en', table_max_len=488, table_model_dir=None, total_process_num=1, type='ocr', use_angle_cls=True, use_dilation=False, use_gpu=False, use_mp=False, use_onnx=False, use_pdserving=False, use_space_char=True, use_tensorrt=False, vis_font_path='./doc/fonts/simfang.ttf', warmup=False)\n"
     ]
    },
    {
     "name": "stderr",
     "output_type": "stream",
     "text": [
      "  0%|          | 0/5 [00:00<?, ?it/s]"
     ]
    },
    {
     "name": "stdout",
     "output_type": "stream",
     "text": [
      "[2022/04/10 18:16:13] ppocr DEBUG: dt_boxes num : 15, elapse : 0.2811317443847656\n",
      "[2022/04/10 18:16:13] ppocr DEBUG: cls num  : 15, elapse : 0.1491379737854004\n",
      "[2022/04/10 18:16:14] ppocr DEBUG: rec_res num  : 15, elapse : 1.0351340770721436\n"
     ]
    },
    {
     "name": "stderr",
     "output_type": "stream",
     "text": [
      " 20%|██        | 1/5 [00:01<00:06,  1.54s/it]"
     ]
    },
    {
     "name": "stdout",
     "output_type": "stream",
     "text": [
      "[2022/04/10 18:16:15] ppocr DEBUG: dt_boxes num : 15, elapse : 0.29618382453918457\n",
      "[2022/04/10 18:16:15] ppocr DEBUG: cls num  : 15, elapse : 0.13969683647155762\n",
      "[2022/04/10 18:16:16] ppocr DEBUG: rec_res num  : 15, elapse : 1.0670158863067627\n"
     ]
    },
    {
     "name": "stderr",
     "output_type": "stream",
     "text": [
      " 40%|████      | 2/5 [00:03<00:04,  1.56s/it]"
     ]
    },
    {
     "name": "stdout",
     "output_type": "stream",
     "text": [
      "[2022/04/10 18:16:16] ppocr DEBUG: dt_boxes num : 15, elapse : 0.29274702072143555\n",
      "[2022/04/10 18:16:16] ppocr DEBUG: cls num  : 15, elapse : 0.1503603458404541\n",
      "[2022/04/10 18:16:17] ppocr DEBUG: rec_res num  : 15, elapse : 1.0701630115509033\n"
     ]
    },
    {
     "name": "stderr",
     "output_type": "stream",
     "text": [
      " 60%|██████    | 3/5 [00:04<00:03,  1.57s/it]"
     ]
    },
    {
     "name": "stdout",
     "output_type": "stream",
     "text": [
      "[2022/04/10 18:16:18] ppocr DEBUG: dt_boxes num : 15, elapse : 0.26632022857666016\n",
      "[2022/04/10 18:16:18] ppocr DEBUG: cls num  : 15, elapse : 0.1356370449066162\n",
      "[2022/04/10 18:16:19] ppocr DEBUG: rec_res num  : 15, elapse : 1.0689949989318848\n"
     ]
    },
    {
     "name": "stderr",
     "output_type": "stream",
     "text": [
      " 80%|████████  | 4/5 [00:06<00:01,  1.55s/it]"
     ]
    },
    {
     "name": "stdout",
     "output_type": "stream",
     "text": [
      "[2022/04/10 18:16:19] ppocr DEBUG: dt_boxes num : 15, elapse : 0.2617058753967285\n",
      "[2022/04/10 18:16:19] ppocr DEBUG: cls num  : 15, elapse : 0.1553809642791748\n",
      "[2022/04/10 18:16:20] ppocr DEBUG: rec_res num  : 15, elapse : 1.0356690883636475\n"
     ]
    },
    {
     "name": "stderr",
     "output_type": "stream",
     "text": [
      "100%|██████████| 5/5 [00:07<00:00,  1.55s/it]\n"
     ]
    },
    {
     "data": {
      "text/plain": "  name                time result\n0   胡政 2022-04-06 13:06:34     阴性\n1   胡政 2022-04-06 13:06:34     阴性\n2   胡政 2022-04-06 13:06:34     阴性\n3   胡政 2022-04-06 13:06:34     阴性\n4   胡政 2022-04-06 13:06:34     阴性",
      "text/html": "<div>\n<style scoped>\n    .dataframe tbody tr th:only-of-type {\n        vertical-align: middle;\n    }\n\n    .dataframe tbody tr th {\n        vertical-align: top;\n    }\n\n    .dataframe thead th {\n        text-align: right;\n    }\n</style>\n<table border=\"1\" class=\"dataframe\">\n  <thead>\n    <tr style=\"text-align: right;\">\n      <th></th>\n      <th>name</th>\n      <th>time</th>\n      <th>result</th>\n    </tr>\n  </thead>\n  <tbody>\n    <tr>\n      <th>0</th>\n      <td>胡政</td>\n      <td>2022-04-06 13:06:34</td>\n      <td>阴性</td>\n    </tr>\n    <tr>\n      <th>1</th>\n      <td>胡政</td>\n      <td>2022-04-06 13:06:34</td>\n      <td>阴性</td>\n    </tr>\n    <tr>\n      <th>2</th>\n      <td>胡政</td>\n      <td>2022-04-06 13:06:34</td>\n      <td>阴性</td>\n    </tr>\n    <tr>\n      <th>3</th>\n      <td>胡政</td>\n      <td>2022-04-06 13:06:34</td>\n      <td>阴性</td>\n    </tr>\n    <tr>\n      <th>4</th>\n      <td>胡政</td>\n      <td>2022-04-06 13:06:34</td>\n      <td>阴性</td>\n    </tr>\n  </tbody>\n</table>\n</div>"
     },
     "execution_count": 1,
     "metadata": {},
     "output_type": "execute_result"
    }
   ],
   "source": [
    "from paddleocr import PaddleOCR, draw_ocr\n",
    "import numpy as np\n",
    "from datetime import datetime\n",
    "import pandas as pd\n",
    "from joblib import Parallel, delayed\n",
    "from tqdm import tqdm\n",
    "from glob import glob\n",
    "ocr = PaddleOCR(use_angle_cls=True, lang=\"ch\")\n",
    "file_dir = \"/Users/huzheng/Downloads/userlist\"\n",
    "\n",
    "def img2df(img_path):\n",
    "    result = ocr.ocr(img_path, cls=True)\n",
    "    txt = [i[-1][0] for i in result]\n",
    "    name_index = [i == '核酸检测结果' for i in txt]\n",
    "    name_txt = txt[np.where(name_index)[0][0] + 1]\n",
    "    t_index = np.where([i.find('报告时间') != -1 for i in txt])[0][0]\n",
    "    time_txt = txt[t_index]\n",
    "    result = txt[t_index - 1].replace(\"核酸检测结果为\", \"\")\n",
    "    time = datetime.strptime(time_txt.replace(\"报告时间：\", \"\"), \"%Y-%m-%d%H:%M:%S\")\n",
    "    return pd.DataFrame({'name': [name_txt], 'time': [time], 'result': [result]})\n",
    "\n",
    "imgpath = glob(pathname=f\"{file_dir}/*\")\n",
    "\n",
    "all_result = pd.concat([img2df(i) for i in tqdm(imgpath)]).reset_index(drop=True)\n",
    "all_result.to_excel(\"结果.xlsx\", index=False)\n",
    "all_result\n",
    "# pd.concat(Parallel(n_jobs=-1)(delayed(img2df)(i) for i in imgpath))"
   ]
  },
  {
   "cell_type": "code",
   "execution_count": null,
   "outputs": [],
   "source": [],
   "metadata": {
    "collapsed": false,
    "pycharm": {
     "name": "#%%\n"
    }
   }
  }
 ],
 "metadata": {
  "kernelspec": {
   "display_name": "Python 3",
   "language": "python",
   "name": "python3"
  },
  "language_info": {
   "codemirror_mode": {
    "name": "ipython",
    "version": 2
   },
   "file_extension": ".py",
   "mimetype": "text/x-python",
   "name": "python",
   "nbconvert_exporter": "python",
   "pygments_lexer": "ipython2",
   "version": "2.7.6"
  }
 },
 "nbformat": 4,
 "nbformat_minor": 0
}