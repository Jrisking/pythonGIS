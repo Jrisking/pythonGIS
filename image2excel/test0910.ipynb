{
 "cells": [
  {
   "cell_type": "code",
   "execution_count": 1,
   "metadata": {
    "collapsed": true
   },
   "outputs": [],
   "source": [
    "import xlsxwriter\n",
    "from skimage import io\n",
    "import numpy as np\n",
    "from matplotlib import colors"
   ]
  },
  {
   "cell_type": "code",
   "execution_count": 2,
   "outputs": [],
   "source": [
    "image_data = io.imread(\"胡歌.png\")"
   ],
   "metadata": {
    "collapsed": false,
    "pycharm": {
     "name": "#%%\n"
    }
   }
  },
  {
   "cell_type": "code",
   "execution_count": 3,
   "outputs": [
    {
     "data": {
      "text/plain": "(1348, 1082, 4)"
     },
     "execution_count": 3,
     "metadata": {},
     "output_type": "execute_result"
    }
   ],
   "source": [
    "image_data.shape\n"
   ],
   "metadata": {
    "collapsed": false,
    "pycharm": {
     "name": "#%%\n"
    }
   }
  },
  {
   "cell_type": "code",
   "execution_count": 4,
   "outputs": [],
   "source": [
    "def rgba2hex(rgba, keep_alpha=False):\n",
    "    if keep_alpha:\n",
    "        return '#{:02x}{:02x}{:02x}'.format(*rgba)\n",
    "    else:\n",
    "        return '#{:02x}{:02x}{:02x}{:02x}'.format(*rgba)"
   ],
   "metadata": {
    "collapsed": false,
    "pycharm": {
     "name": "#%%\n"
    }
   }
  },
  {
   "cell_type": "code",
   "execution_count": 5,
   "outputs": [
    {
     "data": {
      "text/plain": "'#565a66ff'"
     },
     "execution_count": 5,
     "metadata": {},
     "output_type": "execute_result"
    }
   ],
   "source": [
    "rgba2hex(image_data[0, 0])"
   ],
   "metadata": {
    "collapsed": false,
    "pycharm": {
     "name": "#%%\n"
    }
   }
  },
  {
   "cell_type": "code",
   "execution_count": 14,
   "outputs": [
    {
     "name": "stderr",
     "output_type": "stream",
     "text": [
      "100%|██████████| 1348/1348 [00:05<00:00, 230.26it/s]\n"
     ]
    },
    {
     "name": "stdout",
     "output_type": "stream",
     "text": [
      "done ~\n"
     ]
    }
   ],
   "source": [
    "import xlsxwriter\n",
    "from tqdm import tqdm\n",
    "\n",
    "workbook = xlsxwriter.Workbook('hello.xlsx')\n",
    "worksheet = workbook.add_worksheet()\n",
    "cell_format_list = []\n",
    "for i in tqdm(range(image_data.shape[0])):\n",
    "    for j in range(image_data.shape[1]):\n",
    "        if i < 500:\n",
    "            if j < 700:\n",
    "                cell_format = workbook.add_format()\n",
    "                cell_format_list.append(cell_format)\n",
    "                temp_color = rgba2hex(image_data[i, j], keep_alpha=True)\n",
    "                cell_format_list[-1].set_fg_color(temp_color)\n",
    "                # print(temp_color)\n",
    "                worksheet.write(j, i, ' ', cell_format_list[-1])\n",
    "workbook.close()\n",
    "print('done ~')"
   ],
   "metadata": {
    "collapsed": false,
    "pycharm": {
     "name": "#%%\n"
    }
   }
  },
  {
   "cell_type": "code",
   "execution_count": 9,
   "outputs": [
    {
     "data": {
      "text/plain": "0"
     },
     "execution_count": 9,
     "metadata": {},
     "output_type": "execute_result"
    }
   ],
   "source": [
    "\n",
    "4 % 2"
   ],
   "metadata": {
    "collapsed": false,
    "pycharm": {
     "name": "#%%\n"
    }
   }
  },
  {
   "cell_type": "code",
   "execution_count": null,
   "outputs": [],
   "source": [],
   "metadata": {
    "collapsed": false,
    "pycharm": {
     "name": "#%%\n"
    }
   }
  }
 ],
 "metadata": {
  "kernelspec": {
   "display_name": "Python 3",
   "language": "python",
   "name": "python3"
  },
  "language_info": {
   "codemirror_mode": {
    "name": "ipython",
    "version": 2
   },
   "file_extension": ".py",
   "mimetype": "text/x-python",
   "name": "python",
   "nbconvert_exporter": "python",
   "pygments_lexer": "ipython2",
   "version": "2.7.6"
  }
 },
 "nbformat": 4,
 "nbformat_minor": 0
}